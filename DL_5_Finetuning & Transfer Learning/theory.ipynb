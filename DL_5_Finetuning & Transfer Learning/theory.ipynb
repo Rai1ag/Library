{
 "cells": [
  {
   "cell_type": "markdown",
   "metadata": {},
   "source": [
    "**Список литературы:**\n",
    "\n",
    "* AvitoNet: сервис компьютерного зрения в Avito (Артур Кузин, Avito) // www.youtube.com [Электронный ресурс]. URL: https://www.youtube.com/watch?v=c7d2E_zkju8 (дата обращения: 10.03.2024).\n",
    "\n",
    "* A Comprehensive guide to Fine-tuning Deep Learning Models in Keras (Part I) // flyyufelix.github.io [Электронный ресурс]. URL: https://flyyufelix.github.io/2016/10/03/fine-tuning-in-keras-part1.html (дата обращения: 10.03.2024).\n",
    "\n",
    "* Benchmarks of approximate nearest neighbor libraries in Python // github.com [Электронный ресурс]. URL: https://github.com/erikbern/ann-benchmarks (дата обращения: 10.03.2024).\n",
    "\n",
    "* Code for reproducing 2nd place solution for Kaggle competition IEEE's Signal Processing Society - Camera Model Identification // github.com [Электронный ресурс]. URL: https://github.com/ikibardin/kaggle-camera-model-identification (дата обращения: 10.03.2024).\n",
    "\n",
    "* Implementation of EfficientNet model. Keras and TensorFlow Keras // github.com [Электронный ресурс]. URL: https://github.com/qubvel/efficientnet (дата обращения: 10.03.2024).\n",
    "\n",
    "* Browse State-of-the-Art// paperswithcode.com [Электронный ресурс]. URL: https://paperswithcode.com/sota (дата обращения: 10.03.2024).\n",
    "\n",
    "* Feature Visualization // distill.pub [Электронный ресурс]. URL: https://distill.pub/2017/momentum/(дата обращения: 10.03.2024)."
   ]
  }
 ],
 "metadata": {
  "language_info": {
   "name": "python"
  }
 },
 "nbformat": 4,
 "nbformat_minor": 2
}
