{
 "cells": [
  {
   "cell_type": "markdown",
   "metadata": {},
   "source": [
    "**Ансамбль моделей** — это метод, в котором несколько алгоритмов (или вариации одного и того же) обучаются на одних данных, а итоговый прогноз строится на основе всех полученных от моделей прогнозов."
   ]
  },
  {
   "cell_type": "markdown",
   "metadata": {},
   "source": [
    "# <center>Бутстреппинг. Бэггинг</center>"
   ]
  },
  {
   "cell_type": "markdown",
   "metadata": {},
   "source": [
    "В основе бэггинга лежит статистический метод, который называется **бутстрепом (bootstrap)**. Идея бутстрепа заключается в генерации выборок размера n из исходного датасета размера N путём случайного выбора элементов с повторениями в каждом из наблюдений.\n",
    "\n",
    "![image.png](https://lms.skillfactory.ru/asset-v1:SkillFactory+DST-3.0+28FEB2021+type@asset+block@MATHML_md9_2_1.png)"
   ]
  },
  {
   "cell_type": "code",
   "execution_count": 40,
   "metadata": {},
   "outputs": [
    {
     "data": {
      "text/plain": [
       "0.317"
      ]
     },
     "execution_count": 40,
     "metadata": {},
     "output_type": "execute_result"
    }
   ],
   "source": [
    "# Задание 2.2\n",
    "\n",
    "import numpy as np\n",
    "\n",
    "a = np.array([4.4, 3.8, 4.8, 4.0, 3.4, 4.2, 5.2])\n",
    "b = a.mean()\n",
    "round(np.sum((a - b)**2)/7, 3)"
   ]
  },
  {
   "cell_type": "markdown",
   "metadata": {},
   "source": [
    "## <center>Bias и Variance</center>"
   ]
  },
  {
   "cell_type": "markdown",
   "metadata": {},
   "source": [
    "**Смещение** — это разница между математическим ожиданием для прогноза и реальным значением:\n",
    "\n",
    "$$Bias[\\hat{f}(x)] = E[\\hat{f}(x)]-y$$\n",
    "\n",
    "> Смысл смещения — способность получить лучшую среди всех возможных моделей, то есть максимально точные прогнозы.\n",
    "\n",
    "**Алгоритмы со стабильно маленьким смещением:**\n",
    "\n",
    "* KNN (n=1)\n",
    "* метод опорных векторов\n",
    "* деревья решений с большой глубиной\n",
    "\n",
    "**Алгоритмы с большим смещением:**\n",
    "\n",
    "* линейная регрессия\n",
    "* логистическая регрессия\n",
    "* деревья решений с маленькой глубиной"
   ]
  },
  {
   "cell_type": "markdown",
   "metadata": {},
   "source": [
    "**Разброс** — это величина разницы в результатах обучения модели на разных выборках:\n",
    "\n",
    "$$\\operatorname{Var}[\\hat{f}(x)]=\\mathrm{E}\\left[\\left(\\mathrm{E}[\\hat{f}(x)]-\\hat{f}(x)\\right)^{2}\\right]$$\n",
    "\n",
    "Разброс характеризует устойчивость модели к изменениям в обучающей выборке:\n",
    "\n",
    "* Если результат сильно зависит от того, какие объекты присутствуют в выборке, разброс будет большим.\n",
    "\n",
    "* Если алгоритм работает стабильно вне зависимости от особенностей выборки, разброс будет маленьким.\n",
    "\n",
    "**Алгоритмы, споказывающие маленький разброс:**\n",
    "\n",
    "* линейная регрессия\n",
    "* логистическая регрессия\n",
    "* деревья решений с маленькой глубиной\n",
    "\n",
    "**Алгоритмы, споказывающие большой разброс:**\n",
    "\n",
    "* деревья решений с большой глубиной\n",
    "* KNN\n",
    "* метод опорных векторов"
   ]
  },
  {
   "cell_type": "markdown",
   "metadata": {},
   "source": [
    "> Наша ошибка — это сумма квадрата смещения, разброса и неустранимой случайной ошибки. Теперь мы понимаем, из чего состоит ошибка модели. Такое представление помогает нам исследовать с теоретической точки зрения некоторые алгоритмы машинного обучения и часто используется при изучении ансамблей."
   ]
  },
  {
   "cell_type": "markdown",
   "metadata": {},
   "source": [
    "## <center>Бэггинг</center>"
   ]
  },
  {
   "cell_type": "markdown",
   "metadata": {},
   "source": [
    "Его идея состоит в том, что мы берём несколько независимых моделей и усредняем полученные по ним результаты. Таким образом мы получаем модель, имеющую меньший разброс, так как при её построении мы учли несколько моделей.\n",
    "\n",
    "Как уже было сказано, в реальности получить много независимых выборок слишком сложно, так как найти столько данных обычно невозможно. Поэтому мы используем бутстреп-выборки.\n",
    "\n",
    "> Важно отметить, что при бэггинге размер каждой бутстреп-выборки должен совпадать с размером исходной выборки."
   ]
  },
  {
   "cell_type": "markdown",
   "metadata": {},
   "source": [
    "* Если мы рассматриваем задачу классификации, то, по сути, модели «голосуют» за свой класс.\n",
    "* Если мы рассматриваем задачу регрессии, то результат — просто среднее арифметическое прогнозов по всем моделям."
   ]
  },
  {
   "cell_type": "markdown",
   "metadata": {},
   "source": [
    "**Резюмируем**:\n",
    "\n",
    "* Бэггинг даёт уменьшение ошибки в  раз по сравнению с одиночной моделью.\n",
    "* Бэггинг не уменьшает смещение по сравнению с одиночной моделью.\n",
    "* Бэггинг уменьшает разброс в  раз по сравнению с одиночной моделью."
   ]
  },
  {
   "cell_type": "markdown",
   "metadata": {},
   "source": [
    "> Важно отметить, что эти утверждения выведены и доказаны теоретически и будут выполняться на практике только в том случае, если между ошибками нулевая корреляция."
   ]
  },
  {
   "cell_type": "code",
   "execution_count": 41,
   "metadata": {},
   "outputs": [],
   "source": [
    "# Задание 2.7\n",
    "\n",
    "import pandas as pd\n",
    "import numpy as np"
   ]
  },
  {
   "cell_type": "code",
   "execution_count": 42,
   "metadata": {},
   "outputs": [
    {
     "data": {
      "text/html": [
       "<div>\n",
       "<style scoped>\n",
       "    .dataframe tbody tr th:only-of-type {\n",
       "        vertical-align: middle;\n",
       "    }\n",
       "\n",
       "    .dataframe tbody tr th {\n",
       "        vertical-align: top;\n",
       "    }\n",
       "\n",
       "    .dataframe thead th {\n",
       "        text-align: right;\n",
       "    }\n",
       "</style>\n",
       "<table border=\"1\" class=\"dataframe\">\n",
       "  <thead>\n",
       "    <tr style=\"text-align: right;\">\n",
       "      <th></th>\n",
       "      <th>Unnamed: 0</th>\n",
       "      <th>fixed.acidity</th>\n",
       "      <th>volatile.acidity</th>\n",
       "      <th>citric.acid</th>\n",
       "      <th>residual.sugar</th>\n",
       "      <th>chlorides</th>\n",
       "      <th>free.sulfur.dioxide</th>\n",
       "      <th>total.sulfur.dioxide</th>\n",
       "      <th>density</th>\n",
       "      <th>pH</th>\n",
       "      <th>sulphates</th>\n",
       "      <th>alcohol</th>\n",
       "      <th>quality</th>\n",
       "    </tr>\n",
       "  </thead>\n",
       "  <tbody>\n",
       "    <tr>\n",
       "      <th>0</th>\n",
       "      <td>1</td>\n",
       "      <td>7.4</td>\n",
       "      <td>0.70</td>\n",
       "      <td>0.00</td>\n",
       "      <td>1.9</td>\n",
       "      <td>0.076</td>\n",
       "      <td>11.0</td>\n",
       "      <td>34.0</td>\n",
       "      <td>0.9978</td>\n",
       "      <td>3.51</td>\n",
       "      <td>0.56</td>\n",
       "      <td>9.4</td>\n",
       "      <td>5</td>\n",
       "    </tr>\n",
       "    <tr>\n",
       "      <th>1</th>\n",
       "      <td>2</td>\n",
       "      <td>7.8</td>\n",
       "      <td>0.88</td>\n",
       "      <td>0.00</td>\n",
       "      <td>2.6</td>\n",
       "      <td>0.098</td>\n",
       "      <td>25.0</td>\n",
       "      <td>67.0</td>\n",
       "      <td>0.9968</td>\n",
       "      <td>3.20</td>\n",
       "      <td>0.68</td>\n",
       "      <td>9.8</td>\n",
       "      <td>5</td>\n",
       "    </tr>\n",
       "    <tr>\n",
       "      <th>2</th>\n",
       "      <td>3</td>\n",
       "      <td>7.8</td>\n",
       "      <td>0.76</td>\n",
       "      <td>0.04</td>\n",
       "      <td>2.3</td>\n",
       "      <td>0.092</td>\n",
       "      <td>15.0</td>\n",
       "      <td>54.0</td>\n",
       "      <td>0.9970</td>\n",
       "      <td>3.26</td>\n",
       "      <td>0.65</td>\n",
       "      <td>9.8</td>\n",
       "      <td>5</td>\n",
       "    </tr>\n",
       "    <tr>\n",
       "      <th>3</th>\n",
       "      <td>4</td>\n",
       "      <td>11.2</td>\n",
       "      <td>0.28</td>\n",
       "      <td>0.56</td>\n",
       "      <td>1.9</td>\n",
       "      <td>0.075</td>\n",
       "      <td>17.0</td>\n",
       "      <td>60.0</td>\n",
       "      <td>0.9980</td>\n",
       "      <td>3.16</td>\n",
       "      <td>0.58</td>\n",
       "      <td>9.8</td>\n",
       "      <td>6</td>\n",
       "    </tr>\n",
       "    <tr>\n",
       "      <th>4</th>\n",
       "      <td>5</td>\n",
       "      <td>7.4</td>\n",
       "      <td>0.70</td>\n",
       "      <td>0.00</td>\n",
       "      <td>1.9</td>\n",
       "      <td>0.076</td>\n",
       "      <td>11.0</td>\n",
       "      <td>34.0</td>\n",
       "      <td>0.9978</td>\n",
       "      <td>3.51</td>\n",
       "      <td>0.56</td>\n",
       "      <td>9.4</td>\n",
       "      <td>5</td>\n",
       "    </tr>\n",
       "  </tbody>\n",
       "</table>\n",
       "</div>"
      ],
      "text/plain": [
       "   Unnamed: 0  fixed.acidity  volatile.acidity  citric.acid  residual.sugar  \\\n",
       "0           1            7.4              0.70         0.00             1.9   \n",
       "1           2            7.8              0.88         0.00             2.6   \n",
       "2           3            7.8              0.76         0.04             2.3   \n",
       "3           4           11.2              0.28         0.56             1.9   \n",
       "4           5            7.4              0.70         0.00             1.9   \n",
       "\n",
       "   chlorides  free.sulfur.dioxide  total.sulfur.dioxide  density    pH  \\\n",
       "0      0.076                 11.0                  34.0   0.9978  3.51   \n",
       "1      0.098                 25.0                  67.0   0.9968  3.20   \n",
       "2      0.092                 15.0                  54.0   0.9970  3.26   \n",
       "3      0.075                 17.0                  60.0   0.9980  3.16   \n",
       "4      0.076                 11.0                  34.0   0.9978  3.51   \n",
       "\n",
       "   sulphates  alcohol  quality  \n",
       "0       0.56      9.4        5  \n",
       "1       0.68      9.8        5  \n",
       "2       0.65      9.8        5  \n",
       "3       0.58      9.8        6  \n",
       "4       0.56      9.4        5  "
      ]
     },
     "execution_count": 42,
     "metadata": {},
     "output_type": "execute_result"
    }
   ],
   "source": [
    "df = pd.read_csv('data/wineQualityReds.csv')\n",
    "df.head()"
   ]
  },
  {
   "cell_type": "code",
   "execution_count": 43,
   "metadata": {},
   "outputs": [],
   "source": [
    "from sklearn.model_selection import train_test_split \n",
    "from sklearn.linear_model import LogisticRegression\n",
    "from sklearn.tree import DecisionTreeClassifier\n",
    "from sklearn.metrics import f1_score"
   ]
  },
  {
   "cell_type": "code",
   "execution_count": 44,
   "metadata": {},
   "outputs": [],
   "source": [
    "df['target'] = np.where(df.quality >=6,1,0)\n",
    "\n",
    "y= df['target']\n",
    "X = df.drop(['target', 'quality'], axis= 1)\n",
    "\n",
    "X_train, X_test, y_train, y_test = train_test_split(X, y, test_size=0.3, random_state=42)"
   ]
  },
  {
   "cell_type": "code",
   "execution_count": 45,
   "metadata": {},
   "outputs": [
    {
     "name": "stderr",
     "output_type": "stream",
     "text": [
      "c:\\Users\\user\\AppData\\Local\\Programs\\Python\\Python312\\Lib\\site-packages\\sklearn\\linear_model\\_logistic.py:469: ConvergenceWarning: lbfgs failed to converge (status=1):\n",
      "STOP: TOTAL NO. of ITERATIONS REACHED LIMIT.\n",
      "\n",
      "Increase the number of iterations (max_iter) or scale the data as shown in:\n",
      "    https://scikit-learn.org/stable/modules/preprocessing.html\n",
      "Please also refer to the documentation for alternative solver options:\n",
      "    https://scikit-learn.org/stable/modules/linear_model.html#logistic-regression\n",
      "  n_iter_i = _check_optimize_result(\n"
     ]
    },
    {
     "data": {
      "text/plain": [
       "0.7390476190476191"
      ]
     },
     "execution_count": 45,
     "metadata": {},
     "output_type": "execute_result"
    }
   ],
   "source": [
    "model = LogisticRegression()\n",
    "model.fit(X_train, y_train)\n",
    "preds_train = model.predict(X_train)\n",
    "preds_test = model.predict(X_test)\n",
    "f1_score(preds_test, y_test)"
   ]
  },
  {
   "cell_type": "code",
   "execution_count": 46,
   "metadata": {},
   "outputs": [
    {
     "data": {
      "text/plain": [
       "0.7601476014760148"
      ]
     },
     "execution_count": 46,
     "metadata": {},
     "output_type": "execute_result"
    }
   ],
   "source": [
    "model = DecisionTreeClassifier(max_depth = 10, random_state=42)\n",
    "model.fit(X_train, y_train)\n",
    "preds_train = model.predict(X_train)\n",
    "preds_test = model.predict(X_test)\n",
    "f1_score(preds_test, y_test)"
   ]
  },
  {
   "cell_type": "code",
   "execution_count": 47,
   "metadata": {},
   "outputs": [
    {
     "data": {
      "text/plain": [
       "0.8239700374531835"
      ]
     },
     "execution_count": 47,
     "metadata": {},
     "output_type": "execute_result"
    }
   ],
   "source": [
    "# Задание 2.8\n",
    "\n",
    "from sklearn.ensemble import BaggingClassifier\n",
    "\n",
    "model = BaggingClassifier(estimator=DecisionTreeClassifier(max_depth = 10, random_state=42), n_estimators=1500, random_state=42).fit(X_train, y_train)\n",
    "preds_train = model.predict(X_train)\n",
    "preds_test = model.predict(X_test)\n",
    "f1_score(preds_test, y_test)"
   ]
  },
  {
   "cell_type": "markdown",
   "metadata": {},
   "source": [
    "## <center>Случайный лес</center>"
   ]
  },
  {
   "cell_type": "markdown",
   "metadata": {},
   "source": [
    "![image.pmg](https://lms-cdn.skillfactory.ru/assets/courseware/v1/5447a7937de6636597fac98b4f0a9f62/asset-v1:Skillfactory+DSMED+2023+type@asset+block/MATHML_md9_3_6.png)"
   ]
  },
  {
   "cell_type": "markdown",
   "metadata": {},
   "source": [
    "> Одно из важных понятий, которое здесь появляется, — это **метод случайных подпространств**, который используется для построения ансамблей моделей.\n",
    "\n",
    "Кратко опишем его принцип:\n",
    "\n",
    "1) Отбираем обучающую выборку.\n",
    "2) Определяем число моделей, которые войдут в ансамбль.\n",
    "3) Для каждой модели берём не все признаки, а только часть из них и формируем выборку с использованием случайно выбранного набора признаков.\n",
    "4) Объединяем все результаты и определяем итоговое решение по объектам."
   ]
  },
  {
   "cell_type": "markdown",
   "metadata": {},
   "source": [
    "Алгоритм случайного леса в таком контексте реализуется следующим образом:\n",
    "\n",
    "1) Для того чтобы построить $i$-е дерево леса, из обучающей выборки $X$ берём случайную подвыборку $X_i$ того же размера, что и вся обучающая выборка.\n",
    "\n",
    "2) После этого в каждой вершине каждого дерева из $M$ возможных признаков выбираем случайную группу признаков объёма $L$. Для выбранных признаков ищем оптимальное разбиение. Рекомендуется использовать $L=\\sqrt{M}$ в задачах классификации и $\\frac{M}{3}$ — в задачах регрессии.\n",
    "\n",
    "3) Для получения предсказания необходимо воспользоваться обычным принципом бэггинга: взять усреднённый ответ в случае регрессии или самый популярный класс — для классификации."
   ]
  },
  {
   "cell_type": "markdown",
   "metadata": {},
   "source": [
    "**Ошибка Out-of-Bag** — это способ оценить качество случайного леса.\n",
    "\n",
    "Для того чтобы найти *out-of-Bag*-оценку:\n",
    "\n",
    "1) Для каждого объекта $x_i$ получаем предсказания всех деревьев $a_b$, обучавшихся на бутстреп-выборках $X_b$, не содержащих $x_i$.\n",
    "\n",
    "2) Усредняем эти предсказания.\n",
    "\n",
    "3) Находим значение ошибки для усреднённого предсказания.\n",
    "\n",
    "4) Усредняем значение функционала ошибки для всех объектов выборки."
   ]
  },
  {
   "cell_type": "code",
   "execution_count": 48,
   "metadata": {},
   "outputs": [
    {
     "data": {
      "text/html": [
       "<div>\n",
       "<style scoped>\n",
       "    .dataframe tbody tr th:only-of-type {\n",
       "        vertical-align: middle;\n",
       "    }\n",
       "\n",
       "    .dataframe tbody tr th {\n",
       "        vertical-align: top;\n",
       "    }\n",
       "\n",
       "    .dataframe thead th {\n",
       "        text-align: right;\n",
       "    }\n",
       "</style>\n",
       "<table border=\"1\" class=\"dataframe\">\n",
       "  <thead>\n",
       "    <tr style=\"text-align: right;\">\n",
       "      <th></th>\n",
       "      <th>crim_rate</th>\n",
       "      <th>zn</th>\n",
       "      <th>business</th>\n",
       "      <th>river</th>\n",
       "      <th>nit_oxiden</th>\n",
       "      <th>rooms</th>\n",
       "      <th>age</th>\n",
       "      <th>dist</th>\n",
       "      <th>highways_index</th>\n",
       "      <th>tax</th>\n",
       "      <th>pup_per_teaс</th>\n",
       "      <th>lower</th>\n",
       "      <th>target</th>\n",
       "    </tr>\n",
       "  </thead>\n",
       "  <tbody>\n",
       "    <tr>\n",
       "      <th>0</th>\n",
       "      <td>0,00632</td>\n",
       "      <td>18</td>\n",
       "      <td>2,31</td>\n",
       "      <td>0</td>\n",
       "      <td>0,538</td>\n",
       "      <td>6,575</td>\n",
       "      <td>65,2</td>\n",
       "      <td>4,09</td>\n",
       "      <td>1</td>\n",
       "      <td>296</td>\n",
       "      <td>15,3</td>\n",
       "      <td>4,98</td>\n",
       "      <td>24</td>\n",
       "    </tr>\n",
       "    <tr>\n",
       "      <th>1</th>\n",
       "      <td>0,02731</td>\n",
       "      <td>0</td>\n",
       "      <td>7,07</td>\n",
       "      <td>0</td>\n",
       "      <td>0,469</td>\n",
       "      <td>6,421</td>\n",
       "      <td>78,9</td>\n",
       "      <td>4,9671</td>\n",
       "      <td>2</td>\n",
       "      <td>242</td>\n",
       "      <td>17,8</td>\n",
       "      <td>9,14</td>\n",
       "      <td>21,6</td>\n",
       "    </tr>\n",
       "    <tr>\n",
       "      <th>2</th>\n",
       "      <td>0,02729</td>\n",
       "      <td>0</td>\n",
       "      <td>7,07</td>\n",
       "      <td>0</td>\n",
       "      <td>0,469</td>\n",
       "      <td>7,185</td>\n",
       "      <td>61,1</td>\n",
       "      <td>4,9671</td>\n",
       "      <td>2</td>\n",
       "      <td>242</td>\n",
       "      <td>17,8</td>\n",
       "      <td>4,03</td>\n",
       "      <td>34,7</td>\n",
       "    </tr>\n",
       "    <tr>\n",
       "      <th>3</th>\n",
       "      <td>0,03237</td>\n",
       "      <td>0</td>\n",
       "      <td>2,18</td>\n",
       "      <td>0</td>\n",
       "      <td>0,458</td>\n",
       "      <td>6,998</td>\n",
       "      <td>45,8</td>\n",
       "      <td>6,0622</td>\n",
       "      <td>3</td>\n",
       "      <td>222</td>\n",
       "      <td>18,7</td>\n",
       "      <td>2,94</td>\n",
       "      <td>33,4</td>\n",
       "    </tr>\n",
       "    <tr>\n",
       "      <th>4</th>\n",
       "      <td>0,06905</td>\n",
       "      <td>0</td>\n",
       "      <td>2,18</td>\n",
       "      <td>0</td>\n",
       "      <td>0,458</td>\n",
       "      <td>7,147</td>\n",
       "      <td>54,2</td>\n",
       "      <td>6,0622</td>\n",
       "      <td>3</td>\n",
       "      <td>222</td>\n",
       "      <td>18,7</td>\n",
       "      <td>5,33</td>\n",
       "      <td>36,2</td>\n",
       "    </tr>\n",
       "  </tbody>\n",
       "</table>\n",
       "</div>"
      ],
      "text/plain": [
       "  crim_rate  zn business  river nit_oxiden  rooms   age    dist  \\\n",
       "0   0,00632  18     2,31      0      0,538  6,575  65,2    4,09   \n",
       "1   0,02731   0     7,07      0      0,469  6,421  78,9  4,9671   \n",
       "2   0,02729   0     7,07      0      0,469  7,185  61,1  4,9671   \n",
       "3   0,03237   0     2,18      0      0,458  6,998  45,8  6,0622   \n",
       "4   0,06905   0     2,18      0      0,458  7,147  54,2  6,0622   \n",
       "\n",
       "   highways_index  tax pup_per_teaс lower target  \n",
       "0               1  296         15,3  4,98     24  \n",
       "1               2  242         17,8  9,14   21,6  \n",
       "2               2  242         17,8  4,03   34,7  \n",
       "3               3  222         18,7  2,94   33,4  \n",
       "4               3  222         18,7  5,33   36,2  "
      ]
     },
     "execution_count": 48,
     "metadata": {},
     "output_type": "execute_result"
    }
   ],
   "source": [
    "# Задание 3.4\n",
    "\n",
    "data = pd.read_csv('data/boston (1).csv')\n",
    "data.head()"
   ]
  },
  {
   "cell_type": "code",
   "execution_count": null,
   "metadata": {},
   "outputs": [],
   "source": [
    "# # 1.\n",
    "\n",
    "# import statistics\n",
    "\n",
    "# X = data.drop('target', axis=1)\n",
    "# y = data['target']\n",
    "# X_train, X_test, y_train, y_test = train_test_split(X, y, test_size=0.3, random_state = 13)\n",
    "# y_train.mean()"
   ]
  },
  {
   "cell_type": "code",
   "execution_count": null,
   "metadata": {},
   "outputs": [],
   "source": [
    "# # 2.\n",
    "\n",
    "# from sklearn.linear_model import LinearRegression \n",
    "# from sklearn.metrics import mean_absolute_error as mae\n",
    "\n",
    "# model_lr = LinearRegression()\n",
    "# model_lr.fit(X_train, y_train)\n",
    "# preds_train = model_lr.predict(X_train)\n",
    "# preds_test = model_lr.predict(X_test)\n",
    "# print(mae(y_test, preds_test))"
   ]
  },
  {
   "cell_type": "code",
   "execution_count": null,
   "metadata": {},
   "outputs": [],
   "source": [
    "# # 3.\n",
    "\n",
    "# from sklearn.tree import DecisionTreeClassifier\n",
    "# from sklearn.metrics import mean_absolute_error as mae\n",
    "\n",
    "# model = DecisionTreeRegressor(random_state=13)\n",
    "# model.fit(X_train, Y_train)\n",
    "# preds_train = model.predict(X_train)\n",
    "# preds_test = model.predict(X_test)\n",
    "# print(mean_absolute_error(y_train, preds_train))\n",
    "# print(mean_absolute_error(y_test, preds_test))"
   ]
  },
  {
   "cell_type": "code",
   "execution_count": null,
   "metadata": {},
   "outputs": [],
   "source": [
    "# # 4.\n",
    "\n",
    "# from sklearn.ensemble import RandomForestClassifier\n",
    "\n",
    "# for n in [3, 10, 100, 500]:\n",
    "#     model = RandomForestRegressor(n_estimators=n, random_state = 13)\n",
    "#     model.fit(X_train, y_train)\n",
    "#     preds_train = model.predict(X_train)\n",
    "#     preds_test = model.predict(X_test)\n",
    "#     print(mean_absolute_error(y_test, preds_test))"
   ]
  },
  {
   "cell_type": "code",
   "execution_count": 52,
   "metadata": {},
   "outputs": [
    {
     "data": {
      "text/html": [
       "<div>\n",
       "<style scoped>\n",
       "    .dataframe tbody tr th:only-of-type {\n",
       "        vertical-align: middle;\n",
       "    }\n",
       "\n",
       "    .dataframe tbody tr th {\n",
       "        vertical-align: top;\n",
       "    }\n",
       "\n",
       "    .dataframe thead th {\n",
       "        text-align: right;\n",
       "    }\n",
       "</style>\n",
       "<table border=\"1\" class=\"dataframe\">\n",
       "  <thead>\n",
       "    <tr style=\"text-align: right;\">\n",
       "      <th></th>\n",
       "      <th>crim_rate</th>\n",
       "      <th>zn</th>\n",
       "      <th>business</th>\n",
       "      <th>river</th>\n",
       "      <th>nit_oxiden</th>\n",
       "      <th>rooms</th>\n",
       "      <th>age</th>\n",
       "      <th>dist</th>\n",
       "      <th>highways_index</th>\n",
       "      <th>tax</th>\n",
       "      <th>pup_per_teaс</th>\n",
       "      <th>lower</th>\n",
       "      <th>target</th>\n",
       "    </tr>\n",
       "  </thead>\n",
       "  <tbody>\n",
       "    <tr>\n",
       "      <th>0</th>\n",
       "      <td>0,00632</td>\n",
       "      <td>18</td>\n",
       "      <td>2,31</td>\n",
       "      <td>0</td>\n",
       "      <td>0,538</td>\n",
       "      <td>6,575</td>\n",
       "      <td>65,2</td>\n",
       "      <td>4,09</td>\n",
       "      <td>1</td>\n",
       "      <td>296</td>\n",
       "      <td>15,3</td>\n",
       "      <td>4,98</td>\n",
       "      <td>24</td>\n",
       "    </tr>\n",
       "    <tr>\n",
       "      <th>1</th>\n",
       "      <td>0,02731</td>\n",
       "      <td>0</td>\n",
       "      <td>7,07</td>\n",
       "      <td>0</td>\n",
       "      <td>0,469</td>\n",
       "      <td>6,421</td>\n",
       "      <td>78,9</td>\n",
       "      <td>4,9671</td>\n",
       "      <td>2</td>\n",
       "      <td>242</td>\n",
       "      <td>17,8</td>\n",
       "      <td>9,14</td>\n",
       "      <td>21,6</td>\n",
       "    </tr>\n",
       "    <tr>\n",
       "      <th>2</th>\n",
       "      <td>0,02729</td>\n",
       "      <td>0</td>\n",
       "      <td>7,07</td>\n",
       "      <td>0</td>\n",
       "      <td>0,469</td>\n",
       "      <td>7,185</td>\n",
       "      <td>61,1</td>\n",
       "      <td>4,9671</td>\n",
       "      <td>2</td>\n",
       "      <td>242</td>\n",
       "      <td>17,8</td>\n",
       "      <td>4,03</td>\n",
       "      <td>34,7</td>\n",
       "    </tr>\n",
       "    <tr>\n",
       "      <th>3</th>\n",
       "      <td>0,03237</td>\n",
       "      <td>0</td>\n",
       "      <td>2,18</td>\n",
       "      <td>0</td>\n",
       "      <td>0,458</td>\n",
       "      <td>6,998</td>\n",
       "      <td>45,8</td>\n",
       "      <td>6,0622</td>\n",
       "      <td>3</td>\n",
       "      <td>222</td>\n",
       "      <td>18,7</td>\n",
       "      <td>2,94</td>\n",
       "      <td>33,4</td>\n",
       "    </tr>\n",
       "    <tr>\n",
       "      <th>4</th>\n",
       "      <td>0,06905</td>\n",
       "      <td>0</td>\n",
       "      <td>2,18</td>\n",
       "      <td>0</td>\n",
       "      <td>0,458</td>\n",
       "      <td>7,147</td>\n",
       "      <td>54,2</td>\n",
       "      <td>6,0622</td>\n",
       "      <td>3</td>\n",
       "      <td>222</td>\n",
       "      <td>18,7</td>\n",
       "      <td>5,33</td>\n",
       "      <td>36,2</td>\n",
       "    </tr>\n",
       "  </tbody>\n",
       "</table>\n",
       "</div>"
      ],
      "text/plain": [
       "  crim_rate  zn business  river nit_oxiden  rooms   age    dist  \\\n",
       "0   0,00632  18     2,31      0      0,538  6,575  65,2    4,09   \n",
       "1   0,02731   0     7,07      0      0,469  6,421  78,9  4,9671   \n",
       "2   0,02729   0     7,07      0      0,469  7,185  61,1  4,9671   \n",
       "3   0,03237   0     2,18      0      0,458  6,998  45,8  6,0622   \n",
       "4   0,06905   0     2,18      0      0,458  7,147  54,2  6,0622   \n",
       "\n",
       "   highways_index  tax pup_per_teaс lower target  \n",
       "0               1  296         15,3  4,98     24  \n",
       "1               2  242         17,8  9,14   21,6  \n",
       "2               2  242         17,8  4,03   34,7  \n",
       "3               3  222         18,7  2,94   33,4  \n",
       "4               3  222         18,7  5,33   36,2  "
      ]
     },
     "execution_count": 52,
     "metadata": {},
     "output_type": "execute_result"
    }
   ],
   "source": [
    "df = pd.read_csv('data/weatherAUS.csv')\n",
    "data.head()"
   ]
  },
  {
   "cell_type": "code",
   "execution_count": 53,
   "metadata": {},
   "outputs": [
    {
     "data": {
      "text/plain": [
       "343248"
      ]
     },
     "execution_count": 53,
     "metadata": {},
     "output_type": "execute_result"
    }
   ],
   "source": [
    "# Задание 4.1\n",
    "\n",
    "df.isnull().sum().sum()"
   ]
  },
  {
   "cell_type": "code",
   "execution_count": 54,
   "metadata": {},
   "outputs": [
    {
     "data": {
      "text/plain": [
       "Date             0.000\n",
       "Location         0.000\n",
       "MinTemp          0.010\n",
       "MaxTemp          0.009\n",
       "Rainfall         0.022\n",
       "Evaporation      0.432\n",
       "Sunshine         0.480\n",
       "WindGustDir      0.071\n",
       "WindGustSpeed    0.071\n",
       "WindDir9am       0.073\n",
       "WindDir3pm       0.029\n",
       "WindSpeed9am     0.012\n",
       "WindSpeed3pm     0.021\n",
       "Humidity9am      0.018\n",
       "Humidity3pm      0.031\n",
       "Pressure9am      0.104\n",
       "Pressure3pm      0.103\n",
       "Cloud9am         0.384\n",
       "Cloud3pm         0.408\n",
       "Temp9am          0.012\n",
       "Temp3pm          0.025\n",
       "RainToday        0.022\n",
       "RainTomorrow     0.022\n",
       "dtype: float64"
      ]
     },
     "execution_count": 54,
     "metadata": {},
     "output_type": "execute_result"
    }
   ],
   "source": [
    "# Задание 4.2\n",
    "\n",
    "round(df.isna().sum() / len(df), 3)"
   ]
  },
  {
   "cell_type": "code",
   "execution_count": 55,
   "metadata": {},
   "outputs": [],
   "source": [
    "df.drop(['Evaporation','Sunshine','Cloud3pm'], axis = 1, inplace = True)"
   ]
  },
  {
   "cell_type": "code",
   "execution_count": 56,
   "metadata": {},
   "outputs": [],
   "source": [
    "# Задание 4.3\n",
    "\n",
    "df.RainToday = df.RainToday.map({'No': 0, 'Yes': 1})"
   ]
  },
  {
   "cell_type": "code",
   "execution_count": 57,
   "metadata": {},
   "outputs": [],
   "source": [
    "df.RainTomorrow = df.RainTomorrow.map({'No': 0, 'Yes': 1})"
   ]
  },
  {
   "cell_type": "code",
   "execution_count": 58,
   "metadata": {},
   "outputs": [
    {
     "data": {
      "text/html": [
       "<div>\n",
       "<style scoped>\n",
       "    .dataframe tbody tr th:only-of-type {\n",
       "        vertical-align: middle;\n",
       "    }\n",
       "\n",
       "    .dataframe tbody tr th {\n",
       "        vertical-align: top;\n",
       "    }\n",
       "\n",
       "    .dataframe thead th {\n",
       "        text-align: right;\n",
       "    }\n",
       "</style>\n",
       "<table border=\"1\" class=\"dataframe\">\n",
       "  <thead>\n",
       "    <tr style=\"text-align: right;\">\n",
       "      <th></th>\n",
       "      <th>RainToday</th>\n",
       "    </tr>\n",
       "    <tr>\n",
       "      <th>Month</th>\n",
       "      <th></th>\n",
       "    </tr>\n",
       "  </thead>\n",
       "  <tbody>\n",
       "    <tr>\n",
       "      <th>1</th>\n",
       "      <td>0.189484</td>\n",
       "    </tr>\n",
       "    <tr>\n",
       "      <th>2</th>\n",
       "      <td>0.206746</td>\n",
       "    </tr>\n",
       "    <tr>\n",
       "      <th>3</th>\n",
       "      <td>0.217135</td>\n",
       "    </tr>\n",
       "    <tr>\n",
       "      <th>4</th>\n",
       "      <td>0.216845</td>\n",
       "    </tr>\n",
       "    <tr>\n",
       "      <th>5</th>\n",
       "      <td>0.222163</td>\n",
       "    </tr>\n",
       "    <tr>\n",
       "      <th>6</th>\n",
       "      <td>0.263638</td>\n",
       "    </tr>\n",
       "    <tr>\n",
       "      <th>7</th>\n",
       "      <td>0.270736</td>\n",
       "    </tr>\n",
       "    <tr>\n",
       "      <th>8</th>\n",
       "      <td>0.253167</td>\n",
       "    </tr>\n",
       "    <tr>\n",
       "      <th>9</th>\n",
       "      <td>0.229135</td>\n",
       "    </tr>\n",
       "    <tr>\n",
       "      <th>10</th>\n",
       "      <td>0.196512</td>\n",
       "    </tr>\n",
       "    <tr>\n",
       "      <th>11</th>\n",
       "      <td>0.210843</td>\n",
       "    </tr>\n",
       "    <tr>\n",
       "      <th>12</th>\n",
       "      <td>0.213037</td>\n",
       "    </tr>\n",
       "  </tbody>\n",
       "</table>\n",
       "</div>"
      ],
      "text/plain": [
       "       RainToday\n",
       "Month           \n",
       "1       0.189484\n",
       "2       0.206746\n",
       "3       0.217135\n",
       "4       0.216845\n",
       "5       0.222163\n",
       "6       0.263638\n",
       "7       0.270736\n",
       "8       0.253167\n",
       "9       0.229135\n",
       "10      0.196512\n",
       "11      0.210843\n",
       "12      0.213037"
      ]
     },
     "execution_count": 58,
     "metadata": {},
     "output_type": "execute_result"
    }
   ],
   "source": [
    "# Задание 4.4\n",
    "\n",
    "df.Date = pd.to_datetime(df.Date)\n",
    "df['Month'] = df.Date.dt.month\n",
    "df.drop('Date', axis = 1, inplace = True)\n",
    "df_season = df.groupby('Month').mean(numeric_only=True)\n",
    "df_season[['RainToday']]"
   ]
  },
  {
   "cell_type": "code",
   "execution_count": null,
   "metadata": {},
   "outputs": [],
   "source": [
    "# Задание 4.5\n",
    "\n"
   ]
  }
 ],
 "metadata": {
  "kernelspec": {
   "display_name": "Python 3",
   "language": "python",
   "name": "python3"
  },
  "language_info": {
   "codemirror_mode": {
    "name": "ipython",
    "version": 3
   },
   "file_extension": ".py",
   "mimetype": "text/x-python",
   "name": "python",
   "nbconvert_exporter": "python",
   "pygments_lexer": "ipython3",
   "version": "3.12.2"
  }
 },
 "nbformat": 4,
 "nbformat_minor": 2
}
