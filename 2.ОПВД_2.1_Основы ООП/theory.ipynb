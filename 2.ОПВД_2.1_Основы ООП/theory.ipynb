{
 "cells": [
  {
   "cell_type": "markdown",
   "metadata": {},
   "source": [
    "# <center>Введение</center>\n",
    "\n",
    "**Идеология объектно-ориентированного программирования** (ООП) разрабатывалась как попытка связать поведение определённой сущности (объекта) с тем, к какому классу она принадлежит. Причина задумки такого подхода в том, что нам проще воспринимать окружающий мир как объекты, которые поддаются определённой классификации (взять хотя бы разделение на живую и неживую природу).\n",
    "\n",
    "Основу ООП составляют два понятия — **классы** и **объекты**.\n",
    "\n",
    "Когда мы говорим о **классе**, мы имеем в виду то, какими свойствами и поведением будет обладать объект (например, ходить на двух ногах, говорить).\n",
    "\n",
    "А **объект** — это экземпляр с собственным состоянием этих свойств (то, что будет отличать одного человека от другого), любой предмет, существо, явление. Иными словами, это всё, что называется именем существительным, о чём можно сказать «это что-то» или «это кто-то». Объекты класса обладают *свойствами* и поведением (*методами*).\n",
    "\n",
    " Свойствам устанавливаются значения, а методам нет. То есть методы — это определённое поведение, которым характеризуется объект, а свойства могут изменяться."
   ]
  },
  {
   "cell_type": "markdown",
   "metadata": {},
   "source": [
    "## <center>Принципы ООП</center>\n",
    "\n",
    "1) <u>Наследование</u>\n",
    "\n",
    "Этот принцип базируется на том, что новый класс описывается на основе уже существующего (родительского), то есть не только перенимает все свойства родительского класса, но ещё и получает новые.\n",
    "\n",
    "2) <u>Абстракция</u>\n",
    "\n",
    "Абстракция означает выделение главных, наиболее значимых характеристик предмета и, наоборот, отбрасывание второстепенных, незначительных. \n",
    "\n",
    "3) <u>Инкапсуляция</u>\n",
    "\n",
    "Это свойство системы, позволяющее объединить данные и методы, работающие с ними, в классе и скрыть детали реализации от пользователя. Инкапсуляция также означает ограничение доступа к данным и возможностям их изменения.\n",
    "\n",
    "Также инкапсуляция заключается и в возможности наложения ограничения на вводимые данные. Допустим, есть класс `people`, одним из свойств которого является `age`. Мы знаем, что возраст — положительное значение. Инкапсуляция в данном случае будет означать, что отрицательное значение возраста ввести не получится.\n",
    "\n",
    "4) <u>Полиморфизм</u>\n",
    "\n",
    "Это свойство системы, позволяющее иметь множество реализаций одного интерфейса. "
   ]
  },
  {
   "cell_type": "markdown",
   "metadata": {},
   "source": [
    "## <center>Объекты и классы</center>\n",
    "\n",
    "Некоторые данные и действия над ними могут объединяться вместе в единый объект. В *Python* всё по сути является объектом. Объект числа хранит своё значение — данные, мы можем вызвать его методы, совершать действия. \n",
    "\n",
    "У всех встроенных объектов есть свой класс. В примере для числа 2.5 мы видим класс действительных чисел (*float*), для списка — класс списка (*list*). Класс — это некая заготовка или чертёж, которая описывает общую структуру, свойства и действия для объектов.  "
   ]
  },
  {
   "cell_type": "code",
   "execution_count": 1,
   "metadata": {},
   "outputs": [],
   "source": [
    " # Определим пустой класс: он не делает ничего, но позволит нам посмотреть на синтаксис\n",
    " # Используем ключевое слово class, за которым идёт название класса, в примере это SalesReport  \n",
    "class SalesReport():  \n",
    "    pass  \n",
    "  \n",
    "# Сравните это с определением пустой функции  \n",
    "# Команда pass не делает ничего; на её месте могли быть другие инструкции  \n",
    "# Мы используем её только потому, что синтаксически python требует, чтобы там было хоть что-то  \n",
    "def build_report():  \n",
    "    pass  \n",
    "  \n",
    "  \n",
    "# И давайте определим ещё один класс  \n",
    "# Для имён классов традиционно используются имена в формате CamelCase, где начала слов отмечаются большими буквами  \n",
    "# Это позволяет легко отличать их от функций, которые пишутся в формате snake_case  \n",
    "class SkillfactoryStudent():  \n",
    "    pass"
   ]
  },
  {
   "cell_type": "markdown",
   "metadata": {},
   "source": [
    "Мы написали свой первый класс — создадим по нему объект. Вызываем класс и получаем новый объект аналогично тому, как вызывается функция. Получаем результат."
   ]
  },
  {
   "cell_type": "code",
   "execution_count": 2,
   "metadata": {},
   "outputs": [
    {
     "name": "stdout",
     "output_type": "stream",
     "text": [
      "False\n"
     ]
    }
   ],
   "source": [
    "class SalesReport():  \n",
    "    pass  \n",
    "  \n",
    "# создаём объект по классу  \n",
    "report = SalesReport()  \n",
    "  \n",
    "# мы можем создавать множество объектов по одному классу  \n",
    "report_2 = SalesReport()  \n",
    "  \n",
    "# Это будут разные объекты.   \n",
    "print(report == report_2)  \n",
    "# => False  "
   ]
  },
  {
   "cell_type": "markdown",
   "metadata": {},
   "source": [
    "Созданный таким образом объект часто называют **экземпляром класса** (*instance*)."
   ]
  },
  {
   "cell_type": "markdown",
   "metadata": {},
   "source": [
    "## <center>Атрибуты и методы</center>\n",
    "\n",
    "Мы создали объект по пустому классу. Давайте добавим ему данные. Сделаем класс для отчётов по продажам *SalesReport*. Пусть у нас в компании есть менеджеры по продажам, которые заключают сделки, и мы хотим посчитать для них метрики общего объёма продаж."
   ]
  },
  {
   "cell_type": "code",
   "execution_count": 3,
   "metadata": {},
   "outputs": [
    {
     "name": "stdout",
     "output_type": "stream",
     "text": [
      "Total amount: 10\n",
      "Total amount: 20\n"
     ]
    }
   ],
   "source": [
    " # По-прежнему пока создаём пустой класс  \n",
    "class SalesReport():  \n",
    "    pass  \n",
    "  \n",
    "# Создаём первый отчёт по продажам   \n",
    "report = SalesReport()  \n",
    "  \n",
    "# Мы добавим новый атрибут объекту.  \n",
    "# Для этого через точку напишем имя атрибута и дальше как с обычной переменной  \n",
    "report.amount = 10  \n",
    "  \n",
    "# То же самое делаем для второго отчёта.  \n",
    "report_2 = SalesReport()  \n",
    "report_2.amount = 20  \n",
    "  \n",
    "# Создадим вспомогательную функцию, она будет печатать общую сумму из отчёта  \n",
    "def print_report(report):  \n",
    "    print(\"Total amount:\", report.amount)  \n",
    "      \n",
    "print_report(report) # => Total amount: 10  \n",
    "print_report(report_2) # => Total amount: 20 "
   ]
  },
  {
   "cell_type": "markdown",
   "metadata": {},
   "source": [
    "Для разных отчётов вывелись разные значения, хотя объекты создавались из одного класса. Функция `print_report` делает операцию над отчётом. Так как классы увязывают данные и действия над ними, положим `print_report` внутрь класса."
   ]
  },
  {
   "cell_type": "code",
   "execution_count": 4,
   "metadata": {},
   "outputs": [
    {
     "name": "stdout",
     "output_type": "stream",
     "text": [
      "Total amount: 10\n",
      "Total amount: 20\n"
     ]
    }
   ],
   "source": [
    " class SalesReport():  \n",
    "    # Наш новый метод внутри класса.  \n",
    "    # Мы определяем его похожим образом с обычными функциями, но только помещаем внутрь класса и первым аргументом передаём self  \n",
    "    def print_report(self):  \n",
    "        print(\"Total amount:\", self.amount)  \n",
    "          \n",
    "          \n",
    "# Дальше мы применяем report так же, как и в примере выше   \n",
    "report = SalesReport()  \n",
    "report.amount = 10  \n",
    "  \n",
    "report_2 = SalesReport()  \n",
    "report_2.amount = 20  \n",
    "  \n",
    "# Используем наши новые методы  \n",
    "report.print_report() # => Total amount: 10  \n",
    "report_2.print_report() # => Total amount: 20 "
   ]
  },
  {
   "cell_type": "markdown",
   "metadata": {},
   "source": [
    "Мы определили метод внутри класса, и он стал доступен у всех экземпляров этого класса. Методы в целом похожи на обычные функции, но их ключевое отличие — доступ к самому объекту. \n",
    "\n",
    "В методе мы первым аргументом получаем `self` — в нашем случае это отчёт, что позволяет использовать атрибуты объекта внутри метода, как мы сделали с `amount`. `Self` передаётся автоматически. При вызове метода мы не передавали никакие аргументы."
   ]
  },
  {
   "cell_type": "code",
   "execution_count": 5,
   "metadata": {},
   "outputs": [
    {
     "name": "stdout",
     "output_type": "stream",
     "text": [
      "Total sales: 40000\n"
     ]
    }
   ],
   "source": [
    "class SalesReport():  \n",
    "    # Позволим добавлять много разных сделок   \n",
    "    def add_deal(self, amount):   \n",
    "        # На первой сделке создадим список для хранения всех сделок   \n",
    "        if not hasattr(self, 'deals'):  \n",
    "            self.deals = []  \n",
    "        # Добавим текущую сделку  \n",
    "        self.deals.append(amount)  \n",
    "          \n",
    "    # Посчитаем сумму всех сделок      \n",
    "    def total_amount(self):  \n",
    "        return sum(self.deals)  \n",
    "      \n",
    "    def print_report(self):  \n",
    "        print(\"Total sales:\", self.total_amount())  \n",
    "          \n",
    "# Используем наши новые возможности  \n",
    "# Добавим две сделки и распечатаем отчёт  \n",
    "report = SalesReport()  \n",
    "report.add_deal(10_000)  \n",
    "report.add_deal(30_000)  \n",
    "report.print_report() # => Total sales: 40000  "
   ]
  },
  {
   "cell_type": "markdown",
   "metadata": {},
   "source": [
    "Атрибут `deals`, определённый в одном методе, становится доступен сразу во всех методах класса. Через `self` становятся доступны и остальные методы, например `print_report` использует метод `total_amount`. Это позволяет компактно упаковывать логику внутри класса: внешнее использование становится гораздо лаконичнее."
   ]
  },
  {
   "cell_type": "markdown",
   "metadata": {},
   "source": [
    "## <center>Метод `__init__`</center>\n",
    "\n",
    "Если мы вызовем `total_amount` до `add_deal`, то список сделок ещё не будет создан, и мы получим ошибку. Также проверка на наличие списка в методе `add_deal` не кажется оптимальным решением, потому что создать список нужно один раз, а проверять его наличие мы вынуждены на каждой сделке."
   ]
  },
  {
   "cell_type": "code",
   "execution_count": 6,
   "metadata": {},
   "outputs": [
    {
     "ename": "AttributeError",
     "evalue": "'SalesReport' object has no attribute 'deals'",
     "output_type": "error",
     "traceback": [
      "\u001b[1;31m---------------------------------------------------------------------------\u001b[0m",
      "\u001b[1;31mAttributeError\u001b[0m                            Traceback (most recent call last)",
      "Cell \u001b[1;32mIn[6], line 14\u001b[0m\n\u001b[0;32m     11\u001b[0m         \u001b[38;5;28mprint\u001b[39m(\u001b[38;5;124m\"\u001b[39m\u001b[38;5;124mTotal sales:\u001b[39m\u001b[38;5;124m\"\u001b[39m, \u001b[38;5;28mself\u001b[39m\u001b[38;5;241m.\u001b[39mtotal_amount())  \n\u001b[0;32m     13\u001b[0m report \u001b[38;5;241m=\u001b[39m SalesReport()  \n\u001b[1;32m---> 14\u001b[0m \u001b[43mreport\u001b[49m\u001b[38;5;241;43m.\u001b[39;49m\u001b[43mtotal_amount\u001b[49m\u001b[43m(\u001b[49m\u001b[43m)\u001b[49m  \n\u001b[0;32m     15\u001b[0m \u001b[38;5;66;03m# => AttributeError\u001b[39;00m\n",
      "Cell \u001b[1;32mIn[6], line 8\u001b[0m, in \u001b[0;36mSalesReport.total_amount\u001b[1;34m(self)\u001b[0m\n\u001b[0;32m      7\u001b[0m \u001b[38;5;28;01mdef\u001b[39;00m \u001b[38;5;21mtotal_amount\u001b[39m(\u001b[38;5;28mself\u001b[39m):  \n\u001b[1;32m----> 8\u001b[0m     \u001b[38;5;28;01mreturn\u001b[39;00m \u001b[38;5;28msum\u001b[39m(\u001b[38;5;28;43mself\u001b[39;49m\u001b[38;5;241;43m.\u001b[39;49m\u001b[43mdeals\u001b[49m)\n",
      "\u001b[1;31mAttributeError\u001b[0m: 'SalesReport' object has no attribute 'deals'"
     ]
    }
   ],
   "source": [
    "class SalesReport():  \n",
    "    def add_deal(self, amount):   \n",
    "        if not hasattr(self, 'deals'):  \n",
    "            self.deals = []  \n",
    "        self.deals.append(amount)  \n",
    "          \n",
    "    def total_amount(self):  \n",
    "        return sum(self.deals)  \n",
    "      \n",
    "    def print_report(self):  \n",
    "        print(\"Total sales:\", self.total_amount())  \n",
    "          \n",
    "report = SalesReport()  \n",
    "report.total_amount()  \n",
    "# => AttributeError"
   ]
  },
  {
   "cell_type": "markdown",
   "metadata": {},
   "source": [
    "Обе проблемы решились бы, если задавать атрибутам исходное значение. Для этого у классов есть **метод инициализации** `__init__`. Если мы определим метод с таким именем, код в нём вызовется при создании объекта."
   ]
  },
  {
   "cell_type": "code",
   "execution_count": null,
   "metadata": {},
   "outputs": [
    {
     "name": "stdout",
     "output_type": "stream",
     "text": [
      "[]\n"
     ]
    },
    {
     "data": {
      "text/plain": [
       "0"
      ]
     },
     "execution_count": 7,
     "metadata": {},
     "output_type": "execute_result"
    }
   ],
   "source": [
    "class SalesReport():  \n",
    "    def __init__(self):  \n",
    "        self.deals = []  \n",
    "          \n",
    "    def add_deal(self, amount):   \n",
    "        self.deals.append(amount)  \n",
    "          \n",
    "    def total_amount(self):  \n",
    "        return sum(self.deals)  \n",
    "      \n",
    "    def print_report(self):  \n",
    "        print(\"Total sales:\", self.total_amount())  \n",
    "   \n",
    "report = SalesReport()  \n",
    "print(report.deals)  \n",
    "report.total_amount()  \n",
    "\n",
    "# При создании отчёта вызвался __init__, deals определился в нём пустым списком и проблемы ушли.  "
   ]
  },
  {
   "cell_type": "markdown",
   "metadata": {},
   "source": [
    "`__init__` — это технический метод, поэтому его имя начинается и заканчивается двумя подчёркиваниями. Он получает первым аргументом сам объект, в нём могут выполняться любые операции. Оставшиеся аргументы он получает из вызова при создании: если мы напишем `report = SalesReport(\"Info\", 20)`, то вторым и третьим аргументом в `__init__` передадутся *\"Info\"* и *20*."
   ]
  },
  {
   "cell_type": "code",
   "execution_count": null,
   "metadata": {},
   "outputs": [
    {
     "name": "stdout",
     "output_type": "stream",
     "text": [
      "Manager: Ivan Taranov\n",
      "Total sales: 40000\n"
     ]
    }
   ],
   "source": [
    "class SalesReport():  \n",
    "    # Будем принимать в __init__ ещё и имя менеджера  \n",
    "    def __init__(self, manager_name):  \n",
    "        self.deals = []  \n",
    "        self.manager_name = manager_name  \n",
    "          \n",
    "    def add_deal(self, amount):   \n",
    "        self.deals.append(amount)  \n",
    "          \n",
    "    def total_amount(self):  \n",
    "        return sum(self.deals)  \n",
    "      \n",
    "    def print_report(self):  \n",
    "        # И добавлять это имя в отчёт  \n",
    "        print(\"Manager:\", self.manager_name)  \n",
    "        print(\"Total sales:\", self.total_amount()) \n",
    "        \n",
    "        \n",
    "report = SalesReport(\"Ivan Taranov\")  \n",
    "report.add_deal(10_000)  \n",
    "report.add_deal(30_000)  \n",
    "report.print_report() "
   ]
  },
  {
   "cell_type": "markdown",
   "metadata": {},
   "source": [
    "Кроме `__init__` у классов можно определить ряд технических методов, которые также называют **магическими**. Дело в том, что они не вызываются напрямую, но позволяют реализовать операции сложения *object_1 + object_2* или сравнения *object_1 > object_2*."
   ]
  },
  {
   "cell_type": "markdown",
   "metadata": {},
   "source": [
    "Допустим, теперь мы хотим получать средний размер сделки и список клиентов, из которого исключены повторения (в случае, если компания заключала несколько сделок с одним и тем же клиентом)."
   ]
  },
  {
   "cell_type": "code",
   "execution_count": null,
   "metadata": {},
   "outputs": [
    {
     "name": "stdout",
     "output_type": "stream",
     "text": [
      "Employee:  Ivan Semenov\n",
      "Total sales: 390000\n",
      "Average sales: 130000.0\n",
      "Companies: ['PepsiCo', 'SkyEng']\n"
     ]
    }
   ],
   "source": [
    " class SalesReport():  \n",
    "    def __init__(self, employee_name):  \n",
    "        self.deals = []  \n",
    "        self.employee_name = employee_name  \n",
    "      \n",
    "    def add_deal(self, company, amount):   \n",
    "        self.deals.append({'company': company, 'amount': amount})  \n",
    "          \n",
    "    def total_amount(self):  \n",
    "        return sum([deal['amount'] for deal in self.deals])  \n",
    "      \n",
    "    def average_deal(self):  \n",
    "        return self.total_amount()/len(self.deals)  \n",
    "      \n",
    "    def all_companies(self):  \n",
    "        return list(set([deal['company'] for deal in self.deals]))  \n",
    "      \n",
    "    def print_report(self):  \n",
    "        print(\"Employee: \", self.employee_name)  \n",
    "        print(\"Total sales:\", self.total_amount())  \n",
    "        print(\"Average sales:\", self.average_deal())  \n",
    "        print(\"Companies:\", self.all_companies())  \n",
    "      \n",
    "      \n",
    "report = SalesReport(\"Ivan Semenov\")  \n",
    "  \n",
    "report.add_deal(\"PepsiCo\", 120_000)  \n",
    "report.add_deal(\"SkyEng\", 250_000)  \n",
    "report.add_deal(\"PepsiCo\", 20_000)  \n",
    "  \n",
    "report.print_report()  "
   ]
  },
  {
   "cell_type": "markdown",
   "metadata": {},
   "source": [
    "# <center>Практические примеры</center>\n",
    "\n",
    "## <center>Отслеживание состояний</center> \n",
    "\n",
    "Одно из классических предписаний для классов — у каждого из множества объектов есть некоторые меняющиеся состояния. \n",
    "\n",
    "Вернёмся к примеру: есть база клиентов с основной информацией; в реальном времени нам приходит информация о покупках. Запустим промокампанию, чтобы поощрить старых клиентов, которые сделали у нас много заказов, и выдать им скидку:"
   ]
  },
  {
   "cell_type": "code",
   "execution_count": null,
   "metadata": {},
   "outputs": [
    {
     "name": "stdout",
     "output_type": "stream",
     "text": [
      "Order price for max@gmail.com is 100\n",
      "Order price for lova@yandex.ru is 180.0\n",
      "Order price for german@sberbank.ru is 500\n",
      "Order price for german@sberbank.ru is 450.0\n"
     ]
    }
   ],
   "source": [
    "class Client():  \n",
    "    # Базовые данные  \n",
    "    def __init__(self, email, order_num, registration_year):  \n",
    "        self.email = email  \n",
    "        self.order_num = order_num  \n",
    "        self.registration_year = registration_year  \n",
    "        self.discount = 0  \n",
    "          \n",
    "    # Оформление заказа  \n",
    "    def make_order(self, price):  \n",
    "        self.update_discount()  \n",
    "        self.order_num += 1  \n",
    "        # Здесь было бы оформление заказа, но мы просто выведем его цену  \n",
    "        discounted_price = price * (1 - self.discount)   \n",
    "        print(f\"Order price for {self.email} is {discounted_price}\")  \n",
    "              \n",
    "    # Назначение скидки  \n",
    "    def update_discount(self):   \n",
    "        if self.registration_year < 2018 and self.order_num >= 5:  \n",
    "            self.discount = 0.1   \n",
    "              \n",
    "  \n",
    "# Применение  \n",
    "          \n",
    "# Сделаем подобие базы  \n",
    "client_db = [   \n",
    "    Client(\"max@gmail.com\", 2, 2019),  \n",
    "    Client(\"lova@yandex.ru\", 10, 2015),  \n",
    "    Client(\"german@sberbank.ru\", 4, 2017)  \n",
    "]  \n",
    "  \n",
    "  \n",
    "# Сгенерируем заказы  \n",
    "client_db[0].make_order(100)  \n",
    "# => Order price for max@gmail.com is 100  \n",
    "  \n",
    "client_db[1].make_order(200)  \n",
    "# => Order price for lova@yandex.ru is 180.0  \n",
    "  \n",
    "client_db[2].make_order(500)  \n",
    "# => Order price for german@sberbank.ru is 500  \n",
    "  \n",
    "client_db[2].make_order(500)  \n",
    "# => Order price for german@sberbank.ru is 450.0 "
   ]
  },
  {
   "cell_type": "markdown",
   "metadata": {},
   "source": [
    "## <center>Комбинация операций</center>\n",
    "\n",
    "Классы могут пригодиться, если вы регулярно делаете над данными одну и ту же последовательность разноплановых функций. Вы можете упаковать их в класс и в дальнейшем сразу получать результат по загруженным данным.\n",
    "\n",
    "У нас есть численные данные из разных источников. Если они в виде строк, то нужно привести их к числам, а пропуски — заполнить значениями. Сделаем доступ к медиане, среднему значению и стандартному отклонению:"
   ]
  },
  {
   "cell_type": "code",
   "execution_count": null,
   "metadata": {},
   "outputs": [
    {
     "name": "stdout",
     "output_type": "stream",
     "text": [
      "[1.0, 17.0, 4.0, 0.0, 8.0]\n",
      "6.892024376045111\n",
      "4.0\n"
     ]
    }
   ],
   "source": [
    " import statistics  \n",
    "  \n",
    "class DataFrame():  \n",
    "    def __init__(self, column, fill_value=0):  \n",
    "        # Инициализируем атрибуты  \n",
    "        self.column = column  \n",
    "        self.fill_value = fill_value  \n",
    "        # Заполним пропуски  \n",
    "        self.fill_missed()  \n",
    "        # Конвертируем все элементы в числа  \n",
    "        self.to_float()  \n",
    "          \n",
    "    def fill_missed(self):  \n",
    "        for i, value in enumerate(self.column):  \n",
    "            if value is None or value == '':  \n",
    "                self.column[i] = self.fill_value  \n",
    "                  \n",
    "    def to_float(self):  \n",
    "        self.column = [float(value) for value in self.column]  \n",
    "      \n",
    "    def median(self):  \n",
    "        return statistics.median(self.column)  \n",
    "      \n",
    "    def mean(self):  \n",
    "        return statistics.mean(self.column)  \n",
    "      \n",
    "    def deviation(self):  \n",
    "        return statistics.stdev(self.column)  \n",
    "      \n",
    "  \n",
    "      \n",
    "# Воспользуемся классом  \n",
    "df = DataFrame([\"1\", 17, 4, None, 8])  \n",
    "  \n",
    "print(df.column)  \n",
    "# => [1.0, 17.0, 4.0, 0.0, 8.0]  \n",
    "print(df.deviation())  \n",
    "# => 6.89  \n",
    "print(df.median())  \n",
    "# => 4.0  "
   ]
  },
  {
   "cell_type": "markdown",
   "metadata": {},
   "source": [
    "## <center>Класс-обёртка</center>\n",
    "\n",
    "Классы можно использовать тогда, когда у вас есть процесс, который требует сложной конфигурации, повторяющейся из раза в раз. Можно написать класс-обёртку, который сведёт этот процесс к одному-двум методам.\n",
    "\n",
    "Представим, вы делаете обработку данных и в конце каждого дня сохраняете результат в архив. Вы хотите, чтобы данные каждого дня лежали в отдельном файле для этого дня, при этом можно было бы получить данные за произвольный день. "
   ]
  },
  {
   "cell_type": "code",
   "execution_count": null,
   "metadata": {},
   "outputs": [
    {
     "name": "stdout",
     "output_type": "stream",
     "text": [
      "{'perfomance': [10, 20, 10], 'clients': {'Romashka': 10, 'Vector': 34}}\n"
     ]
    }
   ],
   "source": [
    "import pickle \n",
    "from datetime import datetime  \n",
    "from os import path  \n",
    "  \n",
    "class Dumper():  \n",
    "    def __init__(self, archive_dir=\"archive/\"):  \n",
    "        self.archive_dir = archive_dir  \n",
    "          \n",
    "    def dump(self, data):  \n",
    "        # Библиотека pickle позволяет доставать и класть объекты в файл  \n",
    "        with open(self.get_file_name(), 'wb') as file:  \n",
    "            pickle.dump(data, file)  \n",
    "              \n",
    "    def load_for_day(self, day):  \n",
    "        file_name = path.join(self.archive_dir, day + \".pkl\")   \n",
    "        with open(file_name, 'rb') as file:  \n",
    "            sets = pickle.load(file)  \n",
    "        return sets  \n",
    "          \n",
    "    # возвращает корректное имя для файла   \n",
    "    def get_file_name(self):   \n",
    "        today = datetime.now().strftime(\"%y-%m-%d\")   \n",
    "        return path.join(self.archive_dir, today + \".pkl\")  \n",
    "      \n",
    "      \n",
    "# Пример использования  \n",
    "  \n",
    "data = {  \n",
    "    'perfomance': [10, 20, 10],  \n",
    "    'clients': {\"Romashka\": 10, \"Vector\": 34}  \n",
    "}  \n",
    "  \n",
    "  \n",
    "dumper = Dumper()  \n",
    "  \n",
    "# Сохраним данные  \n",
    "dumper.dump(data)  \n",
    "  \n",
    "# Восстановим для сегодняшней даты  \n",
    "file_name = datetime.now().strftime(\"%y-%m-%d\")\n",
    "restored_data = dumper.load_for_day(file_name)\n",
    "print(restored_data)  \n",
    "# => {'perfomance': [10, 20, 10], 'clients': {'Romashka': 10, 'Vector': 34}}  "
   ]
  },
  {
   "cell_type": "markdown",
   "metadata": {},
   "source": [
    "## <center>Импорт и организация кода</center>\n",
    "\n",
    "Классы, как и библиотечные функции, можно импортировать в другие программы. Для этого нужно положить класс в отдельный файл в корне проекта и использовать ключевое слово `import`. "
   ]
  },
  {
   "cell_type": "markdown",
   "metadata": {},
   "source": [
    "Например, если мы положим `Dumper` в файл *dumper.py* в корне проекта, то его можно импортировать командой:\n",
    "\n",
    "```python\n",
    " from dumper import Dumper\n",
    " ```\n",
    "\n",
    "Пишем `from <имя файла без .py> import <имя класса>`. Имя файла должно начинаться с буквы и не совпадать с именами библиотечных модулей. Если файлов с классами много, их можно складывать в папки, предварительно положив туда пустой файл `__init__.py` — это требование *Python*."
   ]
  },
  {
   "cell_type": "markdown",
   "metadata": {},
   "source": [
    "Сгруппируем классы из примеров в папке *helpers*. Структура файлов:\n",
    "\n",
    "```python\n",
    "-- __init__.py\n",
    "-- dumper.py\n",
    "-- data_frame.py\n",
    "-- client.py\n",
    "```\n",
    "\n",
    "Импортируем, соединяя все шаги через точку с помощью того же синтаксиса, что использовался для импорта библиотечных функций.\n",
    "\n",
    "```python\n",
    "from helpers.dumper import Dumper  \n",
    "from helpers.data_frame import DataFrame  \n",
    "from helpers.client import Client  \n",
    "```"
   ]
  },
  {
   "cell_type": "markdown",
   "metadata": {},
   "source": [
    "# <center>Работа с файлами</center>\n",
    "\n",
    "## <center>Путь к файлу</center>\n",
    "\n",
    "**Путь** (от англ. *path*) — набор символов, показывающий расположение файла или каталога в файловой системе. В операционных системах *UNIX* разделительным знаком при записи пути является «/» (слеш), в *Windows* — «\\» (обратный слеш). Эти знаки служат для разделения названия каталогов, составляющих путь к файлу.\n",
    "\n",
    "Существует два типа пути:\n",
    "\n",
    "* абсолютный;\n",
    "* относительный.\n",
    "\n",
    "**Абсолютный путь** — это путь, который указывает на одно и то же место в файловой системе, вне зависимости от текущего рабочего каталога или других обстоятельств. Его ещё называют полным.\n",
    "\n",
    "**Относительный путь** — это путь по отношению к текущему рабочему каталогу пользователя.\n",
    "\n",
    "Чтобы поработать с путями, есть модуль `os`. Функция `os.chdir()` позволяет нам изменить директорию, которую мы в данный момент используем. Если вам нужно знать, какой путь вы в данный момент используете, для этого нужно вызвать `os.getcwd()`."
   ]
  },
  {
   "cell_type": "markdown",
   "metadata": {},
   "source": [
    "**<u>Примечание</u>**: дальнейшие пути указаны для конкретной машины на *ОС Linux*.\n",
    "\n",
    "```python\n",
    "start_path = os.getcwd() # получить текущий путь\n",
    "print(start_path) \n",
    "# => /home/nbuser/library\n",
    "```\n",
    "\n",
    "Далее попробуем подняться на директорию выше:\n",
    "\n",
    "```python\n",
    "os.chdir(\"..\") # подняться на один уровень выше\n",
    "os.getcwd() \n",
    "# => '/home/nbuser'\n",
    "```\n",
    "\n",
    "Теперь вернемся в ту директорию, из которой стартовали. Изначально мы сохраняли её в переменной start_path.\n",
    "\n",
    "```python\n",
    "os.chdir(start_path)\n",
    "os.getcwd() \n",
    "# => '/home/nbuser/library'\n",
    "```"
   ]
  },
  {
   "cell_type": "markdown",
   "metadata": {},
   "source": [
    "С помощью функции `os.listdir()` можно получить весь список файлов, находящихся в директории. Если не указать никаких аргументов, то будет взята текущая директория.\n",
    "\n",
    "```python\n",
    "import os\n",
    "    \n",
    "print(os.listdir()) \n",
    "# => ['SnapchatLoader', 'FBLoader', 'tmp.py', '.gitignore', 'venv', '.git']\n",
    "    \n",
    "if 'tmp.py' not in os.listdir():\n",
    "    print(\"Файл отсутствует в данной директории\")\n",
    "```"
   ]
  },
  {
   "cell_type": "markdown",
   "metadata": {},
   "source": [
    "Для того чтобы склеивать пути с учётом особенностей ОС, следует использовать функцию `os.path.join()`. Это связано с тем, что в разных операционных системах могут быть разные разделители каталогов, например, в *ОС Windows* этим разделителем является «\\», а в *Linux* — «/», как мы и говорили в начале юнита. Поэтому, чтобы поиск файла проходил гладко в обеих системах (ведь ваш скрипт могут запускать на любой системе в связи с кросс-платформенностью *Python*), лучше всё-таки использовать `os.path.join()`.\n",
    "\n",
    "```python\n",
    "print(start_path)\n",
    "# => /home/nbuser/library\n",
    "\n",
    "print(os.path.join(start_path, 'test'))\n",
    "# => /home/nbuser/library/test\n",
    "```"
   ]
  },
  {
   "cell_type": "code",
   "execution_count": null,
   "metadata": {},
   "outputs": [
    {
     "name": "stdout",
     "output_type": "stream",
     "text": [
      "Текущая директория d:\\IDE\\Library\\ОПВД_2.1_Основы ООП\n",
      "---\n",
      "Список папок ['archive']\n",
      "---\n",
      "Список файлов ['theory.ipynb']\n",
      "---\n",
      "Все пути:\n",
      "Файл  d:\\IDE\\Library\\ОПВД_2.1_Основы ООП\\theory.ipynb\n",
      "Папка  d:\\IDE\\Library\\ОПВД_2.1_Основы ООП\\archive\n",
      "===\n",
      "Текущая директория d:\\IDE\\Library\\ОПВД_2.1_Основы ООП\\archive\n",
      "---\n",
      "Папок нет\n",
      "---\n",
      "Список файлов ['24-04-16.pkl']\n",
      "---\n",
      "Файл  d:\\IDE\\Library\\ОПВД_2.1_Основы ООП\\archive\\24-04-16.pkl\n",
      "===\n"
     ]
    }
   ],
   "source": [
    "# Задание 7.3\n",
    "\n",
    "import os\n",
    "\n",
    "def walk_desc(path=None):\n",
    "    start_path = path if path is not None else os.getcwd()\n",
    "\n",
    "    for root, dirs, files in os.walk(start_path):\n",
    "        print(\"Текущая директория\", root)\n",
    "        print(\"---\")\n",
    "\n",
    "        if dirs:\n",
    "            print(\"Список папок\", dirs)\n",
    "        else:\n",
    "            print(\"Папок нет\")\n",
    "        print(\"---\")\n",
    "\n",
    "        if files:\n",
    "            print(\"Список файлов\", files)\n",
    "        else:\n",
    "            print(\"Файлов нет\")\n",
    "        print(\"---\")\n",
    "\n",
    "        if files and dirs:\n",
    "            print(\"Все пути:\")\n",
    "        for f in files:\n",
    "            print(\"Файл \", os.path.join(root, f))\n",
    "        for d in dirs:\n",
    "            print(\"Папка \", os.path.join(root, d))\n",
    "        print(\"===\")\n",
    "\n",
    "walk_desc()"
   ]
  },
  {
   "cell_type": "markdown",
   "metadata": {},
   "source": [
    "## <center>Работа с файлом</center>\n",
    "\n",
    "Для того чтобы начать работать с файлом, надо его открыть с помощью команды специальной функции `open`.\n",
    "\n",
    "```python\n",
    "f = open('path/to/file', 'filemode', encoding='utf8')\n",
    "```\n",
    "\n",
    "1) `path/to/file` — путь к файлу может быть относительным или абсолютным. Можно указывать в *Unix*-стиле (`path/to/file`) или в *Windows*-стиле (`path\\to\\file`).\n",
    "2) `filemode` — режим, в котором файл нужно открывать. Записывается в виде строки, может принимать следующие значения:\n",
    "* `r` — открыть на чтение (по умолчанию);\n",
    "* `w` — перезаписать и открыть на запись (если файла нет, то он создастся);\n",
    "* `x` — создать и открыть на запись (если уже есть — исключение);\n",
    "* `a` — открыть на дозапись (указатель будет поставлен в конец);\n",
    "* `t` — открыть в текстовом виде (по умолчанию);\n",
    "* `b` — открыть в бинарном виде.\n",
    "3) `encoding` — указание, в какой кодировке файл записан (*utf8*, *cp1251* и т. д.) По умолчанию стоит *utf-8*. При этом можно записывать кодировку как через дефис, так и без: *utf-8* или *utf8*.\n",
    "\n",
    "При открытии файла внутри него ставится указатель текущей позиции для чтения. При открытии в режиме чтения ('`r`') или записи ('`w`') указатель ставится на начало, в режиме '`a`' (добавление новых записей в конец файла) в конец."
   ]
  },
  {
   "cell_type": "markdown",
   "metadata": {},
   "source": [
    "Откроем файл на запись и с помощью метода `write` запишем в него строку. В качестве результата метод `write` возвращает количество записанных символов."
   ]
  },
  {
   "cell_type": "code",
   "execution_count": null,
   "metadata": {},
   "outputs": [
    {
     "data": {
      "text/plain": [
       "21"
      ]
     },
     "execution_count": 14,
     "metadata": {},
     "output_type": "execute_result"
    }
   ],
   "source": [
    "f = open('test.txt', 'w', encoding='utf8')\n",
    "\n",
    "# Запишем в файл строку\n",
    "f.write(\"This is a test string\\n\")\n",
    "f.write(\"This is a new string\\n\")"
   ]
  },
  {
   "cell_type": "markdown",
   "metadata": {},
   "source": [
    "После вызова команды `write` ваши данные не сразу попадут и сохранятся в файл. Связано это с особенностями внутренней работы операционных систем. Если для вас критично своевременное попадание информации на жесткий диск компьютера, то после записи вызывайте `f.flush()` или закрывайте файл. Закрыть файл можно с помощью метода `close()`."
   ]
  },
  {
   "cell_type": "code",
   "execution_count": null,
   "metadata": {},
   "outputs": [],
   "source": [
    "# обязательно нужно закрыть файл, иначе он будет заблокирован ОС\n",
    "f.close()"
   ]
  },
  {
   "cell_type": "markdown",
   "metadata": {},
   "source": [
    "Откроем файл для чтения, в который только что записали две строки:"
   ]
  },
  {
   "cell_type": "code",
   "execution_count": null,
   "metadata": {},
   "outputs": [],
   "source": [
    "f = open('test.txt', 'r', encoding='utf8')\n",
    "\n",
    "# Вот его содержимое на жестком диске:\n",
    "# This is a test string\n",
    "# This is a new string"
   ]
  },
  {
   "cell_type": "markdown",
   "metadata": {},
   "source": [
    "`f.read(n)` — операция, читающая с текущего места *n* символов, если файл открыт в `t` режиме, или *n* байт, если файл открыт в `b` режиме, и возвращающая прочитанную информацию."
   ]
  },
  {
   "cell_type": "code",
   "execution_count": null,
   "metadata": {},
   "outputs": [
    {
     "name": "stdout",
     "output_type": "stream",
     "text": [
      "This is a \n"
     ]
    }
   ],
   "source": [
    "print(f.read(10)) "
   ]
  },
  {
   "cell_type": "markdown",
   "metadata": {},
   "source": [
    "После прочтения указатель на содержимое остается на той позиции, где чтение закончилось. Если *n* не указать, будет прочитано «от печки», то есть от текущего места указателя и до самого конца файла."
   ]
  },
  {
   "cell_type": "code",
   "execution_count": null,
   "metadata": {},
   "outputs": [
    {
     "data": {
      "text/plain": [
       "'test string\\nThis is a new string\\n'"
      ]
     },
     "execution_count": 30,
     "metadata": {},
     "output_type": "execute_result"
    }
   ],
   "source": [
    "# Считаем остаток файла:\n",
    "f.read()"
   ]
  },
  {
   "cell_type": "code",
   "execution_count": null,
   "metadata": {},
   "outputs": [],
   "source": [
    "# Обязательно закрываем файл после работы:\n",
    "f.close()"
   ]
  },
  {
   "cell_type": "markdown",
   "metadata": {},
   "source": [
    "## <center>Чтение и запись построчно</center>\n",
    "\n",
    "* `writelines` — записывает список строк в файл;\n",
    "* `readline` — считывает из файла одну строку и возвращает её;\n",
    "* `readlines` — считывает из файла все строки в список и возвращает их.\n",
    "\n",
    "Метод `f.writelines(sequence)` не будет сам за вас дописывать символ конца строки ('`\\n`'), поэтому при необходимости его нужно прописать вручную."
   ]
  },
  {
   "cell_type": "code",
   "execution_count": null,
   "metadata": {},
   "outputs": [],
   "source": [
    "# Открываем файл на дозапись:\n",
    "f = open('test.txt', 'a', encoding='utf8') \n",
    "\n",
    "sequence = [\"other string\\n\", \"123\\n\", \"test test\\n\"]\n",
    "# Берет строки из sequence и записывает в файл (без переносов).\n",
    "f.writelines(sequence)\n",
    "\n",
    "f.close()"
   ]
  },
  {
   "cell_type": "code",
   "execution_count": null,
   "metadata": {},
   "outputs": [
    {
     "name": "stdout",
     "output_type": "stream",
     "text": [
      "['This is a test string\\n', 'This is a new string\\n', 'other string\\n', '123\\n', 'test test\\n']\n"
     ]
    }
   ],
   "source": [
    "# Попробуем теперь построчно считать файл с помощью readlines:\n",
    "\n",
    "f = open('test.txt', 'r', encoding='utf8')\n",
    "# Считывает все строки в список и возвращает список.\n",
    "print(f.readlines()) \n",
    "\n",
    "f.close()"
   ]
  },
  {
   "cell_type": "markdown",
   "metadata": {},
   "source": [
    "Метод `f.readline()` возвращает строку (символы от текущей позиции до символа переноса строки `\\n`, который остаётся в конце строки и опускается только в последней строке файла, если файл не заканчивается новой строкой):"
   ]
  },
  {
   "cell_type": "code",
   "execution_count": null,
   "metadata": {},
   "outputs": [
    {
     "name": "stdout",
     "output_type": "stream",
     "text": [
      "This is a test string\n",
      "\n",
      "This\n",
      " is a new string\n",
      "\n"
     ]
    }
   ],
   "source": [
    "f = open('test.txt', 'r', encoding='utf8')\n",
    "\n",
    "print(f.readline()) # This is a test string\n",
    "print(f.read(4)) # This\n",
    "print(f.readline()) # is a new string\n",
    "\n",
    "f.close()"
   ]
  },
  {
   "cell_type": "markdown",
   "metadata": {},
   "source": [
    "## <center>Файл как итератор</center>\n",
    "\n",
    "Объект файл является итератором, поэтому его можно использовать в цикле `for`.\n",
    "\n",
    "Не стоит считывать файл полностью — в большинстве задач с обработкой текста весь файл разом читать не требуется. В таком случае с файлом работают построчно."
   ]
  },
  {
   "cell_type": "code",
   "execution_count": null,
   "metadata": {},
   "outputs": [
    {
     "name": "stdout",
     "output_type": "stream",
     "text": [
      "This is a test string\n",
      "This is a new string\n",
      "other string\n",
      "123\n",
      "test test\n"
     ]
    }
   ],
   "source": [
    "f = open('test.txt')  # можно перечислять строки в файле\n",
    "for line in f:\n",
    "    print(line, end='')\n",
    "\n",
    "f.close()"
   ]
  },
  {
   "cell_type": "markdown",
   "metadata": {},
   "source": [
    "## <center>Менеджер контекста with</center>\n",
    "\n",
    "Для явного указания места работы с файлом, а также чтобы не забывать закрывать файл после обработки, существует менеджер контекста `with`. В блоке менеджера контекста открытый файл «жив» и с ним можно работать, при выходе из блока файл закрывается."
   ]
  },
  {
   "cell_type": "code",
   "execution_count": null,
   "metadata": {},
   "outputs": [
    {
     "ename": "ValueError",
     "evalue": "read of closed file",
     "output_type": "error",
     "traceback": [
      "\u001b[1;31m---------------------------------------------------------------------------\u001b[0m",
      "\u001b[1;31mValueError\u001b[0m                                Traceback (most recent call last)",
      "Cell \u001b[1;32mIn[36], line 5\u001b[0m\n\u001b[0;32m      2\u001b[0m     a \u001b[38;5;241m=\u001b[39m f\u001b[38;5;241m.\u001b[39mread(\u001b[38;5;241m10\u001b[39m)\n\u001b[0;32m      3\u001b[0m     b \u001b[38;5;241m=\u001b[39m f\u001b[38;5;241m.\u001b[39mread(\u001b[38;5;241m23\u001b[39m)\n\u001b[1;32m----> 5\u001b[0m \u001b[43mf\u001b[49m\u001b[38;5;241;43m.\u001b[39;49m\u001b[43mread\u001b[49m\u001b[43m(\u001b[49m\u001b[38;5;241;43m3\u001b[39;49m\u001b[43m)\u001b[49m \u001b[38;5;66;03m# Error!\u001b[39;00m\n",
      "\u001b[1;31mValueError\u001b[0m: read of closed file"
     ]
    }
   ],
   "source": [
    "with open(\"test.txt\", 'rb') as f:\n",
    "    a = f.read(10)\n",
    "    b = f.read(23)\n",
    "\n",
    "f.read(3) # Error!"
   ]
  },
  {
   "cell_type": "markdown",
   "metadata": {},
   "source": [
    "Менеджер контекста неявно вызывает закрытие файла после работы, что освобождает вас от забот о том, закрыли ли вы файл или нет. Закрытие файла происходит при любом стечении обстоятельств, даже если внутри `with` будет ошибка. "
   ]
  },
  {
   "cell_type": "code",
   "execution_count": null,
   "metadata": {},
   "outputs": [],
   "source": [
    "# Задание 7.4\n",
    "\n",
    "# with open(\"input.txt\", \"r\") as input_file:\n",
    "#     with open(\"output.txt\", \"w\") as output_file:\n",
    "#         for line in input_file:\n",
    "#             output_file.write(line)"
   ]
  },
  {
   "cell_type": "code",
   "execution_count": null,
   "metadata": {},
   "outputs": [],
   "source": [
    "# Задание 7.5\n",
    "\n",
    "# filename = 'numbers.txt'\n",
    "# output = 'output.txt'\n",
    "\n",
    "# with open(filename) as f:\n",
    "#     min_ = max_ = float(f.readline())  # считали первое число\n",
    "#     for line in f:\n",
    "#         num =  float(line)\n",
    "#         if num > max_:\n",
    "#             max_ = num\n",
    "#         elif num < min_:\n",
    "#             min_ = num\n",
    "\n",
    "#     sum_ = min_ + max_\n",
    "\n",
    "# with open(output, 'w') as f:\n",
    "#     f.write(str(sum_))\n",
    "#     f.write('\\n')"
   ]
  },
  {
   "cell_type": "code",
   "execution_count": null,
   "metadata": {},
   "outputs": [],
   "source": [
    "# Задание 7.6\n",
    "\n",
    "# count = 0\n",
    "# for line in open(\"input.txt\"):\n",
    "#     points = int(line.split()[-1])\n",
    "#     if points < 3:\n",
    "#         count += 1"
   ]
  },
  {
   "cell_type": "code",
   "execution_count": null,
   "metadata": {},
   "outputs": [],
   "source": [
    "# Задание 7.7\n",
    "\n",
    "# with open(\"input.txt\", \"r\") as input_file:\n",
    "#    with open(\"output.txt\", \"w\") as output_file:\n",
    "#         for line in reversed(input_file.readlines()):\n",
    "#             output_file.write(line)"
   ]
  },
  {
   "cell_type": "markdown",
   "metadata": {},
   "source": [
    "# <center>Исключения</center>\n",
    "\n",
    "**Исключения** — это такие ошибки, которые возникают не во время компиляции программы, а в процессе её исполнения, в случаях, если что-то идёт не так.\n",
    "\n",
    "Ошибки бывают двух видов:\n",
    "\n",
    "* **отлавливаемые** — все, что наследуются от класса *Exception*;\n",
    "* **не отлавливаемые** — *SystemExit*, *KeyboardInterrupt* и т. д.\n",
    "\n",
    "**<u>Кратко:</u>**\n",
    "\n",
    "1) **Исключения** — это ошибки, которые выбрасываются при неправильной работе программы, и останавливают её выполнение, если они не обработаны.\n",
    "2) **Конструкция** `try-except` выглядит следующим образом и служит для обработки исключений:\n",
    "```python\n",
    "try:\n",
    "    *код, который может вызвать ту или иную ошибку*\n",
    "except *ошибка*:\n",
    "    *код, который выполнится в случае возникновения ошибки*\n",
    "else:\n",
    "    *код, который выполнится только в случае если в try ничего не сломалось*\n",
    "finally:\n",
    "    *код, который выполнится по любому*\n",
    "```\n",
    "3) **Блоки `finally` и `else`** являются не обязательными, но могут быть использованы для вашего удобства. Код из блока `finally` выполняется в любом случае, независимо от исхода в блоках `try-except`. Код из блока `else` выполняется только в случае успешного выполнения кода в `try`.\n",
    "4) Выбрасывать ошибки можно и по своему желанию с помощью конструкции `raise` *Тип ошибки* (сообщение, которое нужно вывести в консоль)."
   ]
  },
  {
   "cell_type": "code",
   "execution_count": null,
   "metadata": {},
   "outputs": [
    {
     "name": "stdout",
     "output_type": "stream",
     "text": [
      "Вы ввели неправильное число\n",
      "Выход из программы\n"
     ]
    }
   ],
   "source": [
    "# Задание 8.7\n",
    "\n",
    "try:\n",
    "    i = int(input('Введите число:\\t'))\n",
    "except ValueError as e:\n",
    "    print('Вы ввели неправильное число')\n",
    "else:\n",
    "    print(f'Вы ввели {i}')\n",
    "finally:\n",
    "    print('Выход из программы')"
   ]
  },
  {
   "cell_type": "markdown",
   "metadata": {},
   "source": [
    "# <center>Собственные классы исключений</center>\n",
    "\n",
    "Исключения представлены определёнными классами, которые в той или иной степени наследуются от *BaseException*.\n",
    "\n",
    "Классы *+-- SystemExit* *+-- KeyboardInterrupt* *+-- GeneratorExit* являются исключениями, которые нельзя поймать, поскольку их возникновение не зависит от выполнения программы. А все, что наследуются от *Exception*, можно отловить и обработать (хорошенько так). Однако некоторые из них возникают очень редко.\n",
    "\n",
    "Главное здесь — понять, что «ловить» в блоке `except` можно не только сам класс, но и его родителя, например:"
   ]
  },
  {
   "cell_type": "code",
   "execution_count": null,
   "metadata": {},
   "outputs": [
    {
     "name": "stdout",
     "output_type": "stream",
     "text": [
      "Hello from arithmetic error\n"
     ]
    }
   ],
   "source": [
    "try:\n",
    "    raise ZeroDivisionError  # возбуждаем исключение ZeroDivisionError\n",
    "except ArithmeticError:  # ловим его родителя\n",
    "    print(\"Hello from arithmetic error\")"
   ]
  },
  {
   "cell_type": "markdown",
   "metadata": {},
   "source": [
    "`ArithmeticError` является более абстрактным (находящимся выше в иерархическом дереве) родительским классом. Если вы хотите ловить сначала исключения-потомки, а затем родительские исключения, убедитесь, что в блоке `except` отлов родительского исключения стоит ниже, чем отлов исключения-потомка. Иначе говоря, ваша конструкция отлова исключений должна идти от конкретного класса к более абстрактному."
   ]
  },
  {
   "cell_type": "code",
   "execution_count": null,
   "metadata": {},
   "outputs": [
    {
     "name": "stdout",
     "output_type": "stream",
     "text": [
      "Zero division error\n"
     ]
    }
   ],
   "source": [
    "try:\n",
    "    raise ZeroDivisionError\n",
    "except ZeroDivisionError:  # сначала пытаемся поймать потомка\n",
    "    print(\"Zero division error\")\n",
    "except ArithmeticError:  # потом ловим родителя\n",
    "    print(\"Arithmetic error\")"
   ]
  },
  {
   "cell_type": "markdown",
   "metadata": {},
   "source": [
    "**<u>Итоги:</u>**\n",
    "\n",
    "1) **Исключения** — это такие особенные классы, которые, как и любые классы, можно наследовать. Если вы хотите ловить несколько исключений, то сначала ловите потомков, а потом родителей, чтобы ничего не упустить.\n",
    "2) Чтобы создать собственный класс, нужно просто написать пустой класс и наследовать его от класса `Exception`, этого будет достаточно.\n",
    "3) Необязательно «отлавливать» сам класс. При необходимости можно отлавливать его родителя, это тоже будет работать, но вы можете упустить важную информацию."
   ]
  },
  {
   "cell_type": "code",
   "execution_count": null,
   "metadata": {},
   "outputs": [],
   "source": [
    "# Задание 9.5\n",
    "\n",
    "class NonPositiveDigitException(ValueError):\n",
    "    pass\n",
    " \n",
    "class Square:\n",
    "    def __init__(self, a):\n",
    "        if a <= 0:\n",
    "            raise NonPositiveDigitException('Неправильно указана сторона квадрата')"
   ]
  }
 ],
 "metadata": {
  "kernelspec": {
   "display_name": "Python 3",
   "language": "python",
   "name": "python3"
  },
  "language_info": {
   "codemirror_mode": {
    "name": "ipython",
    "version": 3
   },
   "file_extension": ".py",
   "mimetype": "text/x-python",
   "name": "python",
   "nbconvert_exporter": "python",
   "pygments_lexer": "ipython3",
   "version": "3.12.2"
  }
 },
 "nbformat": 4,
 "nbformat_minor": 2
}
