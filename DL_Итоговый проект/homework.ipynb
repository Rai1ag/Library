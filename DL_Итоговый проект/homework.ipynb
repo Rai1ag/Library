{
 "cells": [
  {
   "cell_type": "markdown",
   "metadata": {},
   "source": [
    "# Импорт"
   ]
  },
  {
   "cell_type": "code",
   "execution_count": 22,
   "metadata": {},
   "outputs": [],
   "source": [
    "# import pylab as pl\n",
    "# import numpy as np\n",
    "import pandas as pd\n",
    "import seaborn as sns\n",
    "# import scipy.optimize as opt\n",
    "# import scipy.stats as stats\n",
    "import matplotlib.pyplot as plt\n",
    "# from scipy.stats import randint\n",
    "# %matplotlib inline"
   ]
  },
  {
   "cell_type": "markdown",
   "metadata": {},
   "source": [
    "# Загрузка данных"
   ]
  },
  {
   "cell_type": "code",
   "execution_count": 23,
   "metadata": {},
   "outputs": [],
   "source": [
    "# Загрузим наши датасеты\n",
    "train_df = pd.read_csv('data/train.csv')\n",
    "test_df = pd.read_csv('data/test.csv')"
   ]
  },
  {
   "cell_type": "code",
   "execution_count": 24,
   "metadata": {},
   "outputs": [
    {
     "data": {
      "text/plain": [
       "(600000, 15)"
      ]
     },
     "execution_count": 24,
     "metadata": {},
     "output_type": "execute_result"
    }
   ],
   "source": [
    "train_df.shape"
   ]
  },
  {
   "cell_type": "code",
   "execution_count": 25,
   "metadata": {},
   "outputs": [
    {
     "data": {
      "text/plain": [
       "(400000, 14)"
      ]
     },
     "execution_count": 25,
     "metadata": {},
     "output_type": "execute_result"
    }
   ],
   "source": [
    "test_df.shape"
   ]
  },
  {
   "cell_type": "markdown",
   "metadata": {},
   "source": [
    "Т.к. датасеты идентичны и отличаются только кол-вом пациентов, работать будем с тренировочными данными. Позже применим все преобразования и к тестовым данным."
   ]
  },
  {
   "cell_type": "code",
   "execution_count": 26,
   "metadata": {},
   "outputs": [
    {
     "data": {
      "text/html": [
       "<div>\n",
       "<style scoped>\n",
       "    .dataframe tbody tr th:only-of-type {\n",
       "        vertical-align: middle;\n",
       "    }\n",
       "\n",
       "    .dataframe tbody tr th {\n",
       "        vertical-align: top;\n",
       "    }\n",
       "\n",
       "    .dataframe thead th {\n",
       "        text-align: right;\n",
       "    }\n",
       "</style>\n",
       "<table border=\"1\" class=\"dataframe\">\n",
       "  <thead>\n",
       "    <tr style=\"text-align: right;\">\n",
       "      <th></th>\n",
       "      <th>ID</th>\n",
       "      <th>age</th>\n",
       "      <th>sex</th>\n",
       "      <th>chest</th>\n",
       "      <th>resting_blood_pressure</th>\n",
       "      <th>serum_cholestoral</th>\n",
       "      <th>fasting_blood_sugar</th>\n",
       "      <th>resting_electrocardiographic_results</th>\n",
       "      <th>maximum_heart_rate_achieved</th>\n",
       "      <th>exercise_induced_angina</th>\n",
       "      <th>oldpeak</th>\n",
       "      <th>slope</th>\n",
       "      <th>number_of_major_vessels</th>\n",
       "      <th>thal</th>\n",
       "      <th>class</th>\n",
       "    </tr>\n",
       "  </thead>\n",
       "  <tbody>\n",
       "    <tr>\n",
       "      <th>0</th>\n",
       "      <td>0</td>\n",
       "      <td>49.207124</td>\n",
       "      <td>0</td>\n",
       "      <td>4.000000</td>\n",
       "      <td>162.996167</td>\n",
       "      <td>181.108682</td>\n",
       "      <td>0</td>\n",
       "      <td>0</td>\n",
       "      <td>148.227858</td>\n",
       "      <td>1</td>\n",
       "      <td>0.944547</td>\n",
       "      <td>2</td>\n",
       "      <td>0</td>\n",
       "      <td>3</td>\n",
       "      <td>1</td>\n",
       "    </tr>\n",
       "    <tr>\n",
       "      <th>1</th>\n",
       "      <td>1</td>\n",
       "      <td>53.628425</td>\n",
       "      <td>1</td>\n",
       "      <td>1.741596</td>\n",
       "      <td>130.233730</td>\n",
       "      <td>276.474630</td>\n",
       "      <td>0</td>\n",
       "      <td>2</td>\n",
       "      <td>152.917139</td>\n",
       "      <td>0</td>\n",
       "      <td>0.119070</td>\n",
       "      <td>2</td>\n",
       "      <td>0</td>\n",
       "      <td>3</td>\n",
       "      <td>0</td>\n",
       "    </tr>\n",
       "    <tr>\n",
       "      <th>2</th>\n",
       "      <td>2</td>\n",
       "      <td>49.591426</td>\n",
       "      <td>1</td>\n",
       "      <td>4.000000</td>\n",
       "      <td>146.999012</td>\n",
       "      <td>223.300517</td>\n",
       "      <td>1</td>\n",
       "      <td>2</td>\n",
       "      <td>102.352090</td>\n",
       "      <td>1</td>\n",
       "      <td>1.616747</td>\n",
       "      <td>2</td>\n",
       "      <td>2</td>\n",
       "      <td>7</td>\n",
       "      <td>1</td>\n",
       "    </tr>\n",
       "    <tr>\n",
       "      <th>3</th>\n",
       "      <td>3</td>\n",
       "      <td>58.991445</td>\n",
       "      <td>1</td>\n",
       "      <td>4.000000</td>\n",
       "      <td>112.369143</td>\n",
       "      <td>187.245501</td>\n",
       "      <td>0</td>\n",
       "      <td>0</td>\n",
       "      <td>158.164750</td>\n",
       "      <td>1</td>\n",
       "      <td>0.000000</td>\n",
       "      <td>1</td>\n",
       "      <td>1</td>\n",
       "      <td>7</td>\n",
       "      <td>1</td>\n",
       "    </tr>\n",
       "    <tr>\n",
       "      <th>4</th>\n",
       "      <td>4</td>\n",
       "      <td>51.053602</td>\n",
       "      <td>1</td>\n",
       "      <td>1.954609</td>\n",
       "      <td>138.032047</td>\n",
       "      <td>238.482868</td>\n",
       "      <td>0</td>\n",
       "      <td>0</td>\n",
       "      <td>172.540828</td>\n",
       "      <td>0</td>\n",
       "      <td>1.150464</td>\n",
       "      <td>1</td>\n",
       "      <td>1</td>\n",
       "      <td>3</td>\n",
       "      <td>0</td>\n",
       "    </tr>\n",
       "  </tbody>\n",
       "</table>\n",
       "</div>"
      ],
      "text/plain": [
       "   ID        age  sex     chest  resting_blood_pressure  serum_cholestoral  \\\n",
       "0   0  49.207124    0  4.000000              162.996167         181.108682   \n",
       "1   1  53.628425    1  1.741596              130.233730         276.474630   \n",
       "2   2  49.591426    1  4.000000              146.999012         223.300517   \n",
       "3   3  58.991445    1  4.000000              112.369143         187.245501   \n",
       "4   4  51.053602    1  1.954609              138.032047         238.482868   \n",
       "\n",
       "   fasting_blood_sugar  resting_electrocardiographic_results  \\\n",
       "0                    0                                     0   \n",
       "1                    0                                     2   \n",
       "2                    1                                     2   \n",
       "3                    0                                     0   \n",
       "4                    0                                     0   \n",
       "\n",
       "   maximum_heart_rate_achieved  exercise_induced_angina   oldpeak  slope  \\\n",
       "0                   148.227858                        1  0.944547      2   \n",
       "1                   152.917139                        0  0.119070      2   \n",
       "2                   102.352090                        1  1.616747      2   \n",
       "3                   158.164750                        1  0.000000      1   \n",
       "4                   172.540828                        0  1.150464      1   \n",
       "\n",
       "   number_of_major_vessels  thal  class  \n",
       "0                        0     3      1  \n",
       "1                        0     3      0  \n",
       "2                        2     7      1  \n",
       "3                        1     7      1  \n",
       "4                        1     3      0  "
      ]
     },
     "execution_count": 26,
     "metadata": {},
     "output_type": "execute_result"
    }
   ],
   "source": [
    "train_df.head()"
   ]
  },
  {
   "cell_type": "markdown",
   "metadata": {},
   "source": [
    "# Пояснения к столбцам"
   ]
  },
  {
   "cell_type": "code",
   "execution_count": 27,
   "metadata": {},
   "outputs": [
    {
     "data": {
      "text/plain": [
       "Index(['ID', 'age', 'sex', 'chest', 'resting_blood_pressure',\n",
       "       'serum_cholestoral', 'fasting_blood_sugar',\n",
       "       'resting_electrocardiographic_results', 'maximum_heart_rate_achieved',\n",
       "       'exercise_induced_angina', 'oldpeak', 'slope',\n",
       "       'number_of_major_vessels', 'thal', 'class'],\n",
       "      dtype='object')"
      ]
     },
     "execution_count": 27,
     "metadata": {},
     "output_type": "execute_result"
    }
   ],
   "source": [
    "train_df.columns"
   ]
  },
  {
   "cell_type": "markdown",
   "metadata": {},
   "source": [
    "1) *'ID'*: ID пациента;\n",
    "\n",
    "2) *'age'*: возраст;\n",
    "\n",
    "3) *'sex'*: пол;\n",
    "\n",
    "4) *'chest'*: тип боли в груди (от 1 до 4);\n",
    "\n",
    "5) *'resting_blood_pressure'*: артериальное давление в состоянии покоя;\n",
    "\n",
    "6) *'serum_cholestoral'*: уровень холестерина в крови в mg/dl;\n",
    "\n",
    "7) *'fasting_blood_sugar'*: анализ глюкозы в крови натощак (> 120 mg/dl);\n",
    "\n",
    "8) *'resting_electrocardiographic_results'*: результаты электрокардиографических исследований в покое (3 значения, 0-2);\n",
    "\n",
    "9) *'maximum_heart_rate_achieved'*: максимальная частота сердечных сокращений;\n",
    "\n",
    "10) *'exercise_induced_angina'*: стенокардия при нагрузке;\n",
    "\n",
    "11) *'oldpeak'*: депрессия ST-сегмента;\n",
    "\n",
    "12) *'slope'*: наклон пикового сегмента ST при физической нагрузке;\n",
    "\n",
    "13) *'number_of_major_vessels'*: количество крупных сосудов (0-3), окрашенных с помощью флюороскопии;\n",
    "\n",
    "14) *'thal'*: 3 = норма; 6 = фиксированный дефект; 7 = обратимый дефект;\n",
    "\n",
    "15) *'class'*: отсутствие (0) или наличие заболеваний сердца (1)."
   ]
  },
  {
   "cell_type": "markdown",
   "metadata": {},
   "source": [
    "# Подготовка данных"
   ]
  },
  {
   "cell_type": "code",
   "execution_count": 28,
   "metadata": {},
   "outputs": [
    {
     "name": "stdout",
     "output_type": "stream",
     "text": [
      "<class 'pandas.core.frame.DataFrame'>\n",
      "RangeIndex: 400000 entries, 0 to 399999\n",
      "Data columns (total 14 columns):\n",
      " #   Column                                Non-Null Count   Dtype  \n",
      "---  ------                                --------------   -----  \n",
      " 0   ID                                    400000 non-null  int64  \n",
      " 1   age                                   400000 non-null  float64\n",
      " 2   sex                                   400000 non-null  int64  \n",
      " 3   chest                                 400000 non-null  float64\n",
      " 4   resting_blood_pressure                400000 non-null  float64\n",
      " 5   serum_cholestoral                     400000 non-null  float64\n",
      " 6   fasting_blood_sugar                   400000 non-null  int64  \n",
      " 7   resting_electrocardiographic_results  400000 non-null  int64  \n",
      " 8   maximum_heart_rate_achieved           400000 non-null  float64\n",
      " 9   exercise_induced_angina               400000 non-null  int64  \n",
      " 10  oldpeak                               400000 non-null  float64\n",
      " 11  slope                                 400000 non-null  int64  \n",
      " 12  number_of_major_vessels               400000 non-null  int64  \n",
      " 13  thal                                  400000 non-null  int64  \n",
      "dtypes: float64(6), int64(8)\n",
      "memory usage: 42.7 MB\n"
     ]
    }
   ],
   "source": [
    "# Проверим информацию о данных, типе данных и отсутствующих значения\n",
    "test_df.info()"
   ]
  },
  {
   "cell_type": "code",
   "execution_count": 29,
   "metadata": {},
   "outputs": [],
   "source": [
    "# Список категориальных столбцов\n",
    "cat_cols = ['sex', 'fasting_blood_sugar', 'resting_electrocardiographic_results', 'exercise_induced_angina', 'slope', 'number_of_major_vessels', 'thal']"
   ]
  },
  {
   "cell_type": "code",
   "execution_count": 30,
   "metadata": {},
   "outputs": [
    {
     "name": "stdout",
     "output_type": "stream",
     "text": [
      "Категориальные столбцы: ['sex', 'fasting_blood_sugar', 'resting_electrocardiographic_results', 'exercise_induced_angina', 'slope', 'number_of_major_vessels', 'thal']\n",
      "\n",
      "\n",
      "Значения в столбце sex: \n",
      "sex\n",
      "0    193532\n",
      "1    406468\n",
      "Name: count, dtype: int64\n",
      "\n",
      "\n",
      "Значения в столбце fasting_blood_sugar: \n",
      "fasting_blood_sugar\n",
      "0    509546\n",
      "1     90454\n",
      "Name: count, dtype: int64\n",
      "\n",
      "\n",
      "Значения в столбце resting_electrocardiographic_results: \n",
      "resting_electrocardiographic_results\n",
      "0    290609\n",
      "1      6693\n",
      "2    302698\n",
      "Name: count, dtype: int64\n",
      "\n",
      "\n",
      "Значения в столбце exercise_induced_angina: \n",
      "exercise_induced_angina\n",
      "0    399899\n",
      "1    200101\n",
      "Name: count, dtype: int64\n",
      "\n",
      "\n",
      "Значения в столбце slope: \n",
      "slope\n",
      "1    289149\n",
      "2    264082\n",
      "3     46769\n",
      "Name: count, dtype: int64\n",
      "\n",
      "\n",
      "Значения в столбце number_of_major_vessels: \n",
      "number_of_major_vessels\n",
      "0    353137\n",
      "1    129017\n",
      "2     73773\n",
      "3     44073\n",
      "Name: count, dtype: int64\n",
      "\n",
      "\n",
      "Значения в столбце thal: \n",
      "thal\n",
      "3    334624\n",
      "6     34677\n",
      "7    230699\n",
      "Name: count, dtype: int64\n",
      "\n",
      "\n"
     ]
    }
   ],
   "source": [
    "# Проверяем кол-во уникальных значений в категориальных столбцах\n",
    "\n",
    "print(\"Категориальные столбцы:\", cat_cols)\n",
    "print(\"\\n\")\n",
    "\n",
    "for i in cat_cols:\n",
    "    if i in train_df.columns:\n",
    "        print(\"Значения в столбце {0}: \\n{1}\".format(i, train_df[i].value_counts().sort_index()))\n",
    "        print(\"\\n\")\n",
    "    else:\n",
    "        print(f\"Столбца {i} нет в датасете.\")\n"
   ]
  },
  {
   "cell_type": "code",
   "execution_count": 31,
   "metadata": {},
   "outputs": [
    {
     "data": {
      "image/png": "[encoded data removed]",
      "text/plain": [
       "<Figure size 1000x500 with 6 Axes>"
      ]
     },
     "metadata": {},
     "output_type": "display_data"
    }
   ],
   "source": [
    "# Посмотрим числовые столбцы с помощью boxplots\n",
    "num_cols = ['age', 'chest', 'resting_blood_pressure', 'serum_cholestoral', 'maximum_heart_rate_achieved', 'oldpeak']\n",
    "\n",
    "plt.figure(figsize=(10,5))\n",
    "for i in range(0,len(num_cols)):\n",
    "    plt.subplot(1,len(num_cols),i+1)\n",
    "    sns.boxplot(y=train_df[num_cols[i]])\n",
    "    plt.tight_layout()"
   ]
  },
  {
   "cell_type": "code",
   "execution_count": 32,
   "metadata": {},
   "outputs": [],
   "source": [
    "# Избавимся от точек за пределами 1,5*IQR\n",
    "for i in num_cols:\n",
    "    Q1 = train_df[i].quantile(0.25)\n",
    "    Q3 = train_df[i].quantile(0.75)\n",
    "    IQR = Q3-Q1\n",
    "    LowerBound = Q1 - (1.5 * IQR)\n",
    "    UpperBound = Q3 + (1.5 * IQR)\n",
    "\n",
    "    train_df = train_df[(train_df[i] >= LowerBound)&(train_df[i] <= UpperBound)]"
   ]
  },
  {
   "cell_type": "code",
   "execution_count": 33,
   "metadata": {},
   "outputs": [
    {
     "data": {
      "image/png": "[encoded data removed]",
      "text/plain": [
       "<Figure size 1000x500 with 6 Axes>"
      ]
     },
     "metadata": {},
     "output_type": "display_data"
    }
   ],
   "source": [
    "# Проверим выбросы после обработки\n",
    "plt.figure(figsize=(10,5))\n",
    "for i in range(0,len(num_cols)):\n",
    "    plt.subplot(1,len(num_cols),i+1)\n",
    "    sns.boxplot(y = train_df[num_cols[i]])\n",
    "    plt.tight_layout()"
   ]
  },
  {
   "cell_type": "code",
   "execution_count": 34,
   "metadata": {},
   "outputs": [
    {
     "data": {
      "text/plain": [
       "(499427, 15)"
      ]
     },
     "execution_count": 34,
     "metadata": {},
     "output_type": "execute_result"
    }
   ],
   "source": [
    "train_df.shape"
   ]
  },
  {
   "cell_type": "code",
   "execution_count": 35,
   "metadata": {},
   "outputs": [
    {
     "data": {
      "text/plain": [
       "ID                                      0\n",
       "age                                     0\n",
       "sex                                     0\n",
       "chest                                   0\n",
       "resting_blood_pressure                  0\n",
       "serum_cholestoral                       0\n",
       "fasting_blood_sugar                     0\n",
       "resting_electrocardiographic_results    0\n",
       "maximum_heart_rate_achieved             0\n",
       "exercise_induced_angina                 0\n",
       "oldpeak                                 0\n",
       "slope                                   0\n",
       "number_of_major_vessels                 0\n",
       "thal                                    0\n",
       "class                                   0\n",
       "dtype: int64"
      ]
     },
     "execution_count": 35,
     "metadata": {},
     "output_type": "execute_result"
    }
   ],
   "source": [
    "# Проверим на пропущенные значения\n",
    "train_df.isna().sum()"
   ]
  },
  {
   "cell_type": "code",
   "execution_count": 36,
   "metadata": {},
   "outputs": [
    {
     "data": {
      "text/plain": [
       "0"
      ]
     },
     "execution_count": 36,
     "metadata": {},
     "output_type": "execute_result"
    }
   ],
   "source": [
    "# Проверим на дубликаты\n",
    "train_df.duplicated().sum()"
   ]
  },
  {
   "cell_type": "code",
   "execution_count": null,
   "metadata": {},
   "outputs": [],
   "source": [
    "# # Удаляем дубликаты\n",
    "# train_df = train_df.drop_duplicates()\n",
    "\n",
    "# # Проверяем данные после удаления дубликатов\n",
    "# train_df.duplicated().sum()"
   ]
  },
  {
   "cell_type": "code",
   "execution_count": 43,
   "metadata": {},
   "outputs": [],
   "source": [
    "# Удаляем столбец 'ID', который не несёт никакой информации\n",
    "train_df = train_df.drop(['ID'], axis=1)"
   ]
  },
  {
   "cell_type": "code",
   "execution_count": 45,
   "metadata": {},
   "outputs": [
    {
     "data": {
      "text/html": [
       "<div>\n",
       "<style scoped>\n",
       "    .dataframe tbody tr th:only-of-type {\n",
       "        vertical-align: middle;\n",
       "    }\n",
       "\n",
       "    .dataframe tbody tr th {\n",
       "        vertical-align: top;\n",
       "    }\n",
       "\n",
       "    .dataframe thead th {\n",
       "        text-align: right;\n",
       "    }\n",
       "</style>\n",
       "<table border=\"1\" class=\"dataframe\">\n",
       "  <thead>\n",
       "    <tr style=\"text-align: right;\">\n",
       "      <th></th>\n",
       "      <th>age</th>\n",
       "      <th>sex</th>\n",
       "      <th>chest</th>\n",
       "      <th>resting_blood_pressure</th>\n",
       "      <th>serum_cholestoral</th>\n",
       "      <th>fasting_blood_sugar</th>\n",
       "      <th>resting_electrocardiographic_results</th>\n",
       "      <th>maximum_heart_rate_achieved</th>\n",
       "      <th>exercise_induced_angina</th>\n",
       "      <th>oldpeak</th>\n",
       "      <th>slope</th>\n",
       "      <th>number_of_major_vessels</th>\n",
       "      <th>thal</th>\n",
       "      <th>class</th>\n",
       "    </tr>\n",
       "  </thead>\n",
       "  <tbody>\n",
       "    <tr>\n",
       "      <th>0</th>\n",
       "      <td>49.207124</td>\n",
       "      <td>0</td>\n",
       "      <td>4.000000</td>\n",
       "      <td>162.996167</td>\n",
       "      <td>181.108682</td>\n",
       "      <td>0</td>\n",
       "      <td>0</td>\n",
       "      <td>148.227858</td>\n",
       "      <td>1</td>\n",
       "      <td>0.944547</td>\n",
       "      <td>2</td>\n",
       "      <td>0</td>\n",
       "      <td>3</td>\n",
       "      <td>1</td>\n",
       "    </tr>\n",
       "    <tr>\n",
       "      <th>1</th>\n",
       "      <td>53.628425</td>\n",
       "      <td>1</td>\n",
       "      <td>1.741596</td>\n",
       "      <td>130.233730</td>\n",
       "      <td>276.474630</td>\n",
       "      <td>0</td>\n",
       "      <td>2</td>\n",
       "      <td>152.917139</td>\n",
       "      <td>0</td>\n",
       "      <td>0.119070</td>\n",
       "      <td>2</td>\n",
       "      <td>0</td>\n",
       "      <td>3</td>\n",
       "      <td>0</td>\n",
       "    </tr>\n",
       "    <tr>\n",
       "      <th>2</th>\n",
       "      <td>49.591426</td>\n",
       "      <td>1</td>\n",
       "      <td>4.000000</td>\n",
       "      <td>146.999012</td>\n",
       "      <td>223.300517</td>\n",
       "      <td>1</td>\n",
       "      <td>2</td>\n",
       "      <td>102.352090</td>\n",
       "      <td>1</td>\n",
       "      <td>1.616747</td>\n",
       "      <td>2</td>\n",
       "      <td>2</td>\n",
       "      <td>7</td>\n",
       "      <td>1</td>\n",
       "    </tr>\n",
       "    <tr>\n",
       "      <th>3</th>\n",
       "      <td>58.991445</td>\n",
       "      <td>1</td>\n",
       "      <td>4.000000</td>\n",
       "      <td>112.369143</td>\n",
       "      <td>187.245501</td>\n",
       "      <td>0</td>\n",
       "      <td>0</td>\n",
       "      <td>158.164750</td>\n",
       "      <td>1</td>\n",
       "      <td>0.000000</td>\n",
       "      <td>1</td>\n",
       "      <td>1</td>\n",
       "      <td>7</td>\n",
       "      <td>1</td>\n",
       "    </tr>\n",
       "    <tr>\n",
       "      <th>4</th>\n",
       "      <td>51.053602</td>\n",
       "      <td>1</td>\n",
       "      <td>1.954609</td>\n",
       "      <td>138.032047</td>\n",
       "      <td>238.482868</td>\n",
       "      <td>0</td>\n",
       "      <td>0</td>\n",
       "      <td>172.540828</td>\n",
       "      <td>0</td>\n",
       "      <td>1.150464</td>\n",
       "      <td>1</td>\n",
       "      <td>1</td>\n",
       "      <td>3</td>\n",
       "      <td>0</td>\n",
       "    </tr>\n",
       "  </tbody>\n",
       "</table>\n",
       "</div>"
      ],
      "text/plain": [
       "         age  sex     chest  resting_blood_pressure  serum_cholestoral  \\\n",
       "0  49.207124    0  4.000000              162.996167         181.108682   \n",
       "1  53.628425    1  1.741596              130.233730         276.474630   \n",
       "2  49.591426    1  4.000000              146.999012         223.300517   \n",
       "3  58.991445    1  4.000000              112.369143         187.245501   \n",
       "4  51.053602    1  1.954609              138.032047         238.482868   \n",
       "\n",
       "   fasting_blood_sugar  resting_electrocardiographic_results  \\\n",
       "0                    0                                     0   \n",
       "1                    0                                     2   \n",
       "2                    1                                     2   \n",
       "3                    0                                     0   \n",
       "4                    0                                     0   \n",
       "\n",
       "   maximum_heart_rate_achieved  exercise_induced_angina   oldpeak  slope  \\\n",
       "0                   148.227858                        1  0.944547      2   \n",
       "1                   152.917139                        0  0.119070      2   \n",
       "2                   102.352090                        1  1.616747      2   \n",
       "3                   158.164750                        1  0.000000      1   \n",
       "4                   172.540828                        0  1.150464      1   \n",
       "\n",
       "   number_of_major_vessels  thal  class  \n",
       "0                        0     3      1  \n",
       "1                        0     3      0  \n",
       "2                        2     7      1  \n",
       "3                        1     7      1  \n",
       "4                        1     3      0  "
      ]
     },
     "execution_count": 45,
     "metadata": {},
     "output_type": "execute_result"
    }
   ],
   "source": [
    "train_df.head()"
   ]
  },
  {
   "cell_type": "code",
   "execution_count": 46,
   "metadata": {},
   "outputs": [
    {
     "data": {
      "text/plain": [
       "(499427, 14)"
      ]
     },
     "execution_count": 46,
     "metadata": {},
     "output_type": "execute_result"
    }
   ],
   "source": [
    "train_df.shape"
   ]
  },
  {
   "cell_type": "markdown",
   "metadata": {},
   "source": [
    "# EDA (Exploratory Data Analysis): разведочный анализ данных"
   ]
  }
 ],
 "metadata": {
  "kernelspec": {
   "display_name": "Python 3",
   "language": "python",
   "name": "python3"
  },
  "language_info": {
   "codemirror_mode": {
    "name": "ipython",
    "version": 3
   },
   "file_extension": ".py",
   "mimetype": "text/x-python",
   "name": "python",
   "nbconvert_exporter": "python",
   "pygments_lexer": "ipython3",
   "version": "3.12.2"
  }
 },
 "nbformat": 4,
 "nbformat_minor": 2
}
