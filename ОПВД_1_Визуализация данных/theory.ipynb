{
 "cells": [
  {
   "cell_type": "markdown",
   "metadata": {},
   "source": [
    "## <center> Основные типы визуализации </center>\n",
    "\n",
    "* линейный график;\n",
    "* гистограмма;\n",
    "* диаграмма рассеяния;\n",
    "* коробчатая диаграмма;\n",
    "* круговая диаграмма;\n",
    "* столбчатая диаграмма;\n",
    "* тепловая карта."
   ]
  }
 ],
 "metadata": {
  "language_info": {
   "name": "python"
  }
 },
 "nbformat": 4,
 "nbformat_minor": 2
}
