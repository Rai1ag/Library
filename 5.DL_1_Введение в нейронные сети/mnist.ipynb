{
  "cells": [
    {
      "cell_type": "markdown",
      "metadata": {
        "colab_type": "text",
        "id": "iJRLGIMdOVRK"
      },
      "source": [
        "# MNIST: мотивация использовать нейросети"
      ]
    },
    {
      "cell_type": "code",
      "execution_count": 1,
      "metadata": {
        "colab": {},
        "colab_type": "code",
        "id": "NPDfQS-kNO1v"
      },
      "outputs": [],
      "source": [
        "import tensorflow as tf  # пока что используем этот пакет только для скачки данных :)\n",
        "import numpy as np\n",
        "import sklearn\n",
        "import matplotlib.pyplot as plt"
      ]
    },
    {
      "cell_type": "code",
      "execution_count": 2,
      "metadata": {
        "colab": {},
        "colab_type": "code",
        "id": "5ynJ91PONjLN"
      },
      "outputs": [
        {
          "name": "stdout",
          "output_type": "stream",
          "text": [
            "Downloading data from https://storage.googleapis.com/tensorflow/tf-keras-datasets/mnist.npz\n",
            "\u001b[1m11490434/11490434\u001b[0m \u001b[32m━━━━━━━━━━━━━━━━━━━━\u001b[0m\u001b[37m\u001b[0m \u001b[1m1s\u001b[0m 0us/step\n"
          ]
        }
      ],
      "source": [
        "# скачиваем данные\n",
        "(x_train, y_train), (x_val, y_val) = tf.keras.datasets.mnist.load_data()"
      ]
    },
    {
      "cell_type": "code",
      "execution_count": 3,
      "metadata": {
        "colab": {
          "base_uri": "https://localhost:8080/",
          "height": 85
        },
        "colab_type": "code",
        "id": "gFOePELMN8KM",
        "outputId": "2f971407-6e5b-45d0-b5b7-54ce323ae481"
      },
      "outputs": [
        {
          "name": "stdout",
          "output_type": "stream",
          "text": [
            "(60000, 28, 28)\n",
            "(10000, 28, 28)\n",
            "[5 0 4 1 9 2 1 3 1 4]\n",
            "[7 2 1 0 4 1 4 9 5 9]\n"
          ]
        }
      ],
      "source": [
        "# что за данные\n",
        "print(x_train.shape)\n",
        "print(x_val.shape)\n",
        "print (y_train[:10])\n",
        "print (y_val[:10])"
      ]
    },
    {
      "cell_type": "code",
      "execution_count": 4,
      "metadata": {
        "colab": {
          "base_uri": "https://localhost:8080/",
          "height": 745
        },
        "colab_type": "code",
        "id": "S_1_CbatN_Kt",
        "outputId": "d8463379-66d2-4e23-b7f6-687a0ad72ca1"
      },
      "outputs": [
        {
          "name": "stdout",
          "output_type": "stream",
          "text": [
            "Пример кусочка картинки (пиксели со значениями от 0 до 255):\n"
          ]
        },
        {
          "data": {
            "image/png": "[encoded data removed]",
            "text/plain": [
              "<Figure size 576x396 with 1 Axes>"
            ]
          },
          "metadata": {
            "tags": []
          },
          "output_type": "display_data"
        },
        {
          "name": "stdout",
          "output_type": "stream",
          "text": [
            "Пример картинки:\n"
          ]
        },
        {
          "data": {
            "image/png": "[encoded data removed]",
            "text/plain": [
              "<Figure size 576x396 with 1 Axes>"
            ]
          },
          "metadata": {
            "tags": []
          },
          "output_type": "display_data"
        },
        {
          "name": "stdout",
          "output_type": "stream",
          "text": [
            "y_train [shape (60000,)] 10 примеров:\n",
            " [5 0 4 1 9 2 1 3 1 4]\n"
          ]
        }
      ],
      "source": [
        "# нарисуем картинку\n",
        "x_train_image = np.tile(x_train[5, :, :].reshape((28, 28))[:, :, np.newaxis], (1, 1, 3))\n",
        "print(\"Пример кусочка картинки (пиксели со значениями от 0 до 255):\")\n",
        "plt.imshow(x_train_image[15:20, 5:10], cmap=\"Greys\")\n",
        "plt.show()\n",
        "print(\"Пример картинки:\")\n",
        "plt.imshow(x_train_image, cmap=\"Greys\")\n",
        "plt.show()\n",
        "print(\"y_train [shape %s] 10 примеров:\\n\" % (str(y_train.shape)), y_train[:10])"
      ]
    },
    {
      "cell_type": "markdown",
      "metadata": {
        "colab_type": "text",
        "id": "wZ_4gaiqOPlR"
      },
      "source": [
        "# Линейная модель\n",
        "\n",
        "Линейная модель не умеет работать с двумерным входом, поэтому предлагается превратить картинку 28x28 в вектор длины 28*28=784, выписав ее построчно!\n",
        "\n",
        "<img src=\"https://camo.githubusercontent.com/f663cd4f29335972950dded4d422c07aeee8af55/68747470733a2f2f63646e2d696d616765732d312e6d656469756d2e636f6d2f6d61782f313630302f312a34473067737539327250684e2d636f397076315035414032782e706e67\" width=\"400\">\n"
      ]
    },
    {
      "cell_type": "code",
      "execution_count": 9,
      "metadata": {
        "colab": {
          "base_uri": "https://localhost:8080/",
          "height": 51
        },
        "colab_type": "code",
        "id": "VqB1Agb4OSwn",
        "outputId": "13f4c9d1-e617-4883-f2cf-28000cd21488"
      },
      "outputs": [
        {
          "name": "stdout",
          "output_type": "stream",
          "text": [
            "(60000, 784)\n",
            "(10000, 784)\n"
          ]
        }
      ],
      "source": [
        "x_train_flat = x_train.reshape(-1, 28*28).astype(float)\n",
        "print(x_train_flat.shape)\n",
        "\n",
        "x_val_flat = x_val.reshape(-1, 28*28).astype(float)\n",
        "print(x_val_flat.shape)"
      ]
    },
    {
      "cell_type": "code",
      "execution_count": 0,
      "metadata": {
        "colab": {},
        "colab_type": "code",
        "id": "0D5Yh8npubt9"
      },
      "outputs": [],
      "source": [
        "from sklearn.preprocessing import StandardScaler\n",
        "scaler = StandardScaler()\n",
        "x_train_flat = scaler.fit_transform(x_train_flat)\n",
        "x_val_flat = scaler.transform(x_val_flat)"
      ]
    },
    {
      "cell_type": "code",
      "execution_count": 18,
      "metadata": {
        "colab": {
          "base_uri": "https://localhost:8080/",
          "height": 153
        },
        "colab_type": "code",
        "id": "PPfvt_z8uzzA",
        "outputId": "331c0640-d2f7-4eb3-ca4c-c2d91e352d3a"
      },
      "outputs": [
        {
          "data": {
            "text/plain": [
              "array([ 0.        ,  0.        , -0.03059266, -0.00852241, -0.01408835,\n",
              "       -0.2625969 , -0.16124756,  0.        ,  1.71565971,  0.74933951,\n",
              "       -0.11300485, -0.19700703,  1.12192712,  0.27021375, -0.00577281,\n",
              "       -0.70132425,  1.64634567, -0.1273685 , -0.15382451, -0.19833719,\n",
              "       -0.70732309, -0.00477028, -0.60978718, -0.9194134 , -0.17786005,\n",
              "       -0.16833376,  0.65022085, -0.63188648,  0.        , -0.48806277,\n",
              "        1.17394853, -0.14774138, -0.07003976, -0.61257571,  3.52099754,\n",
              "        0.        , -0.09396514, -0.1826269 , -0.00579016,  0.        ])"
            ]
          },
          "execution_count": 18,
          "metadata": {
            "tags": []
          },
          "output_type": "execute_result"
        }
      ],
      "source": [
        "# кусочек фичей\n",
        "x_train_flat[0, ::20]"
      ]
    },
    {
      "cell_type": "code",
      "execution_count": 19,
      "metadata": {
        "colab": {
          "base_uri": "https://localhost:8080/",
          "height": 105
        },
        "colab_type": "code",
        "id": "TOfQsfBHPh0Z",
        "outputId": "35b6c8f8-6bbb-4201-f8d4-960ee4b8f999"
      },
      "outputs": [
        {
          "name": "stdout",
          "output_type": "stream",
          "text": [
            "CPU times: user 1min 16s, sys: 4.94 s, total: 1min 21s\n",
            "Wall time: 41.2 s\n"
          ]
        },
        {
          "name": "stderr",
          "output_type": "stream",
          "text": [
            "/usr/local/lib/python3.6/dist-packages/sklearn/linear_model/logistic.py:758: ConvergenceWarning: lbfgs failed to converge. Increase the number of iterations.\n",
            "  \"of iterations.\", ConvergenceWarning)\n"
          ]
        }
      ],
      "source": [
        "%%time\n",
        "# обучаем линейную модель, обучается градиентными методами оптимизации\n",
        "from sklearn.linear_model import LogisticRegression\n",
        "clf = LogisticRegression(multi_class=\"multinomial\", solver=\"lbfgs\")\n",
        "clf.fit(x_train_flat, y_train)"
      ]
    },
    {
      "cell_type": "code",
      "execution_count": 21,
      "metadata": {
        "colab": {
          "base_uri": "https://localhost:8080/",
          "height": 34
        },
        "colab_type": "code",
        "id": "VAo61IJMQF1t",
        "outputId": "3c23adfb-cdb3-4624-fa14-57cbdda57987"
      },
      "outputs": [
        {
          "data": {
            "text/plain": [
              "0.9246"
            ]
          },
          "execution_count": 21,
          "metadata": {
            "tags": []
          },
          "output_type": "execute_result"
        }
      ],
      "source": [
        "# не так плохо работает!\n",
        "from sklearn.metrics import accuracy_score\n",
        "accuracy_score(y_val, clf.predict(x_val_flat))"
      ]
    },
    {
      "cell_type": "markdown",
      "metadata": {
        "colab_type": "text",
        "id": "1FWx3v7iQajc"
      },
      "source": [
        "# Градиентный бустинг\n",
        "\n",
        "<img src=\"https://www.researchgate.net/profile/Maria_Peraita-Adrados/publication/326379229/figure/fig5/AS:647978477948928@1531501516288/A-simple-example-of-visualizing-gradient-boosting_W640.jpg\" width=\"300\">\n",
        "\n",
        "Над деревьями делают бустинг и это алгоритм №1 на Kaggle! Проверим в нашей задаче!"
      ]
    },
    {
      "cell_type": "code",
      "execution_count": 32,
      "metadata": {
        "colab": {
          "base_uri": "https://localhost:8080/",
          "height": 238
        },
        "colab_type": "code",
        "id": "_0Dy7dGNQwlW",
        "outputId": "9bb7ccdb-ef67-47b8-dd7c-b2bb4974a5f2"
      },
      "outputs": [
        {
          "name": "stdout",
          "output_type": "stream",
          "text": [
            "      Iter       Train Loss      OOB Improve   Remaining Time \n",
            "         1       39985.6554       28714.1686            3.32m\n",
            "         2       31412.0718        8641.5732            2.95m\n",
            "         3       25408.3052        5680.0781            2.64m\n",
            "         4       21762.9822        3544.6881            2.28m\n",
            "         5       19197.6986        2600.7659            1.89m\n",
            "         6       17329.1094        1901.8676            1.51m\n",
            "         7       15265.1690        1804.2433            1.13m\n",
            "         8       13979.1283        1277.8810           45.27s\n",
            "         9       13082.2559         908.0964           22.60s\n",
            "        10       12156.0697         921.5624            0.00s\n",
            "CPU times: user 3min 48s, sys: 75 ms, total: 3min 48s\n",
            "Wall time: 3min 48s\n"
          ]
        }
      ],
      "source": [
        "%%time\n",
        "# очень долго работает (потому что алгоритм переборный)!\n",
        "from sklearn.ensemble import GradientBoostingClassifier\n",
        "clf = GradientBoostingClassifier(learning_rate=0.3, n_estimators=10, verbose=1, subsample=0.5)\n",
        "clf.fit(x_train_flat, y_train)"
      ]
    },
    {
      "cell_type": "code",
      "execution_count": 33,
      "metadata": {
        "colab": {
          "base_uri": "https://localhost:8080/",
          "height": 34
        },
        "colab_type": "code",
        "id": "lLYqL37qQ9ux",
        "outputId": "e872d0f9-21dd-42ce-cf86-0fa15a52a3fa"
      },
      "outputs": [
        {
          "data": {
            "text/plain": [
              "0.8909"
            ]
          },
          "execution_count": 33,
          "metadata": {
            "tags": []
          },
          "output_type": "execute_result"
        }
      ],
      "source": [
        "# качество так себе, а если картинка будет 300x300 это будет еще и вечность работать!\n",
        "accuracy_score(y_val, clf.predict(x_val_flat))"
      ]
    },
    {
      "cell_type": "markdown",
      "metadata": {
        "colab_type": "text",
        "id": "n8jUd6IORgQh"
      },
      "source": [
        "# Нейросети\n",
        "\n",
        "Соберем сложную функцию как комбинацию простых линейных моделей (например, логистических регрессий):\n",
        "\n",
        "<img src=\"https://cdn-images-1.medium.com/max/1600/1*Gh5PS4R_A5drl5ebd_gNrg@2x.png\" width=\"300\">\n",
        "\n",
        "Для оптимизации всех параметров нам не нужен перебор, мы можем честно посчитать производную потерь по каждому параметру и чуточку их подвинуть! Это работает очень быстро!\n"
      ]
    },
    {
      "cell_type": "code",
      "execution_count": 34,
      "metadata": {
        "colab": {
          "base_uri": "https://localhost:8080/",
          "height": 105
        },
        "colab_type": "code",
        "id": "sJHszdc1Ri1m",
        "outputId": "63e05ec0-6fc5-4d88-8c33-95d0f1dc7338"
      },
      "outputs": [
        {
          "name": "stdout",
          "output_type": "stream",
          "text": [
            "CPU times: user 25.9 s, sys: 8.32 s, total: 34.2 s\n",
            "Wall time: 17.4 s\n"
          ]
        },
        {
          "name": "stderr",
          "output_type": "stream",
          "text": [
            "/usr/local/lib/python3.6/dist-packages/sklearn/neural_network/multilayer_perceptron.py:562: ConvergenceWarning: Stochastic Optimizer: Maximum iterations (10) reached and the optimization hasn't converged yet.\n",
            "  % self.max_iter, ConvergenceWarning)\n"
          ]
        }
      ],
      "source": [
        "%%time\n",
        "from sklearn.neural_network import MLPClassifier  # многослойный персептрон (просто много полносвязных слоев)\n",
        "clf = MLPClassifier(max_iter=10, random_state=0)\n",
        "clf.fit(x_train_flat, y_train)"
      ]
    },
    {
      "cell_type": "code",
      "execution_count": 35,
      "metadata": {
        "colab": {
          "base_uri": "https://localhost:8080/",
          "height": 34
        },
        "colab_type": "code",
        "id": "E44ErFPpSDIy",
        "outputId": "e98fccdc-8636-4e8b-c3ad-78d25cb9e153"
      },
      "outputs": [
        {
          "data": {
            "text/plain": [
              "0.9742"
            ]
          },
          "execution_count": 35,
          "metadata": {
            "tags": []
          },
          "output_type": "execute_result"
        }
      ],
      "source": [
        "# качество выше линейной модели, скорость на высоте!\n",
        "# будем копать в сторону нейросетей!\n",
        "accuracy_score(y_val, clf.predict(x_val_flat))"
      ]
    }
  ],
  "metadata": {
    "colab": {
      "collapsed_sections": [],
      "name": "mnist_intro.ipynb",
      "provenance": [],
      "version": "0.3.2"
    },
    "kernelspec": {
      "display_name": "Python 3",
      "name": "python3"
    },
    "language_info": {
      "codemirror_mode": {
        "name": "ipython",
        "version": 3
      },
      "file_extension": ".py",
      "mimetype": "text/x-python",
      "name": "python",
      "nbconvert_exporter": "python",
      "pygments_lexer": "ipython3",
      "version": "3.12.2"
    }
  },
  "nbformat": 4,
  "nbformat_minor": 0
}
