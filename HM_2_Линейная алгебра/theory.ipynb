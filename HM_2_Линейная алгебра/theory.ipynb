{
 "cells": [
  {
   "cell_type": "markdown",
   "metadata": {},
   "source": [
    "# <center>Неоднородные СЛАУ</center>"
   ]
  },
  {
   "cell_type": "markdown",
   "metadata": {},
   "source": [
    "Начнём с **алгоритма классической линейной регрессии по методу наименьших квадратов** (*OLS*, *Ordinary Least Squares*). "
   ]
  },
  {
   "cell_type": "markdown",
   "metadata": {},
   "source": [
    "Совокупность уравнений первой степени, в которых каждая переменная и коэффициенты в ней являются вещественными числами, называется **системой линейных алгебраических уравнений (СЛАУ)** и в общем случае записывается как:\n",
    "\n",
    "$$\\left\\{ \\begin{array}{c} a_{11}x_1+a_{12}x_2+\\dots +a_{1m}x_m=b_1 \\\\ a_{21}x_1+a_{22}x_2+\\dots +a_{2m}x_m=b_2 \\\\ \\dots \\\\ a_{n1}x_1+a_{n2}x_2+\\dots +a_{nm}x_m=b_n \\end{array} \\right.\\ (1),$$\n",
    "\n",
    "где\n",
    "\n",
    "* $n$ — количество уравнений;\n",
    "* $m$ — количество переменных;\n",
    "* $x_i$ — неизвестные переменные системы;\n",
    "* $a_{ij}$ — коэффициенты системы;\n",
    "* $b_i$ — свободные члены системы.\n",
    "\n",
    "СЛАУ (1) называется **однородной**, если все свободные члены системы равны 0 $b_1=b_2=⋯=b_n=0$:\n",
    "\n",
    "$$\\textrm{С}\\textrm{Л}\\textrm{А}\\textrm{У}-\\textrm{о}\\textrm{д}\\textrm{н}\\textrm{о}\\textrm{р}\\textrm{о}\\textrm{д}\\textrm{н}\\textrm{а}\\textrm{я},\\ \\textrm{е}\\textrm{с}\\textrm{л}\\textrm{и}\\ \\forall b_i=0$$\n",
    "\n",
    "$$\\left\\{\\begin{array}{c} x_{1}+x_{2}=0 \\\\ x_{1}+2 x_{2}=0 \\end{array}\\right.$$\n",
    "\n",
    "СЛАУ (1) называется **неоднородной**, если хотя бы один из свободных членов системы отличен от 0:\n",
    "\n",
    "$$\\textrm{С}\\textrm{Л}\\textrm{А}\\textrm{У}-\\textrm{н}\\textrm{е}\\textrm{о}\\textrm{д}\\textrm{н}\\textrm{о}\\textrm{р}\\textrm{о}\\textrm{д}\\textrm{н}\\textrm{а}\\textrm{я},\\ \\textrm{е}\\textrm{с}\\textrm{л}\\textrm{и}\\ \\exists b_i\\neq 0$$\n",
    "\n",
    "$$\\left\\{\\begin{array}{c} x_{1}+x_{2}=1 \\\\ x_{1}+2 x_{2}=2 \\end{array}\\right.$$\n",
    "\n",
    "СЛАУ можно записать в матричном виде:\n",
    "\n",
    "$$\\begin{gathered} A \\vec{w}=\\vec{b} \\\\ \\left(\\begin{array}{cccc} a_{11} & a_{12} & \\ldots & a_{1 m} \\\\ a_{21} & a_{22} & \\ldots & a_{2 m} \\\\ \\ldots & \\ldots & \\ldots & \\ldots \\\\ a_{n 1} & a_{n 2} & \\ldots & a_{n m} \\end{array}\\right)\\left(\\begin{array}{c} w_1 \\\\ w_2 \\\\ \\ldots \\\\ w_m \\end{array}\\right)=\\left(\\begin{array}{c} b_1 \\\\ b_2 \\\\ \\ldots \\\\ b_n \\end{array}\\right) \\end{gathered}$$\n",
    "\n",
    "где\n",
    "\n",
    "* $A$ — матрица системы,  \n",
    "* $w$ — вектор неизвестных коэффициентов, \n",
    "* $b$ — вектор свободных коэффициентов. "
   ]
  },
  {
   "cell_type": "markdown",
   "metadata": {},
   "source": [
    "**Расширенной матрицей системы $(A|b)$ неоднородных СЛАУ** называется матрица, составленная из исходной матрицы и вектора свободных коэффициентов (записывается через вертикальную черту):\n",
    "\n",
    "$$(A \\mid \\vec{b})=\\left(\\begin{array}{cccc|c} a_{11} & a_{12} & \\ldots & a_{1 m} & b_{1} \\\\ a_{21} & a_{22} & \\ldots & a_{2 m} & b_{2} \\\\ \\ldots & \\ldots & \\ldots & \\ldots & \\ldots \\\\ a_{n 1} & a_{n 2} & \\ldots & a_{n m} & b_{n} \\end{array}\\right)$$"
   ]
  },
  {
   "cell_type": "markdown",
   "metadata": {},
   "source": [
    "Пусть исходная система будет следующей:\n",
    "\n",
    "$$\\left\\{\\begin{array}{c} w_{1}+w_{2}=1 \\\\ w_{1}+2 w_{2}=2 \\end{array}\\right.$$\n",
    "\n",
    "Запишем её в матричном виде:\n",
    "\n",
    "$$\\begin{gathered} \\left(\\begin{array}{ll} 1 & 1 \\\\ 1 & 2 \\end{array}\\right)\\left(\\begin{array}{l} w_1 \\\\ w_2 \\end{array}\\right)=\\left(\\begin{array}{l} 1 \\\\ 2 \\end{array}\\right) \\\\ A \\vec{w}=\\vec{b} \\end{gathered}$$\n",
    "\n",
    "Тогда расширенная матрица системы будет иметь вид:\n",
    "\n",
    "$$(A \\mid b)=\\left(\\begin{array}{ll|l} 1 & 1 & 1 \\\\ 1 & 2 & 2 \\end{array}\\right)$$"
   ]
  },
  {
   "cell_type": "markdown",
   "metadata": {},
   "source": [
    "Существует три случая при решении неоднородных СЛАУ:\n",
    "\n",
    "1) **«Идеальная пара»**\n",
    "\n",
    "Это так называемые определённые системы линейных уравнений, имеющие единственные решения.\n",
    "\n",
    "2) **«В активном поиске»**\n",
    "\n",
    "Неопределённые системы, имеющие бесконечно много решений.\n",
    "\n",
    "3) **«Всё сложно»**\n",
    "\n",
    "Это самый интересный для нас случай — переопределённые системы, которые не имеют точных решений."
   ]
  },
  {
   "cell_type": "markdown",
   "metadata": {},
   "source": [
    "## <center>Случай \"Идеальная пара\"</center>"
   ]
  },
  {
   "cell_type": "markdown",
   "metadata": {},
   "source": [
    "Самый простой случай решения неоднородной СЛАУ — когда система имеет единственное решение. Такие системы называются **совместными**."
   ]
  }
 ],
 "metadata": {
  "language_info": {
   "name": "python"
  }
 },
 "nbformat": 4,
 "nbformat_minor": 2
}
