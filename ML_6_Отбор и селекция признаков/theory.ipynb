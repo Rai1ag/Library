{
 "cells": [
  {
   "cell_type": "markdown",
   "metadata": {},
   "source": [
    "# <center>Кодирование признаков</center>"
   ]
  },
  {
   "cell_type": "code",
   "execution_count": 13,
   "metadata": {},
   "outputs": [],
   "source": [
    "import pandas as pd\n",
    "from sklearn.linear_model import LinearRegression"
   ]
  },
  {
   "cell_type": "code",
   "execution_count": 14,
   "metadata": {},
   "outputs": [],
   "source": [
    "data = pd.read_excel('data/data_ford_price.xlsx') "
   ]
  },
  {
   "cell_type": "code",
   "execution_count": 15,
   "metadata": {},
   "outputs": [],
   "source": [
    "# Выделим целевой столбец\n",
    "X = data.drop(columns='price')\n",
    "y = data['price']"
   ]
  },
  {
   "cell_type": "markdown",
   "metadata": {},
   "source": [
    "Если применить линейную регрессию на сырых данных, то получим ошибку, что не удалось превратить строковое значение в число с плавающей точкой (*float*). Чтобы этой ошибки не возникало, необходимо закодировать данные.\n",
    "\n",
    "Пример:\n",
    "```python\n",
    "lr = LinearRegression()\n",
    "lr.fit(X,y)\n",
    "```"
   ]
  },
  {
   "cell_type": "markdown",
   "metadata": {},
   "source": [
    "![image.png](https://lms-cdn.skillfactory.ru/assets/courseware/v1/8be15badcefe262082f2ba923930636a/asset-v1:Skillfactory+DSMED+2023+type@asset+block/dst3-ml6-3_2.png)"
   ]
  },
  {
   "cell_type": "markdown",
   "metadata": {},
   "source": [
    "|Значение признака \"Образование\"|Ordinal Encoding|Binary Encoding|OneHot Encoding|\n",
    "|-------------------------------|----------------|---------------|---------------|\n",
    "|Нет|1|000|000001|\n",
    "|Начальное|2|001|000010|\n",
    "|Среднее|3|010|000100|\n",
    "|BSc|4|011|001000|\n",
    "|MSc|5|100|010000|\n",
    "|PhD|6|101|100000|"
   ]
  },
  {
   "cell_type": "markdown",
   "metadata": {},
   "source": [
    "Представленная ниже таблица показывает соответствие типа кодирования классу в `sklearn.processing`.\n",
    "\n",
    "|Тип кодировки|Класс библиотеки sklearn|\n",
    "|-------------|------------------------|\n",
    "|Порядковое кодирование|`LabelEncoder`|\n",
    "|Двоичное кодирование|`LabelBinarizer`|\n",
    "|Однократное кодирование|`OneHotEncoder`|"
   ]
  },
  {
   "cell_type": "markdown",
   "metadata": {},
   "source": [
    "Алгоритм кодирования в `sklearn` следующий:\n",
    "\n",
    "![image.png](https://lms-cdn.skillfactory.ru/assets/courseware/v1/b456ce89c7ba9b7599266ff9b61497ca/asset-v1:Skillfactory+DSMED+2023+type@asset+block/dst3-ml6-3_4.png)"
   ]
  },
  {
   "cell_type": "markdown",
   "metadata": {},
   "source": [
    "Из предыдущих модулей мы знаем, что при решении задач машинного обучения данные разбираются на обучающую (*train*) и валидационную (*validation*) выборки (последняя также может быть тестовой (*test*) выборкой). По аналогии подгонка кодировщика происходит на обучающей выборке, а трансформация — на обучающей и на тестовой.\n",
    "\n",
    "Почему так? Потому что наша обученная модель не должна видеть данные, которые подаются в неё на тесте. Только так мы можем судить о том, что модель обучена качественно. То же самое и с кодировкой.\n",
    "\n",
    "Посмотрим на кодирование признака *Образование* способом «один-против-всех» (*one vs all*):"
   ]
  },
  {
   "cell_type": "code",
   "execution_count": 16,
   "metadata": {},
   "outputs": [
    {
     "name": "stdout",
     "output_type": "stream",
     "text": [
      "категории: ['BSc' 'MSc' 'PhD' 'начальное' 'нет' 'среднее']\n"
     ]
    },
    {
     "data": {
      "text/plain": [
       "array([[0, 0, 0, 0, 1, 0],\n",
       "       [0, 1, 0, 0, 0, 0]])"
      ]
     },
     "execution_count": 16,
     "metadata": {},
     "output_type": "execute_result"
    }
   ],
   "source": [
    "from sklearn.preprocessing  import LabelBinarizer\n",
    " \n",
    "lb = LabelBinarizer()\n",
    "education = ['нет', 'начальное', 'среднее', 'BSc', 'MSc', 'начальное', 'PhD']\n",
    "lb.fit(education)\n",
    "print('категории:', lb.classes_)\n",
    "lb.transform(['нет', 'MSc'])"
   ]
  },
  {
   "cell_type": "markdown",
   "metadata": {},
   "source": [
    "> У класса `LabelBinarizer`, как и у двух остальных, есть атрибут `classes_`, который выводит список уникальных значений признака."
   ]
  },
  {
   "cell_type": "markdown",
   "metadata": {},
   "source": [
    "Важно производить кодирование номинальных признаков, даже если они уже представлены в числовом формате, так как, в отличие от порядковых признаков, **категории номинальных являются независимыми**. В случае порядкового кодирования таких признаков мы вносим искусственные закономерности в данные (например, чем больше числовой код цилиндров, тем лучше, хотя это необязательно так)."
   ]
  },
  {
   "cell_type": "code",
   "execution_count": 17,
   "metadata": {},
   "outputs": [
    {
     "name": "stdout",
     "output_type": "stream",
     "text": [
      "Число уникальных значений признака cylinders:  6\n",
      "Число уникальных значений признака title_status:  5\n",
      "Число уникальных значений признака transmission:  3\n",
      "Число уникальных значений признака drive:  3\n",
      "Число уникальных значений признака size:  4\n"
     ]
    }
   ],
   "source": [
    "# Посмотрим на число уникальных значений номинальных признаков\n",
    "columns_to_change = ['cylinders', 'title_status', 'transmission', 'drive', 'size']\n",
    " \n",
    "for column in columns_to_change:\n",
    "    print('Число уникальных значений признака {}: '.format(column), data[column].nunique())"
   ]
  },
  {
   "cell_type": "markdown",
   "metadata": {},
   "source": [
    "Итак, нам подходит *однократное кодирование*. Применим его к выбранным столбцам. Так как у нас нет отдельной тестовой выборки, то мы используем только один метод — `fit_transform()`. В качестве аргумента передаём таблицу с выбранными для преобразования признаками.\n",
    "\n",
    "С помощью метода `get_feature_names_out()` получим список новых названий колонок:"
   ]
  },
  {
   "cell_type": "code",
   "execution_count": 18,
   "metadata": {},
   "outputs": [
    {
     "name": "stdout",
     "output_type": "stream",
     "text": [
      "['cylinders_3' 'cylinders_4' 'cylinders_5' 'cylinders_6' 'cylinders_8'\n",
      " 'cylinders_10' 'title_status_clean' 'title_status_lien'\n",
      " 'title_status_missing' 'title_status_rebuilt' 'title_status_salvage'\n",
      " 'transmission_automatic' 'transmission_manual' 'transmission_other'\n",
      " 'drive_4wd' 'drive_fwd' 'drive_rwd' 'drive_nan' 'size_compact'\n",
      " 'size_full-size' 'size_mid-size' 'size_sub-compact' 'size_nan']\n"
     ]
    }
   ],
   "source": [
    "from sklearn.preprocessing import OneHotEncoder\n",
    " \n",
    "one_hot_encoder = OneHotEncoder()\n",
    " \n",
    "# 'учим' и сразу применяем преобразование к выборке, результат переводим в массив\n",
    "data_onehot = one_hot_encoder.fit_transform(data[columns_to_change]).toarray()\n",
    " \n",
    "# запишем полученные названия новых колонок в отдельную переменную\n",
    "column_names = one_hot_encoder.get_feature_names_out(columns_to_change)\n",
    "print(column_names)"
   ]
  },
  {
   "cell_type": "markdown",
   "metadata": {},
   "source": [
    "Отлично, категориальные признаки закодированы. Теперь нам необходимо соединить преобразованные данные с исходными.\n",
    "\n",
    ">Напомним, что у библиотеки *pandas* есть дефолтный метод `get_dummies()` для получения однократного кодирования признаков. Однако `OneHotEncoder` способен принимать на вход как таблицы, так и *numpy*-массивы."
   ]
  },
  {
   "cell_type": "code",
   "execution_count": 20,
   "metadata": {},
   "outputs": [
    {
     "data": {
      "text/plain": [
       "(7017, 30)"
      ]
     },
     "execution_count": 20,
     "metadata": {},
     "output_type": "execute_result"
    }
   ],
   "source": [
    "# Задание3.7\n",
    "\n",
    "# Преобразуем полученный массив закодированных данных в формат DataFrame, явно указав имена колонок\n",
    "data_onehot = pd.DataFrame(data_onehot, index=data.index, columns=column_names)\n",
    "\n",
    "# Соединяем новую таблицу с исходной\n",
    "data_new = pd.concat([data, data_onehot], axis=1)\n",
    "\n",
    "# Удаляем закодированные столбцы columns_to_change из полученной таблицы\n",
    "data_new = data_new.drop(columns=columns_to_change)\n",
    "\n",
    "# Выведим на экран форму полученной таблицы\n",
    "data_new.shape"
   ]
  },
  {
   "cell_type": "markdown",
   "metadata": {},
   "source": [
    "# <center>Обработка пропусков и выбросов</center>"
   ]
  },
  {
   "cell_type": "markdown",
   "metadata": {},
   "source": [
    "## <center>Работа с пропусками</center>"
   ]
  }
 ],
 "metadata": {
  "kernelspec": {
   "display_name": "Python 3",
   "language": "python",
   "name": "python3"
  },
  "language_info": {
   "codemirror_mode": {
    "name": "ipython",
    "version": 3
   },
   "file_extension": ".py",
   "mimetype": "text/x-python",
   "name": "python",
   "nbconvert_exporter": "python",
   "pygments_lexer": "ipython3",
   "version": "3.12.2"
  }
 },
 "nbformat": 4,
 "nbformat_minor": 2
}
