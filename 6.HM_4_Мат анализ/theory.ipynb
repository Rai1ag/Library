{
 "cells": [
  {
   "cell_type": "markdown",
   "metadata": {},
   "source": [
    "**Математический анализ** изучает изменение значений и характер этих изменений."
   ]
  },
  {
   "cell_type": "markdown",
   "metadata": {},
   "source": [
    "# <center>Множества</center>"
   ]
  },
  {
   "cell_type": "markdown",
   "metadata": {},
   "source": [
    "**Множество** — это объединение различных объектов, обладающих каким-то общим признаком или совокупностью признаков.\n",
    "\n",
    "Множество состоит из **элементов**. Их может быть любое количество, вплоть до бесконечности. Но важно, что все элементы уникальны, они не повторяются. Количество элементов множества называется **мощностью множества**.\n",
    "\n",
    "Множество, не имеющее элементов, называется пустым и обозначается как $\\varnothing$."
   ]
  },
  {
   "cell_type": "markdown",
   "metadata": {},
   "source": [
    "## <center>Операции над множествами</center>"
   ]
  },
  {
   "cell_type": "markdown",
   "metadata": {},
   "source": [
    "* **Объединением** множеств $A$ и $B$ называют множество $C$, состоящее из элементов, принадлежащих множествам $A$ или $B$:\n",
    "\n",
    "$C = A \\cup B$"
   ]
  },
  {
   "cell_type": "markdown",
   "metadata": {},
   "source": [
    "![image.png](https://lms-cdn.skillfactory.ru/assets/courseware/v1/d0f2d6e06265d56bfe034446e85f273a/asset-v1:Skillfactory+DSMED+2023+type@asset+block/MATHML_md3_2_1.png)"
   ]
  },
  {
   "cell_type": "markdown",
   "metadata": {},
   "source": [
    "* **Пересечением** множеств $A$ и $B$ называют множество $C$, состоящее из элементов, которые являются общими для множеств $A$ и $B$:\n",
    "\n",
    "$C = A \\cap B$\n",
    "\n",
    "![image.png](https://lms-cdn.skillfactory.ru/assets/courseware/v1/227a538cd98b720e3babbd9300025368/asset-v1:Skillfactory+DSMED+2023+type@asset+block/MATHML_md3_2_2.png)"
   ]
  },
  {
   "cell_type": "markdown",
   "metadata": {},
   "source": [
    "* **Разностью** множеств $A$ и $B$ называют множество $C$, состоящее из таких элементов множества $A$, которые не являются элементами множества $B$:\n",
    "\n",
    "C = A \\ B\n",
    "\n",
    "![image.png](https://lms-cdn.skillfactory.ru/assets/courseware/v1/265a5f9613419cde1058c79ce3416701/asset-v1:Skillfactory+DSMED+2023+type@asset+block/MATHML_md3_2_5.png)"
   ]
  },
  {
   "cell_type": "markdown",
   "metadata": {},
   "source": [
    "* **Симметрическая разность** двух множеств — это группа всех тех объектов, которые принадлежат только одному множеству:\n",
    "\n",
    "$C = A \\Delta B$\n",
    "\n",
    "![image.png](https://lms-cdn.skillfactory.ru/assets/courseware/v1/c025b80f3940043bf35ecd646df19959/asset-v1:Skillfactory+DSMED+2023+type@asset+block/MATHML_md3_2_6.png)"
   ]
  },
  {
   "cell_type": "markdown",
   "metadata": {},
   "source": [
    "* **Дополнением** множества $A$ называют множество $\\overline{A}$, которое является разностью универсального множества $U$ и множества $A$:\n",
    "\n",
    "$\\overline{A}$ = U \\ A\n",
    "\n",
    "Под **универсальным множеством** в математике понимается совокупность всех существующих в этом мире объектов. То есть если мы ищем дополнение ко множеству, то получаем абсолютно все объекты, кроме элементов данного множества.\n",
    "\n",
    "![image.png](https://lms-cdn.skillfactory.ru/assets/courseware/v1/8fa77c9120cb583edeea0db5b080a44d/asset-v1:Skillfactory+DSMED+2023+type@asset+block/MATHML_md3_2_7.png)"
   ]
  },
  {
   "cell_type": "markdown",
   "metadata": {},
   "source": [
    "Для тренировки создадим два множества:\n",
    "\n",
    "* Во множестве $A$ будут храниться уникальные ID клиентов компании, которые пользуются мобильной связью.\n",
    "* Во множестве $B$ — уникальные ID клиентов компании, которые используют домашний интернет."
   ]
  },
  {
   "cell_type": "code",
   "execution_count": 12,
   "metadata": {},
   "outputs": [],
   "source": [
    "A = {'ID453', 'ID312', 'ID41', 'ID3', 'ID500', 'ID920', 'ID36', 'ID27'}\n",
    "B = {'ID41', 'ID36', 'ID27', 'ID124', 'ID7', 'ID501', 'ID91' }"
   ]
  },
  {
   "cell_type": "code",
   "execution_count": 13,
   "metadata": {},
   "outputs": [
    {
     "name": "stdout",
     "output_type": "stream",
     "text": [
      "{'ID3', 'ID7', 'ID453', 'ID312', 'ID124', 'ID500', 'ID36', 'ID91', 'ID920', 'ID27', 'ID41', 'ID501'}\n"
     ]
    }
   ],
   "source": [
    "# Объединение множеств\n",
    "\n",
    "union_AB = A.union(B)\n",
    "print(union_AB)"
   ]
  },
  {
   "cell_type": "code",
   "execution_count": 14,
   "metadata": {},
   "outputs": [
    {
     "name": "stdout",
     "output_type": "stream",
     "text": [
      "{'ID3', 'ID7', 'ID453', 'ID312', 'ID124', 'ID500', 'ID36', 'ID91', 'ID920', 'ID27', 'ID41', 'ID501'}\n"
     ]
    }
   ],
   "source": [
    "# Метод `union()` можно заменить простой вертикальной чертой\n",
    "\n",
    "union_AB = A | B\n",
    "print(union_AB)"
   ]
  },
  {
   "cell_type": "code",
   "execution_count": 15,
   "metadata": {},
   "outputs": [
    {
     "name": "stdout",
     "output_type": "stream",
     "text": [
      "{'ID36', 'ID27', 'ID41'}\n"
     ]
    }
   ],
   "source": [
    "# Пересечение множеств\n",
    "\n",
    "inter_AB = A.intersection(B)\n",
    "print(inter_AB)"
   ]
  },
  {
   "cell_type": "code",
   "execution_count": 16,
   "metadata": {},
   "outputs": [
    {
     "name": "stdout",
     "output_type": "stream",
     "text": [
      "{'ID36', 'ID27', 'ID41'}\n"
     ]
    }
   ],
   "source": [
    "# Также мы можем заменить метод `intersection()` на амперсанд (&)\n",
    "\n",
    "inter_AB = A & B\n",
    "print(inter_AB)"
   ]
  },
  {
   "cell_type": "code",
   "execution_count": 17,
   "metadata": {},
   "outputs": [
    {
     "name": "stdout",
     "output_type": "stream",
     "text": [
      "{'ID3', 'ID453', 'ID312', 'ID500', 'ID920'}\n"
     ]
    }
   ],
   "source": [
    "# Разность множеств\n",
    "# В данном случае мы получим перечень тех клиентов, которые используют мобильную связь, однако не используют домашний интернет\n",
    "\n",
    "diff_AB = A.difference(B)\n",
    "print(diff_AB)"
   ]
  },
  {
   "cell_type": "code",
   "execution_count": 18,
   "metadata": {},
   "outputs": [
    {
     "name": "stdout",
     "output_type": "stream",
     "text": [
      "{'ID3', 'ID453', 'ID312', 'ID500', 'ID920'}\n"
     ]
    }
   ],
   "source": [
    "# Есть вариант замены метода символом — в данном случае это знак «минус»\n",
    "\n",
    "diff_AB = A - B\n",
    "print(diff_AB)"
   ]
  },
  {
   "cell_type": "code",
   "execution_count": 19,
   "metadata": {},
   "outputs": [
    {
     "name": "stdout",
     "output_type": "stream",
     "text": [
      "{'ID124', 'ID91', 'ID7', 'ID501'}\n"
     ]
    }
   ],
   "source": [
    "# Если поменять два множества местами при выполнении операции разности, результат изменится\n",
    "# Результатом будут клиенты, которые пользуются только домашним интернетом\n",
    "\n",
    "diff_BA = B - A\n",
    "print(diff_BA)"
   ]
  },
  {
   "cell_type": "code",
   "execution_count": 20,
   "metadata": {},
   "outputs": [
    {
     "name": "stdout",
     "output_type": "stream",
     "text": [
      "{'ID3', 'ID7', 'ID453', 'ID312', 'ID91', 'ID124', 'ID500', 'ID920', 'ID501'}\n"
     ]
    }
   ],
   "source": [
    "# Симметрическая разность\n",
    "\n",
    "symmAB = A.symmetric_difference(B)\n",
    "print(symmAB)"
   ]
  },
  {
   "cell_type": "code",
   "execution_count": 21,
   "metadata": {},
   "outputs": [
    {
     "name": "stdout",
     "output_type": "stream",
     "text": [
      "{'ID3', 'ID7', 'ID453', 'ID312', 'ID91', 'ID124', 'ID500', 'ID920', 'ID501'}\n"
     ]
    }
   ],
   "source": [
    "# Можно использовать метод `symmetric_difference()` или оператор `^`\n",
    "\n",
    "symmAB = A ^ B\n",
    "print(symmAB)"
   ]
  },
  {
   "cell_type": "markdown",
   "metadata": {},
   "source": [
    "## <center>Библиотека Sympy</center>"
   ]
  },
  {
   "cell_type": "markdown",
   "metadata": {},
   "source": [
    "**SymPy** — это библиотека *Python* для выполнения символьных вычислений. Это система компьютерной алгебры, которая может выступать как отдельное приложение, так и в качестве библиотеки для других приложений."
   ]
  },
  {
   "cell_type": "code",
   "execution_count": 22,
   "metadata": {},
   "outputs": [
    {
     "data": {
      "text/latex": [
       "$\\displaystyle \\left\\{1, 3, 7, 9, 10\\right\\}$"
      ],
      "text/plain": [
       "{1, 3, 7, 9, 10}"
      ]
     },
     "execution_count": 22,
     "metadata": {},
     "output_type": "execute_result"
    }
   ],
   "source": [
    "from sympy import FiniteSet, Union\n",
    "\n",
    "l1 = [1, 3, 7, 10] \n",
    "l2 = [9, 7, 1] \n",
    "a = FiniteSet(*l1) \n",
    "b = FiniteSet(*l2) \n",
    "Union(a, b)"
   ]
  },
  {
   "cell_type": "markdown",
   "metadata": {},
   "source": [
    "Также с помощью этой библиотеки можно задать множество не прямым перечислением элементов, а с помощью условий и математических выражений. Интересно то, что мы получим не прямое перечисление элементов, а именно математическую запись.\n",
    "\n",
    "В данном примере мы задали множество, в котором находятся все числа из интервала от 2 до 9, для которых верно, что они являются корнями уравнения $x^2 - 5x = 0$."
   ]
  },
  {
   "cell_type": "code",
   "execution_count": 23,
   "metadata": {},
   "outputs": [
    {
     "data": {
      "text/latex": [
       "$\\displaystyle \\left\\{x\\; \\middle|\\; x \\in \\left[2, 9\\right] \\wedge x^{2} - 5 x = 0 \\right\\}$"
      ],
      "text/plain": [
       "ConditionSet(x, Eq(x**2 - 5*x, 0), Interval(2, 9))"
      ]
     },
     "execution_count": 23,
     "metadata": {},
     "output_type": "execute_result"
    }
   ],
   "source": [
    "from sympy import ConditionSet, Eq, Symbol, Interval\n",
    "\n",
    "x=Symbol('x')\n",
    "s=ConditionSet(x, Eq(x**2-5*x,0), Interval(2,9))\n",
    "s"
   ]
  },
  {
   "cell_type": "code",
   "execution_count": 24,
   "metadata": {},
   "outputs": [
    {
     "data": {
      "text/plain": [
       "3"
      ]
     },
     "execution_count": 24,
     "metadata": {},
     "output_type": "execute_result"
    }
   ],
   "source": [
    "# Задание 2.6\n",
    "\n",
    "set1 = {'bennet@xyz.com', 'darcy@abc.com', 'margaret@xyz.com' , 'pa@hhh.com', 'marimari@xyz.com' , 'mallika@yahoo.com' ,'abc@xyz.com' ,'0071235@gmail.ru'}\n",
    "set2 = {'marimari@xyz.com', 'darcy@abc.com', '0071235@gmail.ru', 'darcy@abc.com', 'petr44@xyz.com', 'katrin@ya.com'}\n",
    "\n",
    "len(set1&set2)"
   ]
  },
  {
   "cell_type": "code",
   "execution_count": 25,
   "metadata": {},
   "outputs": [
    {
     "data": {
      "text/plain": [
       "10"
      ]
     },
     "execution_count": 25,
     "metadata": {},
     "output_type": "execute_result"
    }
   ],
   "source": [
    "# Задание 2.7\n",
    "\n",
    "len(set1|set2)"
   ]
  },
  {
   "cell_type": "code",
   "execution_count": 26,
   "metadata": {},
   "outputs": [
    {
     "data": {
      "text/plain": [
       "7"
      ]
     },
     "execution_count": 26,
     "metadata": {},
     "output_type": "execute_result"
    }
   ],
   "source": [
    "# Задание 2.8\n",
    "\n",
    "len(set1^set2)"
   ]
  },
  {
   "cell_type": "markdown",
   "metadata": {},
   "source": [
    "# <center>Функция</center>"
   ]
  },
  {
   "cell_type": "markdown",
   "metadata": {},
   "source": [
    "**Функциональная зависимость**, или **функция** — это такая зависимость между двумя переменными, при которой каждому значению независимой переменной соответствует единственное значение зависимой переменной.\n",
    "\n",
    "**Функцией** в математике называется правило, по которому можно сопоставить элементы двух множеств.\n",
    "\n",
    "Для любого элемента $x$ из множества $X$ существует единственный элемент $y$ из множества $Y$, такой, что $f(x) = y$:\n",
    "\n",
    "$$\\forall x \\ \\in \\ X \\ \\exists ! \\ y \\ \\in \\ Y : f(x) = y$$"
   ]
  },
  {
   "cell_type": "markdown",
   "metadata": {},
   "source": [
    "У любой функции есть три основных составляющих:\n",
    "\n",
    "1) действия, которые она выполняет;\n",
    "2) аргументы (объекты, к которым применяются действия);\n",
    "3) значения функции (результаты, которые получаются по итогам выполнения действий).\n",
    "\n",
    "Обозначение $y = f(x)$ как раз и содержит в себе все три этих составляющих. Величина $y$ (значение функции)  зависит от величины $x$ (аргумента) по определённому закону или правилу, обозначаемому $f$."
   ]
  },
  {
   "cell_type": "markdown",
   "metadata": {},
   "source": [
    "**Элементарные функции** — это функции, которые являются суммой, произведением или композицией функций следующих трёх видов:\n",
    "\n",
    "* степенные функции\n",
    "\n",
    "$f(x): kx+b, \\ x^2, \\ x^3, \\ \\frac{1}{x}, \\ P_n(x), \\ x^{\\alpha}, \\ \\alpha \\in \\mathbb{R}$\n",
    "\n",
    "* тригонометрические функции\n",
    "\n",
    "$f(x): sin \\ x, \\ cos \\ x, \\ tg \\ x, \\ ctg \\ x, \\ arctg \\ x$\n",
    "\n",
    "* показательные и логарифмические функции\n",
    "\n",
    "$f(x): e^x, \\ a^x, ln \\ x, \\ log_a \\ x, log_x \\ a$"
   ]
  },
  {
   "cell_type": "markdown",
   "metadata": {},
   "source": [
    "## <center>Экспоненциальная функция</center>"
   ]
  },
  {
   "cell_type": "markdown",
   "metadata": {},
   "source": [
    "$$f(x) = e^x = exp(x)$$"
   ]
  },
  {
   "cell_type": "markdown",
   "metadata": {},
   "source": [
    "Здесь $e$ — это экспонента, важная константа в математике, которая равна примерно $2.71828$."
   ]
  },
  {
   "cell_type": "markdown",
   "metadata": {},
   "source": [
    "Визуальное представление:\n",
    "\n",
    "![image.png](https://lms-cdn.skillfactory.ru/assets/courseware/v1/649312597e0d1422698a8168fd25df05/asset-v1:Skillfactory+DSMED+2023+type@asset+block/MATHML_md3_3_4.png)"
   ]
  },
  {
   "cell_type": "markdown",
   "metadata": {},
   "source": [
    "> Значением экспоненциальной функция может быть любое число больше нуля, а в качестве аргумента может выступать любое вещественное число."
   ]
  },
  {
   "cell_type": "markdown",
   "metadata": {},
   "source": [
    "Для того чтобы преобразовывать экспоненциальные функции, используют следующие **свойства**:\n",
    "\n",
    "* $e^a \\cdot e^b = e^{a+b}$;\n",
    "\n",
    "* $(e^a)^b = e^{ab}$;\n",
    "\n",
    "* $e^{-a} = \\frac{1}{e^a}$."
   ]
  },
  {
   "cell_type": "markdown",
   "metadata": {},
   "source": [
    "## <center>Логарифмическая функция</center>"
   ]
  },
  {
   "cell_type": "markdown",
   "metadata": {},
   "source": [
    "$$"
   ]
  },
  {
   "cell_type": "markdown",
   "metadata": {},
   "source": [
    "Натуральный логарифм является обратной функцией для такой полезной экспоненциальной:\n",
    "\n",
    "![image.png](https://lms-cdn.skillfactory.ru/assets/courseware/v1/07a23b1994d77afa19513fd3ce7aeeae/asset-v1:Skillfactory+DSMED+2023+type@asset+block/MATHML_md3_3_5.png)"
   ]
  },
  {
   "cell_type": "markdown",
   "metadata": {},
   "source": [
    "Если понять это соотношение, то станет очевидным, что **натуральный логарифм** — это время, необходимое для того, чтобы вырасти до определённого уровня.\n",
    "\n",
    "Логарифмическая функция отлично подходит для прогнозирования сроков достижения определённых показателей.\n",
    "\n",
    "**Логарифмическое преобразование** — один из самых популярных методов преобразования. В этом преобразовании мы берём логарифм значений признака вместо самих значений."
   ]
  },
  {
   "cell_type": "markdown",
   "metadata": {},
   "source": [
    "Визульное представление логарифмической функции:\n",
    "\n",
    "![image.png](https://lms-cdn.skillfactory.ru/assets/courseware/v1/bcbe96179528a7857896aa2a1b0ae971/asset-v1:Skillfactory+DSMED+2023+type@asset+block/MATHML_md3_3_6.png)"
   ]
  },
  {
   "cell_type": "markdown",
   "metadata": {},
   "source": [
    "> Логарифмическая функция может принимать любое значение, но в качестве аргумента ей можно передать только положительные числа."
   ]
  },
  {
   "cell_type": "markdown",
   "metadata": {},
   "source": [
    "Для того чтобы преобразовывать логарифмические функции, используют следующие свойства:\n",
    "\n",
    "* $ln \\ (ab) = ln \\left|a \\right| + ln \\left|b \\right|$\n",
    "\n",
    "* $ln \\ \\frac{a}{b} = ln \\left| a \\right| - ln \\left| b \\right|$\n",
    "\n",
    "* $ln \\ a^b = b \\cdot ln \\ a$"
   ]
  },
  {
   "cell_type": "markdown",
   "metadata": {},
   "source": [
    "## <center>Сигмоидальная функция</center>"
   ]
  },
  {
   "cell_type": "markdown",
   "metadata": {},
   "source": [
    "$$f(x) = \\frac{1}{1+e^{-ax}}$$"
   ]
  },
  {
   "cell_type": "markdown",
   "metadata": {},
   "source": [
    "![image.png](https://lms-cdn.skillfactory.ru/assets/courseware/v1/00f53964cdde6b9c204401acb957ca49/asset-v1:Skillfactory+DSMED+2023+type@asset+block/MATHML_md3_3_7.png)"
   ]
  },
  {
   "cell_type": "markdown",
   "metadata": {},
   "source": [
    "Сигмоидальная функция строго больше нуля и строго меньше единицы, то есть, она целиком находится внутри диапазона от 0 до 1. Именно это свойство позволяет использовать её для предсказания вероятностей (что может быть очень полезно при решении задачи классификации), т. к. значение вероятности тоже может быть от 0 до 1.\n",
    "\n",
    "Ещё одним важным свойством сигмоидальной функции является то, что при отрицательных значениях аргумента она принимает значения меньше 0.5 , а при положительных — больше:\n",
    "\n",
    "![image.png](https://lms-cdn.skillfactory.ru/assets/courseware/v1/ebccfc32d331133d3639f5d9a766eef8/asset-v1:Skillfactory+DSMED+2023+type@asset+block/MATHML_md3_3_8.png)"
   ]
  },
  {
   "cell_type": "markdown",
   "metadata": {},
   "source": [
    "## <center>Композиция функций</center>"
   ]
  },
  {
   "cell_type": "markdown",
   "metadata": {},
   "source": [
    "**Композицией функций** называют функцию, если она задана в виде $y=f(g(x))$.\n",
    "\n",
    "Также композицию функций можно обозначать следующим образом:\n",
    "\n",
    "$$(f \\circ g)(x) = f(g(x))$$"
   ]
  },
  {
   "cell_type": "markdown",
   "metadata": {},
   "source": [
    "# <center>Исследование функции</center>"
   ]
  },
  {
   "cell_type": "markdown",
   "metadata": {},
   "source": [
    "**План исследования функции** выглядит следующим образом:\n",
    "\n",
    "1) Нахождение области определения и области значений  функции.\n",
    "\n",
    "2) Нахождение точек пересечения графика функции с осями координат.\n",
    "\n",
    "3) Исследование функции на чётность и нечётность.\n",
    "\n",
    "4) Нахождение точек минимума и максимума функции, а также  промежутков возрастания и убывания.\n",
    "\n",
    "5) Нахождение промежутков выпуклости и вогнутости функции и точек перегиба.\n",
    "\n",
    "6) Нахождение асимптот функции."
   ]
  },
  {
   "cell_type": "markdown",
   "metadata": {},
   "source": [
    "## <center>Область определения функции</center>"
   ]
  },
  {
   "cell_type": "markdown",
   "metadata": {},
   "source": [
    "По сути, **область определения** — это множество всех значений аргументов, к которым мы можем применять рассматриваемую функциональную зависимость и с точки зрения математики это будет «разрешено».\n",
    "\n",
    "$$f(x) = \\frac{1}{x}$$\n",
    "\n",
    "Областью определения нашей функции является множество всех вещественных чисел за исключением нуля.\n",
    "\n",
    "$$D(f(x)): x \\in (-\\infty; 0) \\ \\cup \\ (0; + \\infty)$$"
   ]
  },
  {
   "cell_type": "markdown",
   "metadata": {},
   "source": [
    "Есть также ограничения, которые касаются **логарифма**. В основании логарифма не может быть неположительное число или единица, а показателем логарифма должно быть положительное число:\n",
    "\n",
    "![image.png](https://lms-cdn.skillfactory.ru/assets/courseware/v1/1e91df42e3697d13bd10340876854ffb/asset-v1:Skillfactory+DSMED+2023+type@asset+block/MATHML_md3_4_2.png)\n",
    "\n",
    "![image.png](https://lms-cdn.skillfactory.ru/assets/courseware/v1/7027fe6f45161b4d277a2f079e4ff9ef/asset-v1:Skillfactory+DSMED+2023+type@asset+block/MATHML_md3_4_3.png)\n",
    "\n",
    "Отметим, что график не пересекает ось ординат, а лишь бесконечно близко приближается к ней.\n",
    "\n",
    "Здесь уместно вспомнить про логарифмическое преобразование асимметрично распределённых признаков, с которым вы сталкивались ранее. Теперь мы явно видим, что область определения логарифмической функции — $(0; \\infty)$, а значит мы не можем применять это преобразование к признакам, среди которых есть отрицательные значения."
   ]
  },
  {
   "cell_type": "code",
   "execution_count": 27,
   "metadata": {},
   "outputs": [
    {
     "data": {
      "text/latex": [
       "$\\displaystyle \\left(-\\infty, 0\\right) \\cup \\left(0, \\infty\\right)$"
      ],
      "text/plain": [
       "Union(Interval.open(-oo, 0), Interval.open(0, oo))"
      ]
     },
     "execution_count": 27,
     "metadata": {},
     "output_type": "execute_result"
    }
   ],
   "source": [
    "from sympy import Symbol, S #импортируем нужные функции для обозначения переменных\n",
    "from sympy.calculus.util import function_range #импортируем функцию для поиска области значения\n",
    "from sympy.calculus.util import continuous_domain #импортируем функцию для поиска области определения\n",
    "\n",
    "x = Symbol(\"x\") #определяем нашу переменную\n",
    "f = 1/x #определяем нашу функцию\n",
    "continuous_domain(f, x, S.Reals) #вычисляем область определения"
   ]
  },
  {
   "cell_type": "code",
   "execution_count": 28,
   "metadata": {},
   "outputs": [
    {
     "data": {
      "text/latex": [
       "$\\displaystyle \\left(0, \\infty\\right)$"
      ],
      "text/plain": [
       "Interval.open(0, oo)"
      ]
     },
     "execution_count": 28,
     "metadata": {},
     "output_type": "execute_result"
    }
   ],
   "source": [
    "from sympy import log\n",
    "x = Symbol(\"x\")\n",
    "f = log(x)/x\n",
    "continuous_domain(f, x, S.Reals)"
   ]
  },
  {
   "cell_type": "markdown",
   "metadata": {},
   "source": [
    "## <center>Область значений функции</center>"
   ]
  },
  {
   "cell_type": "markdown",
   "metadata": {},
   "source": [
    "Под **областью значений** функции понимаются все значения, которые она может принимать."
   ]
  },
  {
   "cell_type": "markdown",
   "metadata": {},
   "source": [
    "![image.png](https://lms-cdn.skillfactory.ru/assets/courseware/v1/532ca59ee72701a03941dbf11ffcd883/asset-v1:Skillfactory+DSMED+2023+type@asset+block/MATHML_md3_4_4.png)\n",
    "\n",
    "Видно, что область значений — от -1 до 1 включительно. Формально это можно записать следующим образом:\n",
    "\n",
    "$$E(f(x)): f(x) \\in [-1;1]$$"
   ]
  },
  {
   "cell_type": "code",
   "execution_count": 29,
   "metadata": {},
   "outputs": [
    {
     "data": {
      "text/latex": [
       "$\\displaystyle \\left[-1, 1\\right]$"
      ],
      "text/plain": [
       "Interval(-1, 1)"
      ]
     },
     "execution_count": 29,
     "metadata": {},
     "output_type": "execute_result"
    }
   ],
   "source": [
    "from sympy import Symbol, S, sin #импортируем нужные функции для обозначения переменных\n",
    "from sympy.calculus.util import function_range #импортируем функцию для поиска области значений\n",
    "\n",
    "x = Symbol(\"x\")\n",
    "f = sin(x)\n",
    "function_range(f, x, S.Reals)"
   ]
  },
  {
   "cell_type": "code",
   "execution_count": 30,
   "metadata": {},
   "outputs": [
    {
     "data": {
      "text/latex": [
       "$\\displaystyle \\left[- 2 e, \\infty\\right)$"
      ],
      "text/plain": [
       "Interval(-2*E, oo)"
      ]
     },
     "execution_count": 30,
     "metadata": {},
     "output_type": "execute_result"
    }
   ],
   "source": [
    "from sympy import Symbol, S #импортируем нужные функции для обозначения переменных\n",
    "from sympy.calculus.util import function_range #импортируем функцию для поиска области значений\n",
    "from sympy import exp #добавляем функцию для вычисления экспоненциальной функции\n",
    "\n",
    "x = Symbol(\"x\")\n",
    "f = (x*x-3)/(exp(x))\n",
    "function_range(f, x, S.Reals)"
   ]
  },
  {
   "cell_type": "markdown",
   "metadata": {},
   "source": [
    "## <center>Точки пересечения с осями абсцисс и ординат</center>"
   ]
  },
  {
   "cell_type": "markdown",
   "metadata": {},
   "source": [
    "Следующий важный шаг в исследовании функции — это поиск точек, в которых функция пересекает ось абсцисс (горизонтальная ось) и ось ординат (вертикальная ось)."
   ]
  },
  {
   "cell_type": "code",
   "execution_count": 31,
   "metadata": {},
   "outputs": [
    {
     "data": {
      "text/latex": [
       "$\\displaystyle 4$"
      ],
      "text/plain": [
       "4"
      ]
     },
     "execution_count": 31,
     "metadata": {},
     "output_type": "execute_result"
    }
   ],
   "source": [
    "# Пересечение с осью ординат\n",
    "x = Symbol(\"x\")\n",
    "f = x*x+5*x+4\n",
    "f.subs(x, 0)"
   ]
  },
  {
   "cell_type": "code",
   "execution_count": 32,
   "metadata": {},
   "outputs": [
    {
     "data": {
      "text/latex": [
       "$\\displaystyle \\left\\{-4, -1\\right\\}$"
      ],
      "text/plain": [
       "{-4, -1}"
      ]
     },
     "execution_count": 32,
     "metadata": {},
     "output_type": "execute_result"
    }
   ],
   "source": [
    "# Пересечение с осью абсцисс\n",
    "from sympy import solveset, Eq\n",
    "solveset(Eq(x*x+5*x+4, 0), x)"
   ]
  },
  {
   "cell_type": "markdown",
   "metadata": {},
   "source": [
    "Итак, мы получили, что наша функция $f(x) = x^2 + 5x + 4$ пересекается с осью ординат в точке $(0; 4)$, а с осью абсцисс — в точках $(-4; 0)$ и $(-1; 0)$."
   ]
  },
  {
   "cell_type": "markdown",
   "metadata": {},
   "source": [
    "## <center>Исследование функции на чётность и нечётность</center>"
   ]
  },
  {
   "cell_type": "markdown",
   "metadata": {},
   "source": [
    "Функция является **чётной**, если $f(x) = f(-x)$ для всех значений $x$. Это означает, что функция одинакова для оси х, и на положительной и отрицательной полуплоскостях она симметрична относительно оси у."
   ]
  },
  {
   "cell_type": "markdown",
   "metadata": {},
   "source": [
    "![image.png](https://lms-cdn.skillfactory.ru/assets/courseware/v1/3bace6494361f24de21123afe27a5ce8/asset-v1:Skillfactory+DSMED+2023+type@asset+block/MATHML_md3_4_7.png)"
   ]
  },
  {
   "cell_type": "markdown",
   "metadata": {},
   "source": [
    "Функция является **нечётной**, если $−f(x) = f(−x)$ для всех $x$.\n",
    "\n",
    "График нечётной функции будет симметричен относительно начала координат."
   ]
  },
  {
   "cell_type": "markdown",
   "metadata": {},
   "source": [
    "![image.png](https://lms-cdn.skillfactory.ru/assets/courseware/v1/008b653ca10db4b85ea24389dd918d89/asset-v1:Skillfactory+DSMED+2023+type@asset+block/MATHML_md3_4_8.png)"
   ]
  },
  {
   "cell_type": "code",
   "execution_count": 33,
   "metadata": {},
   "outputs": [
    {
     "data": {
      "text/latex": [
       "$\\displaystyle \\left\\{-4, 2\\right\\}$"
      ],
      "text/plain": [
       "{-4, 2}"
      ]
     },
     "execution_count": 33,
     "metadata": {},
     "output_type": "execute_result"
    }
   ],
   "source": [
    "# Задание 4.6\n",
    "\n",
    "from sympy import Symbol, S\n",
    "from sympy import solveset, Eq\n",
    "\n",
    "x = Symbol(\"x\")\n",
    "solveset(Eq(x*x+2*x-8, 0), x)"
   ]
  },
  {
   "cell_type": "code",
   "execution_count": 34,
   "metadata": {},
   "outputs": [
    {
     "data": {
      "text/latex": [
       "$\\displaystyle \\left(-\\infty, - \\frac{3}{10}\\right] \\cup \\left(0, \\infty\\right)$"
      ],
      "text/plain": [
       "Union(Interval(-oo, -3/10), Interval.open(0, oo))"
      ]
     },
     "execution_count": 34,
     "metadata": {},
     "output_type": "execute_result"
    }
   ],
   "source": [
    "# Задание 4.7\n",
    "\n",
    "from sympy import Symbol, S #импортируем нужные функции для обозначения переменных\n",
    "from sympy.calculus.util import function_range\n",
    "\n",
    "x = Symbol(\"x\")\n",
    "f = 3/(x*x-10)\n",
    "function_range(f, x, S.Reals)"
   ]
  },
  {
   "cell_type": "markdown",
   "metadata": {},
   "source": [
    "# <center>Производная</center>"
   ]
  },
  {
   "cell_type": "markdown",
   "metadata": {},
   "source": [
    "$$\\frac{y_2 - y_1}{x_2 - x_1} = \\frac{f(x+h) - f(x)}{(x+h) - x} = \\frac{f(x+h) - f(x)}{h}$$\n",
    "\n",
    "В математическом анализе выражение $\\frac{f(x+h) - f(x)}{h}$ называют **разностным коэффициентом**. Его можно использовать для того, чтобы искать среднюю скорость изменения какого-то значения (в нашем случае расстояния).\n",
    "\n",
    "Но, кроме средней скорости на каком-то большом промежутке, нас может интересовать средняя скорость на очень-очень маленьком отрезке времени: по сути, это будет моментальная точная скорость в конкретный момент времени. Именно эта моментальная скорость является производной от расстояния по времени. Математически это определяется следующим образом:\n",
    "\n",
    "$$f'(x) = lim_{\\rightarrow 0} \\frac{f(x+h) - f(x)}{h}$$\n",
    "\n",
    "Это значит, что мы берём предельно маленький отрезок времени ($h$ стремится к нулю, но при этом никогда им не станет — то есть это самый короткий отрезок времени, который только может существовать) и находим для него разностный коэффициент. В левой части функции можно увидеть штрих $'$ — это обозначение производной.\n",
    "\n",
    "Иногда разницы между значениями аргумента $(x)$ и значениями функции $(f(x))$ обозначают через символ  $\\Delta$ (дельта)."
   ]
  },
  {
   "cell_type": "markdown",
   "metadata": {},
   "source": [
    "**Производная** — это предел отношения приращения функции к приращению аргумента при стремлении приращения аргумента к нулю. Графически это тангенс угла наклона касательной в точке $x_0$ к кривой, изображающей функцию.\n",
    "\n",
    "**Marginal effects** (предельные эффекты) показывают вклад определённых предикторов в значение целевой переменной."
   ]
  },
  {
   "cell_type": "markdown",
   "metadata": {},
   "source": [
    "## <center>Взаимосвязь функции и производной</center>"
   ]
  },
  {
   "cell_type": "markdown",
   "metadata": {},
   "source": [
    "Точки минимума и максимума (их ещё называют **экстремумами**) — это те точки, где поведение функции меняется с падения на рост или с роста на падение. В этих местах значение производной меняется с отрицательного на положительное или с положительного на отрицательное, то есть она равна нулю (т. к. чтобы перейти из положительной полуплоскости в отрицательную или наоборот, надо обязательно перейти через 0)."
   ]
  },
  {
   "cell_type": "markdown",
   "metadata": {},
   "source": [
    "![image.png](https://lms-cdn.skillfactory.ru/assets/courseware/v1/4c8e83a0d568a30fa81c4d11a7fcd297/asset-v1:Skillfactory+DSMED+2023+type@asset+block/MATHML_md3_5_10.png)"
   ]
  },
  {
   "cell_type": "markdown",
   "metadata": {},
   "source": [
    "Сравнение графиков функций (верхний ряд) и графиков их производных (нижний ряд):\n",
    "\n",
    "![image.png](https://lms-cdn.skillfactory.ru/assets/courseware/v1/420f7099f6daf66c7e5c2f18c7a3528f/asset-v1:Skillfactory+DSMED+2023+type@asset+block/MATHML_md3_5_11.png)"
   ]
  },
  {
   "cell_type": "markdown",
   "metadata": {},
   "source": [
    "## <center>Вычисление производных</center>"
   ]
  },
  {
   "cell_type": "markdown",
   "metadata": {},
   "source": [
    "Нам необходимо научиться вычислять производные (или, как это ещё называют, **дифференцировать функции**).\n",
    "\n",
    "Самая простая функция — это **константа**, функция вида $y = const$, например $y = 5$ или $y = -34$.\n",
    "\n",
    "Разумеется, если функция является константой, она никогда не изменяется, и скорость её роста равна 0. Поэтому и производная для любой константы равна 0.\n",
    "\n",
    "С **линейной функцией** всё тоже достаточно просто. За скорость роста линейной функции вида $y = kx + b$ отвечает коэффициент $k$, а значит, если у нас есть функция вида $a * x$, то её производная будет равна просто а."
   ]
  },
  {
   "cell_type": "markdown",
   "metadata": {},
   "source": [
    "| Функция | Производная |\n",
    "| ------- | ----------- |\n",
    "| $y = C$, $y = Const$ | $0$ |\n",
    "| $y = Cx$ | $y' = C$ |\n",
    "| $y = \\sqrt{x}$ | $y' = \\frac{1}{2 \\sqrt{x}}$ | \n",
    "| $y = x^n$ | $y' = n \\cdot x^{n-1}$ |\n",
    "| $y = e^{nx}$ | $y' = ne^{nx}$ |\n",
    "| $y = a^x$ | $y' = a^x \\ ln \\ a$ |\n",
    "| $y = ln \\ x$ | $y' = \\frac{1}{x}$ |\n",
    "| $y = sin \\ x$ | $y' = cos \\ x$ |\n",
    "| $y = cos \\ x$ | $y' = -sin \\ x$ |\n",
    "| $y = tgx$ | $y' = \\frac{1}{cos^2 \\ x}$ |\n",
    "| $y = ctgx$ | $y' = -\\frac{1}{sin^2 \\ x}$ |"
   ]
  },
  {
   "cell_type": "markdown",
   "metadata": {},
   "source": [
    "Если у нас есть сумма функций, то производная суммы будет равна сумме производных:\n",
    "\n",
    "$$(sin(x) + 3x^2)’ = cos(x) + 6x$$"
   ]
  },
  {
   "cell_type": "markdown",
   "metadata": {},
   "source": [
    "> У некоторых функций не существует производной. Это важно помнить, так как методы, подразумевающие дифференцирование, из-за этого не могут быть применены ко всем функциям.\n",
    "\n",
    "Такое происходит, если касательных бесконечно много, как, например, у функции  в нуле. Тем не менее, у этой функции есть однозначная касательная, а значит, и производная слева от нуля и справа от нуля. Просто в нуле они не совпадают.\n",
    "\n",
    "Бывает также, что функция разрывается в какой-либо точке. Здесь можно вспомнить про область определения функции: если функция не существует в какой-то точке, то и производную в ней найти нельзя."
   ]
  },
  {
   "cell_type": "markdown",
   "metadata": {},
   "source": [
    "## <center>Производная суммы</center>"
   ]
  },
  {
   "cell_type": "markdown",
   "metadata": {},
   "source": [
    "Для того чтобы найти **производную суммы**, надо лишь найти производную от каждого слагаемого и затем найти сумму получившихся результатов:\n",
    "\n",
    "$$(f+g)'(u) = f'(u) + g'(u)$$"
   ]
  },
  {
   "cell_type": "markdown",
   "metadata": {},
   "source": [
    "## <center>Производная произведения</center>"
   ]
  },
  {
   "cell_type": "markdown",
   "metadata": {},
   "source": [
    "Для того чтобы вычислить **производную произведения**, необходимо воспользоваться следующей формулой:\n",
    "\n",
    "$$(f \\cdot g)'(u) = f'(u) \\cdot g(u) + f(u) \\cdot g'(u)$$\n",
    "\n",
    "Таким образом, нужно:\n",
    "\n",
    "1. Вычислить производную первого множителя и умножить результат на второй множитель.\n",
    "\n",
    "2. Вычислить производную второго множителя и умножить результат на первый множитель.\n",
    "\n",
    "3. Сложить результаты, полученные в пунктах 1 и 2."
   ]
  },
  {
   "cell_type": "markdown",
   "metadata": {},
   "source": [
    "## <center>Производная частного</center>"
   ]
  },
  {
   "cell_type": "markdown",
   "metadata": {},
   "source": [
    "При **дифференцировании частного** знаменатель возводится в квадрат, а в числителе появляется разница произведения производной числителя на знаменатель и произведения числителя на производную знаменателя:\n",
    "\n",
    "$$\\frac{f}{g}(u) = \\frac{f'(u)g(u)  - f(u)g'(u)}{g^2(u)}$$"
   ]
  },
  {
   "cell_type": "markdown",
   "metadata": {},
   "source": [
    "## <center>Производная композиции функций</center>"
   ]
  },
  {
   "cell_type": "markdown",
   "metadata": {},
   "source": [
    "$$(f(g(x)))' = f'(g(x))g'(x)$$\n",
    "\n",
    "То есть мы ищем производную, как обычно, а затем домножаем результат на производную от той функции, которая выступает в качестве аргумента для внешней функции."
   ]
  },
  {
   "cell_type": "markdown",
   "metadata": {},
   "source": [
    "## <center>Вычисление производной с помощью Python</center>"
   ]
  },
  {
   "cell_type": "markdown",
   "metadata": {},
   "source": [
    "Для того чтобы найти производную с помощью *SymPy*, необходимо лишь указать, какой буквой обозначается переменная, ввести функцию и применить метод `diff()`."
   ]
  },
  {
   "cell_type": "code",
   "execution_count": 35,
   "metadata": {},
   "outputs": [
    {
     "data": {
      "text/latex": [
       "$\\displaystyle 4 x^{3} + 9 x^{2} + 8 x$"
      ],
      "text/plain": [
       "4*x**3 + 9*x**2 + 8*x"
      ]
     },
     "execution_count": 35,
     "metadata": {},
     "output_type": "execute_result"
    }
   ],
   "source": [
    "import sympy\n",
    "\n",
    "x = sympy.Symbol(\"x\")\n",
    "expr = x**4 + 3*x**3 + 4*x**2 + 8\n",
    "expr.diff(x)"
   ]
  },
  {
   "cell_type": "code",
   "execution_count": 36,
   "metadata": {},
   "outputs": [
    {
     "data": {
      "text/latex": [
       "$\\displaystyle \\frac{2 x + 5}{x^{2} + 5 x} + e^{\\sin{\\left(x \\right)}} \\cos{\\left(x \\right)}$"
      ],
      "text/plain": [
       "(2*x + 5)/(x**2 + 5*x) + exp(sin(x))*cos(x)"
      ]
     },
     "execution_count": 36,
     "metadata": {},
     "output_type": "execute_result"
    }
   ],
   "source": [
    "import sympy\n",
    "from sympy import diff, sin, exp, log, Symbol\n",
    "\n",
    "x = sympy.Symbol(\"x\")\n",
    "expr = log(x**2 + 5*x) + exp(sin(x))\n",
    "expr.diff(x)"
   ]
  },
  {
   "cell_type": "code",
   "execution_count": 37,
   "metadata": {},
   "outputs": [
    {
     "data": {
      "text/latex": [
       "$\\displaystyle \\left(3 + \\frac{1}{x}\\right) e^{x} \\cos{\\left(3 x + \\log{\\left(x \\right)} \\right)} + e^{x} \\sin{\\left(3 x + \\log{\\left(x \\right)} \\right)}$"
      ],
      "text/plain": [
       "(3 + 1/x)*exp(x)*cos(3*x + log(x)) + exp(x)*sin(3*x + log(x))"
      ]
     },
     "execution_count": 37,
     "metadata": {},
     "output_type": "execute_result"
    }
   ],
   "source": [
    "import sympy\n",
    "from sympy import diff, sin,exp, log, Symbol\n",
    "\n",
    "x = sympy.Symbol(\"x\")\n",
    "expr = sin(x*3 + log(x))*exp((x))\n",
    "expr.diff(x)"
   ]
  },
  {
   "cell_type": "markdown",
   "metadata": {},
   "source": [
    "## <center>Вычисление второй производной</center>"
   ]
  },
  {
   "cell_type": "markdown",
   "metadata": {},
   "source": [
    "**Вторая производная** — это производная от производной функции. Чтобы вычислить её, необходимо:\n",
    "\n",
    "1) Найти производную функции.\n",
    "2) Найти производную от полученной производной."
   ]
  },
  {
   "cell_type": "markdown",
   "metadata": {},
   "source": [
    "Вторая производная используется в DS и машинном обучении не меньше первой. Вторая производная позволяет находить так называемые «выпуклости», а также выпуклые функции. Такие функции являются важной частью оптимизации, которая даже выделена в раздел «выпуклая оптимизация» с большой сферой применения."
   ]
  },
  {
   "cell_type": "markdown",
   "metadata": {},
   "source": [
    "**Обобщим полученную информацию**: во время движения первая производная от расстояния — это скорость, а вторая — это скорость изменения скорости (то есть **ускорение**)."
   ]
  },
  {
   "cell_type": "markdown",
   "metadata": {},
   "source": [
    "> Про то, что первая производная является скоростью, а вторая — ускорением, слышали многие. А что же с третьей? Удивительно, но и у производной этого порядка есть вполне осязаемый смысл. Третья производная называется **рывок**. По сути, это скорость для ускорения. "
   ]
  },
  {
   "cell_type": "markdown",
   "metadata": {},
   "source": [
    "Мы можем найти вторую производную (производную второго порядка) с помощью библиотеки *SymPy*. Надо лишь добавить в метод `diff()` ещё один аргумент — порядок дифференцирования. Так как мы ищем производную второго порядка, то ставим в качестве аргумента `2`:"
   ]
  },
  {
   "cell_type": "code",
   "execution_count": 38,
   "metadata": {},
   "outputs": [
    {
     "data": {
      "text/latex": [
       "$\\displaystyle - e^{\\sin{\\left(x \\right)}} \\sin{\\left(x \\right)} + e^{\\sin{\\left(x \\right)}} \\cos^{2}{\\left(x \\right)} + \\frac{2}{x \\left(x + 5\\right)} - \\frac{\\left(2 x + 5\\right)^{2}}{x^{2} \\left(x + 5\\right)^{2}}$"
      ],
      "text/plain": [
       "-exp(sin(x))*sin(x) + exp(sin(x))*cos(x)**2 + 2/(x*(x + 5)) - (2*x + 5)**2/(x**2*(x + 5)**2)"
      ]
     },
     "execution_count": 38,
     "metadata": {},
     "output_type": "execute_result"
    }
   ],
   "source": [
    "import sympy\n",
    "from sympy import diff, sin,exp, log, Symbol\n",
    "\n",
    "x = sympy.Symbol(\"x\")\n",
    "expr = log(x**2 + 5*x) + exp(sin(x))\n",
    "expr.diff(x,2)"
   ]
  },
  {
   "cell_type": "markdown",
   "metadata": {},
   "source": [
    "До этого мы всё время обозначали производную как штрих. То есть если сама наша функция обозначена $y$, то её производная — $y'$. Если функция обозначена как $f(x)$, то её производную мы обозначали через $f'(x)$. Для второй производной мы просто увеличивали количество штрихов. На самом деле есть и **другой вариант обозначения производной ↓**"
   ]
  },
  {
   "cell_type": "markdown",
   "metadata": {},
   "source": [
    "$\\frac{dy}{dx}$ — это обозначение говорит нам, что мы ищем производную от $y$ по $x$, то есть что наша функция называется $y$, а в качестве переменной мы берём $x$.\n",
    "\n",
    "Тогда вторая производная обозначается как $\\frac{d^2 y}{d x^2}$. Здесь двойки означают порядок дифференцирования: 2 в числителе обозначает, что мы два раза вычисляем производную, а 2 в знаменателе — что оба раза в качестве переменной выступает $x$."
   ]
  }
 ],
 "metadata": {
  "kernelspec": {
   "display_name": "Python 3",
   "language": "python",
   "name": "python3"
  },
  "language_info": {
   "codemirror_mode": {
    "name": "ipython",
    "version": 3
   },
   "file_extension": ".py",
   "mimetype": "text/x-python",
   "name": "python",
   "nbconvert_exporter": "python",
   "pygments_lexer": "ipython3",
   "version": "3.12.2"
  }
 },
 "nbformat": 4,
 "nbformat_minor": 2
}
