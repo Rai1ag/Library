{
 "cells": [
  {
   "cell_type": "markdown",
   "metadata": {},
   "source": [
    "**Математический анализ** изучает изменение значений и характер этих изменений."
   ]
  },
  {
   "cell_type": "markdown",
   "metadata": {},
   "source": [
    "# <center>Множества</center>"
   ]
  },
  {
   "cell_type": "markdown",
   "metadata": {},
   "source": [
    "**Множество** — это объединение различных объектов, обладающих каким-то общим признаком или совокупностью признаков.\n",
    "\n",
    "Множество состоит из **элементов**. Их может быть любое количество, вплоть до бесконечности. Но важно, что все элементы уникальны, они не повторяются. Количество элементов множества называется **мощностью множества**.\n",
    "\n",
    "Множество, не имеющее элементов, называется пустым и обозначается как $\\varnothing$."
   ]
  },
  {
   "cell_type": "markdown",
   "metadata": {},
   "source": [
    "## <center>Операции над множествами</center>"
   ]
  },
  {
   "cell_type": "markdown",
   "metadata": {},
   "source": [
    "* **Объединением** множеств $A$ и $B$ называют множество $C$, состоящее из элементов, принадлежащих множествам $A$ или $B$:\n",
    "\n",
    "$C = A \\cup B$"
   ]
  },
  {
   "cell_type": "markdown",
   "metadata": {},
   "source": [
    "![image.png](https://lms-cdn.skillfactory.ru/assets/courseware/v1/d0f2d6e06265d56bfe034446e85f273a/asset-v1:Skillfactory+DSMED+2023+type@asset+block/MATHML_md3_2_1.png)"
   ]
  },
  {
   "cell_type": "markdown",
   "metadata": {},
   "source": [
    "* **Пересечением** множеств $A$ и $B$ называют множество $C$, состоящее из элементов, которые являются общими для множеств $A$ и $B$:\n",
    "\n",
    "$C = A \\cap B$\n",
    "\n",
    "![image.png](https://lms-cdn.skillfactory.ru/assets/courseware/v1/227a538cd98b720e3babbd9300025368/asset-v1:Skillfactory+DSMED+2023+type@asset+block/MATHML_md3_2_2.png)"
   ]
  },
  {
   "cell_type": "markdown",
   "metadata": {},
   "source": [
    "* **Разностью** множеств $A$ и $B$ называют множество $C$, состоящее из таких элементов множества $A$, которые не являются элементами множества $B$:\n",
    "\n",
    "C = A \\ B\n",
    "\n",
    "![image.png](https://lms-cdn.skillfactory.ru/assets/courseware/v1/265a5f9613419cde1058c79ce3416701/asset-v1:Skillfactory+DSMED+2023+type@asset+block/MATHML_md3_2_5.png)"
   ]
  },
  {
   "cell_type": "markdown",
   "metadata": {},
   "source": [
    "* **Симметрическая разность** двух множеств — это группа всех тех объектов, которые принадлежат только одному множеству:\n",
    "\n",
    "$C = A \\Delta B$\n",
    "\n",
    "![image.png](https://lms-cdn.skillfactory.ru/assets/courseware/v1/c025b80f3940043bf35ecd646df19959/asset-v1:Skillfactory+DSMED+2023+type@asset+block/MATHML_md3_2_6.png)"
   ]
  },
  {
   "cell_type": "markdown",
   "metadata": {},
   "source": [
    "* **Дополнением** множества $A$ называют множество $\\overline{A}$, которое является разностью универсального множества $U$ и множества $A$:\n",
    "\n",
    "$\\overline{A}$ = U \\ A\n",
    "\n",
    "Под **универсальным множеством** в математике понимается совокупность всех существующих в этом мире объектов. То есть если мы ищем дополнение ко множеству, то получаем абсолютно все объекты, кроме элементов данного множества.\n",
    "\n",
    "![image.png](https://lms-cdn.skillfactory.ru/assets/courseware/v1/8fa77c9120cb583edeea0db5b080a44d/asset-v1:Skillfactory+DSMED+2023+type@asset+block/MATHML_md3_2_7.png)"
   ]
  },
  {
   "cell_type": "markdown",
   "metadata": {},
   "source": [
    "Для тренировки создадим два множества:\n",
    "\n",
    "* Во множестве $A$ будут храниться уникальные ID клиентов компании, которые пользуются мобильной связью.\n",
    "* Во множестве $B$ — уникальные ID клиентов компании, которые используют домашний интернет."
   ]
  },
  {
   "cell_type": "code",
   "execution_count": 1,
   "metadata": {},
   "outputs": [],
   "source": [
    "A = {'ID453', 'ID312', 'ID41', 'ID3', 'ID500', 'ID920', 'ID36', 'ID27'}\n",
    "B = {'ID41', 'ID36', 'ID27', 'ID124', 'ID7', 'ID501', 'ID91' }"
   ]
  },
  {
   "cell_type": "code",
   "execution_count": 2,
   "metadata": {},
   "outputs": [
    {
     "name": "stdout",
     "output_type": "stream",
     "text": [
      "{'ID91', 'ID920', 'ID7', 'ID312', 'ID3', 'ID501', 'ID27', 'ID41', 'ID453', 'ID500', 'ID124', 'ID36'}\n"
     ]
    }
   ],
   "source": [
    "# Объединение множеств\n",
    "\n",
    "union_AB = A.union(B)\n",
    "print(union_AB)"
   ]
  },
  {
   "cell_type": "code",
   "execution_count": 3,
   "metadata": {},
   "outputs": [
    {
     "name": "stdout",
     "output_type": "stream",
     "text": [
      "{'ID91', 'ID920', 'ID7', 'ID312', 'ID3', 'ID501', 'ID27', 'ID41', 'ID453', 'ID500', 'ID124', 'ID36'}\n"
     ]
    }
   ],
   "source": [
    "# Метод `union()` можно заменить простой вертикальной чертой\n",
    "\n",
    "union_AB = A | B\n",
    "print(union_AB)"
   ]
  },
  {
   "cell_type": "code",
   "execution_count": 4,
   "metadata": {},
   "outputs": [
    {
     "name": "stdout",
     "output_type": "stream",
     "text": [
      "{'ID27', 'ID41', 'ID36'}\n"
     ]
    }
   ],
   "source": [
    "# Пересечение множеств\n",
    "\n",
    "inter_AB = A.intersection(B)\n",
    "print(inter_AB)"
   ]
  },
  {
   "cell_type": "code",
   "execution_count": 5,
   "metadata": {},
   "outputs": [
    {
     "name": "stdout",
     "output_type": "stream",
     "text": [
      "{'ID27', 'ID41', 'ID36'}\n"
     ]
    }
   ],
   "source": [
    "# Также мы можем заменить метод `intersection()` на амперсанд (&)\n",
    "\n",
    "inter_AB = A & B\n",
    "print(inter_AB)"
   ]
  },
  {
   "cell_type": "code",
   "execution_count": 7,
   "metadata": {},
   "outputs": [
    {
     "name": "stdout",
     "output_type": "stream",
     "text": [
      "{'ID920', 'ID312', 'ID3', 'ID453', 'ID500'}\n"
     ]
    }
   ],
   "source": [
    "# Разность множеств\n",
    "# В данном случае мы получим перечень тех клиентов, которые используют мобильную связь, однако не используют домашний интернет\n",
    "\n",
    "diff_AB = A.difference(B)\n",
    "print(diff_AB)"
   ]
  },
  {
   "cell_type": "code",
   "execution_count": 6,
   "metadata": {},
   "outputs": [
    {
     "name": "stdout",
     "output_type": "stream",
     "text": [
      "{'ID920', 'ID312', 'ID3', 'ID453', 'ID500'}\n"
     ]
    }
   ],
   "source": [
    "# Есть вариант замены метода символом — в данном случае это знак «минус»\n",
    "\n",
    "diff_AB = A - B\n",
    "print(diff_AB)"
   ]
  },
  {
   "cell_type": "code",
   "execution_count": 8,
   "metadata": {},
   "outputs": [
    {
     "name": "stdout",
     "output_type": "stream",
     "text": [
      "{'ID7', 'ID91', 'ID501', 'ID124'}\n"
     ]
    }
   ],
   "source": [
    "# Если поменять два множества местами при выполнении операции разности, результат изменится\n",
    "# Результатом будут клиенты, которые пользуются только домашним интернетом\n",
    "\n",
    "diff_BA = B - A\n",
    "print(diff_BA)"
   ]
  },
  {
   "cell_type": "code",
   "execution_count": 9,
   "metadata": {},
   "outputs": [
    {
     "name": "stdout",
     "output_type": "stream",
     "text": [
      "{'ID312', 'ID501', 'ID91', 'ID920', 'ID7', 'ID3', 'ID453', 'ID500', 'ID124'}\n"
     ]
    }
   ],
   "source": [
    "# Симметрическая разность\n",
    "\n",
    "symmAB = A.symmetric_difference(B)\n",
    "print(symmAB)"
   ]
  },
  {
   "cell_type": "code",
   "execution_count": 10,
   "metadata": {},
   "outputs": [
    {
     "name": "stdout",
     "output_type": "stream",
     "text": [
      "{'ID312', 'ID501', 'ID91', 'ID920', 'ID7', 'ID3', 'ID453', 'ID500', 'ID124'}\n"
     ]
    }
   ],
   "source": [
    "# Можно использовать метод `symmetric_difference()` или оператор `^`\n",
    "\n",
    "symmAB = A ^ B\n",
    "print(symmAB)"
   ]
  },
  {
   "cell_type": "markdown",
   "metadata": {},
   "source": [
    "## <center>Библиотека Sympy</center>"
   ]
  },
  {
   "cell_type": "markdown",
   "metadata": {},
   "source": [
    "**SymPy** — это библиотека *Python* для выполнения символьных вычислений. Это система компьютерной алгебры, которая может выступать как отдельное приложение, так и в качестве библиотеки для других приложений."
   ]
  },
  {
   "cell_type": "code",
   "execution_count": 13,
   "metadata": {},
   "outputs": [
    {
     "data": {
      "text/latex": [
       "$\\displaystyle \\left\\{1, 3, 7, 9, 10\\right\\}$"
      ],
      "text/plain": [
       "{1, 3, 7, 9, 10}"
      ]
     },
     "execution_count": 13,
     "metadata": {},
     "output_type": "execute_result"
    }
   ],
   "source": [
    "from sympy import FiniteSet, Union\n",
    "\n",
    "l1 = [1, 3, 7, 10] \n",
    "l2 = [9, 7, 1] \n",
    "a = FiniteSet(*l1) \n",
    "b = FiniteSet(*l2) \n",
    "Union(a, b)"
   ]
  },
  {
   "cell_type": "markdown",
   "metadata": {},
   "source": [
    "Также с помощью этой библиотеки можно задать множество не прямым перечислением элементов, а с помощью условий и математических выражений. Интересно то, что мы получим не прямое перечисление элементов, а именно математическую запись.\n",
    "\n",
    "В данном примере мы задали множество, в котором находятся все числа из интервала от 2 до 9, для которых верно, что они являются корнями уравнения $x^2 - 5x = 0$."
   ]
  },
  {
   "cell_type": "code",
   "execution_count": 14,
   "metadata": {},
   "outputs": [
    {
     "data": {
      "text/latex": [
       "$\\displaystyle \\left\\{x\\; \\middle|\\; x \\in \\left[2, 9\\right] \\wedge x^{2} - 5 x = 0 \\right\\}$"
      ],
      "text/plain": [
       "ConditionSet(x, Eq(x**2 - 5*x, 0), Interval(2, 9))"
      ]
     },
     "execution_count": 14,
     "metadata": {},
     "output_type": "execute_result"
    }
   ],
   "source": [
    "from sympy import ConditionSet, Eq, Symbol, Interval\n",
    "\n",
    "x=Symbol('x')\n",
    "s=ConditionSet(x, Eq(x**2-5*x,0), Interval(2,9))\n",
    "s"
   ]
  },
  {
   "cell_type": "code",
   "execution_count": 15,
   "metadata": {},
   "outputs": [
    {
     "data": {
      "text/plain": [
       "3"
      ]
     },
     "execution_count": 15,
     "metadata": {},
     "output_type": "execute_result"
    }
   ],
   "source": [
    "# Задание 2.6\n",
    "\n",
    "set1 = {'bennet@xyz.com', 'darcy@abc.com', 'margaret@xyz.com' , 'pa@hhh.com', 'marimari@xyz.com' , 'mallika@yahoo.com' ,'abc@xyz.com' ,'0071235@gmail.ru'}\n",
    "set2 = {'marimari@xyz.com', 'darcy@abc.com', '0071235@gmail.ru', 'darcy@abc.com', 'petr44@xyz.com', 'katrin@ya.com'}\n",
    "\n",
    "len(set1&set2)"
   ]
  },
  {
   "cell_type": "code",
   "execution_count": 16,
   "metadata": {},
   "outputs": [
    {
     "data": {
      "text/plain": [
       "10"
      ]
     },
     "execution_count": 16,
     "metadata": {},
     "output_type": "execute_result"
    }
   ],
   "source": [
    "# Задание 2.7\n",
    "\n",
    "len(set1|set2)"
   ]
  },
  {
   "cell_type": "code",
   "execution_count": 17,
   "metadata": {},
   "outputs": [
    {
     "data": {
      "text/plain": [
       "7"
      ]
     },
     "execution_count": 17,
     "metadata": {},
     "output_type": "execute_result"
    }
   ],
   "source": [
    "# Задание 2.8\n",
    "\n",
    "len(set1^set2)"
   ]
  },
  {
   "cell_type": "markdown",
   "metadata": {},
   "source": [
    "# <center>Функция</center>"
   ]
  },
  {
   "cell_type": "markdown",
   "metadata": {},
   "source": [
    "$$"
   ]
  }
 ],
 "metadata": {
  "kernelspec": {
   "display_name": "Python 3",
   "language": "python",
   "name": "python3"
  },
  "language_info": {
   "codemirror_mode": {
    "name": "ipython",
    "version": 3
   },
   "file_extension": ".py",
   "mimetype": "text/x-python",
   "name": "python",
   "nbconvert_exporter": "python",
   "pygments_lexer": "ipython3",
   "version": "3.12.2"
  }
 },
 "nbformat": 4,
 "nbformat_minor": 2
}
