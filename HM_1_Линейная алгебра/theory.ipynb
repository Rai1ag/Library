{
 "cells": [
  {
   "cell_type": "markdown",
   "metadata": {},
   "source": [
    "## <center>Основы математического языка: кванторы</center>"
   ]
  },
  {
   "cell_type": "markdown",
   "metadata": {},
   "source": [
    "Познакомимся с **кванторами** и символами, позволяющими записывать математические формулировки:\n",
    "\n",
    "* Символ $\\forall$ читается как «для любого» и называется **квантором всеобщности**. Он заменяет собой слова «любой», «всякий», «для любого» и т. п.\n",
    "\n",
    "* Символ $\\exists$ читается как «существует» и называется **квантором существования**, а $\\exists !$ читается как «существует единственный» и называется **квантором существования и единственности**.   заменяет слова «существует», «найдётся» и т. п.\n",
    "\n",
    "* Знак импликации $\\rightarrow$ (или $\\Rightarrow$) воспринимается как замена слов «следует», «влечёт», «вытекает», «имеет место», «выполняется».\n",
    "\n",
    "* Знак равносильности или эквивалентности $\\leftrightarrow$ (или $\\Leftrightarrow$) заменяет словосочетания «тогда и только тогда, когда», «в том и только том случае, когда», «если и только если».\n",
    "\n",
    "* Двоеточие $:$ в математических формулах читается как «такой, что».\n",
    "\n",
    "* Вертикальная черта $|$ означает «при условии, что»."
   ]
  },
  {
   "cell_type": "markdown",
   "metadata": {},
   "source": [
    "# <center>Основные понятия линейной алгебры: векторы</center>"
   ]
  },
  {
   "cell_type": "markdown",
   "metadata": {},
   "source": [
    "Наиболее общее определение, которое подойдёт ко всем случаям: **Вектор** — это набор чисел, записанных в определённом порядке (в столбец или в строку).\n",
    "\n",
    "$$\\overrightarrow{s}=(s_1, s_2, ..., s_m)$$\n",
    "\n",
    "$$\\overrightarrow{s}=\\left( \\begin{array}{c} s_1 \\\\ s_2 \\\\ \\dots \\\\ s_m \\end{array} \\right)$$\n",
    "\n",
    "Числа $s_1, s_2, ..., s_m$ называются **координатами вектора**, а количество этих координат ${\\mathrm{dim} \\left(\\overrightarrow{s}\\right)\\ }=m$ называется **размерностью вектора**."
   ]
  },
  {
   "cell_type": "code",
   "execution_count": 1,
   "metadata": {},
   "outputs": [],
   "source": [
    "import numpy as np"
   ]
  },
  {
   "cell_type": "code",
   "execution_count": 2,
   "metadata": {},
   "outputs": [
    {
     "data": {
      "text/plain": [
       "array([33, 64, 50, 45])"
      ]
     },
     "execution_count": 2,
     "metadata": {},
     "output_type": "execute_result"
    }
   ],
   "source": [
    "# Задаём вектор как одномерный массив numpy с помощью функции np.array\n",
    "s = np.array([33, 64, 50, 45])\n",
    "s"
   ]
  },
  {
   "cell_type": "code",
   "execution_count": 3,
   "metadata": {},
   "outputs": [
    {
     "data": {
      "text/plain": [
       "50"
      ]
     },
     "execution_count": 3,
     "metadata": {},
     "output_type": "execute_result"
    }
   ],
   "source": [
    "# Находим третью координату\n",
    "s[2]"
   ]
  },
  {
   "cell_type": "code",
   "execution_count": 4,
   "metadata": {},
   "outputs": [
    {
     "data": {
      "text/plain": [
       "4"
      ]
     },
     "execution_count": 4,
     "metadata": {},
     "output_type": "execute_result"
    }
   ],
   "source": [
    "# Находим размерность вектора\n",
    "len(s)"
   ]
  },
  {
   "cell_type": "markdown",
   "metadata": {},
   "source": [
    "Длина трёхмерного вектора $\\overrightarrow{s}$ определяется аналогично двухмерному:\n",
    "\n",
    "$$\\overrightarrow{s}=\\sqrt{{\\left(s_1\\right)}^2+{\\left(s_2\\right)}^2+{\\left(s_3\\right)}^2}$$"
   ]
  },
  {
   "cell_type": "markdown",
   "metadata": {},
   "source": [
    "> В общем случае вектор $\\overrightarrow{\\boldsymbol{s}}\\boldsymbol{=(}{\\boldsymbol{s}}_{\\boldsymbol{1}}\\boldsymbol{,\\ }{\\boldsymbol{s}}_{\\boldsymbol{2}}\\boldsymbol{,\\ \\dots ,\\ }{\\boldsymbol{s}}_{\\boldsymbol{m}}\\boldsymbol{)}$ размерностью ${\\boldsymbol{dim} \\left(\\overrightarrow{\\boldsymbol{s}}\\right)\\ }\\boldsymbol{=}\\boldsymbol{m}$ задаёт в векторном $m$-мерном пространстве $\\boldsymbol{S}\\boldsymbol{\\subset }{\\mathbb{R}}^{\\boldsymbol{m}}$ направленный отрезок с началом в точке $O=(0,0,…,0)$ и концом в точке $(s_1,s_2,…,s_m)$. "
   ]
  },
  {
   "cell_type": "markdown",
   "metadata": {},
   "source": [
    "Длина такого вектора $\\overrightarrow{s}$ будет вычисляться так:\n",
    "\n",
    "$$\\overrightarrow{s}=\\sqrt{{\\left(s_1\\right)}^2+{\\left(s_2\\right)}^2+\\dots +{\\left(s_m\\right)}^2}=\\sqrt{\\sum^m_{j=1}{{\\left(s_j\\right)}^2}}$$"
   ]
  },
  {
   "cell_type": "markdown",
   "metadata": {},
   "source": [
    "## <center>Базовые операции с векторами</center>"
   ]
  },
  {
   "cell_type": "markdown",
   "metadata": {},
   "source": [
    "Сложение и вычитание векторов в *Python* происходит при помощи знаков + и -. Причём важно задать векторы именно как массивы *numpy*, а не как обычные списки типа *list*."
   ]
  },
  {
   "cell_type": "code",
   "execution_count": 5,
   "metadata": {},
   "outputs": [],
   "source": [
    "a = np.array([10, 8, 5, 1])\n",
    "b = np.array([5, 15, 9, 7])"
   ]
  },
  {
   "cell_type": "code",
   "execution_count": 6,
   "metadata": {},
   "outputs": [
    {
     "data": {
      "text/plain": [
       "array([15, 23, 14,  8])"
      ]
     },
     "execution_count": 6,
     "metadata": {},
     "output_type": "execute_result"
    }
   ],
   "source": [
    "a + b"
   ]
  },
  {
   "cell_type": "code",
   "execution_count": 7,
   "metadata": {},
   "outputs": [
    {
     "data": {
      "text/plain": [
       "array([ 5, -7, -4, -6])"
      ]
     },
     "execution_count": 7,
     "metadata": {},
     "output_type": "execute_result"
    }
   ],
   "source": [
    "a - b"
   ]
  },
  {
   "cell_type": "markdown",
   "metadata": {},
   "source": [
    "Пусть задан вектор ${\\overrightarrow{v}}_1$ из векторного пространства $V\\subset {\\mathbb{R}}^m$:\n",
    "\n",
    "$$\\overrightarrow{v_1}=\\left( \\begin{array}{c} v_{11} \\\\ v_{12} \\\\ \\dots \\\\ v_{1m} \\end{array} \\right)$$\n",
    "\n",
    "Тогда результатом умножения векторов ${\\overrightarrow{v}}_1$ на число $\\omega \\in \\mathbb{R}$ называется новый вектор ${\\overrightarrow{v}}_2$, принадлежащий тому же векторному пространству $V$, с координатами:\n",
    "\n",
    "$$\\overrightarrow{v_2}=\\omega \\overrightarrow{v_1}=\\omega \\left( \\begin{array}{c} v_{11} \\\\ v_{12} \\\\ \\dots \\\\ v_{1m} \\end{array} \\right)=\\left( \\begin{array}{c} \\omega v_{11} \\\\ \\omega v_{12} \\\\ \\dots \\\\ \\omega v_{1m} \\end{array} \\right)$$\n",
    "\n",
    "> Векторы ${\\overrightarrow{v}}_1$ и ${\\overrightarrow{v}}_2$ пропорциональны друг другу с коэффициентом $\\omega$. По-другому такие векторы называются коллинеарными. Обозначается: ${\\overrightarrow{v}}_1||\\overrightarrow{v_2}$.\n",
    "\n",
    "Если коэффициент пропорциональности положительный ($\\omega >0$), векторы сонаправлены (смотрят в одном направлении), если отрицательный ($\\omega <0$) — противоположно направлены. Геометрически это значит, что векторы лежат на одной прямой (или параллельных прямых) и направлены в одну или противоположные стороны."
   ]
  },
  {
   "cell_type": "markdown",
   "metadata": {},
   "source": [
    "В *Python* число умножается на массив numpy обычным оператором умножения."
   ]
  },
  {
   "cell_type": "code",
   "execution_count": 8,
   "metadata": {},
   "outputs": [
    {
     "data": {
      "text/plain": [
       "array([24. ,  9. , 13.6])"
      ]
     },
     "execution_count": 8,
     "metadata": {},
     "output_type": "execute_result"
    }
   ],
   "source": [
    "a = np.array([120, 45, 68])\n",
    "omega = 0.2\n",
    "c = a * omega\n",
    "c"
   ]
  },
  {
   "cell_type": "markdown",
   "metadata": {},
   "source": [
    "> **Примечание о разнице векторов**. В строгой линейной алгебре нет такой отдельной операции, как разница векторов. Под разницей двух векторов $\\overrightarrow{v_2}$ и $\\overrightarrow{v_1}$ понимается сложение векторов $\\overrightarrow{v_2}$ и $(-1)\\overrightarrow{v_1}$."
   ]
  },
  {
   "cell_type": "markdown",
   "metadata": {},
   "source": [
    "> Геометрически умножить вектор на скаляр означает изменить его длину в $\\alpha$ раз. Если $|\\alpha |>1$, то длина вектора пропорционально увеличивается. Если $|\\alpha |<1$, то длина вектора уменьшается. Если $\\alpha$ — положительное число ($\\alpha>0$), то вектор сохраняет своё направление. Если $\\alpha$ — отрицательное число ($\\alpha<0$), то вектор меняет своё направление на противоположное."
   ]
  },
  {
   "cell_type": "markdown",
   "metadata": {},
   "source": [
    "## <center>Линейная комбинация векторов</center>"
   ]
  },
  {
   "cell_type": "markdown",
   "metadata": {},
   "source": [
    "**Линейная комбинация** — это объединение операций сложения векторов и умножения на скаляр в одну. Каждый вектор умножается на соответствующий ему коэффициент, все умноженные векторы складываются.\n",
    "\n",
    "В *Python* линейная комбинация полностью соответствует своему названию и вычисляется как комбинация сложения векторов и умножения вектора на число."
   ]
  },
  {
   "cell_type": "code",
   "execution_count": 9,
   "metadata": {},
   "outputs": [
    {
     "data": {
      "text/plain": [
       "array([1800, 3000, 2700])"
      ]
     },
     "execution_count": 9,
     "metadata": {},
     "output_type": "execute_result"
    }
   ],
   "source": [
    "p = np.array([2, 4, 5])\n",
    "v = np.array([8, 10, 2])\n",
    "s = np.array([0, 12, 7])\n",
    "omega1 = 500\n",
    "omega2 = 100\n",
    "omega3 = 0\n",
    "u = omega1*p + omega2*v + omega3*s\n",
    "u"
   ]
  },
  {
   "cell_type": "markdown",
   "metadata": {},
   "source": [
    "Самое интересное в линейных комбинациях — это особые случаи, а именно **нулевая линейная комбинация**. Линейная комбинация векторов называется нулевой, если результат линейной комбинации равен нулевому вектору.\n",
    "\n",
    "Как получить нулевой вектор из линейной комбинации? Самый простой вариант — чтобы все коэффициенты линейной комбинации были равны 0. Однако такой случай, называемый **тривиальным**, нам не интересен.\n",
    "\n",
    "Нулевая линейная комбинация называется **нетривиальной**, если хотя бы один из коэффициентов отличен от 0."
   ]
  },
  {
   "cell_type": "markdown",
   "metadata": {},
   "source": [
    "Предположим, что нам удалось составить нетривиальную комбинацию, то есть удалось подобрать такие ${\\omega }_i\\neq 0$, что вектор $\\overrightarrow{u}=\\overrightarrow{0}$.\n",
    "\n",
    "В таком случае векторы, из которых была составлена линейная комбинация $\\overrightarrow{v_1},\\ \\overrightarrow{v_2},\\ \\dots ,\\ \\overrightarrow{v_n}$, называются **линейно зависимыми**.\n",
    "\n",
    "Тогда хотя бы один из векторов, но не обязательно любой, в линейной комбинации можно выразить через другие векторы, представив его как линейную комбинацию."
   ]
  },
  {
   "cell_type": "markdown",
   "metadata": {},
   "source": [
    "Или же, возможно, как мы ни старались, но нам не удалось подобрать такие коэффициенты ${\\omega }_i\\neq 0$, чтобы составить нулевую нетривиальную линейную комбинацию. Такие векторы называются **линейно независимыми**. В таком случае ни один из векторов не выражается через другие векторы."
   ]
  },
  {
   "cell_type": "markdown",
   "metadata": {},
   "source": [
    "## <center>Скалярное произведение векторов</center>"
   ]
  },
  {
   "cell_type": "markdown",
   "metadata": {},
   "source": [
    "Существует четыре способа умножить векторы между собой:\n",
    "\n",
    "* Скалярное произведение. Результат — число. \n",
    "* Векторное произведение. Результат — вектор.\n",
    "* Смешанное произведение. Результат — число. \n",
    "* Тензорное произведение. Результат — матрица.\n",
    "\n",
    "Мы рассмотрим скалярное произведение.\n",
    "\n",
    "Чтобы найти **скалярное произведение двух векторов**, необходимо перемножить их координаты с одинаковыми номерами и сложить то, что получится.  "
   ]
  },
  {
   "cell_type": "markdown",
   "metadata": {},
   "source": [
    "В *Python* скалярное произведение векторов вычисляется при помощи функции `np.dot()`:"
   ]
  },
  {
   "cell_type": "code",
   "execution_count": 10,
   "metadata": {},
   "outputs": [
    {
     "data": {
      "text/plain": [
       "102.0"
      ]
     },
     "execution_count": 10,
     "metadata": {},
     "output_type": "execute_result"
    }
   ],
   "source": [
    "a = np.array([65, 70, 120, 30])\n",
    "w = np.array([0.4, 0.4, 0.2, 0.8])\n",
    "np.dot(a, w)"
   ]
  },
  {
   "cell_type": "markdown",
   "metadata": {},
   "source": [
    "Через скалярное произведение можно выразить длину вектора (обозначается как $\\left|\\overrightarrow{v}\\right|$ или $|\\left|\\overrightarrow{v}\\right||$).\n",
    "\n",
    "В линейной алгебре **длина вектора** определяется как квадратный корень из скалярного произведения вектора с самим собой.\n",
    "\n",
    "Длина вектора всегда неотрицательна и показывает, как близок вектор к нулевому."
   ]
  },
  {
   "cell_type": "markdown",
   "metadata": {},
   "source": [
    "Скалярное произведение — это не просто удобная форма записи умножения векторов. На самом деле скалярное произведение обладает рядом очень полезных **свойств**.\n",
    "\n",
    "1) Линейность.\n",
    "\n",
    "2) Скалярное произведение двух векторов $\\overrightarrow{v_1}$ и $\\overrightarrow{v_2}$ в точности равно произведению длин этих векторов $\\left|\\overrightarrow{v_1}\\mathrm{\\ }\\right|$ и $\\left|\\overrightarrow{v_2}\\mathrm{\\ }\\right|$ на косинус угла между ними $\\mathrm{cos}\\mathrm{}(\\overrightarrow{v_1},\\ \\overrightarrow{v_2})$.\n",
    "\n",
    "3) Из последнего свойства следует ещё одно свойство скалярного произведения. Если скалярное произведение двух векторов равно 0, то вектора ортогональны (находятся под углом 90°). И наоборот: если вектора ортогональны друг другу, их скалярное произведение равно 0."
   ]
  },
  {
   "cell_type": "markdown",
   "metadata": {},
   "source": [
    "## <center>Векторная запись линейной регрессии</center>"
   ]
  },
  {
   "cell_type": "markdown",
   "metadata": {},
   "source": [
    "$$\\hat{y}={\\omega }_0+{\\omega }_1x_1+{\\omega }_2x_2+\\dots +{\\omega }_mx_m$$\n",
    "\n",
    "Давайте добавим коэффициент 1 перед параметром $\\omega_0$:\n",
    "\n",
    "$$\\hat{y}={\\omega }_01+{\\omega }_1x_1+{\\omega }_2x_2+\\dots +{\\omega }_mx_m$$\n",
    "\n",
    "А теперь представим параметры модели в виде вектора $\\overrightarrow{\\omega }$ и признаки — в виде вектора $\\overrightarrow{x}$:\n",
    "\n",
    "$$\\overrightarrow{\\omega }=\\left( \\begin{array}{c} {\\omega }_0 \\\\ {\\omega }_1 \\\\ {\\omega }_2 \\\\ \\dots \\\\ {\\omega }_m \\end{array} \\right)\\ \\textrm{и}\\ \\overrightarrow{x}=\\left( \\begin{array}{c} 1 \\\\ x_1 \\\\ x_2 \\\\ \\dots \\\\ x_m \\end{array} \\right)$$\n",
    "\n",
    "Тогда уравнение линейной регрессии можно записать в лаконичной векторной форме скалярного произведения двух векторов $\\overrightarrow{\\omega }$ и $\\overrightarrow{x}$:\n",
    "\n",
    "$$\\hat{y}=\\overrightarrow{\\omega }\\cdot \\overrightarrow{x}$$"
   ]
  },
  {
   "cell_type": "markdown",
   "metadata": {},
   "source": [
    "Возник вопрос: как ищутся коэффициенты линейной комбинации ${\\omega }_1$ и ${\\omega }_2$? Не искать же их полным перебором.\n",
    "\n",
    "На этот вопрос в своё время ответил Гаусс и создал знакомый нам **метод наименьших квадратов (МНК)**, который мы уже многократно использовали в модулях по машинному обучению. Но, чтобы познакомиться с МНК поближе с математической точки зрения, нам с вами необходимо изучить тему матриц и матричных преобразований."
   ]
  },
  {
   "cell_type": "markdown",
   "metadata": {},
   "source": [
    "В блокноте *\"extra\"* мы рассматриваем пример нормирования вектора. Интуитивно нормирование можно объяснить так ↓\n",
    "\n",
    "**Нормирование вектора** — это получение вектора с тем же направлением, что и исходный, но с нормой 1.\n",
    "\n",
    "Норма вектора вычисляется как корень из суммы квадратов его компонент. Её физический смысл: норма показывает, насколько вектор «большой».\n",
    "\n",
    "**Длина вектора** (в физическом смысле) — это то же, что и норма, применимо к векторам в реальном пространстве.\n",
    "\n",
    "> Нормирование производится делением вектора на его норму."
   ]
  },
  {
   "cell_type": "code",
   "execution_count": 11,
   "metadata": {},
   "outputs": [],
   "source": [
    "import pandas as pd\n",
    "\n",
    "Hut_Paradise_DF = pd.DataFrame({\n",
    "    '1.Rent': [65, 70, 120, 35, 40, 50, 100, 90, 85], \n",
    "    '2.Area': [50, 52, 80, 33, 33, 44, 80, 65, 65], \n",
    "    '3.Rooms':[3, 2, 1, 1, 1, 2, 4, 3, 2],\n",
    "    '4.Floor':[5, 12, 10, 3, 6, 13, 8, 21, 5], \n",
    "    '5.Demo two weeks':[8, 4, 5, 10, 20, 12, 5, 1, 10], \n",
    "    '6.Liv.Area': [37, 40, 65, 20, 16, 35, 60, 50, 40]\n",
    "})"
   ]
  },
  {
   "cell_type": "code",
   "execution_count": 12,
   "metadata": {},
   "outputs": [],
   "source": [
    "# Задание 3.3\n",
    "\n",
    "Hut_Paradise_values = Hut_Paradise_DF.values"
   ]
  },
  {
   "cell_type": "code",
   "execution_count": 13,
   "metadata": {},
   "outputs": [
    {
     "name": "stdout",
     "output_type": "stream",
     "text": [
      "vektor for apartment 5: [40 33  1  6 20 16]\n"
     ]
    }
   ],
   "source": [
    "print('vektor for apartment 5:', Hut_Paradise_values[4])"
   ]
  },
  {
   "cell_type": "code",
   "execution_count": 14,
   "metadata": {},
   "outputs": [
    {
     "name": "stdout",
     "output_type": "stream",
     "text": [
      "vektor for floors: [ 5 12 10  3  6 13  8 21  5]\n"
     ]
    }
   ],
   "source": [
    "# Задание 3.4\n",
    "\n",
    "print('vektor for floors:', Hut_Paradise_values[:,3])"
   ]
  },
  {
   "cell_type": "code",
   "execution_count": 15,
   "metadata": {},
   "outputs": [
    {
     "name": "stdout",
     "output_type": "stream",
     "text": [
      "vektor for unliv.area: [13 12 15 13 17  9 20 15 25]\n"
     ]
    }
   ],
   "source": [
    "# Задание 3.5\n",
    "\n",
    "unliv_area = Hut_Paradise_values[:,1] - Hut_Paradise_values[:,5]\n",
    "print('vektor for unliv.area:', unliv_area)"
   ]
  },
  {
   "cell_type": "code",
   "execution_count": 16,
   "metadata": {},
   "outputs": [
    {
     "name": "stdout",
     "output_type": "stream",
     "text": [
      "1348\n"
     ]
    }
   ],
   "source": [
    "# Задание 3.6\n",
    "\n",
    "time = np.array([10,20,30,15,5,40,20,8,20])\n",
    "print(Hut_Paradise_values[:,4] @ time)"
   ]
  },
  {
   "cell_type": "code",
   "execution_count": 17,
   "metadata": {},
   "outputs": [],
   "source": [
    "# Задание 3.7\n",
    "\n",
    "u=np.array([3,0,1,1,1])\n",
    "v=np.array([0,1,0,2,-2])\n",
    "w=np.array([1,-4,-1,0,-2])"
   ]
  },
  {
   "cell_type": "code",
   "execution_count": 18,
   "metadata": {},
   "outputs": [
    {
     "name": "stdout",
     "output_type": "stream",
     "text": [
      "[-3 14  3  4  2]\n"
     ]
    }
   ],
   "source": [
    "c=2*v-3*w\n",
    "print(c)"
   ]
  },
  {
   "cell_type": "markdown",
   "metadata": {},
   "source": [
    "# <center>Матрицы</center>"
   ]
  },
  {
   "cell_type": "markdown",
   "metadata": {},
   "source": [
    "**Матрица** — это структура, представляющая собой таблицу, состоящую из чисел, расположенных по строкам и столбцам.\n",
    "\n",
    "> Математики не любят громоздкую запись, поэтому, чтобы обозначить, что матрица состоит из чисел $a_{ij}$, нередко пишут следующим образом: $A=\\left(a_{ij}\\right),\\ \\ a_{ij}\\in \\mathbb{R}\\mathrm{,}\\mathrm{\\ }i=1,\\ 2,\\dots ,n \\textit{ } j=1,\\ 2,\\dots ,m$.\n",
    "\n",
    "> **Элементами главной диагонали** называются элементы, у которых индексы строк и столбцов совпадают, то есть $a_{ij}, \\  i=j$."
   ]
  },
  {
   "cell_type": "markdown",
   "metadata": {},
   "source": [
    "Матрицу можно создать функцией `np.matrix()` или `np.array()`. Разницу между двумя этими способами мы обсудим в скринкасте.\n",
    "\n",
    "За размер матрицы отвечает атрибут `shape`. \n",
    "\n",
    "Матрицы, как и массивы, индексируются с 0, а не с 1."
   ]
  },
  {
   "cell_type": "code",
   "execution_count": 19,
   "metadata": {},
   "outputs": [
    {
     "data": {
      "text/plain": [
       "array([[ 1, -5,  3],\n",
       "       [ 2,  2,  1],\n",
       "       [ 0,  3,  1],\n",
       "       [ 2,  4, 12]])"
      ]
     },
     "execution_count": 19,
     "metadata": {},
     "output_type": "execute_result"
    }
   ],
   "source": [
    "A = np.array([\n",
    "    [1, -5, 3], \n",
    "    [2, 2, 1],\n",
    "    [0, 3, 1],\n",
    "    [2, 4, 12]\n",
    "])\n",
    "A"
   ]
  },
  {
   "cell_type": "code",
   "execution_count": 20,
   "metadata": {},
   "outputs": [
    {
     "data": {
      "text/plain": [
       "(4, 3)"
      ]
     },
     "execution_count": 20,
     "metadata": {},
     "output_type": "execute_result"
    }
   ],
   "source": [
    "A.shape"
   ]
  },
  {
   "cell_type": "code",
   "execution_count": 21,
   "metadata": {},
   "outputs": [
    {
     "name": "stdout",
     "output_type": "stream",
     "text": [
      "a_23= 1 a_32= 3 a_33= 1\n"
     ]
    }
   ],
   "source": [
    "print('a_23=', A[1, 2], 'a_32=', A[2, 1], 'a_33=', A[2,2])"
   ]
  },
  {
   "cell_type": "markdown",
   "metadata": {},
   "source": [
    "## <center>Классификация матриц</center>"
   ]
  },
  {
   "cell_type": "markdown",
   "metadata": {},
   "source": [
    "Матрицы различаются по форме и по содержанию.\n",
    "\n",
    "* **Прямоугольные матрицы** — это матрицы, у которых количество строк $n$ не совпадает с количеством столбцов $m$, т. е. $n\\neq m$.\n",
    "    * высокие\n",
    "    * длинные\n",
    "\n",
    "* **Квадратные матрицы** — это матрицы, у которых количество строк $n$ совпадает с количеством столбцов $m$, т. е. $n= m$. **Порядком** квадратной матрицы называется количество строк (и столбцов соответственно) в ней.\n",
    "\n",
    "* **Вектор-столбец** — это матрица размера $(n,1)$.\n",
    "\n",
    "* **Вектор-строка** — это матрица размера $(1,m)$.\n",
    "\n",
    "* **Нулевая матрица** — это матрица, у которой все элементы являются нулём. Формально это записывается как $A=\\left(a_{ij}\\right),\\ {\\forall a}_{ij}=0$.\n",
    "\n",
    "* **Матрица-единица**, или **матрица единиц** — это матрица, у которой все элементы являются единицей. Формальная запись: $A=\\left(a_{ij}\\right),\\ {\\forall a}_{ij}=1$."
   ]
  },
  {
   "cell_type": "markdown",
   "metadata": {},
   "source": [
    "> Виды матриц, о которых пойдёт речь далее, бывают только квадратными.\n",
    "\n",
    "* **Треугольная матрица** — это квадратная матрица, у которой элементы выше или ниже главной диагонали равны 0.\n",
    "\n",
    "    * Нижнетреугольная матрица: $A=\\left(a_{i j}\\right)=\\left\\{\\begin{array}{l} a_{i j} \\neq 0, \\text { при } i \\geq j \\\\ a_{i j}=0, \\text { при } i<j \\end{array}\\right.$\n",
    "\n",
    "    * Верхнетреугольная матрица: $A=\\left(a_{i j}\\right)=\\left\\{\\begin{array}{l} a_{i j}=0, \\text { при } i \\geq j \\\\ a_{i j} \\neq 0, \\text { при } i<j \\end{array}\\right.$\n",
    "\n",
    "* **Симметричная матрица** — это квадратная матрица, у которой элементы равны друг другу относительно главной диагонали. Формально записывается как: $S=\\left(s_{ij}\\right),{\\ s}_{ij}={\\ s}_{ji}\\ \\forall i,\\ j$.\n",
    "\n",
    "> Симметричные матрицы — это очень важный вид матриц. Например, матрица корреляций, с которой мы с вами уже множество раз сталкивались, является симметричной: по её диагонали находятся единицы — корреляции признаков с самими собой, а в остальных ячейках — коэффициенты корреляции.\n",
    "\n",
    "* **Диагональная матрица** — это симметричная матрица, у которой вне главной диагонали стоят нули. Формально записывается как: \n",
    "\n",
    "$$S=\\left(s_{ij}\\right)=\\left\\{ \\begin{array}{c} s_{ij}={\\ s}_{ji}=0,\\ \\textrm{п}\\textrm{р}\\textrm{и}\\ i\\neq j \\\\ s_{ij}\\neq 0,\\ \\textrm{п}\\textrm{р}\\textrm{и}\\ i=j \\end{array} \\right.$$\n",
    "\n",
    "У диагональной матрицы есть ещё одно обозначение: $S=diag({\\alpha }_1,\\ {\\alpha }_2,\\ \\dots ,\\ {\\alpha }_n),$ где $\\alpha_i$ — элементы, стоящие на главной диагонали.\n",
    "\n",
    "* **Скалярная, или шаровая матрица** — это диагональная матрица, у которой по диагонали стоит одно и тоже число.\n",
    "\n",
    "$$S=\\left(s_{ij}\\right)=\\left\\{ \\begin{array}{c} s_{ij}=0,\\ \\textrm{п}\\textrm{р}\\textrm{и}\\ i\\neq j \\\\ s_{ij}=\\alpha ,\\ \\textrm{п}\\textrm{р}\\textrm{и}\\ i=j \\end{array} \\right.$$\n",
    "\n",
    "Альтернативная запись: $S=diag(\\alpha )$.\n",
    "\n",
    "* **Единичная** (не путать с матрицей единиц!) **матрица** — это скалярная матрица, у которой $\\alpha=1$. Единичная матрица является настолько важной в линейной алгебре, что даже имеет собственное специальное обозначение — латинская буква $E$.\n",
    "\n",
    "$$E=\\left(e_{ij}\\right)=\\left\\{ \\begin{array}{c} e_{ij}=0,\\ \\textrm{п}\\textrm{р}\\textrm{и}\\ i\\neq j \\\\ e_{ij}=1,\\ \\textrm{п}\\textrm{р}\\textrm{и}\\ i=j \\end{array} \\right.$$"
   ]
  },
  {
   "cell_type": "markdown",
   "metadata": {},
   "source": [
    "## <center>Базовые действия над матрицами</center>"
   ]
  },
  {
   "cell_type": "markdown",
   "metadata": {},
   "source": [
    "К базовым относятся следующие операции:\n",
    "\n",
    "* Сложение матриц. Результат — матрица.\n",
    "* Умножение матрицы на число. Результат —  матрица.\n",
    "* Транспонирование. Результат —  матрица.\n",
    "\n",
    "**Операция транспонирования** — это матричная операция, при которой строки и столбцы меняются местами. Двойное транспонирование матрицы возвращает её к первичному виду. \n",
    "\n",
    "> Симметричные матрицы инварианты к операции транспонирования, то есть не изменяются.\n",
    "\n",
    "> Матрица $A$ называется симметричной, если она не меняется при транспонировании, т. е. $A=A^T$."
   ]
  },
  {
   "cell_type": "markdown",
   "metadata": {},
   "source": [
    "*Смотри ноутбук \"extra_2\"*"
   ]
  },
  {
   "cell_type": "code",
   "execution_count": 22,
   "metadata": {},
   "outputs": [],
   "source": [
    "Husband_Income = np.array([100,220,140])\n",
    "Wife_Income = np.array([150,200,130])\n",
    "Mother_In_Law_Income = np.array([90,80,100])\n",
    "\n",
    "Husband_Consumption = np.array([50,50,60])\n",
    "Wife_Consumption = np.array([100,80,140])\n",
    "Mother_In_Law_Consumption = np.array([100,20,140])"
   ]
  },
  {
   "cell_type": "code",
   "execution_count": 23,
   "metadata": {},
   "outputs": [
    {
     "name": "stdout",
     "output_type": "stream",
     "text": [
      "100 200 100\n"
     ]
    }
   ],
   "source": [
    "# Задание 5.1\n",
    "\n",
    "Inc=np.array([Husband_Income,Wife_Income,Mother_In_Law_Income]).T\n",
    "print(Inc[0,0], Inc[1,1], Inc[2,2])"
   ]
  },
  {
   "cell_type": "code",
   "execution_count": 24,
   "metadata": {},
   "outputs": [
    {
     "name": "stdout",
     "output_type": "stream",
     "text": [
      "50 80 140\n"
     ]
    }
   ],
   "source": [
    "# Задание 5.2\n",
    "\n",
    "Cons=np.array([Husband_Consumption,Wife_Consumption,Mother_In_Law_Consumption]).T\n",
    "print(Cons[0,0], Cons[1,1], Cons[2,2])"
   ]
  },
  {
   "cell_type": "code",
   "execution_count": 25,
   "metadata": {},
   "outputs": [
    {
     "data": {
      "text/plain": [
       "array([[ 87. , 130.5,  78.3],\n",
       "       [191.4, 174. ,  69.6],\n",
       "       [121.8, 113.1,  87. ]])"
      ]
     },
     "execution_count": 25,
     "metadata": {},
     "output_type": "execute_result"
    }
   ],
   "source": [
    "# Задание 5.3\n",
    "\n",
    "New_Inc=Inc*0.87\n",
    "New_Inc"
   ]
  },
  {
   "cell_type": "code",
   "execution_count": 26,
   "metadata": {},
   "outputs": [
    {
     "data": {
      "text/plain": [
       "array([[ 37. ,  30.5, -21.7],\n",
       "       [141.4,  94. ,  49.6],\n",
       "       [ 61.8, -26.9, -53. ]])"
      ]
     },
     "execution_count": 26,
     "metadata": {},
     "output_type": "execute_result"
    }
   ],
   "source": [
    "# Задание 5.4\n",
    "\n",
    "P=New_Inc-Cons\n",
    "P"
   ]
  },
  {
   "cell_type": "markdown",
   "metadata": {},
   "source": [
    "## <center>Продвинутые операции с матрицами</center>"
   ]
  },
  {
   "cell_type": "markdown",
   "metadata": {},
   "source": [
    "**<u>Произведение двух матриц</u>**\n",
    "\n",
    "Пусть заданы две матрицы $A=(a_{ij})$ и $B=(b_{ij})$, причём их размерности: ${\\mathrm{dim} \\left(A\\right)\\ }=\\left(n,\\ m\\right)$ и ${\\mathrm{dim} \\left(B\\right)\\ }=\\left(m,\\ l\\right)$. Произведением матриц $A$ и $B$ называется матрица $C=(c_{ij})$ размером ${\\mathrm{dim} \\left(C\\right)\\ }=\\left(n,\\ l\\right)$ (обратите внимание на размерность), элемент которой, находящийся на пересечении $i$-й строки и $j$-го столбца, равен сумме произведений элементов $i$-й строки матрицы $A$ на соответствующие (по порядку) элементы $j$-го столбца матрицы $B$.\n",
    "\n",
    "> Умножить матрицу $A$ на матрицу $B$ можно только в том случае, если количество столбцов в матрице $A$ совпадает с количеством строк в матрице $B$.\n",
    "\n",
    "> Матричное умножение не перестановочно (не коммутативно). То есть перемена мест сомножителей может привести к различным результатам и даже размерностям."
   ]
  },
  {
   "cell_type": "markdown",
   "metadata": {},
   "source": [
    "![image.png](https://lms-cdn.skillfactory.ru/assets/courseware/v1/a3a6c30c0321475ea48b8488901278cb/asset-v1:SkillFactory+MIPTDS+SEPT22+type@asset+block/MATHML_md1_6_1.png)\n",
    "\n",
    "![image.png](https://lms-cdn.skillfactory.ru/assets/courseware/v1/163cf195ac716a3f449273547ac0081d/asset-v1:SkillFactory+MIPTDS+SEPT22+type@asset+block/MATHML_md1_6_2.png)"
   ]
  },
  {
   "cell_type": "markdown",
   "metadata": {},
   "source": [
    "В *Python* матрицы можно умножить с помощью функции `np.dot()`. При перемене мест сомножителей результат также меняется."
   ]
  },
  {
   "cell_type": "code",
   "execution_count": 27,
   "metadata": {},
   "outputs": [],
   "source": [
    "A = np.matrix(\"1, -5; 2, 2; 0, 3\")\n",
    "B = np.matrix(\"3, 1, 0; -1, 0, 2\")"
   ]
  },
  {
   "cell_type": "code",
   "execution_count": 28,
   "metadata": {},
   "outputs": [
    {
     "data": {
      "text/plain": [
       "matrix([[ 1, -5],\n",
       "        [ 2,  2],\n",
       "        [ 0,  3]])"
      ]
     },
     "execution_count": 28,
     "metadata": {},
     "output_type": "execute_result"
    }
   ],
   "source": [
    "A"
   ]
  },
  {
   "cell_type": "code",
   "execution_count": 29,
   "metadata": {},
   "outputs": [
    {
     "data": {
      "text/plain": [
       "matrix([[ 3,  1,  0],\n",
       "        [-1,  0,  2]])"
      ]
     },
     "execution_count": 29,
     "metadata": {},
     "output_type": "execute_result"
    }
   ],
   "source": [
    "B"
   ]
  },
  {
   "cell_type": "code",
   "execution_count": 30,
   "metadata": {},
   "outputs": [
    {
     "data": {
      "text/plain": [
       "matrix([[  8,   1, -10],\n",
       "        [  4,   2,   4],\n",
       "        [ -3,   0,   6]])"
      ]
     },
     "execution_count": 30,
     "metadata": {},
     "output_type": "execute_result"
    }
   ],
   "source": [
    "np.dot(A, B)"
   ]
  },
  {
   "cell_type": "code",
   "execution_count": 31,
   "metadata": {},
   "outputs": [
    {
     "data": {
      "text/plain": [
       "matrix([[  5, -13],\n",
       "        [ -1,  11]])"
      ]
     },
     "execution_count": 31,
     "metadata": {},
     "output_type": "execute_result"
    }
   ],
   "source": [
    "np.dot(B, A)"
   ]
  },
  {
   "cell_type": "markdown",
   "metadata": {},
   "source": [
    "Произведение квадратных матриц существует, когда порядок обеих матриц совпадает. Причём результатом умножения квадратных матриц будет квадратная матрица того же порядка, что и исходные.\n",
    "\n",
    "Например, матрицу 3х3 можно умножить только на матрицу 3х3, но нельзя на матрицу 3х4 или 4х3 или, тем более, 11х23."
   ]
  },
  {
   "cell_type": "markdown",
   "metadata": {},
   "source": [
    "**<u>Произведение матрицы и вектора</u>**\n",
    "\n",
    "Так как вектор — это частный случай матрицы размерностью $(1,m)$ или $(n,1)$, то такое умножение полностью подчиняется правилам, которые мы ввели ранее. По определению произведения матриц результатом умножения матрицы на вектор всегда получается вектор той же размерности, что и исходный.\n",
    "\n",
    "> Вектор-столбец умножается на матрицу справа, а вектор-строка — слева."
   ]
  },
  {
   "cell_type": "markdown",
   "metadata": {},
   "source": [
    "![image.png](https://lms-cdn.skillfactory.ru/assets/courseware/v1/2b37a2cf3d333dc0a60dfba2f15fd31c/asset-v1:SkillFactory+MIPTDS+SEPT22+type@asset+block/MATHML_md1_6_5.png)\n",
    "\n",
    "![image.png](https://lms-cdn.skillfactory.ru/assets/courseware/v1/c75fa4bc4a25adf76fdca272a088fcbc/asset-v1:SkillFactory+MIPTDS+SEPT22+type@asset+block/MATHML_md1_6_6.png)"
   ]
  },
  {
   "cell_type": "markdown",
   "metadata": {},
   "source": [
    "**<u>Тензорное произведение векторов</u>**\n",
    "\n",
    "**Тензорное произведение** — это результат матричного умножения вектора-столбца на вектор-строку. Результатом тензорного произведения является матрица.\n",
    "\n",
    "Размерности векторов, участвующих в умножении, составляют ${\\mathrm{dim} \\left(\\overrightarrow{v}\\right)\\ }=(3,1)$ и ${\\mathrm{dim} \\left({\\overrightarrow{u}}^T\\right)\\ }=(1,3)$. В результате у нас должна получиться матрица 3x3.\n",
    "\n",
    "![image.png](https://lms-cdn.skillfactory.ru/assets/courseware/v1/6af692dc1c836c797a52843d4bfdcb35/asset-v1:SkillFactory+MIPTDS+SEPT22+type@asset+block/MATHML_md1_6_7.png)\n",
    "\n",
    "У тензорного произведения есть специальное обозначение — $\\otimes$:\n",
    "\n",
    "$$\\overrightarrow{v}\\otimes \\overrightarrow{u}=\\left( \\begin{array}{ccc} 4 & 5 & 6 \\\\ 8 & 10 & 12 \\\\ 12 & 15 & 18 \\end{array} \\right)$$\n",
    "\n",
    "> В случае скалярного произведения векторов всегда получается число, а в случае тензорного — матрица."
   ]
  },
  {
   "cell_type": "markdown",
   "metadata": {},
   "source": [
    "## <center>Геометрическая интерпретация умножения матрицы на вектор</center>"
   ]
  },
  {
   "cell_type": "markdown",
   "metadata": {},
   "source": [
    "Пусть у нас есть некоторая матрица $L$ размерностью ${\\mathrm{dim} \\left(L\\right)\\ }=(2, 2)$:\n",
    "\n",
    "$$L=\\left( \\begin{array}{cc} 1 & 0 \\\\ -2 & 1 \\end{array} \\right)$$\n",
    "\n",
    "И два вектора-столбца ${\\overrightarrow{v}}_1={\\left(3,\\ 4\\right)}^T$ и ${\\overrightarrow{v}}_2={\\left(-2,\\ 1\\right)}^T$.\n",
    "\n",
    "Умножим матрицу на векторы, получим новые векторы, назовём их ${\\overrightarrow{u}}_1$ и ${\\overrightarrow{u}}_2$:\n",
    "\n",
    "$${\\overrightarrow{u}}_1=L{\\overrightarrow{v}}_1=\\left( \\begin{array}{cc} 1 & 0 \\\\ -2 & 1 \\end{array} \\right)\\left( \\begin{array}{c} 3 \\\\ 4 \\end{array} \\right)=\\left( \\begin{array}{c} 1\\cdot 3+0\\cdot 4 \\\\ (-2)\\cdot 3+1\\cdot 4 \\end{array} \\right)=\\left( \\begin{array}{c} 3 \\\\ -2 \\end{array} \\right)$$\n",
    "\n",
    "$${\\overrightarrow{u}}_2=L{\\overrightarrow{v}}_2=\\left( \\begin{array}{cc} 1 & 0 \\\\ -2 & 1 \\end{array} \\right)\\left( \\begin{array}{c} -2 \\\\ 1 \\end{array} \\right)=\\left( \\begin{array}{c} 1\\cdot \\left(-2\\right)+0\\cdot 1 \\\\ (-2)\\cdot (-2)+1\\cdot 1 \\end{array} \\right)=\\left( \\begin{array}{c} -2 \\\\ 5 \\end{array} \\right)$$\n",
    "\n",
    "![image.png](https://lms-cdn.skillfactory.ru/assets/courseware/v1/1256d721de1742d0a84616a0d8b84417/asset-v1:SkillFactory+MIPTDS+SEPT22+type@asset+block/MATHML_md1_6_10.png)\n",
    "\n",
    "После умножения матрицы на каждый из векторов мы получили новые векторы ${\\overrightarrow{u}}_1$ и ${\\overrightarrow{u}}_2$, причём первая координата векторов не изменилась, а вот вторая как-то образом поменялась. То есть матрица $L$ каким-то образом воздействовала на векторное пространство $V$, в котором находились векторы ${\\overrightarrow{v}}_1$ и ${\\overrightarrow{v}}_2$, и видоизменила исходные векторы.\n",
    "\n",
    "> Говорят: матрица $L$ задаёт линейный оператор, который действует в векторном пространстве $V$ и переводит векторы в новое векторное пространство $U$."
   ]
  },
  {
   "cell_type": "markdown",
   "metadata": {},
   "source": [
    "Отметим два интересных частных случая **операторов**, которые активно используются в обработке изображений.\n",
    "\n",
    "* **Оператор сжатия/растяжения:**\n",
    "\n",
    "![image.png](https://lms-cdn.skillfactory.ru/assets/courseware/v1/2bda26c2894a23d8ea0102d681f85983/asset-v1:SkillFactory+MIPTDS+SEPT22+type@asset+block/MATHML_md1_6_11.png)\n",
    "\n",
    "$$L=\\left( \\begin{array}{cc} \\alpha & 0 \\\\ 0 & \\beta \\end{array} \\right),$$\n",
    "\n",
    "где где $\\alpha$ и $\\beta$ — коэффициенты сжатия/растяжения пространства по вертикальной и горизонтальной оси соответственно.\n",
    "\n",
    "$$L=\\left( \\begin{array}{cc} \\frac{2}{3} & 0 \\\\ 0 & \\frac{3}{2} \\end{array} \\right)$$\n",
    "\n",
    "$$\\overrightarrow{v}={\\left(3,\\ 4\\right)}^T$$\n",
    "\n",
    "$$\\overrightarrow{u}=L\\overrightarrow{v}=\\left( \\begin{array}{cc} \\frac{2}{3} & 0 \\\\ 0 & \\frac{3}{2} \\end{array} \\right)\\left( \\begin{array}{c} 3 \\\\ 4 \\end{array} \\right)=\\left( \\begin{array}{c} 2 \\\\ 6 \\end{array} \\right)$$\n",
    "\n",
    "Данный оператор $L$ задаёт сжатие по вертикальной оси в $\\frac{2}{3}$ раза и растяжение по горизонтальной в $\\frac{3}{2}$ раза.\n",
    "\n",
    "* **Оператор поворота:**\n",
    "\n",
    "![image.png](https://lms-cdn.skillfactory.ru/assets/courseware/v1/ceecfca0ba4c1f02a03065249bc02617/asset-v1:SkillFactory+MIPTDS+SEPT22+type@asset+block/MATHML_md1_6_12.png)\n",
    "\n",
    "$$L=\\left( \\begin{array}{cc} \\mathrm{cos}\\mathrm{}(\\alpha ) & -\\mathrm{sin}\\mathrm{}(\\alpha \\mathrm{)} \\\\ \\mathrm{sin}\\mathrm{}(\\alpha \\mathrm{)} & \\mathrm{cos}\\mathrm{}(\\alpha ) \\end{array} \\right)$$\n",
    "\n",
    "Данный оператор задаёт поворот пространства на угол $\\alpha$. Например, поворот на угол 90°:\n",
    "\n",
    "$$L=\\left( \\begin{array}{cc} \\mathrm{cos}\\mathrm{}(\\mathrm{90}{}^\\circ ) & -\\mathrm{sin}\\mathrm{}(\\mathrm{90}{}^\\circ \\mathrm{)} \\\\ \\mathrm{sin}\\mathrm{}(\\mathrm{90}{}^\\circ \\mathrm{)} & \\mathrm{cos}\\mathrm{}(\\mathrm{90}{}^\\circ ) \\end{array} \\right)=\\left( \\begin{array}{cc} 0 & -1 \\\\ \\mathrm{1} & 0 \\end{array} \\right)$$\n",
    "\n",
    "$$\\overrightarrow{v}={\\left(3,\\ 4\\right)}^T$$\n",
    "\n",
    "$$\\overrightarrow{u}=L\\overrightarrow{v}=\\left( \\begin{array}{cc} 0 & -1 \\\\ \\mathrm{1} & 0 \\end{array} \\right)\\left( \\begin{array}{c} 3 \\\\ 4 \\end{array} \\right)=\\left( \\begin{array}{c} 0\\cdot 3-1\\cdot 4 \\\\ 1\\cdot 3+0\\cdot 4 \\end{array} \\right)=\\left( \\begin{array}{c} -4 \\\\ 3 \\end{array} \\right)$$\n",
    "\n",
    "Проверим скалярное произведение. Помним, что для ортогональных векторов оно должно быть равно 0:\n",
    "\n",
    "$$\\left(\\overrightarrow{u},\\ \\overrightarrow{v}\\right)=3\\cdot \\left(-4\\right)+4\\cdot 3=0$$\n",
    "\n",
    "Векторы действительно ортогональны."
   ]
  },
  {
   "cell_type": "markdown",
   "metadata": {},
   "source": [
    "## <center>Умножение на специальные матрицы</center>"
   ]
  },
  {
   "cell_type": "markdown",
   "metadata": {},
   "source": [
    "**<u>Умножение на нулевую матрицу</u>**\n",
    "\n",
    "Нулевая матрица играет роль нуля как в матричном сложении, так и матричном умножении. То есть при умножении на нулевую матрицу мы всегда получим нулевую матрицу того же размера, что и исходная. Причём неважно, с какой стороны происходит умножение.\n",
    "\n",
    "**<u>Умножение на единичную матрицу</u>**\n",
    "\n",
    "Единичная матрица играет роль единицы в матричном умножении. При умножении на неё исходная матрица остаётся неизменной. Причём умножение на единичную матрицу перестановочно: порядок не играет роли (можете проверить это самостоятельно).\n",
    "\n",
    "**<u>Умножение на шаровую матрицу</u>**\n",
    "\n",
    "Умножение любой матрицы на шаровую матрицу с элементом $\\alpha$ на главной диагонали равносильно умножению матрицы на число $\\alpha$.\n",
    "\n",
    "**<u>Умножение на диагональную матрицу</u>**\n",
    "\n",
    "![image.png](https://lms-cdn.skillfactory.ru/assets/courseware/v1/3edd69882500c75dbdc40da9b39b49c5/asset-v1:SkillFactory+MIPTDS+SEPT22+type@asset+block/MATHML_md1_6_13.png)\n",
    "\n",
    "* При умножении на диагональную матрицу справа каждый столбец матрицы $A$ умножается на соответствующий коэффициент, стоящий на диагонали матрицы $D$.\n",
    "\n",
    "* При умножении на диагональную матрицу слева каждая строка матрицы $A$ умножается на соответствующий коэффициент, стоящий на диагонали матрицы $D$.\n",
    "\n",
    "> Умножение на диагональную матрицу не является перестановочным в общем случае.\n",
    "\n",
    "> Умножение двух диагональных матриц означает перемножение соответствующих элементов, стоящих на главной диагонали. Причём умножение двух диагональных матриц перестановочно."
   ]
  },
  {
   "cell_type": "markdown",
   "metadata": {},
   "source": [
    "## <center>Умножение и транспонирование матриц</center>"
   ]
  },
  {
   "cell_type": "markdown",
   "metadata": {},
   "source": [
    "При транспонировании меняется порядок произведения матриц.\n",
    "\n",
    "Найти транспонированное произведение матриц ${\\left(А \\cdot \\mathrm{\\ }B\\right)}^T$ и $B^TA^T$, если:\n",
    "\n",
    "$A=\\left( \\begin{array}{cc} 1 & 2 \\\\ 3 & 1 \\end{array} \\right)$ и $B=\\left( \\begin{array}{cc} 2 & 6 \\\\ 1 & 1 \\end{array} \\right)$\n",
    "\n",
    "${\\left(A\\cdot \\ B\\right)}^T={\\left(\\left( \\begin{array}{cc} 1 & 2 \\\\ 3 & 1 \\end{array} \\right)\\cdot \\left( \\begin{array}{cc} 2 & 6 \\\\ 1 & 1 \\end{array} \\right)\\right)}^T={\\left( \\begin{array}{cc} 1\\cdot 2+2\\cdot 1 & 1\\cdot 6+2\\cdot 1 \\\\ 3\\cdot 2+1\\cdot1 & 3\\cdot 6+1\\cdot 1 \\end{array} \\right)}^T={\\left( \\begin{array}{cc} 4 & 8 \\\\ 7 & 19 \\end{array} \\right)}^T=\\left( \\begin{array}{cc} 4 & 7 \\\\ 8 & 19 \\end{array} \\right)$\n",
    "\n",
    "А теперь найдём $B^TA^T$:\n",
    "\n",
    "$B^TA^T={\\left( \\begin{array}{cc} 2 & 6 \\\\ 1 & 1 \\end{array} \\right)}^T\\cdot {\\left( \\begin{array}{cc} 1 & 2 \\\\ 3 & 1 \\end{array} \\right)}^T=\\left( \\begin{array}{cc} 2 & 1 \\\\ 6 & 1 \\end{array} \\right)\\cdot \\left( \\begin{array}{cc} 1 & 3 \\\\ 2 & 1 \\end{array} \\right)=\\left( \\begin{array}{cc} 2\\cdot 1+1\\cdot 2 & 2\\cdot 3+1\\cdot 1 \\\\ 6\\cdot 1+1\\cdot 2 & 6\\cdot 3+1\\cdot 1 \\end{array} \\right)=\\left( \\begin{array}{cc} 4 & 7 \\\\ 8 & 19 \\end{array} \\right)$\n",
    "\n",
    "Как и ожидалось, результаты умножения совпали."
   ]
  },
  {
   "cell_type": "markdown",
   "metadata": {},
   "source": [
    "**Матрицей Грама** системы векторов называется матрица, составленная из скалярных произведений их исходной матрицы. То есть:\n",
    "\n",
    "$G=X^T\\cdot X$ или $G=X{\\cdot X}^T$\n",
    "\n",
    "![image.png](https://lms-cdn.skillfactory.ru/assets/courseware/v1/c6ad51558b9fd49648e1682349202018/asset-v1:SkillFactory+MIPTDS+SEPT22+type@asset+block/MAT_1_%D0%BC%D0%BE%D0%B4%D1%83%D0%BB%D1%8C_60_2.png)\n",
    "\n",
    "Матрица скалярных произведений **строк** матрицы Х или матрица Грама для векторов (1, 1), (1, 2) и (0, -1).\n",
    "\n",
    "![image.png](https://lms-cdn.skillfactory.ru/assets/courseware/v1/4ee8d93b553fcc043082c18a5ff660d4/asset-v1:SkillFactory+MIPTDS+SEPT22+type@asset+block/MAT_1_%D0%BC%D0%BE%D0%B4%D1%83%D0%BB%D1%8C_0002.png)\n",
    "\n",
    "Матрица скалярных произведений **столбцов** матрицы Х или матрица Грама для векторов (1, 1, 0) и (1, 2, -1).\n",
    "\n",
    "> Обе матрицы Грама симметричны. Забегая вперёд, отметим, что матрица Грама системы векторов всегда имеет вещественные собственные числа и диагонализируется, а если векторы линейно независимы, то ещё и обратима. Этим мы будем пользоваться при построении и апгрейдах модели линейной регрессии. Матрицы $X$ и $X^T$ можно умножать в любом порядке. В обоих случаях получится симметричная квадратная матрица."
   ]
  },
  {
   "cell_type": "markdown",
   "metadata": {},
   "source": [
    "*Смотри блокнот \"extra_3\"*"
   ]
  },
  {
   "cell_type": "code",
   "execution_count": 32,
   "metadata": {},
   "outputs": [],
   "source": [
    "# Задание 7.1\n",
    "\n",
    "A = np.array([[5,-1,3,1,2], [-2,8,5,-1,1]])\n",
    "x = np.array([1,2,3,4,5])"
   ]
  },
  {
   "cell_type": "code",
   "execution_count": 33,
   "metadata": {},
   "outputs": [
    {
     "data": {
      "text/plain": [
       "array([26, 30])"
      ]
     },
     "execution_count": 33,
     "metadata": {},
     "output_type": "execute_result"
    }
   ],
   "source": [
    "A@x"
   ]
  },
  {
   "cell_type": "code",
   "execution_count": 34,
   "metadata": {},
   "outputs": [],
   "source": [
    "# Задание 7.2\n",
    "\n",
    "A = np.array([[1,9,8,5], [3,6,3,2], [3,3,3,3], [0,2,5,9], [4,4,1,2]])\n",
    "B = np.array([[1,-1,0,1,1], [-2,0,2,-1,1]])"
   ]
  },
  {
   "cell_type": "code",
   "execution_count": 35,
   "metadata": {},
   "outputs": [
    {
     "data": {
      "text/plain": [
       "array([[  2,   9,  11,  14],\n",
       "       [  8, -10, -14, -11]])"
      ]
     },
     "execution_count": 35,
     "metadata": {},
     "output_type": "execute_result"
    }
   ],
   "source": [
    "B@A"
   ]
  },
  {
   "cell_type": "code",
   "execution_count": 36,
   "metadata": {},
   "outputs": [],
   "source": [
    "# Задание 7.3\n",
    "\n",
    "x = np.array([1,2,1,0,4])\n",
    "y = np.array([2,1,-1,1,0])\n",
    "z = np.array([-1,1,-1,0,0])"
   ]
  },
  {
   "cell_type": "code",
   "execution_count": 37,
   "metadata": {},
   "outputs": [
    {
     "name": "stdout",
     "output_type": "stream",
     "text": [
      "[[ 6  3  0  2  4]\n",
      " [ 3  6  0  1  8]\n",
      " [ 0  0  3 -1  4]\n",
      " [ 2  1 -1  1  0]\n",
      " [ 4  8  4  0 16]]\n"
     ]
    }
   ],
   "source": [
    "A = np.array([x, y, z])\n",
    "print(A.T@A)"
   ]
  },
  {
   "cell_type": "code",
   "execution_count": 38,
   "metadata": {},
   "outputs": [],
   "source": [
    "# Задание 7.4\n",
    "\n",
    "Count_DF = pd.DataFrame({\n",
    "    'Женские стрижки': [10, 2, 12, 4, 6, 10, 22, 7], \n",
    "    'Мужские стрижки': [5, 21, 12, 8, 25, 3, 1, 0], \n",
    "    'Окрашивания':[12, 3, 0, 18, 27, 2, 4, 31],\n",
    "    'Укладка':[15, 25, 30, 14, 25, 17, 25, 31],\n",
    "    'Уход':[10, 6, 4, 5, 18, 12, 20, 28]\n",
    "    }, \n",
    "    index=['Аня', 'Борис', 'Вика', 'Галя', 'Дима', 'Егор', 'Женя','Юра']\n",
    ")\n",
    "Price_DF = pd.DataFrame({\n",
    "    'Женские стрижки': [2, 1.8, 2, 1.8, 2.5, 5, 1.1, 4.5], \n",
    "    'Мужские стрижки': [1.5, 2.5, 2, 1.2, 3.5, 5, 1, 4], \n",
    "    'Окрашивания':[1, 1, 0, 2.8, 2, 3, 1.5, 2.5],\n",
    "    'Укладка':[0.8, 1, 0.5, 0.8, 1, 2, 0.5, 1],\n",
    "    'Уход':[1, 1, 2, 2, 1.5, 2.5, 1.7, 2] \n",
    "    }, \n",
    "    index=['Аня', 'Борис', 'Вика', 'Галя', 'Дима', 'Егор', 'Женя','Юра']\n",
    ")\n",
    "com = np.array([0.2, 0.2, 0.3, 0.1, 0.1])"
   ]
  },
  {
   "cell_type": "code",
   "execution_count": 39,
   "metadata": {},
   "outputs": [
    {
     "name": "stdout",
     "output_type": "stream",
     "text": [
      "[11.3  15.22 11.9  20.6  41.9  21.2  11.49 38.25]\n"
     ]
    }
   ],
   "source": [
    "P = Price_DF.values\n",
    "C = Count_DF.values\n",
    "salon_inc = (P*C)@(com)\n",
    "print(salon_inc)"
   ]
  },
  {
   "cell_type": "code",
   "execution_count": 40,
   "metadata": {},
   "outputs": [
    {
     "name": "stdout",
     "output_type": "stream",
     "text": [
      "[ 50.2   74.88  59.1   67.8  166.6  113.8   66.21 157.75]\n"
     ]
    }
   ],
   "source": [
    "# Задание 7.5\n",
    "\n",
    "P = Price_DF.values\n",
    "C = Count_DF.values\n",
    "styl_inc = (P*C)@(np.ones(5)-com)\n",
    "print(styl_inc)"
   ]
  },
  {
   "cell_type": "markdown",
   "metadata": {},
   "source": [
    "# <center>Обратная матрица</center>"
   ]
  },
  {
   "cell_type": "markdown",
   "metadata": {},
   "source": [
    "Из школьного курса алгебры известно, что операция деления числа $b$ на число $a$ — это на самом деле умножение числа $b$ на число, обратное $a$.\n",
    "\n",
    "Обратным к числу $a$ называется такое число $a^{-1}$, которое в произведении с числом $a$ даёт 1:\n",
    "\n",
    "$$a^{-1}-\\textrm{т}\\textrm{а}\\textrm{к}\\textrm{о}\\textrm{е}\\ \\textrm{ч}\\textrm{и}\\textrm{с}\\textrm{л}\\textrm{о},\\ \\textrm{ч}\\textrm{т}\\textrm{о}\\ aa^{-1}=1\\ \\textrm{и}\\textrm{л}\\textrm{и}\\ a^{-1}=\\frac{1}{a}$$\n",
    "\n",
    "Например, обратным к числу 2 будет число $2^{-1}=\\frac{1}{2}=0.5$.\n",
    "\n",
    "> Обратные числа есть у всех чисел, кроме нуля.\n",
    "\n",
    "> Обратное число всегда одно, и неважно, с какой стороны на него умножать. "
   ]
  },
  {
   "cell_type": "markdown",
   "metadata": {},
   "source": [
    "Сразу оговоримся, что мы будем рассматривать **только квадратные матрицы**, так как только для них существуют обратные.\n",
    "\n",
    "Обратной к матрице $A$ порядка $n$ называется такая матрица $A^{-1}$ порядка $n$, которая в произведении с матрицей $A$ даёт единичную матрицу. Формализуем это выражение:\n",
    "\n",
    "$$A^{-1},-\\textrm{т}\\textrm{а}\\textrm{к}\\textrm{а}\\textrm{я}\\ \\textrm{м}\\textrm{а}\\textrm{т}\\textrm{р}\\textrm{и}\\textrm{ц}\\textrm{а},\\ \\textrm{ч}\\textrm{т}\\textrm{о}\\ A\\cdot A^{-1}=E\\ ,\\ {\\mathrm{dim} \\left(A^{-1}\\right)\\ }={\\mathrm{dim} \\left(A\\right)\\ }=(n,\\ n)$$"
   ]
  },
  {
   "cell_type": "markdown",
   "metadata": {},
   "source": [
    "1) Произведение матрицы и обратной к ней является перестановочным (коммутативным).\n",
    "\n",
    "$$A\\cdot A^{-1}=A^{-1}\\cdot A=E$$\n",
    "\n",
    "2) Обратная матрица существует не всегда."
   ]
  },
  {
   "cell_type": "markdown",
   "metadata": {},
   "source": [
    "Подсчёт обратной матрицы (2,2):\n",
    "$${\\left( \\begin{array}{cc} a_{11} & a_{12} \\\\ a_{21} & a_{22} \\end{array} \\right)}^{-1}=\\frac{1}{a_{11}a_{22}-a_{12}a_{21}}\\cdot \\left( \\begin{array}{cc} a_{22} & -a_{12} \\\\ -a_{21} & a_{11} \\end{array} \\right),$$\n",
    "\n",
    "Для вычисления обратной матрицы размера $(2,2)$ необходимо:\n",
    "\n",
    "* поменять элементы, находящиеся на главной диагонали, местами;\n",
    "\n",
    "* элементы, находящиеся на побочной диагонали, умножить на $(-1)$;\n",
    "\n",
    "* результат разделить на число $\\frac{1}{a_{11}a_{22}-a_{12}a_{21}}$."
   ]
  },
  {
   "cell_type": "markdown",
   "metadata": {},
   "source": [
    "Обратная матрица в *Python* вычисляется с помощью функции `numpy.linalg.inv()`:"
   ]
  },
  {
   "cell_type": "code",
   "execution_count": 41,
   "metadata": {},
   "outputs": [
    {
     "data": {
      "text/plain": [
       "matrix([[ 1,  2,  3],\n",
       "        [ 4,  5,  6],\n",
       "        [ 7,  8, 10]])"
      ]
     },
     "execution_count": 41,
     "metadata": {},
     "output_type": "execute_result"
    }
   ],
   "source": [
    "A = np.matrix('1,2,3; 4,5,6; 7, 8, 10')\n",
    "A"
   ]
  },
  {
   "cell_type": "code",
   "execution_count": 42,
   "metadata": {},
   "outputs": [
    {
     "data": {
      "text/plain": [
       "matrix([[-0.66666667, -1.33333333,  1.        ],\n",
       "        [-0.66666667,  3.66666667, -2.        ],\n",
       "        [ 1.        , -2.        ,  1.        ]])"
      ]
     },
     "execution_count": 42,
     "metadata": {},
     "output_type": "execute_result"
    }
   ],
   "source": [
    "np.linalg.inv(A)"
   ]
  },
  {
   "cell_type": "markdown",
   "metadata": {},
   "source": [
    "> Разделить матрицу $B$ на матрицу $A$ означает умножить $B$ на $A^{-1}$."
   ]
  },
  {
   "cell_type": "markdown",
   "metadata": {},
   "source": [
    "## <center>Определитель матрицы</center>"
   ]
  },
  {
   "cell_type": "markdown",
   "metadata": {},
   "source": [
    "**Определитель матрицы** — это специальная числовая характеристика квадратных матриц, которая является своего рода мерой вырожденности матрицы: чем ближе определитель к нулю, тем хуже работают стандартные численные алгоритмы для вычисления обратных матриц.\n",
    "\n",
    "Обозначение: $\\mathrm{det}\\mathrm{}(A)$ или $|A|$.\n",
    "\n",
    "> У определителя также имеется и геометрический смысл. Модуль определителя равен объёму $n$-мерного параллелепипеда, натянутого на столбцы матрицы."
   ]
  },
  {
   "cell_type": "markdown",
   "metadata": {},
   "source": [
    "В простейшем случае матрицы 2x2 для расчёта определителя необходимо просто перемножить элементы главной и побочной диагоналей и вычесть второе из первого.\n",
    "\n",
    "$$\\mathrm{det}\\mathrm{}(A)=det\\left( \\begin{array}{cc} a & b \\\\ c & d \\end{array} \\right)=ad-bc$$"
   ]
  },
  {
   "cell_type": "markdown",
   "metadata": {},
   "source": [
    "В *Python* определитель считается с помощью функции `np.linalg.det()`."
   ]
  },
  {
   "cell_type": "code",
   "execution_count": 43,
   "metadata": {},
   "outputs": [
    {
     "name": "stdout",
     "output_type": "stream",
     "text": [
      "-2.9999999999999996\n"
     ]
    }
   ],
   "source": [
    "A = np.matrix (\"1, 2, 3; 4, 5, 6 ; 7, 8, 10\")\n",
    "print(np.linalg.det(A))"
   ]
  },
  {
   "cell_type": "markdown",
   "metadata": {},
   "source": [
    "У определителя есть множество полезных свойств. \n",
    "\n",
    "1) Определитель единичной матрицы предсказуемо равен единице:\n",
    "\n",
    "$${\\mathrm{det} \\left(E\\right)\\ }=1$$\n",
    "\n",
    "2) Для диагональной матрицы определитель равен произведению диагональных элементов:\n",
    "\n",
    "$${\\mathrm{det} \\left(diag({\\alpha }_1,\\ {\\alpha }_2,\\ \\dots ,{\\alpha }_n\\right))\\ }={\\alpha }_1\\cdot {\\alpha }_2\\cdot \\dots \\cdot {\\alpha }_n$$\n",
    "\n",
    "3) При умножении матрицу на константу $\\beta \\in \\mathbb{R}$ определитель увеличивается в $\\beta^n$ раз, где $n$ — порядок матрицы:\n",
    "\n",
    "$${\\mathrm{det} \\left(\\beta A\\right)\\ }={\\beta }^n\\mathrm{det}\\mathrm{}(A)$$\n",
    "\n",
    "4) При транспонировании определитель матрицы не изменяется:\n",
    "\n",
    "$${\\mathrm{det} \\left(A\\right)\\ }=\\mathrm{det}\\mathrm{}(A^T)$$\n",
    "\n",
    "5) Определитель произведения матриц $A$ и $B$ равен произведению определителей этих матриц и не зависит от порядка умножения:\n",
    "\n",
    "$${\\mathrm{det} \\left(A\\cdot B\\right)=det\\left(B\\cdot A\\right)=det\\left(A\\right)\\cdot \\ }det\\left(B\\right)$$\n",
    "\n",
    "6) Из последнего свойства определителя получается связь определителей матрицы и соответствующей ей обратной матрицы: их произведение равно единице:\n",
    "\n",
    "$${\\mathrm{det} \\left(A\\right)\\ }{\\mathrm{det} \\left(A^{-1}\\right)=1\\ }$$"
   ]
  },
  {
   "cell_type": "markdown",
   "metadata": {},
   "source": [
    "## <center>Вырожденность матрицы</center>"
   ]
  },
  {
   "cell_type": "markdown",
   "metadata": {},
   "source": [
    "Матрица $A$ называется вырожденной, если её определитель равен 0:\n",
    "\n",
    "$${\\mathrm{A-}\\textrm{в}\\textrm{ы}\\textrm{р}\\textrm{о}\\textrm{ж}\\textrm{д}\\textrm{е}\\textrm{н}\\textrm{н}\\textrm{а}\\textrm{я},\\ \\textrm{е}\\textrm{с}\\textrm{л}\\textrm{и}\\ \\mathrm{det} \\left(A\\right)\\ }=0$$\n",
    "\n",
    "Для вырожденных матриц **не существует обратных матриц**, так как в противном случае пришлось бы делить на 0 при подсчёте. Строки и столбцы такой матрицы являются линейно зависимыми и выражаются друг через друга. \n",
    "\n",
    "Однако полностью вырожденные матрицы существуют только в теории. На практике мы сталкиваемся с матрицами, близкими к вырожденным. Определитель таких матриц не равен 0, но близок к нему (например, равен $10^{-5}$):\n",
    "\n",
    "$${\\mathrm{det} \\left(A\\right)\\ }\\to 0$$"
   ]
  },
  {
   "cell_type": "markdown",
   "metadata": {},
   "source": [
    "# <center>СЛАУ</center>\n",
    "\n",
    "# <center>Система линейных алгебраических уравнений</center>"
   ]
  },
  {
   "cell_type": "markdown",
   "metadata": {},
   "source": [
    "Пример **неоднородной СЛАУ** — системы, у которой хотя бы один коэффициент справа отличен от 0:\n",
    "\n",
    "$$\\left\\{ \\begin{array}{c} 2x+3y=1540 \\\\ 2y-x=210 \\end{array} \\right.$$\n",
    "\n",
    "\n",
    "Если все коэффициенты справа равны 0, то система называется **однородной СЛАУ**:\n",
    "\n",
    "$$\\left\\{ \\begin{array}{c} 2x+3y=0 \\\\ 2y-x=0 \\end{array} \\right.$$\n",
    "\n",
    "\n",
    "> Системы со множеством возможных решений называются неопределёнными и представляют особый интерес в линейной алгебре.\n",
    "\n",
    "Совокупность уравнений первой степени, в которых каждая переменная и коэффициенты в ней являются вещественными числами, называется **системой линейных алгебраических уравнений (СЛАУ)** и в общем случае записывается как:\n",
    "\n",
    "$$\\left\\{ \\begin{array}{c} a_{11}x_1+a_{12}x_2+\\dots +a_{1m}x_m=b_1 \\\\ a_{21}x_1+a_{22}x_2+\\dots +a_{2m}x_m=b_2 \\\\ \\dots \\\\ a_{n1}x_1+a_{n2}x_2+\\dots +a_{nm}x_m=b_n \\end{array} \\right.\\ (1),$$\n",
    "\n",
    "где\n",
    "\n",
    "* $n$ — количество уравнений;\n",
    "* $m$ — количество переменных;\n",
    "* $x_i$ — неизвестные переменные системы;\n",
    "* $a_{ij}$ — коэффициенты системы;\n",
    "* $b_i$ — свободные члены системы."
   ]
  },
  {
   "cell_type": "markdown",
   "metadata": {},
   "source": [
    "СЛАУ (1) называется **однородной**, если все свободные члены системы равны 0 $b_1=b_2=⋯=b_n=0$:\n",
    "\n",
    "$$\\textrm{С}\\textrm{Л}\\textrm{А}\\textrm{У}-\\textrm{о}\\textrm{д}\\textrm{н}\\textrm{о}\\textrm{р}\\textrm{о}\\textrm{д}\\textrm{н}\\textrm{а}\\textrm{я},\\ \\textrm{е}\\textrm{с}\\textrm{л}\\textrm{и}\\ \\forall b_i=0$$"
   ]
  },
  {
   "cell_type": "markdown",
   "metadata": {},
   "source": [
    "СЛАУ (1) называется **неоднородной**, если хотя бы один из свободных членов системы отличен от 0:\n",
    "\n",
    "$$\\textrm{С}\\textrm{Л}\\textrm{А}\\textrm{У}- \\textrm{н}\\textrm{е}\\textrm{о}\\textrm{д}\\textrm{н}\\textrm{о}\\textrm{р}\\textrm{о}\\textrm{д}\\textrm{н}\\textrm{а}\\textrm{я},\\ \\textrm{е}\\textrm{с}\\textrm{л}\\textrm{и}\\ \\exists b_i\\neq 0$$"
   ]
  },
  {
   "cell_type": "markdown",
   "metadata": {},
   "source": [
    "Решением СЛАУ (1) называется такой набор значений неизвестных переменных $x_1,x_2,…,x_n$ при котором каждое уравнение системы превращается в равенство.\n",
    "\n",
    "СЛАУ (1) называется **определённой**, если она имеет только одно решение, и **неопределённой**, если возможно больше одного решения.\n",
    "\n",
    "Любая **однородная** СЛАУ может иметь **только два случая решения**:\n",
    "\n",
    "* Только одно тривиальное решение — все независимые переменные равны 0: $\\forall x_i=0$. Данное решение существует всегда.\n",
    "\n",
    "* Бесконечное множество решений."
   ]
  },
  {
   "cell_type": "markdown",
   "metadata": {},
   "source": [
    "## <center>Матричная запись СЛАУ</center>"
   ]
  },
  {
   "cell_type": "markdown",
   "metadata": {},
   "source": [
    "Любую СЛАУ можно представить в матричном виде: $A\\overrightarrow{x}=\\overrightarrow{b}$. Данная запись системы называется **матричным уравнением**.\n",
    "\n",
    "Если СЛАУ однородная, то принято записывать вектор $\\overrightarrow{b}$ как нулевой вектор $\\overrightarrow{0}$: $A\\overrightarrow{x}=\\overrightarrow{0}$."
   ]
  },
  {
   "cell_type": "markdown",
   "metadata": {},
   "source": [
    "Введём матрицу системы $A$. Она будет квадратной (2х2) и будет состоять из двух векторов-столбцов: ${\\left(a_{11},\\ a_{21}\\right)}^T={\\left(2,\\ 2\\right)}^T$ и ${{\\left(a_{12},\\ a_{22}\\right)}^T=\\left(-1,\\ 2\\right)}^T$:\n",
    "\n",
    "$$A=\\left( \\begin{array}{cc} 2 & 3 \\\\ -1 & 2 \\end{array} \\right)$$\n",
    "\n",
    "Введём вектор неизвестных коэффициентов $\\overrightarrow{x}={{\\left(x_1,\\ x_2\\right)}^T=\\left(x,\\ y\\right)}^T$ и вектор свободных членов $\\overrightarrow{b}={\\left(b_1,\\ b_2\\right)}^T=(1540,\\ 210)$.\n",
    "\n",
    "Теперь у нас есть все компоненты, чтобы составить матричное уравнение:\n",
    "\n",
    "$$A\\overrightarrow{x}=\\overrightarrow{b}$$\n",
    "\n",
    "$$\\left( \\begin{array}{cc} 2 & 3 \\\\ -1 & 2 \\end{array} \\right)\\left( \\begin{array}{c} x \\\\ y \\end{array} \\right)=\\left( \\begin{array}{c} 1540 \\\\ 210 \\end{array} \\right)$$"
   ]
  },
  {
   "cell_type": "markdown",
   "metadata": {},
   "source": [
    "## <center>Линейная зависимость системы векторов</center>"
   ]
  },
  {
   "cell_type": "markdown",
   "metadata": {},
   "source": [
    "Набор векторов называется **линейно зависимым**, если нам удалось создать нетривиальную нулевую линейную комбинацию, т. е. взять такую взвешенную сумму векторов $\\overrightarrow{v_1},\\overrightarrow{v_2},\\dots ,\\overrightarrow{v_m}$ с коэффициентами ${\\omega }_1{,\\omega }_2,\\dots ,{\\omega }_m$, что в итоге получился нулевой вектор и при этом не все коэффициенты $\\omega$ равны нулю:\n",
    "\n",
    "То есть $\\overrightarrow{v_1},\\overrightarrow{v_2},\\dots ,\\overrightarrow{v_m}$ линейно зависимы, если $\\exists \\  {\\omega }_1{,\\omega }_2,\\dots ,{\\omega }_m$:\n",
    "\n",
    "$${\\omega }_1\\overrightarrow{v_1}+{\\omega }_2\\overrightarrow{v_2}+\\dots +{\\omega }_m\\overrightarrow{v_m}=\\overrightarrow{0}$$"
   ]
  },
  {
   "cell_type": "markdown",
   "metadata": {},
   "source": [
    "Обобщим наш метод определения линейной (не)зависимости с помощью СЛАУ в виде **алгоритма**:\n",
    "\n",
    "1) Для начала необходимо составить условие линейной зависимости векторов:\n",
    "\n",
    "$${\\omega }_1\\overrightarrow{v_1}+{\\omega }_2\\overrightarrow{v_2}+\\dots +{\\omega }_m\\overrightarrow{v_m}=\\overrightarrow{0}$$\n",
    "\n",
    "Затем нужно преобразовать полученную однородную СЛАУ к матричному виду, $A\\overrightarrow{\\omega }=\\overrightarrow{0}$, привести матрицу $A$ к ступенчатому виду и решить исходную СЛАУ.\n",
    "\n",
    "2) Если у системы есть ненулевое решение, то есть хотя бы один из коэффициентов ${\\omega }_i\\neq 0$, то векторы являются линейно зависимыми.\n",
    "\n",
    "3) В противном случае векторы линейно независимы.\n",
    "\n",
    "> На самом деле для определения линейной зависимости векторов нам будет достаточно знать, существует ли вообще ненулевое решение, а сами коэффициенты $\\omega_i$ нас не интересуют. В этом нам поможет такая характеристика матрицы, как **ранг**."
   ]
  },
  {
   "cell_type": "markdown",
   "metadata": {},
   "source": [
    "## <center>Ранг матрицы</center>"
   ]
  },
  {
   "cell_type": "markdown",
   "metadata": {},
   "source": [
    "$$\\left( \\begin{array}{ccc} 1 & 1 & 1 \\\\ 0 & 1 & 2 \\\\ 0 & 0 & 0 \\\\ 0 & 0 & 0 \\end{array} \\right)\\textrm{и}\\left( \\begin{array}{ccc} 1 & 1 & 1 \\\\ 0 & 1 & 2 \\\\ 0 & 0 & 1 \\\\ 0 & 0 & 0 \\end{array} \\right)$$\n",
    "\n",
    "В первом случае у нас есть две нулевые строки. Таким образом, во всей матрице независимых столбцов будет два — это те столбцы, которые стоят в ступеньках. Отсюда следует, что все три столбца (векторы $\\overrightarrow{v_1}$, $\\overrightarrow{v_2}$ и $\\overrightarrow{v_3}$) являются линейно зависимыми между собой.\n",
    "\n",
    "Во втором случае все три столбца являются линейно независимыми, так как у матрицы три ступени.\n",
    "\n",
    "**Ранг матрицы** — это количество линейно независимых столбцов. Обозначение: $rk$ или $rank$.\n",
    "\n",
    "**Ранг системы векторов** — это размерность этой системы.\n",
    "\n",
    "* Если ранг равен количеству векторов в системе ($rk(A)=n$), то система векторов является линейно независимой.\n",
    "\n",
    "* Если ранг меньше, чем количество векторов в системе ($rk(A)<n$), можно смело говорить, что система векторов является линейно зависимой. В линейно независимой системе нельзя выразить один из векторов через остальные, в зависимой — можно, однако не любой. "
   ]
  },
  {
   "cell_type": "markdown",
   "metadata": {},
   "source": [
    "Знание ранга даёт нам только количество линейно независимых векторов, но не говорит, какие именно векторы выражаются или не выражаются друг через друга. Для ответа на этот вопрос необходимо найти **базис системы**.\n",
    "\n",
    "**Базис** — это такая часть системы векторов $\\overrightarrow{v_1},\\ \\overrightarrow{v_2},\\ \\dots ,\\ \\overrightarrow{v_k}$, через которую можно выразить все остальные векторы $k \\le n$. \n",
    "\n",
    "**Базис** — это максимальная линейно независимая подсистема векторов $\\overrightarrow{v_1}, \\ \\overrightarrow{v_2}, \\ \\dots, \\ \\overrightarrow{v_n}$.\n",
    "\n",
    "> Количество векторов в базисе совпадает с рангом системы. При этом самих базисов может быть несколько, мы выбираем их произвольно."
   ]
  },
  {
   "cell_type": "markdown",
   "metadata": {},
   "source": [
    "Рассмотрим пример того, как вычислить ранг в *Python*. Для этого в библиотеке numpy существует специальная функция `linalg.matrix_rank()`:"
   ]
  },
  {
   "cell_type": "code",
   "execution_count": 44,
   "metadata": {},
   "outputs": [
    {
     "name": "stdout",
     "output_type": "stream",
     "text": [
      "2\n"
     ]
    }
   ],
   "source": [
    "v1 = np.array([1,2,3,1])\n",
    "v2 = np.array([4,5,6,1])\n",
    "v3 = np.array([7,8,9,1])\n",
    "A = np.array([v1, v2, v3]).T\n",
    "print(np.linalg.matrix_rank(A))"
   ]
  },
  {
   "cell_type": "markdown",
   "metadata": {},
   "source": [
    "Мы видим, что ранг системы равен 2, а векторов три — значит система является линейно зависимой. В качестве базиса можем взять любые два вектора. Очевидно, каждая пара здесь является линейно независимой, т. к. никакие два вектора не пропорциональны."
   ]
  },
  {
   "cell_type": "code",
   "execution_count": 45,
   "metadata": {},
   "outputs": [
    {
     "name": "stdout",
     "output_type": "stream",
     "text": [
      "3\n"
     ]
    }
   ],
   "source": [
    "v1 = np.array([1,2,3,1])\n",
    "v2 = np.array([4,5,6,1])\n",
    "v3 = np.array([7,8,10,1])\n",
    "A = np.array([v1, v2, v3]).T\n",
    "print(np.linalg.matrix_rank(A))"
   ]
  },
  {
   "cell_type": "markdown",
   "metadata": {},
   "source": [
    "В данном примере ранг равен 3 — значит векторы линейно независимы и в базис войдут все три вектора."
   ]
  },
  {
   "cell_type": "markdown",
   "metadata": {},
   "source": [
    "## <center>Свойства ранга матрицы</center>"
   ]
  },
  {
   "cell_type": "markdown",
   "metadata": {},
   "source": [
    "Начнём с **прямоугольных** матриц. Пусть задана прямоугольная матрица $A$ размерностью $dim(A)=(n,m)$.\n",
    "\n",
    "* Ранг матрицы не может быть больше, чем количество её строк или столбцов:\n",
    "\n",
    "$$rk\\left(A\\right)\\le \\mathrm{min}\\mathrm{}(n,\\ m)$$\n",
    "\n",
    "* Если ранг равен одному из этих показателей, то такая матрица называется **матрицей максимального (или полного) ранга**.\n",
    "\n",
    "$$rk\\left(A\\right)=\\mathrm{min}\\mathrm{}(n,\\ m)$$"
   ]
  },
  {
   "cell_type": "markdown",
   "metadata": {},
   "source": [
    "Теперь поговорим о **квадратных** матрицах. \n",
    "\n",
    "Пусть задана прямоугольная матрица $A$ размерностью $dim(A)=(n,n)$.\n",
    "\n",
    "В квадратных матрицах ранг связан с обратимостью и вырожденностью. Ранее мы выяснили, что квадратная матрица порядка $n$ обратима, то есть для неё существует $A^{-1}$ тогда и только тогда, когда её определитель не равен нулю: $det(A) \\neq 0$.\n",
    "\n",
    "Равносильными условиями являются линейная независимость столбцов (или строк), а также максимальный ранг. То есть для матрицы $A$ существует обратная матрица $A^{-1}$, если:\n",
    "\n",
    "* Все столбцы/строки $A$ линейно независимы.\n",
    "\n",
    "* Ранг матрицы равен её порядку: $rk(A)=n$.\n",
    "\n",
    "Любая квадратная матрица не максимального ранга вырождена (у неё нет обратной $A^{-1}$), и чем меньше ранг, тем меньше линейно независимых столбцов и строк в матрице:\n",
    "\n",
    "$$rk\\left(A\\right)<n$$\n",
    "\n",
    "> В регрессиях это может означать, что чем меньше ранг матрицы значений факторов, тем больше в ней мусора: факторов, которые выражаются через другие и не несут в себе никакой дополнительной информации. Это и называется **мультиколлинеарностью**."
   ]
  },
  {
   "cell_type": "markdown",
   "metadata": {},
   "source": [
    "*Смотри блокнот \"extra_4\"*"
   ]
  },
  {
   "cell_type": "code",
   "execution_count": 46,
   "metadata": {},
   "outputs": [],
   "source": [
    "# Задание 10.1\n",
    "\n",
    "A = np.array([[8, 6, 11], [7, 5, 9],[6, 10, 6]])"
   ]
  },
  {
   "cell_type": "code",
   "execution_count": 48,
   "metadata": {},
   "outputs": [
    {
     "name": "stdout",
     "output_type": "stream",
     "text": [
      "0.375\n"
     ]
    }
   ],
   "source": [
    "A_inv = np.linalg.inv(A)\n",
    "print(round(A_inv[1,0], 3))"
   ]
  },
  {
   "cell_type": "code",
   "execution_count": 49,
   "metadata": {},
   "outputs": [],
   "source": [
    "# Задание 10.2\n",
    "\n",
    "v1 = np.array([9, 10, 7, 7, 9])\n",
    "v2 = np.array([2, 0, 5, 1, 4])\n",
    "v3 = np.array([4, 0, 0, 4, 1])\n",
    "v4 = np.array([3, -4, 3, -1, -4])"
   ]
  },
  {
   "cell_type": "code",
   "execution_count": 50,
   "metadata": {},
   "outputs": [
    {
     "data": {
      "text/plain": [
       "4"
      ]
     },
     "execution_count": 50,
     "metadata": {},
     "output_type": "execute_result"
    }
   ],
   "source": [
    "A = np.array([v1,v2,v3,v4]).T\n",
    "np.linalg.matrix_rank(A)"
   ]
  },
  {
   "cell_type": "code",
   "execution_count": 51,
   "metadata": {},
   "outputs": [
    {
     "name": "stdout",
     "output_type": "stream",
     "text": [
      "-35\n"
     ]
    }
   ],
   "source": [
    "# Задание 10.4\n",
    "\n",
    "G = A.T @ A\n",
    "print(G[0,3])"
   ]
  },
  {
   "cell_type": "code",
   "execution_count": 52,
   "metadata": {},
   "outputs": [
    {
     "name": "stdout",
     "output_type": "stream",
     "text": [
      "3716648\n"
     ]
    }
   ],
   "source": [
    "# Задание 10.5\n",
    "\n",
    "det = np.linalg.det(G)\n",
    "print(round(det))"
   ]
  },
  {
   "cell_type": "code",
   "execution_count": 53,
   "metadata": {},
   "outputs": [
    {
     "name": "stdout",
     "output_type": "stream",
     "text": [
      "-0.026\n"
     ]
    }
   ],
   "source": [
    "# Задание 10.7\n",
    "\n",
    "G_inv = np.linalg.inv(G)\n",
    "print(round(G_inv[2,0], 3))"
   ]
  }
 ],
 "metadata": {
  "kernelspec": {
   "display_name": "Python 3",
   "language": "python",
   "name": "python3"
  },
  "language_info": {
   "codemirror_mode": {
    "name": "ipython",
    "version": 3
   },
   "file_extension": ".py",
   "mimetype": "text/x-python",
   "name": "python",
   "nbconvert_exporter": "python",
   "pygments_lexer": "ipython3",
   "version": "3.12.2"
  }
 },
 "nbformat": 4,
 "nbformat_minor": 2
}
