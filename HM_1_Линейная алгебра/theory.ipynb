{
 "cells": [
  {
   "cell_type": "markdown",
   "metadata": {},
   "source": [
    "## <center>Основы математического языка: кванторы</center>"
   ]
  },
  {
   "cell_type": "markdown",
   "metadata": {},
   "source": [
    "Познакомимся с **кванторами** и символами, позволяющими записывать математические формулировки:\n",
    "\n",
    "* Символ $\\forall$ читается как «для любого» и называется **квантором всеобщности**. Он заменяет собой слова «любой», «всякий», «для любого» и т. п.\n",
    "\n",
    "* Символ $\\exists$ читается как «существует» и называется **квантором существования**, а $\\exists !$ читается как «существует единственный» и называется **квантором существования и единственности**.   заменяет слова «существует», «найдётся» и т. п.\n",
    "\n",
    "* Знак импликации $\\rightarrow$ (или $\\Rightarrow$) воспринимается как замена слов «следует», «влечёт», «вытекает», «имеет место», «выполняется».\n",
    "\n",
    "* Знак равносильности или эквивалентности $\\leftrightarrow$ (или $\\Leftrightarrow$) заменяет словосочетания «тогда и только тогда, когда», «в том и только том случае, когда», «если и только если».\n",
    "\n",
    "* Двоеточие $:$ в математических формулах читается как «такой, что».\n",
    "\n",
    "* Вертикальная черта $|$ означает «при условии, что»."
   ]
  },
  {
   "cell_type": "markdown",
   "metadata": {},
   "source": [
    "# <center>Основные понятия линейной алгебры: векторы</center>"
   ]
  },
  {
   "cell_type": "markdown",
   "metadata": {},
   "source": [
    "Наиболее общее определение, которое подойдёт ко всем случаям: **Вектор** — это набор чисел, записанных в определённом порядке (в столбец или в строку).\n",
    "\n",
    "$$\\overrightarrow{s}=(s_1, s_2, ..., s_m)$$\n",
    "\n",
    "$$\\overrightarrow{s}=\\left( \\begin{array}{c} s_1 \\\\ s_2 \\\\ \\dots \\\\ s_m \\end{array} \\right)$$\n",
    "\n",
    "Числа $s_1, s_2, ..., s_m$ называются **координатами вектора**, а количество этих координат ${\\mathrm{dim} \\left(\\overrightarrow{s}\\right)\\ }=m$ называется **размерностью вектора**."
   ]
  },
  {
   "cell_type": "code",
   "execution_count": 11,
   "metadata": {},
   "outputs": [],
   "source": [
    "import numpy as np"
   ]
  },
  {
   "cell_type": "code",
   "execution_count": 12,
   "metadata": {},
   "outputs": [
    {
     "data": {
      "text/plain": [
       "array([33, 64, 50, 45])"
      ]
     },
     "execution_count": 12,
     "metadata": {},
     "output_type": "execute_result"
    }
   ],
   "source": [
    "# Задаём вектор как одномерный массив numpy с помощью функции np.array\n",
    "s = np.array([33, 64, 50, 45])\n",
    "s"
   ]
  },
  {
   "cell_type": "code",
   "execution_count": 13,
   "metadata": {},
   "outputs": [
    {
     "data": {
      "text/plain": [
       "50"
      ]
     },
     "execution_count": 13,
     "metadata": {},
     "output_type": "execute_result"
    }
   ],
   "source": [
    "# Находим третью координату\n",
    "s[2]"
   ]
  },
  {
   "cell_type": "code",
   "execution_count": 14,
   "metadata": {},
   "outputs": [
    {
     "data": {
      "text/plain": [
       "4"
      ]
     },
     "execution_count": 14,
     "metadata": {},
     "output_type": "execute_result"
    }
   ],
   "source": [
    "# Находим размерность вектора\n",
    "len(s)"
   ]
  },
  {
   "cell_type": "markdown",
   "metadata": {},
   "source": [
    "Длина трёхмерного вектора $\\overrightarrow{s}$ определяется аналогично двухмерному:\n",
    "\n",
    "$$\\overrightarrow{s}=\\sqrt{{\\left(s_1\\right)}^2+{\\left(s_2\\right)}^2+{\\left(s_3\\right)}^2}$$"
   ]
  },
  {
   "cell_type": "markdown",
   "metadata": {},
   "source": [
    "> В общем случае вектор $\\overrightarrow{\\boldsymbol{s}}\\boldsymbol{=(}{\\boldsymbol{s}}_{\\boldsymbol{1}}\\boldsymbol{,\\ }{\\boldsymbol{s}}_{\\boldsymbol{2}}\\boldsymbol{,\\ \\dots ,\\ }{\\boldsymbol{s}}_{\\boldsymbol{m}}\\boldsymbol{)}$ размерностью ${\\boldsymbol{dim} \\left(\\overrightarrow{\\boldsymbol{s}}\\right)\\ }\\boldsymbol{=}\\boldsymbol{m}$ задаёт в векторном $m$-мерном пространстве $\\boldsymbol{S}\\boldsymbol{\\subset }{\\mathbb{R}}^{\\boldsymbol{m}}$ направленный отрезок с началом в точке $O=(0,0,…,0)$ и концом в точке $(s_1,s_2,…,s_m)$. "
   ]
  },
  {
   "cell_type": "markdown",
   "metadata": {},
   "source": [
    "Длина такого вектора $\\overrightarrow{s}$ будет вычисляться так:\n",
    "\n",
    "$$\\overrightarrow{s}=\\sqrt{{\\left(s_1\\right)}^2+{\\left(s_2\\right)}^2+\\dots +{\\left(s_m\\right)}^2}=\\sqrt{\\sum^m_{j=1}{{\\left(s_j\\right)}^2}}$$"
   ]
  },
  {
   "cell_type": "markdown",
   "metadata": {},
   "source": [
    "## <center>Базовые операции с векторами</center>"
   ]
  },
  {
   "cell_type": "markdown",
   "metadata": {},
   "source": [
    "Сложение и вычитание векторов в *Python* происходит при помощи знаков + и -. Причём важно задать векторы именно как массивы *numpy*, а не как обычные списки типа *list*."
   ]
  },
  {
   "cell_type": "code",
   "execution_count": 15,
   "metadata": {},
   "outputs": [],
   "source": [
    "a = np.array([10, 8, 5, 1])\n",
    "b = np.array([5, 15, 9, 7])"
   ]
  },
  {
   "cell_type": "code",
   "execution_count": 16,
   "metadata": {},
   "outputs": [
    {
     "data": {
      "text/plain": [
       "array([15, 23, 14,  8])"
      ]
     },
     "execution_count": 16,
     "metadata": {},
     "output_type": "execute_result"
    }
   ],
   "source": [
    "a + b"
   ]
  },
  {
   "cell_type": "code",
   "execution_count": 17,
   "metadata": {},
   "outputs": [
    {
     "data": {
      "text/plain": [
       "array([ 5, -7, -4, -6])"
      ]
     },
     "execution_count": 17,
     "metadata": {},
     "output_type": "execute_result"
    }
   ],
   "source": [
    "a - b"
   ]
  },
  {
   "cell_type": "markdown",
   "metadata": {},
   "source": [
    "Пусть задан вектор ${\\overrightarrow{v}}_1$ из векторного пространства $V\\subset {\\mathbb{R}}^m$:\n",
    "\n",
    "$$\\overrightarrow{v_1}=\\left( \\begin{array}{c} v_{11} \\\\ v_{12} \\\\ \\dots \\\\ v_{1m} \\end{array} \\right)$$\n",
    "\n",
    "Тогда результатом умножения векторов ${\\overrightarrow{v}}_1$ на число $\\omega \\in \\mathbb{R}$ называется новый вектор ${\\overrightarrow{v}}_2$, принадлежащий тому же векторному пространству $V$, с координатами:\n",
    "\n",
    "$$\\overrightarrow{v_2}=\\omega \\overrightarrow{v_1}=\\omega \\left( \\begin{array}{c} v_{11} \\\\ v_{12} \\\\ \\dots \\\\ v_{1m} \\end{array} \\right)=\\left( \\begin{array}{c} \\omega v_{11} \\\\ \\omega v_{12} \\\\ \\dots \\\\ \\omega v_{1m} \\end{array} \\right)$$\n",
    "\n",
    "> Векторы ${\\overrightarrow{v}}_1$ и ${\\overrightarrow{v}}_2$ пропорциональны друг другу с коэффициентом $\\omega$. По-другому такие векторы называются коллинеарными. Обозначается: ${\\overrightarrow{v}}_1||\\overrightarrow{v_2}$.\n",
    "\n",
    "Если коэффициент пропорциональности положительный ($\\omega >0$), векторы сонаправлены (смотрят в одном направлении), если отрицательный ($\\omega <0$) — противоположно направлены. Геометрически это значит, что векторы лежат на одной прямой (или параллельных прямых) и направлены в одну или противоположные стороны."
   ]
  },
  {
   "cell_type": "markdown",
   "metadata": {},
   "source": [
    "В *Python* число умножается на массив numpy обычным оператором умножения."
   ]
  },
  {
   "cell_type": "code",
   "execution_count": 18,
   "metadata": {},
   "outputs": [
    {
     "data": {
      "text/plain": [
       "array([24. ,  9. , 13.6])"
      ]
     },
     "execution_count": 18,
     "metadata": {},
     "output_type": "execute_result"
    }
   ],
   "source": [
    "a = np.array([120, 45, 68])\n",
    "omega = 0.2\n",
    "c = a * omega\n",
    "c"
   ]
  },
  {
   "cell_type": "markdown",
   "metadata": {},
   "source": [
    "> **Примечание о разнице векторов**. В строгой линейной алгебре нет такой отдельной операции, как разница векторов. Под разницей двух векторов $\\overrightarrow{v_2}$ и $\\overrightarrow{v_1}$ понимается сложение векторов $\\overrightarrow{v_2}$ и $(-1)\\overrightarrow{v_1}$."
   ]
  },
  {
   "cell_type": "markdown",
   "metadata": {},
   "source": [
    "> Геометрически умножить вектор на скаляр означает изменить его длину в $\\alpha$ раз. Если $|\\alpha |>1$, то длина вектора пропорционально увеличивается. Если $|\\alpha |<1$, то длина вектора уменьшается. Если $\\alpha$ — положительное число ($\\alpha>0$), то вектор сохраняет своё направление. Если $\\alpha$ — отрицательное число ($\\alpha<0$), то вектор меняет своё направление на противоположное."
   ]
  },
  {
   "cell_type": "markdown",
   "metadata": {},
   "source": [
    "## <center>Линейная комбинация векторов</center>"
   ]
  },
  {
   "cell_type": "markdown",
   "metadata": {},
   "source": [
    "**Линейная комбинация** — это объединение операций сложения векторов и умножения на скаляр в одну. Каждый вектор умножается на соответствующий ему коэффициент, все умноженные векторы складываются.\n",
    "\n",
    "В *Python* линейная комбинация полностью соответствует своему названию и вычисляется как комбинация сложения векторов и умножения вектора на число."
   ]
  },
  {
   "cell_type": "code",
   "execution_count": 19,
   "metadata": {},
   "outputs": [
    {
     "data": {
      "text/plain": [
       "array([1800, 3000, 2700])"
      ]
     },
     "execution_count": 19,
     "metadata": {},
     "output_type": "execute_result"
    }
   ],
   "source": [
    "p = np.array([2, 4, 5])\n",
    "v = np.array([8, 10, 2])\n",
    "s = np.array([0, 12, 7])\n",
    "omega1 = 500\n",
    "omega2 = 100\n",
    "omega3 = 0\n",
    "u = omega1*p + omega2*v + omega3*s\n",
    "u"
   ]
  },
  {
   "cell_type": "markdown",
   "metadata": {},
   "source": [
    "Самое интересное в линейных комбинациях — это особые случаи, а именно **нулевая линейная комбинация**. Линейная комбинация векторов называется нулевой, если результат линейной комбинации равен нулевому вектору.\n",
    "\n",
    "Как получить нулевой вектор из линейной комбинации? Самый простой вариант — чтобы все коэффициенты линейной комбинации были равны 0. Однако такой случай, называемый **тривиальным**, нам не интересен.\n",
    "\n",
    "Нулевая линейная комбинация называется **нетривиальной**, если хотя бы один из коэффициентов отличен от 0."
   ]
  },
  {
   "cell_type": "markdown",
   "metadata": {},
   "source": [
    "Предположим, что нам удалось составить нетривиальную комбинацию, то есть удалось подобрать такие ${\\omega }_i\\neq 0$, что вектор $\\overrightarrow{u}=\\overrightarrow{0}$.\n",
    "\n",
    "В таком случае векторы, из которых была составлена линейная комбинация $\\overrightarrow{v_1},\\ \\overrightarrow{v_2},\\ \\dots ,\\ \\overrightarrow{v_n}$, называются **линейно зависимыми**.\n",
    "\n",
    "Тогда хотя бы один из векторов, но не обязательно любой, в линейной комбинации можно выразить через другие векторы, представив его как линейную комбинацию."
   ]
  },
  {
   "cell_type": "markdown",
   "metadata": {},
   "source": [
    "Или же, возможно, как мы ни старались, но нам не удалось подобрать такие коэффициенты ${\\omega }_i\\neq 0$, чтобы составить нулевую нетривиальную линейную комбинацию. Такие векторы называются **линейно независимыми**. В таком случае ни один из векторов не выражается через другие векторы."
   ]
  },
  {
   "cell_type": "markdown",
   "metadata": {},
   "source": [
    "## <center>Скалярное произведение векторов</center>"
   ]
  },
  {
   "cell_type": "markdown",
   "metadata": {},
   "source": [
    "Существует четыре способа умножить векторы между собой:\n",
    "\n",
    "* Скалярное произведение. Результат — число. \n",
    "* Векторное произведение. Результат — вектор.\n",
    "* Смешанное произведение. Результат — число. \n",
    "* Тензорное произведение. Результат — матрица.\n",
    "\n",
    "Мы рассмотрим скалярное произведение.\n",
    "\n",
    "Чтобы найти **скалярное произведение двух векторов**, необходимо перемножить их координаты с одинаковыми номерами и сложить то, что получится.  "
   ]
  },
  {
   "cell_type": "markdown",
   "metadata": {},
   "source": [
    "В *Python* скалярное произведение векторов вычисляется при помощи функции `np.dot()`:"
   ]
  },
  {
   "cell_type": "code",
   "execution_count": 20,
   "metadata": {},
   "outputs": [
    {
     "data": {
      "text/plain": [
       "102.0"
      ]
     },
     "execution_count": 20,
     "metadata": {},
     "output_type": "execute_result"
    }
   ],
   "source": [
    "a = np.array([65, 70, 120, 30])\n",
    "w = np.array([0.4, 0.4, 0.2, 0.8])\n",
    "np.dot(a, w)"
   ]
  },
  {
   "cell_type": "markdown",
   "metadata": {},
   "source": [
    "Через скалярное произведение можно выразить длину вектора (обозначается как $\\left|\\overrightarrow{v}\\right|$ или $|\\left|\\overrightarrow{v}\\right||$).\n",
    "\n",
    "В линейной алгебре **длина вектора** определяется как квадратный корень из скалярного произведения вектора с самим собой.\n",
    "\n",
    "Длина вектора всегда неотрицательна и показывает, как близок вектор к нулевому."
   ]
  },
  {
   "cell_type": "markdown",
   "metadata": {},
   "source": [
    "Скалярное произведение — это не просто удобная форма записи умножения векторов. На самом деле скалярное произведение обладает рядом очень полезных **свойств**.\n",
    "\n",
    "1) Линейность.\n",
    "\n",
    "2) Скалярное произведение двух векторов $\\overrightarrow{v_1}$ и $\\overrightarrow{v_2}$ в точности равно произведению длин этих векторов $\\left|\\overrightarrow{v_1}\\mathrm{\\ }\\right|$ и $\\left|\\overrightarrow{v_2}\\mathrm{\\ }\\right|$ на косинус угла между ними $\\mathrm{cos}\\mathrm{}(\\overrightarrow{v_1},\\ \\overrightarrow{v_2})$.\n",
    "\n",
    "3) Из последнего свойства следует ещё одно свойство скалярного произведения. Если скалярное произведение двух векторов равно 0, то вектора ортогональны (находятся под углом 90°). И наоборот: если вектора ортогональны друг другу, их скалярное произведение равно 0."
   ]
  },
  {
   "cell_type": "markdown",
   "metadata": {},
   "source": [
    "## <center>Векторная запись линейной регрессии</center>"
   ]
  },
  {
   "cell_type": "markdown",
   "metadata": {},
   "source": [
    "$$\\hat{y}={\\omega }_0+{\\omega }_1x_1+{\\omega }_2x_2+\\dots +{\\omega }_mx_m$$\n",
    "\n",
    "Давайте добавим коэффициент 1 перед параметром $\\omega_0$:\n",
    "\n",
    "$$\\hat{y}={\\omega }_01+{\\omega }_1x_1+{\\omega }_2x_2+\\dots +{\\omega }_mx_m$$\n",
    "\n",
    "А теперь представим параметры модели в виде вектора $\\overrightarrow{\\omega }$ и признаки — в виде вектора $\\overrightarrow{x}$:\n",
    "\n",
    "$$\\overrightarrow{\\omega }=\\left( \\begin{array}{c} {\\omega }_0 \\\\ {\\omega }_1 \\\\ {\\omega }_2 \\\\ \\dots \\\\ {\\omega }_m \\end{array} \\right)\\ \\textrm{и}\\ \\overrightarrow{x}=\\left( \\begin{array}{c} 1 \\\\ x_1 \\\\ x_2 \\\\ \\dots \\\\ x_m \\end{array} \\right)$$\n",
    "\n",
    "Тогда уравнение линейной регрессии можно записать в лаконичной векторной форме скалярного произведения двух векторов $\\overrightarrow{\\omega }$ и $\\overrightarrow{x}$:\n",
    "\n",
    "$$\\hat{y}=\\overrightarrow{\\omega }\\cdot \\overrightarrow{x}$$"
   ]
  },
  {
   "cell_type": "markdown",
   "metadata": {},
   "source": [
    "Возник вопрос: как ищутся коэффициенты линейной комбинации ${\\omega }_1$ и ${\\omega }_2$? Не искать же их полным перебором.\n",
    "\n",
    "На этот вопрос в своё время ответил Гаусс и создал знакомый нам **метод наименьших квадратов (МНК)**, который мы уже многократно использовали в модулях по машинному обучению. Но, чтобы познакомиться с МНК поближе с математической точки зрения, нам с вами необходимо изучить тему матриц и матричных преобразований."
   ]
  },
  {
   "cell_type": "markdown",
   "metadata": {},
   "source": [
    "В блокноте *\"extra\"* мы рассматриваем пример нормирования вектора. Интуитивно нормирование можно объяснить так ↓\n",
    "\n",
    "**Нормирование вектора** — это получение вектора с тем же направлением, что и исходный, но с нормой 1.\n",
    "\n",
    "Норма вектора вычисляется как корень из суммы квадратов его компонент. Её физический смысл: норма показывает, насколько вектор «большой».\n",
    "\n",
    "**Длина вектора** (в физическом смысле) — это то же, что и норма, применимо к векторам в реальном пространстве.\n",
    "\n",
    "> Нормирование производится делением вектора на его норму."
   ]
  },
  {
   "cell_type": "code",
   "execution_count": 21,
   "metadata": {},
   "outputs": [],
   "source": [
    "import pandas as pd\n",
    "\n",
    "Hut_Paradise_DF = pd.DataFrame({\n",
    "    '1.Rent': [65, 70, 120, 35, 40, 50, 100, 90, 85], \n",
    "    '2.Area': [50, 52, 80, 33, 33, 44, 80, 65, 65], \n",
    "    '3.Rooms':[3, 2, 1, 1, 1, 2, 4, 3, 2],\n",
    "    '4.Floor':[5, 12, 10, 3, 6, 13, 8, 21, 5], \n",
    "    '5.Demo two weeks':[8, 4, 5, 10, 20, 12, 5, 1, 10], \n",
    "    '6.Liv.Area': [37, 40, 65, 20, 16, 35, 60, 50, 40]\n",
    "})"
   ]
  },
  {
   "cell_type": "code",
   "execution_count": 22,
   "metadata": {},
   "outputs": [],
   "source": [
    "# Задание 3.3\n",
    "\n",
    "Hut_Paradise_values = Hut_Paradise_DF.values"
   ]
  },
  {
   "cell_type": "code",
   "execution_count": 23,
   "metadata": {},
   "outputs": [
    {
     "name": "stdout",
     "output_type": "stream",
     "text": [
      "vektor for apartment 5: [40 33  1  6 20 16]\n"
     ]
    }
   ],
   "source": [
    "print('vektor for apartment 5:', Hut_Paradise_values[4])"
   ]
  },
  {
   "cell_type": "code",
   "execution_count": 25,
   "metadata": {},
   "outputs": [
    {
     "name": "stdout",
     "output_type": "stream",
     "text": [
      "vektor for floors: [ 5 12 10  3  6 13  8 21  5]\n"
     ]
    }
   ],
   "source": [
    "# Задание 3.4\n",
    "\n",
    "print('vektor for floors:', Hut_Paradise_values[:,3])"
   ]
  },
  {
   "cell_type": "code",
   "execution_count": 26,
   "metadata": {},
   "outputs": [
    {
     "name": "stdout",
     "output_type": "stream",
     "text": [
      "vektor for unliv.area: [13 12 15 13 17  9 20 15 25]\n"
     ]
    }
   ],
   "source": [
    "# Задание 3.5\n",
    "\n",
    "unliv_area = Hut_Paradise_values[:,1] - Hut_Paradise_values[:,5]\n",
    "print('vektor for unliv.area:', unliv_area)"
   ]
  },
  {
   "cell_type": "code",
   "execution_count": 28,
   "metadata": {},
   "outputs": [
    {
     "name": "stdout",
     "output_type": "stream",
     "text": [
      "1348\n"
     ]
    }
   ],
   "source": [
    "# Задание 3.6\n",
    "\n",
    "time = np.array([10,20,30,15,5,40,20,8,20])\n",
    "print(Hut_Paradise_values[:,4] @ time)"
   ]
  },
  {
   "cell_type": "code",
   "execution_count": 29,
   "metadata": {},
   "outputs": [],
   "source": [
    "# Задание 3.7\n",
    "\n",
    "u=np.array([3,0,1,1,1])\n",
    "v=np.array([0,1,0,2,-2])\n",
    "w=np.array([1,-4,-1,0,-2])"
   ]
  },
  {
   "cell_type": "code",
   "execution_count": 30,
   "metadata": {},
   "outputs": [
    {
     "name": "stdout",
     "output_type": "stream",
     "text": [
      "[-3 14  3  4  2]\n"
     ]
    }
   ],
   "source": [
    "c=2*v-3*w\n",
    "print(c)"
   ]
  }
 ],
 "metadata": {
  "kernelspec": {
   "display_name": "Python 3",
   "language": "python",
   "name": "python3"
  },
  "language_info": {
   "codemirror_mode": {
    "name": "ipython",
    "version": 3
   },
   "file_extension": ".py",
   "mimetype": "text/x-python",
   "name": "python",
   "nbconvert_exporter": "python",
   "pygments_lexer": "ipython3",
   "version": "3.12.2"
  }
 },
 "nbformat": 4,
 "nbformat_minor": 2
}
