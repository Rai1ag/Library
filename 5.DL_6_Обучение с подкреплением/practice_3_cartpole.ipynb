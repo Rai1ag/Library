{
  "nbformat": 4,
  "nbformat_minor": 0,
  "metadata": {
    "colab": {
      "provenance": []
    },
    "language_info": {
      "codemirror_mode": {
        "name": "ipython",
        "version": 3
      },
      "file_extension": ".py",
      "mimetype": "text/x-python",
      "name": "python",
      "nbconvert_exporter": "python",
      "pygments_lexer": "ipython3",
      "version": "3.7.1"
    },
    "kernelspec": {
      "name": "python3",
      "display_name": "Python 3"
    },
    "accelerator": "GPU"
  },
  "cells": [
    {
      "cell_type": "code",
      "metadata": {
        "id": "SAFNwbqH6brQ",
        "colab": {
          "base_uri": "https://localhost:8080/"
        },
        "outputId": "333945a5-7f9f-4f7c-b8d0-c7968735e159"
      },
      "source": [
        "!pip install -q tensorflow==2.1"
      ],
      "execution_count": null,
      "outputs": [
        {
          "output_type": "stream",
          "name": "stdout",
          "text": [
            "\u001b[K     |████████████████████████████████| 421.8 MB 24 kB/s \n",
            "\u001b[K     |████████████████████████████████| 50 kB 4.3 MB/s \n",
            "\u001b[K     |████████████████████████████████| 448 kB 45.8 MB/s \n",
            "\u001b[K     |████████████████████████████████| 3.8 MB 40.6 MB/s \n",
            "\u001b[?25h  Building wheel for gast (setup.py) ... \u001b[?25l\u001b[?25hdone\n",
            "\u001b[31mERROR: pip's dependency resolver does not currently take into account all the packages that are installed. This behaviour is the source of the following dependency conflicts.\n",
            "tensorflow-probability 0.16.0 requires gast>=0.3.2, but you have gast 0.2.2 which is incompatible.\u001b[0m\n"
          ]
        }
      ]
    },
    {
      "cell_type": "code",
      "metadata": {
        "id": "lglPTqADTCEE",
        "outputId": "3a793b4d-989a-4ba9-a4d2-7ccd1c9b617f",
        "colab": {
          "base_uri": "https://localhost:8080/"
        }
      },
      "source": [
        "import time\n",
        "import random\n",
        "import numpy as np\n",
        "\n",
        "import gym\n",
        "\n",
        "import tensorflow as tf\n",
        "import tensorflow.keras.layers as L\n",
        "import tensorflow.keras.models as M\n",
        "\n",
        "import matplotlib.pyplot as plt\n",
        "%matplotlib inline\n",
        "print(tf.__version__)"
      ],
      "execution_count": null,
      "outputs": [
        {
          "output_type": "stream",
          "name": "stdout",
          "text": [
            "2.1.0\n"
          ]
        }
      ]
    },
    {
      "cell_type": "code",
      "metadata": {
        "id": "19sOBDnQTEV3",
        "outputId": "37c955ee-4fa5-4fc6-dcf5-e51504e1110f",
        "colab": {
          "base_uri": "https://localhost:8080/",
          "height": 36
        }
      },
      "source": [
        "# Проверяем что у нас работает GPU\n",
        "tf.test.gpu_device_name()"
      ],
      "execution_count": null,
      "outputs": [
        {
          "output_type": "execute_result",
          "data": {
            "text/plain": [
              "'/device:GPU:0'"
            ],
            "application/vnd.google.colaboratory.intrinsic+json": {
              "type": "string"
            }
          },
          "metadata": {},
          "execution_count": 3
        }
      ]
    },
    {
      "cell_type": "code",
      "metadata": {
        "id": "bPRC0BXlTGZR",
        "outputId": "8db4c166-bbd9-4822-b4c2-dd18cfea3428",
        "colab": {
          "base_uri": "https://localhost:8080/"
        }
      },
      "source": [
        "#GPU count and name\n",
        "!nvidia-smi -L"
      ],
      "execution_count": null,
      "outputs": [
        {
          "output_type": "stream",
          "name": "stdout",
          "text": [
            "GPU 0: Tesla T4 (UUID: GPU-1ca49f28-8277-c648-ffde-d37284d2baf6)\n"
          ]
        }
      ]
    },
    {
      "cell_type": "markdown",
      "metadata": {
        "id": "9D-t4TtCJeLM"
      },
      "source": [
        "## Load GYM environment"
      ]
    },
    {
      "cell_type": "code",
      "metadata": {
        "scrolled": false,
        "id": "Xwdf4vsHJeLN",
        "outputId": "845e13b2-52dd-4595-ed7a-78a8a08db29b",
        "colab": {
          "base_uri": "https://localhost:8080/"
        }
      },
      "source": [
        "env = gym.make('CartPole-v0')\n",
        "\n",
        "STATE_LIMITS = env.observation_space\n",
        "NUM_ACTIONS = env.action_space.n\n",
        "\n",
        "print('Actions: {}'.format(NUM_ACTIONS))\n",
        "print('States limits:')\n",
        "for i in range(STATE_LIMITS.shape[0]):\n",
        "    print('[{}, {}]'.format(STATE_LIMITS.low[i], STATE_LIMITS.high[i]))"
      ],
      "execution_count": null,
      "outputs": [
        {
          "output_type": "stream",
          "name": "stdout",
          "text": [
            "Actions: 2\n",
            "States limits:\n",
            "[-4.800000190734863, 4.800000190734863]\n",
            "[-3.4028234663852886e+38, 3.4028234663852886e+38]\n",
            "[-0.41887903213500977, 0.41887903213500977]\n",
            "[-3.4028234663852886e+38, 3.4028234663852886e+38]\n"
          ]
        }
      ]
    },
    {
      "cell_type": "markdown",
      "metadata": {
        "id": "auU0dXqEJeLQ"
      },
      "source": [
        "## Settings"
      ]
    },
    {
      "cell_type": "code",
      "metadata": {
        "id": "kSlPTNohJeLR"
      },
      "source": [
        "LR = 0.001\n",
        "gamma = 0.95\n",
        "\n",
        "NUM_EPISODES = 2000\n",
        "MAX_STEPS = 200\n",
        "REWARD_AVERAGE_WINDOW = 20"
      ],
      "execution_count": null,
      "outputs": []
    },
    {
      "cell_type": "markdown",
      "metadata": {
        "id": "AFtnFh9-JeLW"
      },
      "source": [
        "## DQN Model"
      ]
    },
    {
      "cell_type": "code",
      "metadata": {
        "id": "SM8c4_EzJeLX"
      },
      "source": [
        "model = M.Sequential([\n",
        "    L.Dense(24, activation='relu'),\n",
        "    L.Dense(24, activation='relu'),\n",
        "    L.Dense(NUM_ACTIONS, activation=None, use_bias=False),\n",
        "])\n",
        "\n",
        "def evalQ(s):\n",
        "    return model(s[None, ...].astype(np.float32)).numpy()[0]"
      ],
      "execution_count": null,
      "outputs": []
    },
    {
      "cell_type": "markdown",
      "metadata": {
        "id": "l1YFJEqmJeLb"
      },
      "source": [
        "## Prepare model for training"
      ]
    },
    {
      "cell_type": "code",
      "metadata": {
        "id": "7Rdpi_MHD8Op"
      },
      "source": [
        "#def loss(q1, q2):\n",
        "#    return tf.reduce_sum(tf.square(q1 - q2))\n",
        "\n",
        "optimizer = tf.keras.optimizers.Adam(learning_rate=LR)\n",
        "model.compile(loss='mse', optimizer=optimizer)\n",
        "\n",
        "pathLenList = []\n",
        "totalRewardList = []\n",
        "totalRewardAverageList = []"
      ],
      "execution_count": null,
      "outputs": []
    },
    {
      "cell_type": "markdown",
      "metadata": {
        "id": "CjRC50GBJeLg"
      },
      "source": [
        "## DQN training"
      ]
    },
    {
      "cell_type": "code",
      "metadata": {
        "id": "PeHAhQmGJeLh",
        "outputId": "325d7f3c-e7a1-409b-f3fd-479da0de762c",
        "colab": {
          "base_uri": "https://localhost:8080/"
        }
      },
      "source": [
        "for i in range(NUM_EPISODES):\n",
        "\n",
        "    eps = 1./((i/50) + 10)\n",
        "\n",
        "    s = env.reset()\n",
        "\n",
        "    totalReward = 0\n",
        "    step = 0\n",
        "\n",
        "    while step < MAX_STEPS:\n",
        "        step += 1\n",
        "\n",
        "        Q_s = evalQ(s)\n",
        "\n",
        "        if np.random.rand() < eps:\n",
        "            a = env.action_space.sample()\n",
        "        else:\n",
        "            a = np.argmax(Q_s)\n",
        "\n",
        "        s1, r, done, _ = env.step(a)\n",
        "\n",
        "        Q_s1 = evalQ(s1)\n",
        "\n",
        "        Q_target = Q_s\n",
        "        if done:\n",
        "            Q_target[a] = r\n",
        "        else:\n",
        "            Q_target[a] = r + gamma * np.max(Q_s1)\n",
        "\n",
        "        model.train_on_batch(s[None, ...].astype(np.float32), Q_target[None, ...])\n",
        "\n",
        "        totalReward += r\n",
        "        s = s1\n",
        "\n",
        "        if done:\n",
        "            break\n",
        "\n",
        "    pathLenList.append(step)\n",
        "    totalRewardList.append(totalReward)\n",
        "\n",
        "    if i % REWARD_AVERAGE_WINDOW == 0 and i >= REWARD_AVERAGE_WINDOW:\n",
        "        totalRewardAverage = np.mean(totalRewardList[-REWARD_AVERAGE_WINDOW:])\n",
        "        totalRewardAverageList.append(totalRewardAverage)\n",
        "        if i % 100 == 0:\n",
        "            print('Episode {}: average total reward = {}'.format(i, totalRewardAverage))"
      ],
      "execution_count": null,
      "outputs": [
        {
          "output_type": "stream",
          "name": "stdout",
          "text": [
            "Episode 100: average total reward = 10.7\n",
            "Episode 200: average total reward = 13.1\n",
            "Episode 300: average total reward = 12.75\n",
            "Episode 400: average total reward = 12.8\n",
            "Episode 500: average total reward = 16.4\n",
            "Episode 600: average total reward = 59.8\n",
            "Episode 700: average total reward = 83.35\n",
            "Episode 800: average total reward = 124.65\n",
            "Episode 900: average total reward = 186.6\n",
            "Episode 1000: average total reward = 107.85\n",
            "Episode 1100: average total reward = 196.25\n",
            "Episode 1200: average total reward = 153.0\n",
            "Episode 1300: average total reward = 76.8\n",
            "Episode 1400: average total reward = 19.35\n",
            "Episode 1500: average total reward = 11.0\n",
            "Episode 1600: average total reward = 9.7\n",
            "Episode 1700: average total reward = 9.6\n",
            "Episode 1800: average total reward = 44.05\n",
            "Episode 1900: average total reward = 121.7\n"
          ]
        }
      ]
    },
    {
      "cell_type": "markdown",
      "metadata": {
        "id": "1Er0TlkRJeLk"
      },
      "source": [
        "## Plot trajectory length over time"
      ]
    },
    {
      "cell_type": "code",
      "metadata": {
        "id": "qrvJlQT1RJai",
        "outputId": "3b4ba810-b4a4-4dfb-841d-39cae461243c",
        "colab": {
          "base_uri": "https://localhost:8080/",
          "height": 265
        }
      },
      "source": [
        "plt.plot(pathLenList)\n",
        "plt.grid()"
      ],
      "execution_count": null,
      "outputs": [
        {
          "output_type": "display_data",
          "data": {
            "text/plain": [
              "<Figure size 432x288 with 1 Axes>"
            ],
            "image/png": "[encoded data removed]"
          },
          "metadata": {
            "needs_background": "light"
          }
        }
      ]
    },
    {
      "cell_type": "markdown",
      "metadata": {
        "id": "hB10VTaVJeLn"
      },
      "source": [
        "## Plot average total reward over time"
      ]
    },
    {
      "cell_type": "code",
      "metadata": {
        "id": "SvdDw66qJeLo",
        "outputId": "2a875d01-755c-4ab0-92f0-a9059c9eb4fd",
        "colab": {
          "base_uri": "https://localhost:8080/",
          "height": 265
        }
      },
      "source": [
        "plt.plot(totalRewardAverageList)\n",
        "plt.grid()"
      ],
      "execution_count": null,
      "outputs": [
        {
          "output_type": "display_data",
          "data": {
            "text/plain": [
              "<Figure size 432x288 with 1 Axes>"
            ],
            "image/png": "[encoded data removed]"
          },
          "metadata": {
            "needs_background": "light"
          }
        }
      ]
    },
    {
      "cell_type": "code",
      "metadata": {
        "id": "SjKtnoczJeLr"
      },
      "source": [
        "RECORD_VIDEO = True\n",
        "\n",
        "if RECORD_VIDEO:\n",
        "\n",
        "    !pip install pyvirtualdisplay > /dev/null 2>&1\n",
        "    !apt-get install -y xvfb python-opengl ffmpeg > /dev/null 2>&1\n",
        "\n",
        "    from pyvirtualdisplay import Display\n",
        "    display = Display(visible=0, size=(1400, 900))\n",
        "    display.start()"
      ],
      "execution_count": null,
      "outputs": []
    },
    {
      "cell_type": "markdown",
      "metadata": {
        "id": "zdasuT4IJeLu"
      },
      "source": [
        "## Run simulation"
      ]
    },
    {
      "cell_type": "code",
      "metadata": {
        "id": "yFq_vsynR68Z",
        "outputId": "c2c36372-643e-4c8b-edf1-00cb14c7bda0",
        "colab": {
          "base_uri": "https://localhost:8080/"
        }
      },
      "source": [
        "USE_Q = True\n",
        "\n",
        "if RECORD_VIDEO:\n",
        "    from gym.wrappers import Monitor\n",
        "    env_sim = Monitor(env, './video', force=True)\n",
        "else:\n",
        "    env_sim = env\n",
        "\n",
        "s = env_sim.reset()\n",
        "totalReward = 0\n",
        "\n",
        "for _ in range(1000):\n",
        "    env_sim.render()\n",
        "    if USE_Q:\n",
        "        a = np.argmax(evalQ(s))\n",
        "    else:\n",
        "        a = env_sim.action_space.sample()\n",
        "    s, r, done, _ = env_sim.step(a)\n",
        "    totalReward += r\n",
        "    if done:\n",
        "        break\n",
        "\n",
        "    if not RECORD_VIDEO:\n",
        "        time.sleep(1./30)\n",
        "\n",
        "env_sim.close()\n",
        "\n",
        "print('Total reward = {}'.format(totalReward))"
      ],
      "execution_count": null,
      "outputs": [
        {
          "output_type": "stream",
          "name": "stdout",
          "text": [
            "Total reward = 115.0\n"
          ]
        }
      ]
    },
    {
      "cell_type": "markdown",
      "metadata": {
        "id": "lNE57fAVMbkf"
      },
      "source": [
        "## Show the video"
      ]
    },
    {
      "cell_type": "code",
      "metadata": {
        "id": "8aTM0iwhJtl4",
        "outputId": "71455df0-d404-4cbc-cd98-61f5aab06eb1",
        "colab": {
          "base_uri": "https://localhost:8080/",
          "height": 422
        }
      },
      "source": [
        "def show_video():\n",
        "    import glob\n",
        "    import io\n",
        "    import base64\n",
        "    from IPython.display import HTML\n",
        "    from IPython import display as ipythondisplay\n",
        "\n",
        "    mp4list = glob.glob('video/*.mp4')\n",
        "    if len(mp4list) > 0:\n",
        "        mp4 = mp4list[0]\n",
        "        video = io.open(mp4, 'r+b').read()\n",
        "        encoded = base64.b64encode(video)\n",
        "        ipythondisplay.display(HTML(data='''<video alt=\"test\" autoplay\n",
        "            loop controls style=\"height: 400px;\">\n",
        "            <source src=\"data:video/mp4;base64,{0}\" type=\"video/mp4\" />\n",
        "            </video>'''.format(encoded.decode('ascii'))))\n",
        "    else:\n",
        "        print(\"Could not find video\")\n",
        "\n",
        "show_video()"
      ],
      "execution_count": null,
      "outputs": [
        {
          "output_type": "display_data",
          "data": {
            "text/plain": [
              "<IPython.core.display.HTML object>"
            ],
            "text/html": [
              "<video alt=\"test\" autoplay \n",
              "            loop controls style=\"height: 400px;\">\n",
              "            <source src=\"data:video/mp4;base64,AAAAIGZ0eXBpc29tAAACAGlzb21pc28yYXZjMW1wNDEAAAAIZnJlZQAALVdtZGF0AAACrgYF//+q3EXpvebZSLeWLNgg2SPu73gyNjQgLSBjb3JlIDE1MiByMjg1NCBlOWE1OTAzIC0gSC4yNjQvTVBFRy00IEFWQyBjb2RlYyAtIENvcHlsZWZ0IDIwMDMtMjAxNyAtIGh0dHA6Ly93d3cudmlkZW9sYW4ub3JnL3gyNjQuaHRtbCAtIG9wdGlvbnM6IGNhYmFjPTEgcmVmPTMgZGVibG9jaz0xOjA6MCBhbmFseXNlPTB4MzoweDExMyBtZT1oZXggc3VibWU9NyBwc3k9MSBwc3lfcmQ9MS4wMDowLjAwIG1peGVkX3JlZj0xIG1lX3JhbmdlPTE2IGNocm9tYV9tZT0xIHRyZWxsaXM9MSA4eDhkY3Q9MSBjcW09MCBkZWFkem9uZT0yMSwxMSBmYXN0X3Bza2lwPTEgY2hyb21hX3FwX29mZnNldD0tMiB0aHJlYWRzPTMgbG9va2FoZWFkX3RocmVhZHM9MSBzbGljZWRfdGhyZWFkcz0wIG5yPTAgZGVjaW1hdGU9MSBpbnRlcmxhY2VkPTAgYmx1cmF5X2NvbXBhdD0wIGNvbnN0cmFpbmVkX2ludHJhPTAgYmZyYW1lcz0zIGJfcHlyYW1pZD0yIGJfYWRhcHQ9MSBiX2JpYXM9MCBkaXJlY3Q9MSB3ZWlnaHRiPTEgb3Blbl9nb3A9MCB3ZWlnaHRwPTIga2V5aW50PTI1MCBrZXlpbnRfbWluPTI1IHNjZW5lY3V0PTQwIGludHJhX3JlZnJlc2g9MCByY19sb29rYWhlYWQ9NDAgcmM9Y3JmIG1idHJlZT0xIGNyZj0yMy4wIHFjb21wPTAuNjAgcXBtaW49MCBxcG1heD02OSBxcHN0ZXA9NCBpcF9yYXRpbz0xLjQwIGFxPTE6MS4wMACAAAACCWWIhAAz//727L4FNf2f0JcRLMXaSnA+KqSAgHc0wAAAAwAAAwAAFgn0I7DkqgN3QAAAHGAFBCwCPCVC2EhIBrPjAIKWP+We/jjvCuFwJKgFYOqFJHBpUueqxX0vyylgk/Fh0f0UPHnRiDA+vpATPZg0+7ZmzU5CFozF4XUMwRwP2xqa3H60qCtlPZS+VCQjwM2LVBCmFjEqO1/SgEQXQgnHJ3XJ9YaV+z406koyQAarZcpyvO3Bmsg2n5jM+58CrLhz/1P7wXFaTO+ZyDQ4msE4QEvasF/IW+BN9VvdIfsInr3pfBTUYXQ91crYvFA6dxVW4F0OAoBlBhsLB75+Yy1omRGEpZYLI5AJeI7e+lx5wI7aleVePq0G9mbT6jPy6TN6o4BhlD07KzzmdBd+jcDzorWkGeyKBDAxGEw07r4xWoNRWWdW2pFPrQWPhJjDjtkndMnzFIbbuhYUZX4/68Bg5ZZQ4qNKZ1eZ7w7fKCBFs6/hU8M649B9NcE6YTRWh+9yVru10dmRqL5i4zo1vN+RPMp40zYreYicZe3x0Xc2df3XTU7xoDqGIOKnxReODP6NN36AvXxGS6sMDGgDeXEiMUa+DiFotIQ37XrbSwCCtYpkNXGshkoX0T+IVoym5Klq6U+Q/i9ieu92onryj6MY2WLUe9mZ/GcxSeccpoE1wAAAAwAAAwMDAAAAf0GaJGxDP/6eEAAAQ2solAC1ndzo8KhScU0nlBsm+u1p/dn1ycpz5W6ruWS/xsL/pkwgXr5zqWqfbL45/384D5zQFeD3wWSZm/BYUuyf6JErYZqIsk4rUz4lhjGIglN7rdaztEbpmFw7YAAAAwAHFCdgVseN41PIJLxU+UxRbEEAAABbQZ5CeIR/AAAWLjelwRhMhc0DDSL6eAIq54Nm+Q6KEhLBvNYXMsQss1T7aVw7kEV44I5Er8z3mBs9u7LLzA6z9CKXR2KevXZehgAAAwABaB5S01za6gleGlQl4QAAADkBnmF0R/8AAA1+ANTDP10MyTWAuBpqt+neJkBcgAIwBWilgJvoDhIy6AAAAwAAAwAfy+0LIrSA+YAAAABFAZ5jakf/AAAivx+MN7i6qcEBmBf1gygNfEEpmpu0AN1pfNmQ5VqfUoQbqXVVd5nO1iSNBQRrl9AAAAMAPCvpvd/DThIxAAAA0kGaaEmoQWiZTAhn//6eEAAARVFHIK79jcAFgo/W/fBsdu1fczu8PeJRcLg8j5goNb0nN0UTN68F8ZpISLkH+3b42/5Nf31olkzZRZ/TcAqRhA+b/0qn8hQ4sZQa/+KnBwL210XR5aejGHX/63ArLb6qSRqFK4mc5fwW4OcGDsA8FqOEQAhvXxS95QcQgY5bTWyfndthqWG982m6E8UvOsfvyeZm+U/mtTL4LZf6V3SnUjeK4AsvmULXVge/5bO8v+D9qX9uVHfm9mPsgLS4PrH8KwAAADhBnoZFESwj/wAAFrUTiFyBiMonAAsPeLuUTOZpp21eyfZ83oS9GZOy5mTN6V75f/+zRU4zyCRbYQAAAD0BnqV0R/8AACOr7LqMzIQAN9Th+HZRYoDBvxj8V+YTgTzz6YyoYXolJZtXFR9bt/H2Wwfoak98E4gufCYtAAAAIwGep2pH/wAAIr8dNW1p7zay+mk4t1lMSof7gC+DbHIykQlQAAAAnUGarEmoQWyZTAhf//6MsAAARgLP4FhwQAKA1c5KnW5oriuGzXHkFHCbwcrIcM0Ts9cqWlRtVZNKTFZ8rg6+OXXDRp/w42yLHw23wqTi2p1uEmNGEV7KO/MIoL1nx2/zGycPbdFBgMCj1wnaXCVhzBteZiFD5/wShGqRwl0RIndl0rLnxjE/4ie36mCRMvL1NffR68IvgBEI5i4xnHMAAABAQZ7KRRUsI/8AABa8Q823FjEGmn0xd6atbdDiom6KbHR/IPwAmmEcxPOX7/KCvSLPiksvUznmCzMCACdB4+JWUQAAACkBnul0R/8AAAUdAXGU1RNOVq30L8x7gjYN5lFPZ68GTcA73q5X/LLR0wAAADYBnutqR/8AACOxzA2B19tw0puInM2g8kDzNODHEIgr59QhsACdg1XvTlJm1iVX3Js6v66nCucAAAC6QZrwSahBbJlMCF///oywAABF+uYACkQoI9tu2IrRks+Wj9B9PASQ5r3ejt3T55gkqbd7yLSwpsf/+QA54G9eStwvV0joN/x6qSMuYSsW+TPq8/VLS2o9dELyGy/223gA1k4wV6yTuSkCng3v/fR3oJJ0OK+O12flTBKmmYgNLBZOyjKei4MRSBp0q2oKlU6tGX7xELfiRgneimZroRIzK7vr1PE9qaszomrd88d1b0PilF8ARWdYxlbBAAAAQEGfDkUVLCP/AAAWvEPMUe3LvfTLQUCgnEyIALQhIztz8hlldm9GkcCbMdbUTv1IAE4Q6hgccUlFQ/LaUei0I5EAAAA5AZ8tdEf/AAANf09vMF/o+Iwzf5uOligVYupGaWq0jX1wymyXMACb2rg2CwHiCWeBNoW7MTnJDcv7AAAAIgGfL2pH/wAAI78EJxLJaZq5DpuA3fpuR7Rhzn1BSex6Q0AAAABlQZs0SahBbJlMCFf//jhAAAENOb/EZpwH+BcEq8dsjH9f+SM8SxtKsq7nXl/Xz841vOrwsZMP7cEIYa07UFud7Uf4tg0TeTBu+Zs9NHjNHYkLu5e1WrxYJfmkWcSBUArRC4zt62AAAAA4QZ9SRRUsI/8AABa1KziztMUe4JEwCTpr958/PJ2/Gfm3xO6mz/9X/7F7v74+aRMrNP9l8Wlq1IEAAAAlAZ9xdEf/AAAjrDldPW0YEqJ1k9eWD1kspisGx+jInV4yE+O/6AAAACcBn3NqR/8AAA2CaIPqq0GxGmmLOgY6YrjZqRDdRzQ+xr2VscILx5wAAABiQZt2SahBbJlMFEwr//44QAABDPoygA1YeTfniNngEQautTGDNxsqbBaO4BKV5/uOhwpcxjwxEHE4ZVJkSg22gZIwtrBR3VO9/qBaSwEVYmQ5rxmdv3MEOdsl8Qb4N8awSxcAAAAtAZ+Vakf/AAAjscwNNnpz3VFOCvD+DX4Nl4rB6dlShX7/+cPSoVeoJBbMwzUgAAAARUGbl0nhClJlMCF//oywAAAai7MMZHQAonSq1UUQk6b6DeVQH9Us2mnl+JoAFO9/LQnna0eN8qjqQSW3SWGLoREAbrwdtwAAAGRBm7hJ4Q6JlMCGf/6eEAAARUVvGQAmT0pPVMM+trU7YfUgqCa09ZGVPGWa9452iJgavm32qADERMszafDE8v3WxkEBQb4fbQmjjdwih8DhVw3ZIvxgbH/yGnkYcNw40DjUcIE3AAAAU0Gb3EnhDyZTAhn//p4QAABFaMZ83iw9qGVMOyHjjC0MYBZ9wBjICM4CBtljwfBojpX8ZS1mefsdwp3DgALeKIRG8JfekI4vYzpkAYQ1Cwn5MX7AAAAAUUGf+kURPCP/AAAWs0e3DbbV9KexbATISROrHNF9LumRluneKohPmig56s1bSqQAPv3EeHaERlLePdUBNn+UaNrIJxtxbcFxta6wDDCWCOnTpwAAAC4Bnhl0R/8AACPDF2Qp44HIonmrVogB9iJOFbXr2tQRI4lXdOTCKBhhCKqLEa/wAAAAQAGeG2pH/wAAIr8fiTEM1yeJtc2p5l5wP6DHHIral0Uxa7/dkKgAnD2OkCW7YtXohalGdCeUBD3r9ZOeB5bQQsEAAABtQZoASahBaJlMCGf//p4QAABFY8ZaLPlAEeWdyvy7WrBETszG0jlOxHyu6Xit0lxXpeDEmg+ylHVbmWPfTk1Zx/c0XQaknwUPHoqum6HUXHf5by/5qXV+mgnnwjKWgl72DqvuKSEVpf8fdMIgEQAAAENBnj5FESwj/wAAFqTxlC2KWn3iAGaTZJBpCEapbU9IpfzIl93/BdnsR/RGcngBXUoMAxEsubI/Eq81Exx0ExKSBW88AAAAQwGeXXRH/wAAIqnrHDaO7DwwcZthG36wGxYiDFJjgbddJ06Q+pbMa2pqgAnMAEW1kNSlj4c4qrfbo3JC8DKO05QILxoAAAA7AZ5fakf/AAAjvYMuzyZbvyU4FvhWNookk6udVgIdwecwfI4Pf0xykp1aOCMESGOY6Gt2sa5OI2MG+HEAAABrQZpESahBbJlMCGf//p4QAABFgsmvtxuQBEL2wPdxHltFsIlhkKU/7ZkyhZ/E1ZEz2uHxpC3QVtSrp9+v5OFWeQmOfpaZSf/mhFCI+SVDNEOdCFnrzUaOVrSOtzfjp4aMXgilahPUYZb4OowAAABdQZ5iRRUsI/8AABZuTYuOzxFxWB/HPpYxh+LBpcSQ0hblCoywe1Sta8YGjtVkABEHUllte/535zYldXMomdl/f6T14nP9MypyBLP0g3XTFzIaohGEqmRhicK5eH59AAAAOQGegXRH/wAAJMMSZ+aZPnAoxl1bJnGNrvqiKHK7yYGlUKTPiy/6/rX5Mvg1P++DxKypfGBayYzPgAAAAD8BnoNqR/8AACTHvxslbOJFiHvxgoVLzzwNHqBy/JkCx98JpGJ4EsACGMMgMBjJmY/eMr3Fw3iwudeOvWFCg78AAAByQZqISahBbJlMCF///oywAABIAT5gwGNrxwxHi0V/tzhC1GuSbtTJV75w7ODvb5w7NuCAMs/QLdibwHDBQJNJH269gmcafhAxGWuNqzWtLc/wpJtk9+PMl/O1J5QHvt0jJO8CPlroaPzZkJrcNkzLkfgXAAAASEGepkUVLCP/AAAXTqIw2EODUXsTPR/YQHeZgF5qX6e+bjy4tVRWRPaj2hXNyPVwALTMshJPOyFOzqHge5dngi9CX5fRUPWmfQAAADIBnsV0R/8AACSr9MGmzUYfsn6UcpgIzutr0MY1MAH+cEtpROYIkYEUgh4+h2G3DB51vwAAADEBnsdqR/8AACS+9T4ahZiUCqgTIUlt4vD3932zGtVcGEC8EbL7k8b4xvIDzdzjat8wAAAAhkGazEmoQWyZTAhf//6MsAAASBCjJgwBPM9tVh4QOyoH7hCQAB8KTRNLUu+zjlZCRyJ6Z6H/H8+kBVENHRhxJ3GDqNRrL7OPtqD1h9QSIL4WJPs7EUqMNiPIt3FKwWixbX2rf7zgsKAXENf13rCQ7SgrgkdDmuGtMaz3yibQKIsDiFisW31cAAAAUUGe6kUVLCP/AAAXUDmGGHDGfhhrcez2w7j47FeGfrE8g5abqFB7/L3pisIxVQAlDiP8TYhMFoS4YgYzMAQCA87f2gg8zo9JKnVWGn8OYsjkGQAAAEIBnwl0R/8AACTADpYJrdhRDVaeuePQ908EapNFZ+iDTCbEs1fRhRkuytkx+gpCcoQIASvoUdMHqecLkfhVGX2O0cAAAABEAZ8Lakf/AAAkvYOBybvhp8DSQBDhbSbocD5d+2Up2Zi6bxSwbyYqZ1TVNag2Lx0Ps2X/wyJ8AAFac3nj+ZbjKP4bbYAAAABkQZsPSahBbJlMCF///oywAABIQuPvE5PMALDde0fCEwjaWGo+bP8P9nSc9tfP3xUxm1Qet3w/TumxX8ZkC0PdsWRDP3VDTPhj/y4q6WZ5ibrDez/9yINHx6mzIC0TEARzjOxBwQAAAE5Bny1FFSwj/wAAF0IDvQtQ0MFlCFl1DIXlvR5VLFX4xSfD5r+++QRSOKYuRkkoCvIO5MgAJyt4UrpLy3DE56K37rhGUsSKZYjhbMtZ2YEAAABSAZ9Oakf/AAAkmOfVI97cb4h2RqYiNTho5VNU6TY7ZPgHRoulc2/G784iIctE2IhLnXqEAD+dklywBuJJHiCBLq+sCWz7L1qbP5k/oEz6XSDFQQAAAHRBm1FJqEFsmUwUTC///oywAABIAO0UJl1P8XFjUD9uEYSHOAGtZ7ZMa+XTkRnp9zzCGyXIoaNvR4eyADj/d/KnBeYgNaCltrepQNoxacN5yrlgy32dFjcQq9kMQxWtv4kARiUOsPt4EG5k8xodzVFc/hGfgAAAAEkBn3BqR/8AACS9Za4aq4xFNDn3LNd707bWkL5KlyMWIohwSdOIVETzW5aSvWvYiwQ+inqSFF5TneAvgAe5P/5A8LXti0x3QMosAAAAg0GbdUnhClJlMCF//oywAABKAYeYMAUG2ow5wK+fM4fut6TqbpZUgbMgu/wVALANV1F9ZbGK5Z59dsrlOsjWoXjeoHuYz2ScNSraRweQg170LA8O7vUwyt0FhN8pHvhjoL5AMIOGZTHJsFZsPJYLeuP99YauexeEdQaITngHTeABxxiBAAAARkGfk0U0TCP/AAAX33VI0w2h8zGHxHdPXhV3qIoiIPb4ZxVHimzvMOXLjxXUAH9OEw2m7cUG0+nqw9AkOzqxCtNRcPX3DggAAAA5AZ+ydEf/AAAlwwGPEl1K/TYVKhGqYvf2i9THIF9aWaoax34WHMclOdu8TAnm0TcJtP44FJ13Z/TAAAAAOgGftGpH/wAAJa1bZnDsZvx7+sEj624NN/ms7N/kpMCkBrrB4fDJcA1y+ACaXNPf5VtVvEqfiDXjv9MAAAB3QZu3SahBaJlMFPDP/p4QAABJY/8McqAIqyvZdMZRbRYhex6kzHMISdBDYpsTdHmupmrETxhGcDLQGy2rWw9jhFC1ImP97Z8Lz+e4ZbUXZl1ee4bNI7Q8WrCOuJJVV2gyG6BKAFWwIdhpPqvuKdqi5pSsnXQ8RcAAAABOAZ/Wakf/AAAlrVtmcPpjuggAFeqfwTZwkI15frmDB2NeMJtzLl3DRzG8JIAD9/7f53vYhXHVnahx+C/iwJJhM3FcibBqlvEMQHH2G3vdAAAAgUGb20nhClJlMCGf/p4QAABLUPpFuUQtJ2IXmoXi/SxAARFr6e3LZwc1fTOcf0aw6G7rI29YCsLfGs8MFkkqpzFw8JMR8YMmJhYrZtBupOuSkxIR4AWT0/E16PMP++uvAZ2BhtvJmsda2z3B1b8d2m9OIucRssceSWCL9by/68D9eQAAAEBBn/lFNEwj/wAAGIl8cUmC2NA2BO9lwoqxQfDOz/vw8zdWKjm6UhXGRmflKLIqRcXwEMYdV9Z9Fozb38Wq0DdwAAAATQGeGHRH/wAAJb/vlMnMWXILl/3q5p6tW8MYLcyIN7ilzFPxYcvoAPziGpGAm3eaIk27k6OIKZPl2vjC3AyOTV/C7MhNiA6nO3lKS33BAAAAUAGeGmpH/wAAJr70cQ0yYRXFYRzCrXp0LKYbWID4VT+cv0pYfD272tDuSPGjwwgIAQn/tgnS81sSole1nmPWzC560tKwXFJmBXapRSLB9FpwAAAAiUGaH0moQWiZTAhf//6MsAAATCTMFp3cgBGF9EtWpdhqg+MtUA0DdXSEluz9w4JbG1ZMX/DXm3X29Y1q1+XQDwboof3XgelDBuvEMRFzmIEtgDBPSwHiJz1ATQRgkmLnGv1O4xS7PLp5QLJW2f3uWOMEZKhbWa4ymQ8WDKSdjizaeDSjYFfYjlkpAAAAUUGePUURLCP/AAAYf3xzUUYQALB+CSLocIKFnaVsOTNTpahlfo3Ci0uFQPtLzSgH7SZ+6YKn6VJ9ktvbGnJL8uY0goUD+7QhGwDNwgyOkqobcQAAAE4Bnlx0R/8AACa/79upFFBDcBgYn8M1WmZax1Fxx7K6gVKuMciVCWo4k47Vn6AEIXRAUMdsuCmGFGXl2+LTHVRaJ6BtbpZJazDpCvvVggMAAABWAZ5eakf/AAAmlGu0hWz0D2Eosu8Y2HmKknr3j7Pm+chjuNQf2KzJ4DP0EfTY6MDuABOuwhePm/kN7ACb2N6XYLsikDB6MKw/PYfvLh41MZZejRrP6z4AAABoQZpDSahBbJlMCF///oywAABOAaZmDAE8RfdKExyCjIg3ulHMCWd1l2wQ1jsJoo1oV3L6hT96g5QKRIPtkENk39oJaQCTjPqXZcGD4sCcSBS+16xuJyojJSH9M7Y7xf/tnD8RDsEU9pkAAABJQZ5hRRUsI/8AABkpfHy9hA2VgwSPy6yzH+xtaAAboFKptBk4+wOGwocM1sbzsomPXLJC+C/8TWjwFpM4RfvbeCUWhqEq7+TNSAAAAFcBnoB0R/8AACaYb7ZiFzF9HieFwvBpO3KerYW+5fpyaNtl0zbTKOFCgxJ8h0AEr6MDVeY6uaszrYaDsYwTZqjPBZ/timt0dotSntpnm0GbDR3lbBRNHgUAAABVAZ6Cakf/AAAn1o5rXGxz+lJ/mSqRWsyDhycoeuZos3gwcJj3tqo2ICtMZjw0ksACIN1uOI7q0qlSZn9f0RQ3CCEdecP9xd3qlHUhkhNWbPpOQ7SNwQAAAIdBmoZJqEFsmUwIX//+jLAAAE4QrzvJACMj1weokMuQ/WcUkGEzx5H15VQfOMq5l2iy0NP9iy8NGZno4s+QYJ668ZnEFvIzzii8Yyqs/NclLUL/Xk+g+4CALf4zTAAZ2zvDb3W95rIfHJ6514B3uw6XScaeKmktv0AOMBGaJGarpOpRpE0ajjsAAAA/QZ6kRRUsI/8AABkbE6oXB6SNSPeIu1plEGf+7nYbHZMDcOncPru51FA6JLaKsIFpXiFd0qvvOabK1jWYtrd1AAAARAGexWpH/wAAJ9aOlSfMcfnWDmZV/d9y5aBjaMGyupambXXIpK+TqujdmBN8EHz5SSO9kx83Gjlq7kFeMwNVE3LrMB3dAAAAa0GaykmoQWyZTAhX//44QAABNPUPFKwByrQVSnkZFyJcpYE8TmXSXQPRoqukBtg4AO0/B9eBw0N5feEIv5VXaa4tJm7Ow+46WenYB62Wce+SgF9yUrjup5lzx8zVQCe+6bVM83Vy3XgwotTVAAAAS0Ge6EUVLCP/AAAZv5ISSyLmSUwW0uR2LNDmwiQHwgz4nE5bVpMSxoACMnItT6QmspW78rmg5W9peAb2Hx1UxroJvub/QMX0fLjLuAAAADUBnwd0R/8AACj+VtkYrm970Iwy+70gzfcfNp6us0vc38tyaanI20fz6cRJd2SaQyq+INyyLgAAADgBnwlqR/8AACkDK24akvdTBa1X/rHlgy4SD/iFjbuviRPdv1WaxIJdlFJ/rod1IPEChpyvlT/XcQAAAIJBmwtJqEFsmUwIX//+jLAAAFBCxDooTLpe8UKJ/qNHy3zNofukFKHFLfRWlTDYkMBVVrzsDfTaTn/mHmoH9FEwALJyq2F1U0DqfXvISMf/CbWyWQgR5sqr99G1Sl+RubGUPij7rE9wKCeeQr4+iuCp27Yj9GFvZCL3WA3M7NL6mlJwAAAAd0GbLknhClJlMCF//oywAABSam+rkAF63M2tZ4itiASIjjbtvXXUX//BDPeT9clv3JwTcA9w4FXVURYemnX/xcOl0bPhi8xCzobyKtbHNFyv+h1hM6IFwnSkABtpOTuZe1uBYvn/yo001Odabfd1+0rQ9FwTr84UAAAASUGfTEU0TCP/AAAaaYK/3i/QD444o5MNqPDM70xvO/vCZVf2OTzwoffED53snWvYwebTYei6s54f5RoH7f5ZK31oWxc2y6N4S4EAAABBAZ9takf/AAAqFo5zWvsP0V/cHuXrTQD9cGl2L4AMhP+o2toqJSnkAJ1lq+1PtOhF6jzcGxBZxaQc8vawKSgFLAkAAACLQZtwSahBaJlMFPC//oywAABSk9KfGMYARXnUF+9GtJMVAMks3TrsIv9ZPx5be23z3BT14c+4PMSZg6y7nOFneXTRLV43B7mlh6xe0dQuH/liWJTGab5yz/pMerOjPCEsxcdASzU4CqPKOtJuJCRlW/h73NsGITldZFmbnkLmvXPuDiYxYJP0P/yDgQAAAFQBn49qR/8AACs49qNoVdYIHxyZZzAU//c0gOJNBTuRZQIgiePyLS3VYkpevJ8kZUAvKAmSU0AHztIprBmWQwNhvrTzAUO6X24PxsV6OPYjVMQix4AAAAB6QZuTSeEKUmUwIX/+jLAAAFTYatlzACvBbnBVB/qhvjK5VaddkbxmL8vy0erKOOOGx6MCa8UPzVKQQcqjDZNRTo/vB0me/mg4f2T3F4HvhAaQnuw3AFKL+FH+eBJH/2+ca1DUPeqQOp99XiyCiFhgo7jDz1b3xpMxbA8AAABaQZ+xRTRMI/8AABsN1sNJCeQUGAq220qvhH3B+NauqjbDbrD/rnvrPsSz+3VgfEJo7LdqAWmGHYRgABCZq38H+aGv7IyCZJUI+5URjvcLLAC/IwrTK9If2HwhAAAAVQGf0mpH/wAAK0Mla68Q2ln74Nzh7wLM8cv6UUJbhIxMM2ZAdrVCye/vpy5qM7OIaFZKNjoCABtFbMBBwNZclUOIemS9R4ckafHGDbcLjBdZtCptXcAAAAB9QZvVSahBaJlMFPC//oywAABU09KhmmrADiT+GE/EFrrO8pXn6qfOtdWifPFmh7mYNI/olvETeyVRfxMDvcrzpK9J3XA22befOtRWgXxTfE+tnnRvC1fOrj5J9nOW+NL6lsJk8qFNT3pZkWC9Jp+ELgoICXMBdAWmtWME9sAAAAA+AZ/0akf/AAAsWYECGFZKmQUQjmZSgh+6/wRX/8Xoh2tkdONW2mfQd0+1IOUW61aRUwwAC4v9uZqeFf+Huu8AAABuQZv4SeEKUmUwIV/+OEAAAVBRBmOXKYAWEQQ2jBhpsqLOuZYeSSgNddlQh10SDVDC+/NYGFaRFU4txyNaGPe/oa72Zm1JloerOdLexjPPDoklKDOH90rd7xFvEjildJXsslnbeYIp4HcsVHXdZqAAAABMQZ4WRTRMI/8AABuodFliekJUL9GmdaOS+nrfep0B3l+QViyrsQDu8wl+/BnaC1bKGlUUALN0Yc0WTdjFhLWO2tYKvu/cz6o9DBhR8QAAADMBnjdqR/8AACxDJhsqe5/qoVIYOAcjYhT5xmfeggDIvy9YbOuIseiCg6CDOnA27V857n0AAACHQZo5SahBaJlMCF///oywAABW/QV3BSADiG17Pw378PMBIqy503WgcxXGzSqCS+/f8Tf6BHxlKzo6+JXZ0ukrf1IGtL2n2nZsquVP/GeYB1cRSveMjacQz0hIf3SUizAqjWKx6OXihdYpHVEfAI+WMh/aeaieN/eSPnkpr+tnp4PAP5vkKC4wAAAAdkGaW0nhClJlMFESwv/+jLAAAFlYaPKx4ATEncX4AGmyTY1WlhDyO8Rfw1NL9DYE7j2pKuDpy+pvXVp26Sip7Hvm6MFUMCiL4NMzwkneQBLyboDbq/8i1UEeXFWk8mc1L7KBGwBRBP1J3o3YYX+rj1vc545oywkAAABIAZ56akf/AAAtdsDm50KLF9GEGQfDbY+E63BMuaF709z58dJJN55WzBKhoNXyMd+b2/ZW0EAJpUqnFDLXNl9lZ/vPIfFjnBbQAAAAhUGafUnhDomUwUTC//6MsAAAW2psjz+SgomZB+7lrrpTYgCHeZlsZq2VdDpggxI0UkejzTRlSb1fj77+8/WO2GcbapOQViiHq2qXf2bD/rnRO9XJjitfMctiordwufA+o848WW4SgzLyO91wfcKkEFbRXu7WOIYifX961yetW5ovLh4QLIEAAAA6AZ6cakf/AAAumWvuzeG2Bs2Ivuo79tRctK6dzWZ5ZmnppuBuzwwIgWwWoPirmUH8w3C4AXeuBhCr8QAAAJlBmp9J4Q8mUwU8K//+OEAAAWGNy6NgBX7BwEww4O/gMNx2MphRmQPu7lpOuBvA0nqMX9tA7/uSuYhVItGIm8GwJbr6V1Ra2YUFCwgIoB2oFzG2t19C7nwCZC8Tea83wqUaDeCJaelVq43YyH40L3ruTE6v5sQeO5zIGfhNYJXJVGTAXGFsL6jYoBUPiqDWZIDzYjJc7IwRqngAAABBAZ6+akf/AAAugzQn/R9+yibQXaAysbFKelxZdQ7rMpP0K6Cw6S91Zt0csa7Z1GHmq0gN1Xd4Swcim12aNgf3nqgAAACSQZqhSeEPJlMFPCv//jhAAAFqjcr2674vAJlaJnn+WM8lWAl+JHrl0xIQDgT1M05BDrdbwSrfZnih6tAlJbMXy0wT5cEcVlc9mf9PIssb1SB28XvNs8oqBz26+VYKgC/pO0+5dHiodV7k5jNe5JzsFIKMzAOZsoEkQJWhi9JISlkF92bzAF4fx8Wh5ejBPQ0UxIcAAAA4AZ7Aakf/AAAv0idKIVN9Lver5eb/NBulHvPqU/CqMHPcUg0l77/W32gUckxKDxBZK3U0kYzoE9IAAABgQZrDSeEPJlMFPCv//jhAAAFrsiuwO6CetD6PATg369yRLcStvJWwyecwcMo6JM2odWQuLD2FKZkdbaeHTENNDNd8jb7mAHHsy08yqB+3a+4s7HOFTTQSAFAxVx2K72JBAAAANAGe4mpH/wAAL89AW0ptj3ib/ApH6shoXQGHIu/7tygE8xtcH6HdtA+CCnJvbO03DDD/KmAAAABuQZrkSeEPJlMCF//+jLAAAGAWGjiLy2AI4ljjdwwtoeu/9OE+BOvxmRT07qraDPtxG6McLPf2w/imD1ONoNvQIl7iUMyyUcKILZh2c0KnQtbKjM/ZLAQnIYRRbXZSC9xuthcbW24WoyT1nfR13IEAAABoQZsHSeEPJlMCF//+jLAAAGKWlo5OYh7eAn7JpTUPkbux3+Rpw1PFnTw0UwgetpPXataSvEwn2BiBxrZKBKmJgIv2TlHAbhhFCLCy+qUp4EXn+j6MQvsWLBcxhzaRB3p2osiuOLvYsy8AAABfQZ8lRRE8I/8AAB8Yet4SkUvzy8m9FfbPxSM9Mwrw/V/dIh6v6gyYe2O3JKcspkQe4Atgc2MWmNQyW97Ga7nUqKiDditM9MXh0zNUwJ7rRcVZDxpknjs581cxgIxPdgcAAAAyAZ9Gakf/AAAyUidRSI+fS89MrpBdz9DvU/eKX7ygNkpmFG1JaYpB8DmP34t7r9UPOhEAAAB/QZtKSahBaJlMCFf//jhAAAGHPpslw7wi8AcsV/Wt53H+0K6jmFllU1CA7pl293shq7CvbGJ6LpcL3m8ppjxkseIdpaZ+EJqazWj245erbXSUzGgSD0PCMtiwNCGjffMDrixT2z4dUHi5WYGU8PV7skFaxeO6fD9NgVRtcUvy7gAAAFVBn2hFESwj/wAAH8g6s9vHieslwtmTeMjtQIJxKQ9cH3LQ+ssK7eqbMP2Few+VZFSKlwOaP+ztistdkOnNSABzWFlE9KgcAzTROmUFp1kPoAgX2cH/AAAASgGfiWpH/wAAM5Jel4roBSL0R5A6yzrpegVSayFA72TDyoD++uqwOIolA12pAA/ZG9+/pPmog0HbTDfGSrtDmH/PEXcBdWmmOuwJAAAAeUGbjEmoQWyZTBRMK//+OEAAAYewuDiWTculbVYnr0UMebv4L8TDVSx5lVtaLs3OagBvuQERYSILRn31zhI7XfmyECe3Rixbs/7yDiZXATGQZP2kvHd9Pmr+a9b1KtZimTXdednO5m7DziaKbFoUVMzzMRbDrptPqTcAAABMAZ+rakf/AAAy5Lsno2SiuCydBZ35SldoHcv+6hT+0I5dzqgAAtgMKxjCxvDS1irT455kTvUq8MQLHn5WJxY5F45GDsxmzRWTpbzVegAAAHRBm65J4QpSZTBSwn/98QAAAwPJcHENJFmwgaGAMBwUmtzrhtiuaXc8lt3K76Ae9EzfGuu/BAwcthVAM+9yEtSbHAVjyR3DWcOvUSwd6gUTZw7ZSZZD7bJG2/qNzw8OwIwd615ZNm3KmKOU0xOYwCDmeEeXgQAAAEIBn81qR/8AADS3zNEgBYemURpiTWxx2kRZDOoWqqErNvt6cFggZmOcti8mpnFYe4LGsZeBzCJFsJTI5P6Lnnu8Y0EAAAB6QZvPSeEOiZTAhH/94QAABkRQNynXGsuc82Qhe4RzmFKyOhS/KiwBRcgFBl9IOW8h1xNtiGYaZUdF+OtivaN47+a5q2lHe0w5mmG6LZOu8cq5mvcSCMv+i75Srp5mBfcR5sH/PyaSuirHnSiYsUwSU5uyUeti796tJEsAAABjQZvySeEPJlMCP//8hAAAGRAaJJUarRJADj9kWbAw44xLLzueXEfabSZYhgW0ZlNI/ltKNgvzEUN7ihieTaX/jK/vPR14sXZJ7Ct6Mhrv065dpVzgKVAG5z1rSa91BKZ+xhZ1AAAAPEGeEEURPCP/AAAivHk/zBbwBAnavrWPmLSaWYMvaqH4uHcKZIEmjxlg8dd/8tFHkb6xJSEI/Nk0OLj7oAAAADkBnjFqR/8AADdSUTaR4tJEvlGTnDh3eqDinfETcJjezColyFAjy2qcuwH1EF/rEAJrPKFYKxOexJ0AAABtQZozSahBaJlMCP/8hAAAGQ/w8yoAWGlbFxjZ2bcvDPzfGsXhMyyZca5iRw8lNqUgOWfN3E1rO6kac4T6pZIYbBo4CGE396XEXjLeEGKoHsq+mG/UBZfbJsXeCO99ybpBva8OQuqD9DsvjolFKgAACDttb292AAAAbG12aGQAAAAAAAAAAAAAAAAAAAPoAAAJEAABAAABAAAAAAAAAAAAAAAAAQAAAAAAAAAAAAAAAAAAAAEAAAAAAAAAAAAAAAAAAEAAAAAAAAAAAAAAAAAAAAAAAAAAAAAAAAAAAAAAAAACAAAHZXRyYWsAAABcdGtoZAAAAAMAAAAAAAAAAAAAAAEAAAAAAAAJEAAAAAAAAAAAAAAAAAAAAAAAAQAAAAAAAAAAAAAAAAAAAAEAAAAAAAAAAAAAAAAAAEAAAAACWAAAAZAAAAAAACRlZHRzAAAAHGVsc3QAAAAAAAAAAQAACRAAAAIAAAEAAAAABt1tZGlhAAAAIG1kaGQAAAAAAAAAAAAAAAAAADIAAAB0AFXEAAAAAAAtaGRscgAAAAAAAAAAdmlkZQAAAAAAAAAAAAAAAFZpZGVvSGFuZGxlcgAAAAaIbWluZgAAABR2bWhkAAAAAQAAAAAAAAAAAAAAJGRpbmYAAAAcZHJlZgAAAAAAAAABAAAADHVybCAAAAABAAAGSHN0YmwAAACYc3RzZAAAAAAAAAABAAAAiGF2YzEAAAAAAAAAAQAAAAAAAAAAAAAAAAAAAAACWAGQAEgAAABIAAAAAAAAAAEAAAAAAAAAAAAAAAAAAAAAAAAAAAAAAAAAAAAAAAAAAAAY//8AAAAyYXZjQwFkAB//4QAZZ2QAH6zZQJgz5eEAAAMAAQAAAwBkDxgxlgEABmjr48siwAAAABhzdHRzAAAAAAAAAAEAAAB0AAABAAAAABRzdHNzAAAAAAAAAAEAAAABAAADaGN0dHMAAAAAAAAAawAAAAEAAAIAAAAAAQAABQAAAAABAAACAAAAAAEAAAAAAAAAAQAAAQAAAAABAAAFAAAAAAEAAAIAAAAAAQAAAAAAAAABAAABAAAAAAEAAAUAAAAAAQAAAgAAAAABAAAAAAAAAAEAAAEAAAAAAQAABQAAAAABAAACAAAAAAEAAAAAAAAAAQAAAQAAAAABAAAFAAAAAAEAAAIAAAAAAQAAAAAAAAABAAABAAAAAAEAAAMAAAAAAQAAAQAAAAACAAACAAAAAAEAAAUAAAAAAQAAAgAAAAABAAAAAAAAAAEAAAEAAAAAAQAABQAAAAABAAACAAAAAAEAAAAAAAAAAQAAAQAAAAABAAAFAAAAAAEAAAIAAAAAAQAAAAAAAAABAAABAAAAAAEAAAUAAAAAAQAAAgAAAAABAAAAAAAAAAEAAAEAAAAAAQAABQAAAAABAAACAAAAAAEAAAAAAAAAAQAAAQAAAAABAAAEAAAAAAIAAAEAAAAAAQAAAwAAAAABAAABAAAAAAEAAAUAAAAAAQAAAgAAAAABAAAAAAAAAAEAAAEAAAAAAQAAAwAAAAABAAABAAAAAAEAAAUAAAAAAQAAAgAAAAABAAAAAAAAAAEAAAEAAAAAAQAABQAAAAABAAACAAAAAAEAAAAAAAAAAQAAAQAAAAABAAAFAAAAAAEAAAIAAAAAAQAAAAAAAAABAAABAAAAAAEAAAQAAAAAAgAAAQAAAAABAAAFAAAAAAEAAAIAAAAAAQAAAAAAAAABAAABAAAAAAEAAAIAAAAAAQAABAAAAAACAAABAAAAAAEAAAMAAAAAAQAAAQAAAAABAAAEAAAAAAIAAAEAAAAAAQAAAwAAAAABAAABAAAAAAEAAAQAAAAAAgAAAQAAAAABAAACAAAAAAEAAAMAAAAAAQAAAQAAAAABAAADAAAAAAEAAAEAAAAAAQAAAwAAAAABAAABAAAAAAEAAAMAAAAAAQAAAQAAAAABAAADAAAAAAEAAAEAAAAAAQAAAgAAAAABAAAEAAAAAAIAAAEAAAAAAQAABAAAAAACAAABAAAAAAEAAAMAAAAAAQAAAQAAAAABAAADAAAAAAEAAAEAAAAAAQAAAgAAAAABAAAEAAAAAAIAAAEAAAAAAQAAAgAAAAAcc3RzYwAAAAAAAAABAAAAAQAAAHQAAAABAAAB5HN0c3oAAAAAAAAAAAAAAHQAAAS/AAAAgwAAAF8AAAA9AAAASQAAANYAAAA8AAAAQQAAACcAAAChAAAARAAAAC0AAAA6AAAAvgAAAEQAAAA9AAAAJgAAAGkAAAA8AAAAKQAAACsAAABmAAAAMQAAAEkAAABoAAAAVwAAAFUAAAAyAAAARAAAAHEAAABHAAAARwAAAD8AAABvAAAAYQAAAD0AAABDAAAAdgAAAEwAAAA2AAAANQAAAIoAAABVAAAARgAAAEgAAABoAAAAUgAAAFYAAAB4AAAATQAAAIcAAABKAAAAPQAAAD4AAAB7AAAAUgAAAIUAAABEAAAAUQAAAFQAAACNAAAAVQAAAFIAAABaAAAAbAAAAE0AAABbAAAAWQAAAIsAAABDAAAASAAAAG8AAABPAAAAOQAAADwAAACGAAAAewAAAE0AAABFAAAAjwAAAFgAAAB+AAAAXgAAAFkAAACBAAAAQgAAAHIAAABQAAAANwAAAIsAAAB6AAAATAAAAIkAAAA+AAAAnQAAAEUAAACWAAAAPAAAAGQAAAA4AAAAcgAAAGwAAABjAAAANgAAAIMAAABZAAAATgAAAH0AAABQAAAAeAAAAEYAAAB+AAAAZwAAAEAAAAA9AAAAcQAAABRzdGNvAAAAAAAAAAEAAAAwAAAAYnVkdGEAAABabWV0YQAAAAAAAAAhaGRscgAAAAAAAAAAbWRpcmFwcGwAAAAAAAAAAAAAAAAtaWxzdAAAACWpdG9vAAAAHWRhdGEAAAABAAAAAExhdmY1Ny44My4xMDA=\" type=\"video/mp4\" />\n",
              "            </video>"
            ]
          },
          "metadata": {}
        }
      ]
    },
    {
      "cell_type": "code",
      "metadata": {
        "id": "xqMTfBPJSgoh"
      },
      "source": [
        "# как видим, задача увы не решена - в итоге уходим за допустимые границы игры.\n",
        "# А нам нужно, чтоб она смогла стоять не ограниченное время (как это было на видео)\n",
        "# в этом и есть наша задача в ДЗ"
      ],
      "execution_count": null,
      "outputs": []
    }
  ]
}