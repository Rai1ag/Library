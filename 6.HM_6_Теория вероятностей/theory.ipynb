{
 "cells": [
  {
   "cell_type": "markdown",
   "metadata": {},
   "source": [
    "# <center>Основные понятия теории вероятностей</center>"
   ]
  },
  {
   "cell_type": "markdown",
   "metadata": {},
   "source": [
    "**Детерминированность** — это ситуация, в которой одно и то же действие всегда приводит к одному и тому же результату.\n",
    "\n",
    "**Теория вероятностей** — наука, которая позволяет сделать предположения о более простых вероятностях (об очках на одном кубике) и на их основе математически вывести гораздо более сложные (об очках на нескольких кубиках).\n",
    "\n",
    "Под **случайным экспериментом** понимается такой эксперимент, результат которого не детерминирован изначально.\n",
    "\n",
    "Понятие **элементарного исхода** — любого возможного исхода случайного эксперимента. Всё множество таких исходов носит называется **пространством элементарных исходов** и обычно обозначается буквой $\\Omega$ (омега)."
   ]
  },
  {
   "cell_type": "markdown",
   "metadata": {},
   "source": [
    "**Вероятностью** случайного события $A$ называется отношение числа $n$ равновероятных элементарных исходов, составляющих событие $A$, к числу всех возможных элементарных исходов $N$:\n",
    "\n",
    "$$\\operatorname{P}(A)=\\frac{n}{N}$$\n",
    "\n",
    "Элементарные исходы, составляющие событие $A$, также очень часто называют **исходами, благоприятными или благоприятствующими для события $A$**.\n",
    "\n",
    "Чем больше полученное значение, тем более вероятно, что событие произойдёт. Вероятность 0 означает, что событие никогда не случится. Такое событие называют **невозможным**:\n",
    "\n",
    "$$P(A)=P(\\oslash)=\\frac{n}{N}=\\frac{0}{N}=0$$\n",
    "\n",
    "Вероятность 1 означает, что событие произойдёт в любом случае — такое событие называют **достоверным**:\n",
    "\n",
    "$$P(A)=P(\\Omega)=\\frac{n}{N}=\\frac{N}{N}=1$$\n",
    "\n",
    "Все остальные значения от 0 до 1 представляют различные уровни вероятности."
   ]
  },
  {
   "cell_type": "markdown",
   "metadata": {},
   "source": [
    "Дополнение события $A$ — это подмножество таких исходов во всём пространстве исходов, что они не благоприятствуют событию $A$. Дополнение события $A$ само по себе тоже является событием и обозначается как $\\overline{A}$.\n",
    "\n",
    "Важно понимать, что **у события и дополнения к нему нет общих исходов**, то есть они взаимоисключающие или, как это обычно называют в теории вероятностей, несовместные. Также событие и дополнение к нему содержат в сумме абсолютно все исходы из пространства исходов. Из этого следует, что сумма их вероятностей равняется одному:\n",
    "\n",
    "$$P(A)+P\\left(\\overline{A}\\right)=1$$"
   ]
  },
  {
   "cell_type": "markdown",
   "metadata": {},
   "source": [
    "## <center>Правило суммы</center>"
   ]
  },
  {
   "cell_type": "markdown",
   "metadata": {},
   "source": [
    "Вероятностное **правило суммы** используется в ситуациях, когда необходимо найти вероятность наступления объединения событий. Это правило используется для несовместных событий, то есть событий, которые не могут произойти одновременно.\n",
    "\n",
    "$$P(A \\cup B)=P(A)+P(B)$$"
   ]
  },
  {
   "cell_type": "markdown",
   "metadata": {},
   "source": [
    "## <center>Правило умножения (произведения)</center>"
   ]
  },
  {
   "cell_type": "markdown",
   "metadata": {},
   "source": [
    "Правило произведения используется для нахождения вероятности пересечения событий:\n",
    "\n",
    "$$P (A \\cap B) = P(A) \\times P(B)$$"
   ]
  },
  {
   "cell_type": "markdown",
   "metadata": {},
   "source": [
    "## <center>Обобщённое правило суммы</center>"
   ]
  },
  {
   "cell_type": "markdown",
   "metadata": {},
   "source": [
    "Что, если события всё же могут быть совместными, то есть происходить одновременно?\n",
    "\n",
    "Приведём обобщенное правило суммы, которое можно применять и в таких ситуациях:\n",
    "\n",
    "$$P(A \\cup B)=P(A)+P(B)-P(A \\cap B)$$"
   ]
  },
  {
   "cell_type": "markdown",
   "metadata": {},
   "source": [
    "# <center>Условная вероятность</center>"
   ]
  },
  {
   "cell_type": "markdown",
   "metadata": {},
   "source": [
    "**Условная вероятность** — это вероятность события при некоторых уже известных условиях.\n",
    "\n",
    "Условная вероятность события $B$ при условии $A$ определяется как вероятность того, что событие $B$ произойдёт после того, как событие $A$ уже произошло, и обозначается следующим образом:\n",
    "\n",
    "$$P(B \\mid A)$$"
   ]
  },
  {
   "cell_type": "markdown",
   "metadata": {},
   "source": [
    "## <center>Условная вероятность и матрица ошибок</center>"
   ]
  },
  {
   "cell_type": "markdown",
   "metadata": {},
   "source": [
    "$$Precision = P(X \\ предсказан \\ как \\ класс \\ 1 \\ и \\ действительно \\ им \\ является \\mid X \\ предсказан \\ как \\ класс \\ 1)$$\n",
    "\n",
    "$$Recall = P(X \\ предсказан \\ как \\ класс \\ 1 \\ и \\ действительно \\ им \\ является \\mid X \\ действительно \\ принадлежит \\ к \\ классу \\ 1)$$\n",
    "\n",
    "$$Specificity = P(X \\ предсказан \\ как \\ класс \\ 0 \\ и \\ действительно \\ им \\ является \\mid X \\ действительно \\ принадлежит \\ к \\ классу \\ 0)$$"
   ]
  },
  {
   "cell_type": "markdown",
   "metadata": {},
   "source": [
    "## <center>Независимость событий</center>"
   ]
  },
  {
   "cell_type": "markdown",
   "metadata": {},
   "source": [
    "События $A$ и $B$ называются **независимыми**, если вероятность их пересечения равна произведению вероятностей\n",
    "\n",
    "$$P(A \\cap B)=P(A) \\cdot P(B)$$\n",
    "\n",
    "Основная суть независимых событий заключается в том, что вероятность $A$ не зависит от наличия условия, связанного с $B$, то есть при наступлении события $B$ событие $A$ происходит так же часто, как и без него."
   ]
  },
  {
   "cell_type": "markdown",
   "metadata": {},
   "source": [
    "# <center> Полная вероятность </center>"
   ]
  },
  {
   "cell_type": "markdown",
   "metadata": {},
   "source": [
    "**Разбиение вероятностного пространства** — это взаимоисключающие и совместно исчерпывающие события. Проще говоря, это события, которые не пересекаются (т. е. не имеют общих исходов), но в объединении дают все возможные исходы.\n",
    "\n",
    "$$P(B)=\\sum_{i=1}^{n} P\\left(B \\mid A_{i}\\right) P\\left(A_{i}\\right)$$\n",
    "\n",
    "В данной формуле:\n",
    "\n",
    "* $P(B)$ — вероятность наступления события $B$;\n",
    "* $P(A_i)$ — вероятность наступления события $A_i$, которое является условием для события $B$;\n",
    "* $P(B \\mid A_i)$ — условная вероятность наступления события $B$, если известно, что произошло событие $A_i$."
   ]
  },
  {
   "cell_type": "markdown",
   "metadata": {},
   "source": [
    "# <center>Теорема Байеса</center>"
   ]
  },
  {
   "cell_type": "markdown",
   "metadata": {},
   "source": [
    "**Идея теоремы Байеса** заключается в том, что если у нас есть одна условная вероятность (например, $B$ при условии $A$), а мы хотим найти другую ($A$ при условии $B$), то мы можем получить из одной вероятности другую по определённому правилу. \n",
    "\n",
    "$$P(B \\mid A) = \\frac{P(A \\cap B)}{P(A)}$$ \n",
    "$$P(A \\mid B) = \\frac{P(A \\cap B)}{P(B)}$$\n",
    "\n",
    "Cама теорема:\n",
    "\n",
    "$$P(A \\mid B)=\\frac{P(B \\mid A) \\cdot P(A)}{P(B)}$$"
   ]
  },
  {
   "cell_type": "markdown",
   "metadata": {},
   "source": [
    "Под **априорными вероятностями** понимаются безусловные вероятности, то есть они фиксированы и не зависят от вероятностей наступления других событий.\n",
    "\n",
    "**Апостериорные вероятности**, напротив, обусловлены вероятностями наступления каких-то ещё случайных событий."
   ]
  },
  {
   "cell_type": "markdown",
   "metadata": {},
   "source": [
    "## <center>Байесовская статистика</center>"
   ]
  },
  {
   "cell_type": "markdown",
   "metadata": {},
   "source": [
    "Теорема Байеса помогает «пересчитывать» априорные вероятности с учётом каких-то дополнительных обстоятельств.\n",
    "\n",
    "> Байесовская статистика предоставляет математические инструменты для обновления представлений о случайных событиях в свете появления новых данных или свидетельств об этих событиях."
   ]
  },
  {
   "cell_type": "markdown",
   "metadata": {},
   "source": [
    "# <center>Наивный байесовский классификатор</center>"
   ]
  },
  {
   "cell_type": "markdown",
   "metadata": {},
   "source": [
    "**Наивный байесовский классификатор (НБК, англ. Naive Bayes Classifier, NBC)** решает задачу классификации объектов по типам. Большим преимуществом этого алгоритма является его простота, как идейная, так и алгоритмическая.\n",
    "\n",
    "> Наивная байесовская классификация — это достаточно простой вероятностный алгоритм, основанный на том, что все признаки модели независимы."
   ]
  },
  {
   "cell_type": "markdown",
   "metadata": {},
   "source": [
    "*P.S. Смотри блокнот pratice*"
   ]
  },
  {
   "cell_type": "markdown",
   "metadata": {},
   "source": [
    "**<u>Плюсы:</u>**\n",
    "\n",
    "* Алгоритм не только прост для понимания и реализации, но также даёт достаточно точные оценки и быстро работает.\n",
    "\n",
    "* Наивный Байес имеет низкую вычислительную сложность.\n",
    "\n",
    "* Он может эффективно работать с большим набором данных.\n",
    "\n",
    "* Его можно использовать с задачами прогнозирования нескольких классов, то есть в задачах мультиклассовой классификации.\n",
    "\n",
    "* Если выполнено предположение о независимости признаков, то НБК даёт более высокое качество, чем логистическая регрессия и многие другие модели.\n",
    "\n",
    "**<u>Минусы:</u>**\n",
    "\n",
    "* Предположение о независимых признаках не выполняется на практике практически никогда.\n",
    "\n",
    "* Если нет обучающего набора данных для какого-то из классов, это приводит к нулевой апостериорной вероятности и модель не может сделать прогноза."
   ]
  },
  {
   "cell_type": "markdown",
   "metadata": {},
   "source": [
    "В библиотеке *sklearn* есть несколько байесовских классификаторов:\n",
    "\n",
    "* **GaussianNB** — самый простой вариант, работает с непрерывными признаками;\n",
    "\n",
    "* **MultinomialNB**  — работает с категориальными признаками, текстами и несбалансированными выборками;\n",
    "\n",
    "* **ComplementNB** — улучшенная версия *MultinomialNB*, стабильно показывает более высокое качество в задачах классификации текстов;\n",
    "\n",
    "* **BernoulliNB** — версия для работы с бинарными признаками;\n",
    "\n",
    "* **CategoricalNB** — работает с категориальными признаками, предполагает кодировку данных через *OrdinalEncoder*."
   ]
  },
  {
   "cell_type": "markdown",
   "metadata": {},
   "source": [
    "# <center>Случайная величина и её характеристики<center>"
   ]
  },
  {
   "cell_type": "markdown",
   "metadata": {},
   "source": [
    "Случайные величины отличаются от детерминированных **наличием неопределённости**.\n",
    "\n",
    "Случайные величины бывают двух видов:\n",
    "\n",
    "1) **Дискретные**\n",
    "\n",
    "    Величина является дискретной, если может принимать значения только из конечного или счётного (бесконечного) множества.\n",
    "\n",
    "    Например, если мы описываем количество клиентов, то это, разумеется, дискретная величина, так как оно может быть выражено только целым неотрицательным числом (не может быть 1.5 клиента или 0.2 клиента).\n",
    "\n",
    "2) **Непрерывные**\n",
    "\n",
    "    Если величина может принимать любое значение, то она является **непрерывной**.\n",
    "\n",
    "    К примеру, человеческий рост — это непрерывная величина, так как может принимать бесконечно много значений: 170 см, 170 см и 1 см, 170 см 1 см и 0001 мм и так далее."
   ]
  },
  {
   "cell_type": "markdown",
   "metadata": {},
   "source": [
    "**Математическое ожидание случайной величины** — это взвешенное среднее значений этой величины с учётом вероятностей. Чаще всего оно обозначается буквой $E$ (от англ. Expectation), ещё можно общепринятое обозначение — $\\mu$ ( греческая буква «мю»). В русскоязычной литературе принято обозначать математическое ожидание буквой $M$.\n",
    "\n",
    "$$E(X) = \\mu_X = \\sum x_i \\cdot P(X = x_i)$$\n",
    "\n",
    "Здесь:\n",
    "\n",
    "* $i$ — индекс переменной;\n",
    "* $x_i$ — значение случайной величины с индексом $i$;\n",
    "* $P(X = x_i)$ — вероятность того, что случайная величина принимает значение $x_i$."
   ]
  },
  {
   "cell_type": "markdown",
   "metadata": {},
   "source": [
    "Для того чтобы численно оценить разброс, используют **дисперсию**. Она вычисляется по следующей формуле:\n",
    "\n",
    "$$V(\\mathrm{X})=D(\\mathrm{X})=\\sigma_{X}^{2}=E\\left(\\mathrm{X}^{2}\\right)-(E(\\mathrm{X}))^{2}$$\n",
    "\n",
    "Дисперсию принято обозначать буквой $V$ (от англ. Variance) или буквой $D$. Иногда встречается обозначение $\\sigma^2_X$.\n",
    "\n",
    "Это очень неудобно для интерпретации, так как непонятно, как содержательно оценивать разброс в 100 рублей в квадрате или 15 метров в четвёртой степени. Поэтому на практике обычно используют не саму дисперсию, а корень из неё — **стандартное отклонение**. Оно обозначается греческой буквой $\\sigma$ («сигма»)."
   ]
  },
  {
   "cell_type": "markdown",
   "metadata": {},
   "source": [
    "# <center>Дискретные распределения</center>"
   ]
  },
  {
   "cell_type": "markdown",
   "metadata": {},
   "source": [
    "В математике существует огромное количество различных распределений дискретных случайных величин, однако некоторые из них в теории вероятностей встречаются намного чаще остальных. Они хорошо изучены и называются **стандартными**. Это:\n",
    "\n",
    "* равномерное распределение;\n",
    "* распределение Бернулли;\n",
    "* биномиальное распределение;\n",
    "* распределение Пуассона."
   ]
  },
  {
   "cell_type": "markdown",
   "metadata": {},
   "source": [
    "## <center>Равномерное распределение</center>"
   ]
  },
  {
   "cell_type": "markdown",
   "metadata": {},
   "source": [
    "**Равномерное распределение** — это распределение вероятностей, в качестве значений которого могут выступать любые целые числа от $1$ до $N$, а вероятности их появления одинаковы.\n",
    "\n",
    "> Равномерное распределение применяется там, где нужны равновероятные модели.\n",
    "\n",
    "Для равномерного распределения уже известны математическое ожидание\n",
    "\n",
    "$$EX = \\frac{N+1}{2}$$\n",
    "\n",
    "и стандартное отклонение\n",
    "\n",
    "$$\\sigma_X = \\sqrt{\\frac{N^2 - 1}{12}}$$"
   ]
  },
  {
   "cell_type": "markdown",
   "metadata": {},
   "source": [
    "Также мы можем определить ряд распределения для дискретного равномерного распределения с помощью *Python*. Импортируем библиотеку *numpy* и функцию `randint()` из библиотеки *scipy*, предназначенную для моделирования равномерного дискретного распределения:"
   ]
  },
  {
   "cell_type": "code",
   "execution_count": 16,
   "metadata": {},
   "outputs": [],
   "source": [
    "import numpy as np\n",
    "from scipy.stats import randint"
   ]
  },
  {
   "cell_type": "code",
   "execution_count": 17,
   "metadata": {},
   "outputs": [
    {
     "name": "stdout",
     "output_type": "stream",
     "text": [
      "[0.16666667 0.16666667 0.16666667 0.16666667 0.16666667 0.16666667]\n"
     ]
    }
   ],
   "source": [
    "# Задаём возможные значения случайной величины\n",
    "x = np.arange(1, 7)\n",
    "# Задаём интервал, на котором будут распределяться наши вероятности\n",
    "disc_uni_dist = randint(1, 7)\n",
    "# Вычисляем вероятности выпадения каждого значения случайной величины\n",
    "pmf = disc_uni_dist.pmf(x)\n",
    "\n",
    "print(pmf)"
   ]
  },
  {
   "cell_type": "code",
   "execution_count": 18,
   "metadata": {},
   "outputs": [
    {
     "name": "stdout",
     "output_type": "stream",
     "text": [
      "[0.16666667 0.33333333 0.5        0.66666667 0.83333333 1.        ]\n"
     ]
    }
   ],
   "source": [
    "# Рассчитаем кумулятивную вероятность\n",
    "cdf = disc_uni_dist.cdf(x)\n",
    "\n",
    "print(cdf)"
   ]
  },
  {
   "cell_type": "code",
   "execution_count": 19,
   "metadata": {},
   "outputs": [
    {
     "name": "stdout",
     "output_type": "stream",
     "text": [
      "0.2\n"
     ]
    }
   ],
   "source": [
    "# Задаём возможные значения случайной величины\n",
    "x = np.arange(1, 251)\n",
    "# Задаём интервал, на котором будут распределяться наши вероятности\n",
    "disc_uni_dist = randint(1,251)\n",
    "# Вычисляем вероятности выпадения каждого значения случайной величины\n",
    "cdf = disc_uni_dist.cdf(x)\n",
    "# Ищем вероятность того, что на курс попадёт кто-то из первых 50 зарегистрировавшихся\n",
    "print(cdf[49])"
   ]
  },
  {
   "cell_type": "markdown",
   "metadata": {},
   "source": [
    "## <center>Распределение Бернулли</center>"
   ]
  },
  {
   "cell_type": "markdown",
   "metadata": {},
   "source": [
    "**Распределение Бернулли**, по сути, моделирует однократное подбрасывание «фальшивой» монеты. Это распределение вероятностей случайной величины, принимающей только два значения: 1 («успех») и 0 («неудача») с вероятностями $p$ и $p-1$ соответственно. Таким образом, распределение Бернулли **описывает события, имеющие ровно два исхода**. Такие события повсеместно встречаются в реальной жизни (выиграет команда чемпионат или нет, сдаст студент экзамен или провалит его, распознает алгоритм объект на фото или нет).\n",
    "\n",
    "Распределение Бернулли формально описывается следующим образом:\n",
    "\n",
    "$$P(X = x)= \\left\\{\\begin{matrix} p & x = 1\\\\ 1 - p & x = 0 \\\\ \\end{matrix}\\right.$$\n",
    "\n",
    "Для этого распределения также известны математическое ожидание\n",
    "\n",
    "$$EX = 1 \\cdot p + 0 \\cdot (1-p) = p$$\n",
    "\n",
    "и стандартное отклонение\n",
    "\n",
    "$$\\sigma_X = \\sqrt{p(1-p)}$$"
   ]
  },
  {
   "cell_type": "markdown",
   "metadata": {},
   "source": [
    "С помощью специальной функции `bernoulli.rvs()` из библиотеки *scipy* мы можем смоделировать распределение Бернулли и, например, увидеть ожидаемое соотношение попаданий и промахов для решённой задачи, если будет сделано 500 выстрелов:"
   ]
  },
  {
   "cell_type": "code",
   "execution_count": 20,
   "metadata": {},
   "outputs": [
    {
     "name": "stderr",
     "output_type": "stream",
     "text": [
      "C:\\Users\\user\\AppData\\Local\\Temp\\ipykernel_3364\\2561418568.py:5: UserWarning: \n",
      "\n",
      "`distplot` is a deprecated function and will be removed in seaborn v0.14.0.\n",
      "\n",
      "Please adapt your code to use either `displot` (a figure-level function with\n",
      "similar flexibility) or `histplot` (an axes-level function for histograms).\n",
      "\n",
      "For a guide to updating your code to use the new functions, please see\n",
      "https://gist.github.com/mwaskom/de44147ed2974457ad6372750bbe5751\n",
      "\n",
      "  ax = sns.distplot(data,\n"
     ]
    },
    {
     "data": {
      "text/plain": [
       "[Text(0.5, 0, 'Значение случайной величины'), Text(0, 0.5, 'Частота')]"
      ]
     },
     "execution_count": 20,
     "metadata": {},
     "output_type": "execute_result"
    },
    {
     "data": {
      "image/png": "[encoded data removed]",
      "text/plain": [
       "<Figure size 640x480 with 1 Axes>"
      ]
     },
     "metadata": {},
     "output_type": "display_data"
    }
   ],
   "source": [
    "from scipy.stats import bernoulli\n",
    "import seaborn as sns\n",
    "\n",
    "data = bernoulli.rvs(size=500,p=0.6)\n",
    "ax = sns.distplot(data,\n",
    "                  kde = False,\n",
    "                  color='dodgerblue')\n",
    "ax.set(xlabel='Значение случайной величины', ylabel='Частота')"
   ]
  },
  {
   "cell_type": "markdown",
   "metadata": {},
   "source": [
    "Также можно вывести количество неудач и попаданий в нашей модели:"
   ]
  },
  {
   "cell_type": "code",
   "execution_count": 21,
   "metadata": {},
   "outputs": [
    {
     "name": "stdout",
     "output_type": "stream",
     "text": [
      "[[  0 209]\n",
      " [  1 291]]\n"
     ]
    }
   ],
   "source": [
    "unique, counts = np.unique(data, return_counts=True)\n",
    "print(np.asarray((unique, counts)).T)"
   ]
  },
  {
   "cell_type": "markdown",
   "metadata": {},
   "source": [
    "## <center>Биномиальное распределение</center>"
   ]
  },
  {
   "cell_type": "markdown",
   "metadata": {},
   "source": [
    "Повторение нескольких независимых испытаний Бернулли называется **процессом Бернулли**. Результаты процесса Бернулли в свою очередь будут следовать **биномиальному распределению**.\n",
    "\n",
    "**Биномиальным** называют распределение, при котором возможны только два исхода (успех или неудача, выигрыш или проигрыш) и вероятность успеха и неудачи одинакова для всех испытаний. Однако исходы не обязательно должны быть равновероятными, и каждое испытание не зависит от других.\n",
    "\n",
    "Параметры биномиального распределения — $n$ и $p$, где $n$ — общее количество испытаний, а $p$ — вероятность успеха в каждом испытании.\n",
    "\n",
    "Для того чтобы оценить вероятность, что среди $n$ испытаний будет  успехов, используют следующую формулу:\n",
    "\n",
    "$P(X = k) = \\begin{pmatrix} n \\\\ k \\end{pmatrix} p^k (1-p)^{n-k}$\n",
    "\n",
    "$\\begin{pmatrix} n \\\\ k \\end{pmatrix}$ называют **биномиальным коэффициентом**, и он вычисляется следующим образом:\n",
    "\n",
    "$$\\frac{n!}{k! (n-k)!}$$\n",
    "\n",
    "Математическое ожидание биномиального распределения равно:\n",
    "\n",
    "$$EX = np$$\n",
    "\n",
    "Стандартное отклонение:\n",
    "\n",
    "$$\\sigma_X = \\sqrt{np (1-p)}$$"
   ]
  },
  {
   "cell_type": "markdown",
   "metadata": {},
   "source": [
    "<u>Задача</u>\n",
    "\n",
    "Производитель гаджетов знает, что 20 % производимых им товаров — бракованные.\n",
    "\n",
    "Если он производит десять изделий в день, какова вероятность того, что не более двух из них бракованные?"
   ]
  },
  {
   "cell_type": "markdown",
   "metadata": {},
   "source": [
    "$$\\begin{pmatrix} 10 \\\\ 8 \\end{pmatrix} (0.8)^8 (0.2)^2 + \\begin{pmatrix} 10 \\\\ 9 \\end{pmatrix} (0.8)^9 (0.2)^1 + \\begin{pmatrix} 10 \\\\ 10 \\end{pmatrix} (0.8)^{10} \\approx 0.678$$"
   ]
  },
  {
   "cell_type": "markdown",
   "metadata": {},
   "source": [
    "Для нахождения ответа можно воспользоваться специальными функциями *Python*:"
   ]
  },
  {
   "cell_type": "code",
   "execution_count": 22,
   "metadata": {},
   "outputs": [
    {
     "data": {
      "text/plain": [
       "0.6777995264"
      ]
     },
     "execution_count": 22,
     "metadata": {},
     "output_type": "execute_result"
    }
   ],
   "source": [
    "import scipy\n",
    "\n",
    "scipy.stats.binom.pmf(8,10,0.8)+scipy.stats.binom.pmf(9,10,0.8)+scipy.stats.binom.pmf(10,10,0.8)"
   ]
  },
  {
   "cell_type": "code",
   "execution_count": 23,
   "metadata": {},
   "outputs": [
    {
     "name": "stderr",
     "output_type": "stream",
     "text": [
      "C:\\Users\\user\\AppData\\Local\\Temp\\ipykernel_3364\\2641989.py:5: UserWarning: \n",
      "\n",
      "`distplot` is a deprecated function and will be removed in seaborn v0.14.0.\n",
      "\n",
      "Please adapt your code to use either `displot` (a figure-level function with\n",
      "similar flexibility) or `histplot` (an axes-level function for histograms).\n",
      "\n",
      "For a guide to updating your code to use the new functions, please see\n",
      "https://gist.github.com/mwaskom/de44147ed2974457ad6372750bbe5751\n",
      "\n",
      "  sns.distplot(random.binomial(n=10, p=0.5, size=1000), hist=True, kde=False)\n"
     ]
    },
    {
     "ename": "NameError",
     "evalue": "name 'plt' is not defined",
     "output_type": "error",
     "traceback": [
      "\u001b[1;31m---------------------------------------------------------------------------\u001b[0m",
      "\u001b[1;31mNameError\u001b[0m                                 Traceback (most recent call last)",
      "Cell \u001b[1;32mIn[23], line 7\u001b[0m\n\u001b[0;32m      3\u001b[0m x \u001b[38;5;241m=\u001b[39m random\u001b[38;5;241m.\u001b[39mbinomial(n\u001b[38;5;241m=\u001b[39m\u001b[38;5;241m10\u001b[39m, p\u001b[38;5;241m=\u001b[39m\u001b[38;5;241m0.5\u001b[39m, size\u001b[38;5;241m=\u001b[39m\u001b[38;5;241m10\u001b[39m)\n\u001b[0;32m      5\u001b[0m sns\u001b[38;5;241m.\u001b[39mdistplot(random\u001b[38;5;241m.\u001b[39mbinomial(n\u001b[38;5;241m=\u001b[39m\u001b[38;5;241m10\u001b[39m, p\u001b[38;5;241m=\u001b[39m\u001b[38;5;241m0.5\u001b[39m, size\u001b[38;5;241m=\u001b[39m\u001b[38;5;241m1000\u001b[39m), hist\u001b[38;5;241m=\u001b[39m\u001b[38;5;28;01mTrue\u001b[39;00m, kde\u001b[38;5;241m=\u001b[39m\u001b[38;5;28;01mFalse\u001b[39;00m)\n\u001b[1;32m----> 7\u001b[0m \u001b[43mplt\u001b[49m\u001b[38;5;241m.\u001b[39mshow()\n",
      "\u001b[1;31mNameError\u001b[0m: name 'plt' is not defined"
     ]
    },
    {
     "data": {
      "image/png": "[encoded data removed]",
      "text/plain": [
       "<Figure size 640x480 with 1 Axes>"
      ]
     },
     "metadata": {},
     "output_type": "display_data"
    }
   ],
   "source": [
    "from numpy import random\n",
    "\n",
    "x = random.binomial(n=10, p=0.5, size=10)\n",
    "\n",
    "sns.distplot(random.binomial(n=10, p=0.5, size=1000), hist=True, kde=False)\n",
    "\n",
    "plt.show()"
   ]
  },
  {
   "cell_type": "markdown",
   "metadata": {},
   "source": [
    "## <center>Распределение Пуассона</center>"
   ]
  },
  {
   "cell_type": "markdown",
   "metadata": {},
   "source": [
    "**Распределение Пуассона** — это дискретное распределение вероятностей числа событий, происходящих в данный период времени, с учётом среднего количества раз, когда событие происходит за этот период времени.\n",
    "\n",
    "В распределении Пуассона значение случайной величины может быть любым неотрицательным числом.  Случайная величина будет обладать следующими **характеристиками**:\n",
    "\n",
    "$$EX  = \\lambda$$\n",
    "\n",
    "$$\\sigma_X = \\sqrt{\\lambda},$$\n",
    "\n",
    "где $\\lambda$ — ожидаемое число событий за период времени.\n",
    "\n",
    "Чтобы рассчитать вероятность того, что за период времени произойдёт $k$ событий, можно пользоваться следующей формулой:\n",
    "\n",
    "$$P(X = k) = \\frac{\\lambda^k e^{- \\lambda}}{k!}$$"
   ]
  },
  {
   "cell_type": "markdown",
   "metadata": {},
   "source": [
    "<u>Задача</u>\n",
    "\n",
    "Колл-центр получает в среднем 4.5 звонка за каждые пять минут. Каждый оператор может обработать один из этих вызовов в течение пяти минут. Если вызов получен, но оператор  не может его принять, то вызывающий абонент будет переведён в режим ожидания ответа. \n",
    "\n",
    "Если вызовы следуют распределению Пуассона, какое минимальное количество операторов необходимо колл-центру, чтобы вызовы удерживались в ожидании ответа не более 10 % времени?"
   ]
  },
  {
   "cell_type": "code",
   "execution_count": 24,
   "metadata": {},
   "outputs": [
    {
     "data": {
      "text/plain": [
       "0.17082685848611215"
      ]
     },
     "execution_count": 24,
     "metadata": {},
     "output_type": "execute_result"
    }
   ],
   "source": [
    "import scipy\n",
    "\n",
    "scipy.stats.distributions.poisson.pmf(5, 4.5)"
   ]
  },
  {
   "cell_type": "markdown",
   "metadata": {},
   "source": [
    "Также можно смоделировать распределение Пуассона. Например, будем рассматривать 1000 реализаций случайной величины, у которой $\\lambda= 3$:"
   ]
  },
  {
   "cell_type": "code",
   "execution_count": 25,
   "metadata": {},
   "outputs": [
    {
     "name": "stderr",
     "output_type": "stream",
     "text": [
      "C:\\Users\\user\\AppData\\Local\\Temp\\ipykernel_3364\\2227624355.py:3: UserWarning: \n",
      "\n",
      "`distplot` is a deprecated function and will be removed in seaborn v0.14.0.\n",
      "\n",
      "Please adapt your code to use either `displot` (a figure-level function with\n",
      "similar flexibility) or `histplot` (an axes-level function for histograms).\n",
      "\n",
      "For a guide to updating your code to use the new functions, please see\n",
      "https://gist.github.com/mwaskom/de44147ed2974457ad6372750bbe5751\n",
      "\n",
      "  sns.distplot(random.poisson(lam=3, size=1000), kde=False)\n"
     ]
    },
    {
     "ename": "NameError",
     "evalue": "name 'plt' is not defined",
     "output_type": "error",
     "traceback": [
      "\u001b[1;31m---------------------------------------------------------------------------\u001b[0m",
      "\u001b[1;31mNameError\u001b[0m                                 Traceback (most recent call last)",
      "Cell \u001b[1;32mIn[25], line 5\u001b[0m\n\u001b[0;32m      1\u001b[0m \u001b[38;5;28;01mfrom\u001b[39;00m \u001b[38;5;21;01mnumpy\u001b[39;00m \u001b[38;5;28;01mimport\u001b[39;00m random\n\u001b[0;32m      3\u001b[0m sns\u001b[38;5;241m.\u001b[39mdistplot(random\u001b[38;5;241m.\u001b[39mpoisson(lam\u001b[38;5;241m=\u001b[39m\u001b[38;5;241m3\u001b[39m, size\u001b[38;5;241m=\u001b[39m\u001b[38;5;241m1000\u001b[39m), kde\u001b[38;5;241m=\u001b[39m\u001b[38;5;28;01mFalse\u001b[39;00m)\n\u001b[1;32m----> 5\u001b[0m \u001b[43mplt\u001b[49m\u001b[38;5;241m.\u001b[39mshow()\n",
      "\u001b[1;31mNameError\u001b[0m: name 'plt' is not defined"
     ]
    },
    {
     "data": {
      "image/png": "[encoded data removed]",
      "text/plain": [
       "<Figure size 640x480 with 1 Axes>"
      ]
     },
     "metadata": {},
     "output_type": "display_data"
    }
   ],
   "source": [
    "from numpy import random\n",
    "\n",
    "sns.distplot(random.poisson(lam=3, size=1000), kde=False)\n",
    "\n",
    "plt.show()"
   ]
  },
  {
   "cell_type": "markdown",
   "metadata": {},
   "source": [
    "*P.S. Смотри ноутбук \"Распределения\"*"
   ]
  },
  {
   "cell_type": "markdown",
   "metadata": {},
   "source": [
    "# <center>Непрерывные распределения</center>"
   ]
  },
  {
   "cell_type": "markdown",
   "metadata": {},
   "source": [
    "Бывают случайные величины, которые могут принимать очень много значений — так много, что дискретная модель становится неудобной.\n",
    "\n",
    "Для таких ситуаций существует **непрерывная модель**. В ней распределение вероятностей задаётся не таблицей, а с помощью функции **плотности вероятности**.\n",
    "\n",
    "Как и в дискретном случае, мы рассмотрим основные непрерывные распределения:\n",
    "\n",
    "* равномерное;\n",
    "* нормальное;\n",
    "* экспоненциальное."
   ]
  },
  {
   "cell_type": "markdown",
   "metadata": {},
   "source": [
    "## <center>Равномерное распределение</center>"
   ]
  },
  {
   "cell_type": "markdown",
   "metadata": {},
   "source": [
    "Непрерывная случайная величина $X$ распределяется равномерно, если вероятность попадания $X$ в интервал пропорциональна длине этого интервала. То есть, к примеру, если мы рассматриваем все числа от 1 до 100 и ищем вероятность попадания в интервал от 1 до 10, то вероятность равна 0.1, а для интервала от 1 до 30 — 0.3.\n",
    "\n",
    "Случайная величина, которая распределена по непрерывному равномерному закону, может принимать в качестве значения любое вещественное число в заданном отрезке от $a$ до $b$ и имеет следующее математическое ожидание и среднеквадратичное отклонение:\n",
    "\n",
    "$$EX = \\frac{a+b}{2}$$\n",
    "\n",
    "$$\\sigma_X = \\frac{b-a}{\\sqrt{12}}$$"
   ]
  },
  {
   "cell_type": "code",
   "execution_count": 27,
   "metadata": {},
   "outputs": [],
   "source": [
    "# data = uniform.rvs(size=10000, loc = 10, scale=30)\n",
    "# ax = sns.distplot(data,\n",
    "#                   bins=50)\n",
    "# ax.set(xlabel='Равномерное распределение', ylabel='Плотность')"
   ]
  },
  {
   "cell_type": "markdown",
   "metadata": {},
   "source": [
    "## <center>Нормальное распределение</center>"
   ]
  },
  {
   "cell_type": "markdown",
   "metadata": {},
   "source": [
    "**Нормальное распределение** (его ещё называют гауссовским или распределением Гаусса) представляет собой распределение вероятностей, обычно используемое для моделирования таких явлений, как физические характеристики (например, рост, вес и т. д.) или результаты тестирований.\n",
    "\n",
    "Обычно гауссовское распределение определяется через математическое ожидание и стандартное отклонение — это записывается следующим образом:\n",
    "\n",
    "$$X \\sim Normal (\\mu, \\sigma^2)$$"
   ]
  },
  {
   "cell_type": "markdown",
   "metadata": {},
   "source": [
    "Плотность нормального распределения задаётся формулой:\n",
    "\n",
    "$$f(x) = \\frac{1}{\\sigma \\sqrt{2 \\pi}} e^{- \\frac{(x - \\mu)^2}{2 \\sigma^2}}$$"
   ]
  },
  {
   "cell_type": "markdown",
   "metadata": {},
   "source": [
    "В математике считается, что если мы возьмём много разных случайных величин, которые являются независимыми (или слабо зависимыми друг от друга), то они образуют нормальное распределение. Это утверждение называется **центральной предельной теоремой (ЦПТ)**."
   ]
  },
  {
   "cell_type": "markdown",
   "metadata": {},
   "source": [
    "Существует **эмпирическое правило трёх сигм**, которое гласит:\n",
    "\n",
    "* Если отступить от среднего на одно стандартное отклонение в меньшую и большую сторону, то в этих пределах будет 68 % данных.\n",
    "\n",
    "* Если отступить от среднего на два стандартных отклонения в меньшую и большую сторону, то в этих пределах будет 95 % данных.\n",
    "\n",
    "* Если отступить от среднего на три стандартных отклонения в меньшую и большую сторону, то в этих пределах будет 99.7% данных.\n",
    "\n",
    "![image.png](https://lms-cdn.skillfactory.ru/assets/courseware/v1/6009d62e9a36959b9e2ea5754e3ff654/asset-v1:SkillFactory+MIPTDS+SEPT22+type@asset+block/MATHML_md7_9_6.png)"
   ]
  },
  {
   "cell_type": "markdown",
   "metadata": {},
   "source": [
    "Cмоделируем нормальное распределение с математическим ожиданием, равным 5, и стандартным отклонением, равным 4, и посмотрим, какой вид оно примет."
   ]
  },
  {
   "cell_type": "code",
   "execution_count": null,
   "metadata": {},
   "outputs": [],
   "source": [
    "# data = norm.rvs(size=10000,loc=4,scale=5)\n",
    " \n",
    "# ax = sns.distplot(data,\n",
    "#                   bins=50)\n",
    "# ax.set(xlabel='Нормальное распределение', ylabel='Плотность')"
   ]
  },
  {
   "cell_type": "markdown",
   "metadata": {},
   "source": [
    "Если у нас есть нормальное распределение, то, чтобы свести его стандартному, необходимо из каждого значения вычесть среднее и разделить на стандартное отклонение:\n",
    "\n",
    "$$z = \\frac{X - \\mu}{\\sigma}$$"
   ]
  },
  {
   "cell_type": "markdown",
   "metadata": {},
   "source": [
    "С помощью *Python* мы можем стандартизировать данные следующим образом:"
   ]
  },
  {
   "cell_type": "code",
   "execution_count": 28,
   "metadata": {},
   "outputs": [
    {
     "name": "stdout",
     "output_type": "stream",
     "text": [
      "[[93 44]\n",
      " [ 4  2]\n",
      " [36  1]\n",
      " [14 29]\n",
      " [78 21]]\n",
      "[[ 1.37243726  1.50201177]\n",
      " [-1.17229016 -1.06239857]\n",
      " [-0.25733199 -1.12345596]\n",
      " [-0.88636573  0.58615094]\n",
      " [ 0.94355062  0.09769182]]\n"
     ]
    }
   ],
   "source": [
    "from numpy import asarray\n",
    "from sklearn.preprocessing import StandardScaler\n",
    "data = asarray([[93, 44],\n",
    "                [4, 2],\n",
    "                [36, 1],\n",
    "                [14, 29],\n",
    "                [78, 21]])\n",
    "print(data)\n",
    "scaler = StandardScaler()\n",
    "scaled = scaler.fit_transform(data)\n",
    "print(scaled)"
   ]
  },
  {
   "cell_type": "markdown",
   "metadata": {},
   "source": [
    "## <center>Экспоненциальное распределение</center>"
   ]
  },
  {
   "cell_type": "markdown",
   "metadata": {},
   "source": [
    "**Экспоненциальное распределение** — это распределение вероятностей времени между событиями в процессе Пуассона.\n",
    "\n",
    "> Значениями случайной величины, распределённой по экспоненциальному закону, являются любые вещественные неотрицательные числа."
   ]
  },
  {
   "cell_type": "markdown",
   "metadata": {},
   "source": [
    "Плотность экспоненциального распределения задаётся следующей формулой:\n",
    "\n",
    "$$f(x) = \\left\\{\\begin{matrix} 0, & x < 0 \\\\ \\lambda e^{- \\lambda x}, & x \\geq 0 \\\\ \\end{matrix}\\right.$$\n",
    "\n",
    "В качестве параметра $\\lambda$ здесь берётся ожидаемое число событий за единицу времени."
   ]
  },
  {
   "cell_type": "markdown",
   "metadata": {},
   "source": [
    "С помощью *Python* мы можем смоделировать экспоненциальное распределение так:"
   ]
  },
  {
   "cell_type": "code",
   "execution_count": null,
   "metadata": {},
   "outputs": [],
   "source": [
    "# data = expon.rvs(scale=1,loc=0,size=1000)\n",
    "# ax = sns.distplot(data,\n",
    "#                   bins=50)\n",
    "# ax.set(xlabel='Экспоненциальное распределение', ylabel='Плотность')"
   ]
  },
  {
   "cell_type": "markdown",
   "metadata": {},
   "source": [
    "Математическое ожидание для этого распределения вычисляется по следующей формуле:\n",
    "\n",
    "$$EX =  1/ \\lambda$$\n",
    "\n",
    "Стандартное отклонение можно найти ровно так же:\n",
    "\n",
    "$$\\sigma_X =  1/ \\lambda$$\n",
    "\n",
    "Вероятность того, что значение случайной величины будет не больше $x$, равна:\n",
    "\n",
    "$$1 - e^{- \\lambda x}$$"
   ]
  }
 ],
 "metadata": {
  "kernelspec": {
   "display_name": "Python 3",
   "language": "python",
   "name": "python3"
  },
  "language_info": {
   "codemirror_mode": {
    "name": "ipython",
    "version": 3
   },
   "file_extension": ".py",
   "mimetype": "text/x-python",
   "name": "python",
   "nbconvert_exporter": "python",
   "pygments_lexer": "ipython3",
   "version": "3.12.2"
  }
 },
 "nbformat": 4,
 "nbformat_minor": 2
}
